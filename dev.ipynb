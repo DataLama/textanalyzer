{
 "cells": [
  {
   "cell_type": "markdown",
   "metadata": {},
   "source": [
    "- elasticsearch caching\n",
    "- analyzing 기능 추가..."
   ]
  },
  {
   "cell_type": "markdown",
   "metadata": {},
   "source": [
    "---"
   ]
  },
  {
   "cell_type": "markdown",
   "metadata": {},
   "source": [
    "# mecab + kpe"
   ]
  },
  {
   "cell_type": "markdown",
   "metadata": {},
   "source": [
    "- 사전 추가\n",
    "    - 티존 "
   ]
  },
  {
   "cell_type": "code",
   "execution_count": 1,
   "metadata": {},
   "outputs": [],
   "source": [
    "from src.textanalyzer import MecabTokenization"
   ]
  },
  {
   "cell_type": "code",
   "execution_count": 45,
   "metadata": {},
   "outputs": [],
   "source": [
    "tokenizer = MecabTokenization(custom_dir='/root/custom_dict')\n",
    "\n",
    "pos = {'KEYPHRASE', 'NNG', 'NNP', 'VV', 'VA', 'XR', 'SL', 'SY'}\n",
    "\n",
    "doc = '손에 붙거나 머리에 발랐을때 뭉치는 현상 없어서 좋아요. 지금까지 삿던 오일제품중 제일 좋아요. 계속 써보고 다음에도 구입할께요'\n",
    "[t for t, p in tokenizer(doc) if p in pos]\n",
    "\n",
    "\n",
    "\n",
    "19 + 2 + 738 + 6 + 63 + 712 + 879 + 1946\n",
    "\n",
    "from itertools import chain\n",
    "\n",
    "chain()\n",
    "\n",
    "\n",
    "\n",
    "tokenizer(doc).Tokens[3]\n",
    "\n",
    "\n",
    "\n",
    "class SBSAnalyzer:\n",
    "    def __init__(self):\n",
    "        self.pos = {'KEYPHRASE', 'NNG', 'NNP', 'VV', 'VA', 'XR', 'SL', 'SY'}\n",
    "        \n",
    "    @property\n",
    "    def keyphrase(self):\n",
    "        \n",
    "\n",
    "class MecabTCG(TokenCandidateGeneration):\n",
    "    def __init__(self, ngram=1):\n",
    "        self.pos = {'KEYPHRASE', 'NNG', 'NNP', 'VV', 'VA', 'XR', 'SL', 'SY'}\n",
    "        self.N = ngram\n",
    "    \n",
    "    def get_candidate(self, doc: Doc) -> Doc:\n",
    "        if doc.tokenizable:\n",
    "            unigram = [token for token in doc.tokens if (token.pos in self.pos) and (token.text.strip() != '')]\n",
    "            candidates = [unigram]\n",
    "            if self.N > 1:\n",
    "                for i in range(1, self.N):\n",
    "                    candidates.append(self._ngram(unigram, (i+1)))\n",
    "            doc.candidates = candidates\n",
    "            return doc\n",
    "        else:\n",
    "            doc.candidates = [[]]\n",
    "            return doc\n",
    "    \n",
    "    def _ngram(self, unigram: List[Token], n: int) -> List[Token]:\n",
    "        return [ngram for ngram in zip(*[unigram[i:] for i in range(n)])]\n",
    "\n",
    "- keywords\n",
    "    - 다양한 로직으로 정해짐.\n",
    "- prevalence\n",
    "- diversity\n",
    "- connectivity\n",
    "- sbs\n",
    "\n",
    "- brand how?\n",
    "\n",
    "prevalence\n",
    "diversity\n",
    "\n",
    "다큐먼트...\n",
    "\n",
    "\n",
    "tokens = tokenizer('커버력짱인듯 다크닝도없고 참 좋아요 프라이머랑 같이구매했는데 아직까진 대만족합니당수정화장용으로 좋은거같아요~').Tokens"
   ]
  },
  {
   "cell_type": "code",
   "execution_count": 58,
   "metadata": {},
   "outputs": [
    {
     "data": {
      "text/plain": [
       "'KEYPHRASE'"
      ]
     },
     "execution_count": 58,
     "metadata": {},
     "output_type": "execute_result"
    }
   ],
   "source": [
    "tokens[0]._pos"
   ]
  },
  {
   "cell_type": "code",
   "execution_count": 59,
   "metadata": {},
   "outputs": [
    {
     "data": {
      "text/plain": [
       "Token(DocId='20210303-175041-280292', offset=2, start=3, end=4, text='짱')"
      ]
     },
     "execution_count": 59,
     "metadata": {},
     "output_type": "execute_result"
    }
   ],
   "source": [
    "tokens[1]"
   ]
  },
  {
   "cell_type": "code",
   "execution_count": null,
   "metadata": {},
   "outputs": [],
   "source": [
    "class "
   ]
  },
  {
   "cell_type": "code",
   "execution_count": null,
   "metadata": {},
   "outputs": [],
   "source": []
  },
  {
   "cell_type": "code",
   "execution_count": null,
   "metadata": {},
   "outputs": [],
   "source": []
  },
  {
   "cell_type": "code",
   "execution_count": null,
   "metadata": {},
   "outputs": [],
   "source": []
  },
  {
   "cell_type": "code",
   "execution_count": null,
   "metadata": {},
   "outputs": [],
   "source": []
  },
  {
   "cell_type": "code",
   "execution_count": 44,
   "metadata": {},
   "outputs": [
    {
     "data": {
      "text/plain": [
       "'NP'"
      ]
     },
     "execution_count": 44,
     "metadata": {},
     "output_type": "execute_result"
    }
   ],
   "source": [
    "tokenizer('여름뮤트인 너의 입술 기름이 자글자글').Tokens[2]._pos"
   ]
  },
  {
   "cell_type": "code",
   "execution_count": 37,
   "metadata": {},
   "outputs": [
    {
     "data": {
      "text/plain": [
       "Token(DocId='20210303-170932-084337', offset=0, start=0, end=1, text='손')"
      ]
     },
     "execution_count": 37,
     "metadata": {},
     "output_type": "execute_result"
    }
   ],
   "source": [
    "tokens[0]"
   ]
  },
  {
   "cell_type": "code",
   "execution_count": 32,
   "metadata": {},
   "outputs": [
    {
     "ename": "AttributeError",
     "evalue": "'NoneType' object has no attribute 'split'",
     "output_type": "error",
     "traceback": [
      "\u001b[0;31m\u001b[0m",
      "\u001b[0;31mAttributeError\u001b[0mTraceback (most recent call last)",
      "\u001b[0;32m<ipython-input-32-e24d38d3165a>\u001b[0m in \u001b[0;36m<module>\u001b[0;34m\u001b[0m\n\u001b[1;32m      1\u001b[0m \u001b[0;32mfor\u001b[0m \u001b[0mt\u001b[0m \u001b[0;32min\u001b[0m \u001b[0mtokens\u001b[0m\u001b[0;34m:\u001b[0m\u001b[0;34m\u001b[0m\u001b[0;34m\u001b[0m\u001b[0m\n\u001b[0;32m----> 2\u001b[0;31m     \u001b[0;34m[\u001b[0m\u001b[0mt\u001b[0m\u001b[0;34m.\u001b[0m\u001b[0msplit\u001b[0m\u001b[0;34m(\u001b[0m\u001b[0;34m'/'\u001b[0m\u001b[0;34m)\u001b[0m\u001b[0;34m[\u001b[0m\u001b[0;36m0\u001b[0m\u001b[0;34m]\u001b[0m \u001b[0;34m+\u001b[0m \u001b[0;34m'다'\u001b[0m \u001b[0;32mfor\u001b[0m \u001b[0mt\u001b[0m \u001b[0;32min\u001b[0m \u001b[0mt\u001b[0m\u001b[0;34m.\u001b[0m\u001b[0mexpression\u001b[0m\u001b[0;34m.\u001b[0m\u001b[0msplit\u001b[0m\u001b[0;34m(\u001b[0m\u001b[0;34m'+'\u001b[0m\u001b[0;34m)\u001b[0m \u001b[0;32mif\u001b[0m \u001b[0mt\u001b[0m\u001b[0;34m.\u001b[0m\u001b[0msplit\u001b[0m\u001b[0;34m(\u001b[0m\u001b[0;34m'/'\u001b[0m\u001b[0;34m)\u001b[0m\u001b[0;34m[\u001b[0m\u001b[0;36m1\u001b[0m\u001b[0;34m]\u001b[0m \u001b[0;32min\u001b[0m \u001b[0mpos\u001b[0m\u001b[0;34m]\u001b[0m\u001b[0;34m\u001b[0m\u001b[0;34m\u001b[0m\u001b[0m\n\u001b[0m",
      "\u001b[0;31mAttributeError\u001b[0m: 'NoneType' object has no attribute 'split'"
     ]
    }
   ],
   "source": [
    "for t in tokens:\n",
    "    [t.split('/')[0] + '다' for t in t.expression.split('+') if t.split('/')[1] in pos]"
   ]
  },
  {
   "cell_type": "code",
   "execution_count": 30,
   "metadata": {},
   "outputs": [
    {
     "data": {
      "text/plain": [
       "Token(DocId='20210303-170932-084337', offset=2, start=3, end=4, text='붙')"
      ]
     },
     "execution_count": 30,
     "metadata": {},
     "output_type": "execute_result"
    }
   ],
   "source": [
    "tokens[2]"
   ]
  },
  {
   "cell_type": "code",
   "execution_count": null,
   "metadata": {},
   "outputs": [],
   "source": [
    "붙다"
   ]
  },
  {
   "cell_type": "code",
   "execution_count": null,
   "metadata": {},
   "outputs": [],
   "source": [
    "class LacTCG(TokenCandidateGeneration):\n",
    "    def __init__(self, ngram):\n",
    "        self.pos = {'LOC', 'ORG', 'PER', 'TIME', 'a', 'an', 'm', 'n', 'nr', 'ns', 'nt', 'nz', 'q', 's', 't', 'v', 'vn'}\n",
    "        self.N = ngram\n",
    "    \n",
    "    def get_candidate(self, doc: Doc) -> Doc:\n",
    "        if doc.tokenizable:\n",
    "            unigram = [token for token in doc.tokens if (token.pos in self.pos) and (token.text.strip() != '')]\n",
    "            candidates = [unigram]\n",
    "            if self.N > 1:\n",
    "                for i in range(1, self.N):\n",
    "                    candidates.append(self._ngram(unigram, (i+1)))\n",
    "            doc.candidates = candidates\n",
    "            return doc\n",
    "        else:\n",
    "            doc.candidates = [[]]\n",
    "            return doc\n",
    "    \n",
    "    def _ngram(self, unigram: List[Token], n: int) -> List[Token]:\n",
    "        return [ngram for ngram in zip(*[unigram[i:] for i in range(n)])]"
   ]
  },
  {
   "cell_type": "code",
   "execution_count": 23,
   "metadata": {},
   "outputs": [
    {
     "data": {
      "text/plain": [
       "['바르', '았']"
      ]
     },
     "execution_count": 23,
     "metadata": {},
     "output_type": "execute_result"
    }
   ],
   "source": [
    "list(map(lambda x: x.split('/')[0] if x.split('/')[1] in pos ,tokens[6].expression.split('+')))"
   ]
  },
  {
   "cell_type": "code",
   "execution_count": 3,
   "metadata": {},
   "outputs": [],
   "source": [
    "from pororo import Pororo"
   ]
  },
  {
   "cell_type": "code",
   "execution_count": 4,
   "metadata": {},
   "outputs": [
    {
     "name": "stderr",
     "output_type": "stream",
     "text": [
      "2021-03-03 10:50:31,099-INFO: [input] dictionary: 4005 types\n",
      "2021-03-03 10:50:31,101-INFO: [label] dictionary: 9 types\n"
     ]
    },
    {
     "name": "stdout",
     "output_type": "stream",
     "text": [
      "As of now, this beta model tries to correct spacing errors in Korean text.\n"
     ]
    }
   ],
   "source": [
    "spacing = Pororo(task='gec', lang = 'ko')"
   ]
  },
  {
   "cell_type": "code",
   "execution_count": 4,
   "metadata": {},
   "outputs": [],
   "source": [
    "from mecab import update_custom_dictionary\n",
    "\n",
    "update_custom_dictionary('/root/custom_dict/ap_custom_dict.csv')"
   ]
  },
  {
   "cell_type": "code",
   "execution_count": 30,
   "metadata": {},
   "outputs": [
    {
     "data": {
      "text/plain": [
       "[('안녕',\n",
       "  Feature(pos='IC', semantic=None, has_jongseong=True, reading='안녕', type=None, start_pos=None, end_pos=None, expression=None)),\n",
       " ('?',\n",
       "  Feature(pos='SF', semantic=None, has_jongseong=None, reading=None, type=None, start_pos=None, end_pos=None, expression=None))]"
      ]
     },
     "execution_count": 30,
     "metadata": {},
     "output_type": "execute_result"
    }
   ],
   "source": [
    "my_tok.parse('안녕?')"
   ]
  },
  {
   "cell_type": "code",
   "execution_count": null,
   "metadata": {},
   "outputs": [],
   "source": []
  },
  {
   "cell_type": "code",
   "execution_count": null,
   "metadata": {},
   "outputs": [],
   "source": [
    "my"
   ]
  },
  {
   "cell_type": "code",
   "execution_count": 8,
   "metadata": {},
   "outputs": [
    {
     "data": {
      "text/plain": [
       "'파데'"
      ]
     },
     "execution_count": 8,
     "metadata": {},
     "output_type": "execute_result"
    }
   ],
   "source": [
    "프로바이오틱스"
   ]
  },
  {
   "cell_type": "code",
   "execution_count": 5,
   "metadata": {},
   "outputs": [],
   "source": [
    "def spacing_hashtag(text:str) -> str:\n",
    "    for ht in self.hashtag.findall(text):\n",
    "        p = re.compile(f'#{ht}')\n",
    "        text = p.sub(f' #{ht} ', text)\n",
    "    return text"
   ]
  },
  {
   "cell_type": "code",
   "execution_count": 6,
   "metadata": {},
   "outputs": [
    {
     "ename": "NameError",
     "evalue": "name 'self' is not defined",
     "output_type": "error",
     "traceback": [
      "\u001b[0;31m\u001b[0m",
      "\u001b[0;31mNameError\u001b[0mTraceback (most recent call last)",
      "\u001b[0;32m<ipython-input-6-482db3753b92>\u001b[0m in \u001b[0;36m<module>\u001b[0;34m\u001b[0m\n\u001b[0;32m----> 1\u001b[0;31m \u001b[0mspacing_hashtag\u001b[0m\u001b[0;34m(\u001b[0m\u001b[0;34m'#아르간오일'\u001b[0m\u001b[0;34m)\u001b[0m\u001b[0;34m\u001b[0m\u001b[0;34m\u001b[0m\u001b[0m\n\u001b[0m",
      "\u001b[0;32m<ipython-input-5-ec1c65c62ee2>\u001b[0m in \u001b[0;36mspacing_hashtag\u001b[0;34m(text)\u001b[0m\n\u001b[1;32m      1\u001b[0m \u001b[0;32mdef\u001b[0m \u001b[0mspacing_hashtag\u001b[0m\u001b[0;34m(\u001b[0m\u001b[0mtext\u001b[0m\u001b[0;34m:\u001b[0m\u001b[0mstr\u001b[0m\u001b[0;34m)\u001b[0m \u001b[0;34m->\u001b[0m \u001b[0mstr\u001b[0m\u001b[0;34m:\u001b[0m\u001b[0;34m\u001b[0m\u001b[0;34m\u001b[0m\u001b[0m\n\u001b[0;32m----> 2\u001b[0;31m     \u001b[0;32mfor\u001b[0m \u001b[0mht\u001b[0m \u001b[0;32min\u001b[0m \u001b[0mself\u001b[0m\u001b[0;34m.\u001b[0m\u001b[0mhashtag\u001b[0m\u001b[0;34m.\u001b[0m\u001b[0mfindall\u001b[0m\u001b[0;34m(\u001b[0m\u001b[0mtext\u001b[0m\u001b[0;34m)\u001b[0m\u001b[0;34m:\u001b[0m\u001b[0;34m\u001b[0m\u001b[0;34m\u001b[0m\u001b[0m\n\u001b[0m\u001b[1;32m      3\u001b[0m         \u001b[0mp\u001b[0m \u001b[0;34m=\u001b[0m \u001b[0mre\u001b[0m\u001b[0;34m.\u001b[0m\u001b[0mcompile\u001b[0m\u001b[0;34m(\u001b[0m\u001b[0;34mf'#{ht}'\u001b[0m\u001b[0;34m)\u001b[0m\u001b[0;34m\u001b[0m\u001b[0;34m\u001b[0m\u001b[0m\n\u001b[1;32m      4\u001b[0m         \u001b[0mtext\u001b[0m \u001b[0;34m=\u001b[0m \u001b[0mp\u001b[0m\u001b[0;34m.\u001b[0m\u001b[0msub\u001b[0m\u001b[0;34m(\u001b[0m\u001b[0;34mf' #{ht} '\u001b[0m\u001b[0;34m,\u001b[0m \u001b[0mtext\u001b[0m\u001b[0;34m)\u001b[0m\u001b[0;34m\u001b[0m\u001b[0;34m\u001b[0m\u001b[0m\n\u001b[1;32m      5\u001b[0m     \u001b[0;32mreturn\u001b[0m \u001b[0mtext\u001b[0m\u001b[0;34m\u001b[0m\u001b[0;34m\u001b[0m\u001b[0m\n",
      "\u001b[0;31mNameError\u001b[0m: name 'self' is not defined"
     ]
    }
   ],
   "source": [
    "spacing_hashtag('#아르간오일')"
   ]
  },
  {
   "cell_type": "code",
   "execution_count": null,
   "metadata": {},
   "outputs": [],
   "source": [
    "^^:212\n",
    "ㅜㅜ:213\n",
    "ㅠㅠ:214\n",
    "ㅡㅡ:215\n",
    "😀:216\n",
    "😃:217\n",
    "😄:218\n",
    "😁:219\n",
    "😆:220\n",
    "😅:221\n",
    "🤣:222\n",
    "😂:223\n",
    "🙂:224\n",
    "🙃:225\n",
    "😉:226\n",
    "😊:227\n",
    "😇:228"
   ]
  },
  {
   "cell_type": "markdown",
   "metadata": {},
   "source": [
    "---"
   ]
  },
  {
   "cell_type": "markdown",
   "metadata": {},
   "source": [
    "- 안전하게\n",
    "- 믿음직해서"
   ]
  },
  {
   "cell_type": "code",
   "execution_count": 1,
   "metadata": {},
   "outputs": [],
   "source": [
    "doc = '색상 너무 잘뽑힌 것 같아요 ㅠㅠ 웜하지도 않고 너무 쿨하지도 않고 적절합니다 발색도 엄청 좋아요 사진에 나온 색상이 실제 색상과 제일 흡사합니다.. 여름뮤트나 쿨톤인 분들이 쓰기에 좋을 것 같아요'"
   ]
  },
  {
   "cell_type": "code",
   "execution_count": 2,
   "metadata": {},
   "outputs": [],
   "source": [
    "from src.textanalyzer.tokenization_mecab import MecabTokenization\n",
    "from src.textanalyzer.process_utils import KoPreprocessing"
   ]
  },
  {
   "cell_type": "code",
   "execution_count": 3,
   "metadata": {},
   "outputs": [],
   "source": [
    "tokenizer = MecabTokenization(custom_dir='/root/custom_dict')"
   ]
  },
  {
   "cell_type": "code",
   "execution_count": 4,
   "metadata": {},
   "outputs": [],
   "source": [
    "original_doc = tokenizer(doc)\n",
    "dump = original_doc.to_dict()"
   ]
  },
  {
   "cell_type": "code",
   "execution_count": 5,
   "metadata": {},
   "outputs": [],
   "source": [
    "from src.textanalyzer import Doc"
   ]
  },
  {
   "cell_type": "code",
   "execution_count": 6,
   "metadata": {},
   "outputs": [],
   "source": [
    "new_doc = Doc.from_dict(dump)"
   ]
  },
  {
   "cell_type": "code",
   "execution_count": null,
   "metadata": {},
   "outputs": [],
   "source": []
  },
  {
   "cell_type": "code",
   "execution_count": 5,
   "metadata": {},
   "outputs": [],
   "source": [
    "import json\n",
    "import dataclasses\n",
    "from dataclasses import dataclass,field\n",
    "from typing import Dict, List, Optional, Union\n"
   ]
  },
  {
   "cell_type": "code",
   "execution_count": 20,
   "metadata": {},
   "outputs": [
    {
     "data": {
      "text/plain": [
       "{'_tokenizable': True, 'hashtag': []}"
      ]
     },
     "execution_count": 20,
     "metadata": {},
     "output_type": "execute_result"
    }
   ],
   "source": [
    "dump['doc_features']"
   ]
  },
  {
   "cell_type": "code",
   "execution_count": 18,
   "metadata": {},
   "outputs": [
    {
     "data": {
      "text/plain": [
       "[{'DocId': '20210303-160540-893659',\n",
       "  'offset': 0,\n",
       "  'start': 0,\n",
       "  'end': 2,\n",
       "  'text': '색상',\n",
       "  'token_features': {'semantic': None,\n",
       "   'has_jongseong': True,\n",
       "   'reading': '색상',\n",
       "   'type': None,\n",
       "   'start_pos': None,\n",
       "   'end_pos': None,\n",
       "   'expression': None,\n",
       "   '_pos': 'NNG',\n",
       "   '_space': False}},\n",
       " {'DocId': '20210303-160540-893659',\n",
       "  'offset': 1,\n",
       "  'start': 3,\n",
       "  'end': 5,\n",
       "  'text': '너무',\n",
       "  'token_features': {'semantic': '성분부사|정도부사',\n",
       "   'has_jongseong': False,\n",
       "   'reading': '너무',\n",
       "   'type': None,\n",
       "   'start_pos': None,\n",
       "   'end_pos': None,\n",
       "   'expression': None,\n",
       "   '_pos': 'MAG',\n",
       "   '_space': False}},\n",
       " {'DocId': '20210303-160540-893659',\n",
       "  'offset': 2,\n",
       "  'start': 6,\n",
       "  'end': 7,\n",
       "  'text': '잘',\n",
       "  'token_features': {'semantic': None,\n",
       "   'has_jongseong': True,\n",
       "   'reading': '잘',\n",
       "   'type': None,\n",
       "   'start_pos': None,\n",
       "   'end_pos': None,\n",
       "   'expression': None,\n",
       "   '_pos': 'MAG',\n",
       "   '_space': False}},\n",
       " {'DocId': '20210303-160540-893659',\n",
       "  'offset': 3,\n",
       "  'start': 7,\n",
       "  'end': 9,\n",
       "  'text': '뽑힌',\n",
       "  'token_features': {'semantic': None,\n",
       "   'has_jongseong': True,\n",
       "   'reading': '뽑힌',\n",
       "   'type': 'Inflect',\n",
       "   'start_pos': 'VV',\n",
       "   'end_pos': 'ETM',\n",
       "   'expression': '뽑히/VV/*+ᆫ/ETM/*',\n",
       "   '_pos': 'VV+ETM',\n",
       "   '_space': False}},\n",
       " {'DocId': '20210303-160540-893659',\n",
       "  'offset': 4,\n",
       "  'start': 10,\n",
       "  'end': 11,\n",
       "  'text': '것',\n",
       "  'token_features': {'semantic': None,\n",
       "   'has_jongseong': True,\n",
       "   'reading': '것',\n",
       "   'type': None,\n",
       "   'start_pos': None,\n",
       "   'end_pos': None,\n",
       "   'expression': None,\n",
       "   '_pos': 'NNB',\n",
       "   '_space': False}},\n",
       " {'DocId': '20210303-160540-893659',\n",
       "  'offset': 5,\n",
       "  'start': 12,\n",
       "  'end': 13,\n",
       "  'text': '같',\n",
       "  'token_features': {'semantic': None,\n",
       "   'has_jongseong': True,\n",
       "   'reading': '같',\n",
       "   'type': None,\n",
       "   'start_pos': None,\n",
       "   'end_pos': None,\n",
       "   'expression': None,\n",
       "   '_pos': 'VA',\n",
       "   '_space': False}},\n",
       " {'DocId': '20210303-160540-893659',\n",
       "  'offset': 6,\n",
       "  'start': 13,\n",
       "  'end': 15,\n",
       "  'text': '아요',\n",
       "  'token_features': {'semantic': None,\n",
       "   'has_jongseong': False,\n",
       "   'reading': '아요',\n",
       "   'type': None,\n",
       "   'start_pos': None,\n",
       "   'end_pos': None,\n",
       "   'expression': None,\n",
       "   '_pos': 'EF',\n",
       "   '_space': False}},\n",
       " {'DocId': '20210303-160540-893659',\n",
       "  'offset': 7,\n",
       "  'start': 16,\n",
       "  'end': 18,\n",
       "  'text': 'ᅲᅲ',\n",
       "  'token_features': {'semantic': None,\n",
       "   'has_jongseong': None,\n",
       "   'reading': None,\n",
       "   'type': None,\n",
       "   'start_pos': None,\n",
       "   'end_pos': None,\n",
       "   'expression': None,\n",
       "   '_pos': 'UNKNOWN',\n",
       "   '_space': False}},\n",
       " {'DocId': '20210303-160540-893659',\n",
       "  'offset': 8,\n",
       "  'start': 19,\n",
       "  'end': 20,\n",
       "  'text': '웜',\n",
       "  'token_features': {'semantic': None,\n",
       "   'has_jongseong': True,\n",
       "   'reading': '웜',\n",
       "   'type': None,\n",
       "   'start_pos': None,\n",
       "   'end_pos': None,\n",
       "   'expression': None,\n",
       "   '_pos': 'NNG',\n",
       "   '_space': False}},\n",
       " {'DocId': '20210303-160540-893659',\n",
       "  'offset': 9,\n",
       "  'start': 20,\n",
       "  'end': 21,\n",
       "  'text': '하',\n",
       "  'token_features': {'semantic': None,\n",
       "   'has_jongseong': False,\n",
       "   'reading': '하',\n",
       "   'type': None,\n",
       "   'start_pos': None,\n",
       "   'end_pos': None,\n",
       "   'expression': None,\n",
       "   '_pos': 'XSV',\n",
       "   '_space': False}},\n",
       " {'DocId': '20210303-160540-893659',\n",
       "  'offset': 10,\n",
       "  'start': 21,\n",
       "  'end': 22,\n",
       "  'text': '지',\n",
       "  'token_features': {'semantic': None,\n",
       "   'has_jongseong': False,\n",
       "   'reading': '지',\n",
       "   'type': None,\n",
       "   'start_pos': None,\n",
       "   'end_pos': None,\n",
       "   'expression': None,\n",
       "   '_pos': 'EC',\n",
       "   '_space': False}},\n",
       " {'DocId': '20210303-160540-893659',\n",
       "  'offset': 11,\n",
       "  'start': 22,\n",
       "  'end': 23,\n",
       "  'text': '도',\n",
       "  'token_features': {'semantic': None,\n",
       "   'has_jongseong': False,\n",
       "   'reading': '도',\n",
       "   'type': None,\n",
       "   'start_pos': None,\n",
       "   'end_pos': None,\n",
       "   'expression': None,\n",
       "   '_pos': 'JX',\n",
       "   '_space': False}},\n",
       " {'DocId': '20210303-160540-893659',\n",
       "  'offset': 12,\n",
       "  'start': 24,\n",
       "  'end': 25,\n",
       "  'text': '않',\n",
       "  'token_features': {'semantic': None,\n",
       "   'has_jongseong': True,\n",
       "   'reading': '않',\n",
       "   'type': None,\n",
       "   'start_pos': None,\n",
       "   'end_pos': None,\n",
       "   'expression': None,\n",
       "   '_pos': 'VX',\n",
       "   '_space': False}},\n",
       " {'DocId': '20210303-160540-893659',\n",
       "  'offset': 13,\n",
       "  'start': 25,\n",
       "  'end': 26,\n",
       "  'text': '고',\n",
       "  'token_features': {'semantic': None,\n",
       "   'has_jongseong': False,\n",
       "   'reading': '고',\n",
       "   'type': None,\n",
       "   'start_pos': None,\n",
       "   'end_pos': None,\n",
       "   'expression': None,\n",
       "   '_pos': 'EC',\n",
       "   '_space': False}},\n",
       " {'DocId': '20210303-160540-893659',\n",
       "  'offset': 14,\n",
       "  'start': 27,\n",
       "  'end': 29,\n",
       "  'text': '너무',\n",
       "  'token_features': {'semantic': '성분부사|정도부사',\n",
       "   'has_jongseong': False,\n",
       "   'reading': '너무',\n",
       "   'type': None,\n",
       "   'start_pos': None,\n",
       "   'end_pos': None,\n",
       "   'expression': None,\n",
       "   '_pos': 'MAG',\n",
       "   '_space': False}},\n",
       " {'DocId': '20210303-160540-893659',\n",
       "  'offset': 15,\n",
       "  'start': 30,\n",
       "  'end': 31,\n",
       "  'text': '쿨',\n",
       "  'token_features': {'semantic': None,\n",
       "   'has_jongseong': True,\n",
       "   'reading': '쿨',\n",
       "   'type': None,\n",
       "   'start_pos': None,\n",
       "   'end_pos': None,\n",
       "   'expression': None,\n",
       "   '_pos': 'NNG',\n",
       "   '_space': False}},\n",
       " {'DocId': '20210303-160540-893659',\n",
       "  'offset': 16,\n",
       "  'start': 31,\n",
       "  'end': 32,\n",
       "  'text': '하',\n",
       "  'token_features': {'semantic': None,\n",
       "   'has_jongseong': False,\n",
       "   'reading': '하',\n",
       "   'type': None,\n",
       "   'start_pos': None,\n",
       "   'end_pos': None,\n",
       "   'expression': None,\n",
       "   '_pos': 'XSV',\n",
       "   '_space': False}},\n",
       " {'DocId': '20210303-160540-893659',\n",
       "  'offset': 17,\n",
       "  'start': 32,\n",
       "  'end': 33,\n",
       "  'text': '지',\n",
       "  'token_features': {'semantic': None,\n",
       "   'has_jongseong': False,\n",
       "   'reading': '지',\n",
       "   'type': None,\n",
       "   'start_pos': None,\n",
       "   'end_pos': None,\n",
       "   'expression': None,\n",
       "   '_pos': 'EC',\n",
       "   '_space': False}},\n",
       " {'DocId': '20210303-160540-893659',\n",
       "  'offset': 18,\n",
       "  'start': 33,\n",
       "  'end': 34,\n",
       "  'text': '도',\n",
       "  'token_features': {'semantic': None,\n",
       "   'has_jongseong': False,\n",
       "   'reading': '도',\n",
       "   'type': None,\n",
       "   'start_pos': None,\n",
       "   'end_pos': None,\n",
       "   'expression': None,\n",
       "   '_pos': 'JX',\n",
       "   '_space': False}},\n",
       " {'DocId': '20210303-160540-893659',\n",
       "  'offset': 19,\n",
       "  'start': 35,\n",
       "  'end': 36,\n",
       "  'text': '않',\n",
       "  'token_features': {'semantic': None,\n",
       "   'has_jongseong': True,\n",
       "   'reading': '않',\n",
       "   'type': None,\n",
       "   'start_pos': None,\n",
       "   'end_pos': None,\n",
       "   'expression': None,\n",
       "   '_pos': 'VX',\n",
       "   '_space': False}},\n",
       " {'DocId': '20210303-160540-893659',\n",
       "  'offset': 20,\n",
       "  'start': 36,\n",
       "  'end': 37,\n",
       "  'text': '고',\n",
       "  'token_features': {'semantic': None,\n",
       "   'has_jongseong': False,\n",
       "   'reading': '고',\n",
       "   'type': None,\n",
       "   'start_pos': None,\n",
       "   'end_pos': None,\n",
       "   'expression': None,\n",
       "   '_pos': 'EC',\n",
       "   '_space': False}},\n",
       " {'DocId': '20210303-160540-893659',\n",
       "  'offset': 21,\n",
       "  'start': 38,\n",
       "  'end': 40,\n",
       "  'text': '적절',\n",
       "  'token_features': {'semantic': None,\n",
       "   'has_jongseong': True,\n",
       "   'reading': '적절',\n",
       "   'type': None,\n",
       "   'start_pos': None,\n",
       "   'end_pos': None,\n",
       "   'expression': None,\n",
       "   '_pos': 'XR',\n",
       "   '_space': False}},\n",
       " {'DocId': '20210303-160540-893659',\n",
       "  'offset': 22,\n",
       "  'start': 40,\n",
       "  'end': 43,\n",
       "  'text': '합니다',\n",
       "  'token_features': {'semantic': None,\n",
       "   'has_jongseong': False,\n",
       "   'reading': '합니다',\n",
       "   'type': 'Inflect',\n",
       "   'start_pos': 'XSA',\n",
       "   'end_pos': 'EF',\n",
       "   'expression': '하/XSA/*+ᄇ니다/EF/*',\n",
       "   '_pos': 'XSA+EF',\n",
       "   '_space': False}},\n",
       " {'DocId': '20210303-160540-893659',\n",
       "  'offset': 23,\n",
       "  'start': 44,\n",
       "  'end': 46,\n",
       "  'text': '발색',\n",
       "  'token_features': {'semantic': None,\n",
       "   'has_jongseong': True,\n",
       "   'reading': '발색',\n",
       "   'type': None,\n",
       "   'start_pos': None,\n",
       "   'end_pos': None,\n",
       "   'expression': None,\n",
       "   '_pos': 'NNG',\n",
       "   '_space': False}},\n",
       " {'DocId': '20210303-160540-893659',\n",
       "  'offset': 24,\n",
       "  'start': 46,\n",
       "  'end': 47,\n",
       "  'text': '도',\n",
       "  'token_features': {'semantic': None,\n",
       "   'has_jongseong': False,\n",
       "   'reading': '도',\n",
       "   'type': None,\n",
       "   'start_pos': None,\n",
       "   'end_pos': None,\n",
       "   'expression': None,\n",
       "   '_pos': 'JX',\n",
       "   '_space': False}},\n",
       " {'DocId': '20210303-160540-893659',\n",
       "  'offset': 25,\n",
       "  'start': 48,\n",
       "  'end': 50,\n",
       "  'text': '엄청',\n",
       "  'token_features': {'semantic': '성분부사|정도부사',\n",
       "   'has_jongseong': True,\n",
       "   'reading': '엄청',\n",
       "   'type': None,\n",
       "   'start_pos': None,\n",
       "   'end_pos': None,\n",
       "   'expression': None,\n",
       "   '_pos': 'MAG',\n",
       "   '_space': False}},\n",
       " {'DocId': '20210303-160540-893659',\n",
       "  'offset': 26,\n",
       "  'start': 51,\n",
       "  'end': 52,\n",
       "  'text': '좋',\n",
       "  'token_features': {'semantic': None,\n",
       "   'has_jongseong': True,\n",
       "   'reading': '좋',\n",
       "   'type': None,\n",
       "   'start_pos': None,\n",
       "   'end_pos': None,\n",
       "   'expression': None,\n",
       "   '_pos': 'VA',\n",
       "   '_space': False}},\n",
       " {'DocId': '20210303-160540-893659',\n",
       "  'offset': 27,\n",
       "  'start': 52,\n",
       "  'end': 54,\n",
       "  'text': '아요',\n",
       "  'token_features': {'semantic': None,\n",
       "   'has_jongseong': False,\n",
       "   'reading': '아요',\n",
       "   'type': None,\n",
       "   'start_pos': None,\n",
       "   'end_pos': None,\n",
       "   'expression': None,\n",
       "   '_pos': 'EF',\n",
       "   '_space': False}},\n",
       " {'DocId': '20210303-160540-893659',\n",
       "  'offset': 28,\n",
       "  'start': 55,\n",
       "  'end': 57,\n",
       "  'text': '사진',\n",
       "  'token_features': {'semantic': None,\n",
       "   'has_jongseong': True,\n",
       "   'reading': '사진',\n",
       "   'type': None,\n",
       "   'start_pos': None,\n",
       "   'end_pos': None,\n",
       "   'expression': None,\n",
       "   '_pos': 'NNG',\n",
       "   '_space': False}},\n",
       " {'DocId': '20210303-160540-893659',\n",
       "  'offset': 29,\n",
       "  'start': 57,\n",
       "  'end': 58,\n",
       "  'text': '에',\n",
       "  'token_features': {'semantic': None,\n",
       "   'has_jongseong': False,\n",
       "   'reading': '에',\n",
       "   'type': None,\n",
       "   'start_pos': None,\n",
       "   'end_pos': None,\n",
       "   'expression': None,\n",
       "   '_pos': 'JKB',\n",
       "   '_space': False}},\n",
       " {'DocId': '20210303-160540-893659',\n",
       "  'offset': 30,\n",
       "  'start': 59,\n",
       "  'end': 61,\n",
       "  'text': '나온',\n",
       "  'token_features': {'semantic': None,\n",
       "   'has_jongseong': True,\n",
       "   'reading': '나온',\n",
       "   'type': 'Inflect',\n",
       "   'start_pos': 'VV',\n",
       "   'end_pos': 'ETM',\n",
       "   'expression': '나오/VV/*+ᆫ/ETM/*',\n",
       "   '_pos': 'VV+ETM',\n",
       "   '_space': False}},\n",
       " {'DocId': '20210303-160540-893659',\n",
       "  'offset': 31,\n",
       "  'start': 62,\n",
       "  'end': 64,\n",
       "  'text': '색상',\n",
       "  'token_features': {'semantic': None,\n",
       "   'has_jongseong': True,\n",
       "   'reading': '색상',\n",
       "   'type': None,\n",
       "   'start_pos': None,\n",
       "   'end_pos': None,\n",
       "   'expression': None,\n",
       "   '_pos': 'NNG',\n",
       "   '_space': False}},\n",
       " {'DocId': '20210303-160540-893659',\n",
       "  'offset': 32,\n",
       "  'start': 64,\n",
       "  'end': 65,\n",
       "  'text': '이',\n",
       "  'token_features': {'semantic': None,\n",
       "   'has_jongseong': False,\n",
       "   'reading': '이',\n",
       "   'type': None,\n",
       "   'start_pos': None,\n",
       "   'end_pos': None,\n",
       "   'expression': None,\n",
       "   '_pos': 'JKS',\n",
       "   '_space': False}},\n",
       " {'DocId': '20210303-160540-893659',\n",
       "  'offset': 33,\n",
       "  'start': 66,\n",
       "  'end': 68,\n",
       "  'text': '실제',\n",
       "  'token_features': {'semantic': None,\n",
       "   'has_jongseong': False,\n",
       "   'reading': '실제',\n",
       "   'type': None,\n",
       "   'start_pos': None,\n",
       "   'end_pos': None,\n",
       "   'expression': None,\n",
       "   '_pos': 'NNG',\n",
       "   '_space': False}},\n",
       " {'DocId': '20210303-160540-893659',\n",
       "  'offset': 34,\n",
       "  'start': 69,\n",
       "  'end': 71,\n",
       "  'text': '색상',\n",
       "  'token_features': {'semantic': None,\n",
       "   'has_jongseong': True,\n",
       "   'reading': '색상',\n",
       "   'type': None,\n",
       "   'start_pos': None,\n",
       "   'end_pos': None,\n",
       "   'expression': None,\n",
       "   '_pos': 'NNG',\n",
       "   '_space': False}},\n",
       " {'DocId': '20210303-160540-893659',\n",
       "  'offset': 35,\n",
       "  'start': 71,\n",
       "  'end': 72,\n",
       "  'text': '과',\n",
       "  'token_features': {'semantic': None,\n",
       "   'has_jongseong': False,\n",
       "   'reading': '과',\n",
       "   'type': None,\n",
       "   'start_pos': None,\n",
       "   'end_pos': None,\n",
       "   'expression': None,\n",
       "   '_pos': 'JKB',\n",
       "   '_space': False}},\n",
       " {'DocId': '20210303-160540-893659',\n",
       "  'offset': 36,\n",
       "  'start': 73,\n",
       "  'end': 75,\n",
       "  'text': '제일',\n",
       "  'token_features': {'semantic': None,\n",
       "   'has_jongseong': True,\n",
       "   'reading': '제일',\n",
       "   'type': None,\n",
       "   'start_pos': None,\n",
       "   'end_pos': None,\n",
       "   'expression': None,\n",
       "   '_pos': 'MAG',\n",
       "   '_space': False}},\n",
       " {'DocId': '20210303-160540-893659',\n",
       "  'offset': 37,\n",
       "  'start': 76,\n",
       "  'end': 78,\n",
       "  'text': '흡사',\n",
       "  'token_features': {'semantic': '문장부사|양상부사',\n",
       "   'has_jongseong': False,\n",
       "   'reading': '흡사',\n",
       "   'type': None,\n",
       "   'start_pos': None,\n",
       "   'end_pos': None,\n",
       "   'expression': None,\n",
       "   '_pos': 'MAG',\n",
       "   '_space': False}},\n",
       " {'DocId': '20210303-160540-893659',\n",
       "  'offset': 38,\n",
       "  'start': 78,\n",
       "  'end': 81,\n",
       "  'text': '합니다',\n",
       "  'token_features': {'semantic': None,\n",
       "   'has_jongseong': False,\n",
       "   'reading': '합니다',\n",
       "   'type': 'Inflect',\n",
       "   'start_pos': 'XSA',\n",
       "   'end_pos': 'EF',\n",
       "   'expression': '하/XSA/*+ᄇ니다/EF/*',\n",
       "   '_pos': 'XSA+EF',\n",
       "   '_space': False}},\n",
       " {'DocId': '20210303-160540-893659',\n",
       "  'offset': 39,\n",
       "  'start': 81,\n",
       "  'end': 82,\n",
       "  'text': '.',\n",
       "  'token_features': {'semantic': None,\n",
       "   'has_jongseong': None,\n",
       "   'reading': None,\n",
       "   'type': None,\n",
       "   'start_pos': None,\n",
       "   'end_pos': None,\n",
       "   'expression': None,\n",
       "   '_pos': 'SF',\n",
       "   '_space': False}},\n",
       " {'DocId': '20210303-160540-893659',\n",
       "  'offset': 40,\n",
       "  'start': 82,\n",
       "  'end': 83,\n",
       "  'text': '.',\n",
       "  'token_features': {'semantic': None,\n",
       "   'has_jongseong': None,\n",
       "   'reading': None,\n",
       "   'type': None,\n",
       "   'start_pos': None,\n",
       "   'end_pos': None,\n",
       "   'expression': None,\n",
       "   '_pos': 'SY',\n",
       "   '_space': False}},\n",
       " {'DocId': '20210303-160540-893659',\n",
       "  'offset': 41,\n",
       "  'start': 84,\n",
       "  'end': 88,\n",
       "  'text': '여름뮤트',\n",
       "  'token_features': {'semantic': None,\n",
       "   'has_jongseong': None,\n",
       "   'reading': None,\n",
       "   'type': None,\n",
       "   'start_pos': None,\n",
       "   'end_pos': None,\n",
       "   'expression': None,\n",
       "   '_pos': 'KEYPHRASE',\n",
       "   '_space': None}},\n",
       " {'DocId': '20210303-160540-893659',\n",
       "  'offset': 43,\n",
       "  'start': 88,\n",
       "  'end': 89,\n",
       "  'text': '나',\n",
       "  'token_features': {'semantic': None,\n",
       "   'has_jongseong': False,\n",
       "   'reading': '나',\n",
       "   'type': None,\n",
       "   'start_pos': None,\n",
       "   'end_pos': None,\n",
       "   'expression': None,\n",
       "   '_pos': 'JC',\n",
       "   '_space': False}},\n",
       " {'DocId': '20210303-160540-893659',\n",
       "  'offset': 44,\n",
       "  'start': 90,\n",
       "  'end': 92,\n",
       "  'text': '쿨톤',\n",
       "  'token_features': {'semantic': None,\n",
       "   'has_jongseong': True,\n",
       "   'reading': '쿨톤',\n",
       "   'type': 'Compound',\n",
       "   'start_pos': None,\n",
       "   'end_pos': None,\n",
       "   'expression': '쿨/NNG/+톤/NNG/',\n",
       "   '_pos': 'NNG',\n",
       "   '_space': False}},\n",
       " {'DocId': '20210303-160540-893659',\n",
       "  'offset': 45,\n",
       "  'start': 92,\n",
       "  'end': 93,\n",
       "  'text': '인',\n",
       "  'token_features': {'semantic': None,\n",
       "   'has_jongseong': True,\n",
       "   'reading': '인',\n",
       "   'type': 'Inflect',\n",
       "   'start_pos': 'VCP',\n",
       "   'end_pos': 'ETM',\n",
       "   'expression': '이/VCP/*+ᆫ/ETM/*',\n",
       "   '_pos': 'VCP+ETM',\n",
       "   '_space': False}},\n",
       " {'DocId': '20210303-160540-893659',\n",
       "  'offset': 46,\n",
       "  'start': 94,\n",
       "  'end': 95,\n",
       "  'text': '분',\n",
       "  'token_features': {'semantic': None,\n",
       "   'has_jongseong': True,\n",
       "   'reading': '분',\n",
       "   'type': None,\n",
       "   'start_pos': None,\n",
       "   'end_pos': None,\n",
       "   'expression': None,\n",
       "   '_pos': 'NNB',\n",
       "   '_space': False}},\n",
       " {'DocId': '20210303-160540-893659',\n",
       "  'offset': 47,\n",
       "  'start': 95,\n",
       "  'end': 96,\n",
       "  'text': '들',\n",
       "  'token_features': {'semantic': None,\n",
       "   'has_jongseong': True,\n",
       "   'reading': '들',\n",
       "   'type': None,\n",
       "   'start_pos': None,\n",
       "   'end_pos': None,\n",
       "   'expression': None,\n",
       "   '_pos': 'XSN',\n",
       "   '_space': False}},\n",
       " {'DocId': '20210303-160540-893659',\n",
       "  'offset': 48,\n",
       "  'start': 96,\n",
       "  'end': 97,\n",
       "  'text': '이',\n",
       "  'token_features': {'semantic': None,\n",
       "   'has_jongseong': False,\n",
       "   'reading': '이',\n",
       "   'type': None,\n",
       "   'start_pos': None,\n",
       "   'end_pos': None,\n",
       "   'expression': None,\n",
       "   '_pos': 'JKS',\n",
       "   '_space': False}},\n",
       " {'DocId': '20210303-160540-893659',\n",
       "  'offset': 49,\n",
       "  'start': 98,\n",
       "  'end': 99,\n",
       "  'text': '쓰',\n",
       "  'token_features': {'semantic': None,\n",
       "   'has_jongseong': False,\n",
       "   'reading': '쓰',\n",
       "   'type': None,\n",
       "   'start_pos': None,\n",
       "   'end_pos': None,\n",
       "   'expression': None,\n",
       "   '_pos': 'VV',\n",
       "   '_space': False}},\n",
       " {'DocId': '20210303-160540-893659',\n",
       "  'offset': 50,\n",
       "  'start': 99,\n",
       "  'end': 100,\n",
       "  'text': '기',\n",
       "  'token_features': {'semantic': None,\n",
       "   'has_jongseong': False,\n",
       "   'reading': '기',\n",
       "   'type': None,\n",
       "   'start_pos': None,\n",
       "   'end_pos': None,\n",
       "   'expression': None,\n",
       "   '_pos': 'ETN',\n",
       "   '_space': False}},\n",
       " {'DocId': '20210303-160540-893659',\n",
       "  'offset': 51,\n",
       "  'start': 100,\n",
       "  'end': 101,\n",
       "  'text': '에',\n",
       "  'token_features': {'semantic': None,\n",
       "   'has_jongseong': False,\n",
       "   'reading': '에',\n",
       "   'type': None,\n",
       "   'start_pos': None,\n",
       "   'end_pos': None,\n",
       "   'expression': None,\n",
       "   '_pos': 'JKB',\n",
       "   '_space': False}},\n",
       " {'DocId': '20210303-160540-893659',\n",
       "  'offset': 52,\n",
       "  'start': 102,\n",
       "  'end': 103,\n",
       "  'text': '좋',\n",
       "  'token_features': {'semantic': None,\n",
       "   'has_jongseong': True,\n",
       "   'reading': '좋',\n",
       "   'type': None,\n",
       "   'start_pos': None,\n",
       "   'end_pos': None,\n",
       "   'expression': None,\n",
       "   '_pos': 'VA',\n",
       "   '_space': False}},\n",
       " {'DocId': '20210303-160540-893659',\n",
       "  'offset': 53,\n",
       "  'start': 103,\n",
       "  'end': 104,\n",
       "  'text': '을',\n",
       "  'token_features': {'semantic': None,\n",
       "   'has_jongseong': True,\n",
       "   'reading': '을',\n",
       "   'type': None,\n",
       "   'start_pos': None,\n",
       "   'end_pos': None,\n",
       "   'expression': None,\n",
       "   '_pos': 'ETM',\n",
       "   '_space': False}},\n",
       " {'DocId': '20210303-160540-893659',\n",
       "  'offset': 54,\n",
       "  'start': 105,\n",
       "  'end': 106,\n",
       "  'text': '것',\n",
       "  'token_features': {'semantic': None,\n",
       "   'has_jongseong': True,\n",
       "   'reading': '것',\n",
       "   'type': None,\n",
       "   'start_pos': None,\n",
       "   'end_pos': None,\n",
       "   'expression': None,\n",
       "   '_pos': 'NNB',\n",
       "   '_space': False}},\n",
       " {'DocId': '20210303-160540-893659',\n",
       "  'offset': 55,\n",
       "  'start': 107,\n",
       "  'end': 108,\n",
       "  'text': '같',\n",
       "  'token_features': {'semantic': None,\n",
       "   'has_jongseong': True,\n",
       "   'reading': '같',\n",
       "   'type': None,\n",
       "   'start_pos': None,\n",
       "   'end_pos': None,\n",
       "   'expression': None,\n",
       "   '_pos': 'VA',\n",
       "   '_space': False}},\n",
       " {'DocId': '20210303-160540-893659',\n",
       "  'offset': 56,\n",
       "  'start': 108,\n",
       "  'end': 110,\n",
       "  'text': '아요',\n",
       "  'token_features': {'semantic': None,\n",
       "   'has_jongseong': False,\n",
       "   'reading': '아요',\n",
       "   'type': None,\n",
       "   'start_pos': None,\n",
       "   'end_pos': None,\n",
       "   'expression': None,\n",
       "   '_pos': 'EC',\n",
       "   '_space': False}}]"
      ]
     },
     "execution_count": 18,
     "metadata": {},
     "output_type": "execute_result"
    }
   ],
   "source": [
    "Doc2.from_dict(dump).Tokens"
   ]
  },
  {
   "cell_type": "code",
   "execution_count": 12,
   "metadata": {},
   "outputs": [
    {
     "data": {
      "text/plain": [
       "'20210303-160540-893659'"
      ]
     },
     "execution_count": 12,
     "metadata": {},
     "output_type": "execute_result"
    }
   ],
   "source": [
    "dump['Id']"
   ]
  },
  {
   "cell_type": "code",
   "execution_count": 13,
   "metadata": {},
   "outputs": [
    {
     "data": {
      "text/plain": [
       "'색상 너무 잘뽑힌 것 같아요 ᅲᅲ 웜하지도 않고 너무 쿨하지도 않고 적절합니다 발색도 엄청 좋아요 사진에 나온 색상이 실제 색상과 제일 흡사합니다.. 여름뮤트나 쿨톤인 분들이 쓰기에 좋을 것 같아요'"
      ]
     },
     "execution_count": 13,
     "metadata": {},
     "output_type": "execute_result"
    }
   ],
   "source": [
    "dump['text']"
   ]
  },
  {
   "cell_type": "code",
   "execution_count": 14,
   "metadata": {},
   "outputs": [
    {
     "data": {
      "text/plain": [
       "[{'DocId': '20210303-160540-893659',\n",
       "  'offset': 0,\n",
       "  'start': 0,\n",
       "  'end': 2,\n",
       "  'text': '색상',\n",
       "  'token_features': {'semantic': None,\n",
       "   'has_jongseong': True,\n",
       "   'reading': '색상',\n",
       "   'type': None,\n",
       "   'start_pos': None,\n",
       "   'end_pos': None,\n",
       "   'expression': None,\n",
       "   '_pos': 'NNG',\n",
       "   '_space': False}},\n",
       " {'DocId': '20210303-160540-893659',\n",
       "  'offset': 1,\n",
       "  'start': 3,\n",
       "  'end': 5,\n",
       "  'text': '너무',\n",
       "  'token_features': {'semantic': '성분부사|정도부사',\n",
       "   'has_jongseong': False,\n",
       "   'reading': '너무',\n",
       "   'type': None,\n",
       "   'start_pos': None,\n",
       "   'end_pos': None,\n",
       "   'expression': None,\n",
       "   '_pos': 'MAG',\n",
       "   '_space': False}},\n",
       " {'DocId': '20210303-160540-893659',\n",
       "  'offset': 2,\n",
       "  'start': 6,\n",
       "  'end': 7,\n",
       "  'text': '잘',\n",
       "  'token_features': {'semantic': None,\n",
       "   'has_jongseong': True,\n",
       "   'reading': '잘',\n",
       "   'type': None,\n",
       "   'start_pos': None,\n",
       "   'end_pos': None,\n",
       "   'expression': None,\n",
       "   '_pos': 'MAG',\n",
       "   '_space': False}},\n",
       " {'DocId': '20210303-160540-893659',\n",
       "  'offset': 3,\n",
       "  'start': 7,\n",
       "  'end': 9,\n",
       "  'text': '뽑힌',\n",
       "  'token_features': {'semantic': None,\n",
       "   'has_jongseong': True,\n",
       "   'reading': '뽑힌',\n",
       "   'type': 'Inflect',\n",
       "   'start_pos': 'VV',\n",
       "   'end_pos': 'ETM',\n",
       "   'expression': '뽑히/VV/*+ᆫ/ETM/*',\n",
       "   '_pos': 'VV+ETM',\n",
       "   '_space': False}},\n",
       " {'DocId': '20210303-160540-893659',\n",
       "  'offset': 4,\n",
       "  'start': 10,\n",
       "  'end': 11,\n",
       "  'text': '것',\n",
       "  'token_features': {'semantic': None,\n",
       "   'has_jongseong': True,\n",
       "   'reading': '것',\n",
       "   'type': None,\n",
       "   'start_pos': None,\n",
       "   'end_pos': None,\n",
       "   'expression': None,\n",
       "   '_pos': 'NNB',\n",
       "   '_space': False}},\n",
       " {'DocId': '20210303-160540-893659',\n",
       "  'offset': 5,\n",
       "  'start': 12,\n",
       "  'end': 13,\n",
       "  'text': '같',\n",
       "  'token_features': {'semantic': None,\n",
       "   'has_jongseong': True,\n",
       "   'reading': '같',\n",
       "   'type': None,\n",
       "   'start_pos': None,\n",
       "   'end_pos': None,\n",
       "   'expression': None,\n",
       "   '_pos': 'VA',\n",
       "   '_space': False}},\n",
       " {'DocId': '20210303-160540-893659',\n",
       "  'offset': 6,\n",
       "  'start': 13,\n",
       "  'end': 15,\n",
       "  'text': '아요',\n",
       "  'token_features': {'semantic': None,\n",
       "   'has_jongseong': False,\n",
       "   'reading': '아요',\n",
       "   'type': None,\n",
       "   'start_pos': None,\n",
       "   'end_pos': None,\n",
       "   'expression': None,\n",
       "   '_pos': 'EF',\n",
       "   '_space': False}},\n",
       " {'DocId': '20210303-160540-893659',\n",
       "  'offset': 7,\n",
       "  'start': 16,\n",
       "  'end': 18,\n",
       "  'text': 'ᅲᅲ',\n",
       "  'token_features': {'semantic': None,\n",
       "   'has_jongseong': None,\n",
       "   'reading': None,\n",
       "   'type': None,\n",
       "   'start_pos': None,\n",
       "   'end_pos': None,\n",
       "   'expression': None,\n",
       "   '_pos': 'UNKNOWN',\n",
       "   '_space': False}},\n",
       " {'DocId': '20210303-160540-893659',\n",
       "  'offset': 8,\n",
       "  'start': 19,\n",
       "  'end': 20,\n",
       "  'text': '웜',\n",
       "  'token_features': {'semantic': None,\n",
       "   'has_jongseong': True,\n",
       "   'reading': '웜',\n",
       "   'type': None,\n",
       "   'start_pos': None,\n",
       "   'end_pos': None,\n",
       "   'expression': None,\n",
       "   '_pos': 'NNG',\n",
       "   '_space': False}},\n",
       " {'DocId': '20210303-160540-893659',\n",
       "  'offset': 9,\n",
       "  'start': 20,\n",
       "  'end': 21,\n",
       "  'text': '하',\n",
       "  'token_features': {'semantic': None,\n",
       "   'has_jongseong': False,\n",
       "   'reading': '하',\n",
       "   'type': None,\n",
       "   'start_pos': None,\n",
       "   'end_pos': None,\n",
       "   'expression': None,\n",
       "   '_pos': 'XSV',\n",
       "   '_space': False}},\n",
       " {'DocId': '20210303-160540-893659',\n",
       "  'offset': 10,\n",
       "  'start': 21,\n",
       "  'end': 22,\n",
       "  'text': '지',\n",
       "  'token_features': {'semantic': None,\n",
       "   'has_jongseong': False,\n",
       "   'reading': '지',\n",
       "   'type': None,\n",
       "   'start_pos': None,\n",
       "   'end_pos': None,\n",
       "   'expression': None,\n",
       "   '_pos': 'EC',\n",
       "   '_space': False}},\n",
       " {'DocId': '20210303-160540-893659',\n",
       "  'offset': 11,\n",
       "  'start': 22,\n",
       "  'end': 23,\n",
       "  'text': '도',\n",
       "  'token_features': {'semantic': None,\n",
       "   'has_jongseong': False,\n",
       "   'reading': '도',\n",
       "   'type': None,\n",
       "   'start_pos': None,\n",
       "   'end_pos': None,\n",
       "   'expression': None,\n",
       "   '_pos': 'JX',\n",
       "   '_space': False}},\n",
       " {'DocId': '20210303-160540-893659',\n",
       "  'offset': 12,\n",
       "  'start': 24,\n",
       "  'end': 25,\n",
       "  'text': '않',\n",
       "  'token_features': {'semantic': None,\n",
       "   'has_jongseong': True,\n",
       "   'reading': '않',\n",
       "   'type': None,\n",
       "   'start_pos': None,\n",
       "   'end_pos': None,\n",
       "   'expression': None,\n",
       "   '_pos': 'VX',\n",
       "   '_space': False}},\n",
       " {'DocId': '20210303-160540-893659',\n",
       "  'offset': 13,\n",
       "  'start': 25,\n",
       "  'end': 26,\n",
       "  'text': '고',\n",
       "  'token_features': {'semantic': None,\n",
       "   'has_jongseong': False,\n",
       "   'reading': '고',\n",
       "   'type': None,\n",
       "   'start_pos': None,\n",
       "   'end_pos': None,\n",
       "   'expression': None,\n",
       "   '_pos': 'EC',\n",
       "   '_space': False}},\n",
       " {'DocId': '20210303-160540-893659',\n",
       "  'offset': 14,\n",
       "  'start': 27,\n",
       "  'end': 29,\n",
       "  'text': '너무',\n",
       "  'token_features': {'semantic': '성분부사|정도부사',\n",
       "   'has_jongseong': False,\n",
       "   'reading': '너무',\n",
       "   'type': None,\n",
       "   'start_pos': None,\n",
       "   'end_pos': None,\n",
       "   'expression': None,\n",
       "   '_pos': 'MAG',\n",
       "   '_space': False}},\n",
       " {'DocId': '20210303-160540-893659',\n",
       "  'offset': 15,\n",
       "  'start': 30,\n",
       "  'end': 31,\n",
       "  'text': '쿨',\n",
       "  'token_features': {'semantic': None,\n",
       "   'has_jongseong': True,\n",
       "   'reading': '쿨',\n",
       "   'type': None,\n",
       "   'start_pos': None,\n",
       "   'end_pos': None,\n",
       "   'expression': None,\n",
       "   '_pos': 'NNG',\n",
       "   '_space': False}},\n",
       " {'DocId': '20210303-160540-893659',\n",
       "  'offset': 16,\n",
       "  'start': 31,\n",
       "  'end': 32,\n",
       "  'text': '하',\n",
       "  'token_features': {'semantic': None,\n",
       "   'has_jongseong': False,\n",
       "   'reading': '하',\n",
       "   'type': None,\n",
       "   'start_pos': None,\n",
       "   'end_pos': None,\n",
       "   'expression': None,\n",
       "   '_pos': 'XSV',\n",
       "   '_space': False}},\n",
       " {'DocId': '20210303-160540-893659',\n",
       "  'offset': 17,\n",
       "  'start': 32,\n",
       "  'end': 33,\n",
       "  'text': '지',\n",
       "  'token_features': {'semantic': None,\n",
       "   'has_jongseong': False,\n",
       "   'reading': '지',\n",
       "   'type': None,\n",
       "   'start_pos': None,\n",
       "   'end_pos': None,\n",
       "   'expression': None,\n",
       "   '_pos': 'EC',\n",
       "   '_space': False}},\n",
       " {'DocId': '20210303-160540-893659',\n",
       "  'offset': 18,\n",
       "  'start': 33,\n",
       "  'end': 34,\n",
       "  'text': '도',\n",
       "  'token_features': {'semantic': None,\n",
       "   'has_jongseong': False,\n",
       "   'reading': '도',\n",
       "   'type': None,\n",
       "   'start_pos': None,\n",
       "   'end_pos': None,\n",
       "   'expression': None,\n",
       "   '_pos': 'JX',\n",
       "   '_space': False}},\n",
       " {'DocId': '20210303-160540-893659',\n",
       "  'offset': 19,\n",
       "  'start': 35,\n",
       "  'end': 36,\n",
       "  'text': '않',\n",
       "  'token_features': {'semantic': None,\n",
       "   'has_jongseong': True,\n",
       "   'reading': '않',\n",
       "   'type': None,\n",
       "   'start_pos': None,\n",
       "   'end_pos': None,\n",
       "   'expression': None,\n",
       "   '_pos': 'VX',\n",
       "   '_space': False}},\n",
       " {'DocId': '20210303-160540-893659',\n",
       "  'offset': 20,\n",
       "  'start': 36,\n",
       "  'end': 37,\n",
       "  'text': '고',\n",
       "  'token_features': {'semantic': None,\n",
       "   'has_jongseong': False,\n",
       "   'reading': '고',\n",
       "   'type': None,\n",
       "   'start_pos': None,\n",
       "   'end_pos': None,\n",
       "   'expression': None,\n",
       "   '_pos': 'EC',\n",
       "   '_space': False}},\n",
       " {'DocId': '20210303-160540-893659',\n",
       "  'offset': 21,\n",
       "  'start': 38,\n",
       "  'end': 40,\n",
       "  'text': '적절',\n",
       "  'token_features': {'semantic': None,\n",
       "   'has_jongseong': True,\n",
       "   'reading': '적절',\n",
       "   'type': None,\n",
       "   'start_pos': None,\n",
       "   'end_pos': None,\n",
       "   'expression': None,\n",
       "   '_pos': 'XR',\n",
       "   '_space': False}},\n",
       " {'DocId': '20210303-160540-893659',\n",
       "  'offset': 22,\n",
       "  'start': 40,\n",
       "  'end': 43,\n",
       "  'text': '합니다',\n",
       "  'token_features': {'semantic': None,\n",
       "   'has_jongseong': False,\n",
       "   'reading': '합니다',\n",
       "   'type': 'Inflect',\n",
       "   'start_pos': 'XSA',\n",
       "   'end_pos': 'EF',\n",
       "   'expression': '하/XSA/*+ᄇ니다/EF/*',\n",
       "   '_pos': 'XSA+EF',\n",
       "   '_space': False}},\n",
       " {'DocId': '20210303-160540-893659',\n",
       "  'offset': 23,\n",
       "  'start': 44,\n",
       "  'end': 46,\n",
       "  'text': '발색',\n",
       "  'token_features': {'semantic': None,\n",
       "   'has_jongseong': True,\n",
       "   'reading': '발색',\n",
       "   'type': None,\n",
       "   'start_pos': None,\n",
       "   'end_pos': None,\n",
       "   'expression': None,\n",
       "   '_pos': 'NNG',\n",
       "   '_space': False}},\n",
       " {'DocId': '20210303-160540-893659',\n",
       "  'offset': 24,\n",
       "  'start': 46,\n",
       "  'end': 47,\n",
       "  'text': '도',\n",
       "  'token_features': {'semantic': None,\n",
       "   'has_jongseong': False,\n",
       "   'reading': '도',\n",
       "   'type': None,\n",
       "   'start_pos': None,\n",
       "   'end_pos': None,\n",
       "   'expression': None,\n",
       "   '_pos': 'JX',\n",
       "   '_space': False}},\n",
       " {'DocId': '20210303-160540-893659',\n",
       "  'offset': 25,\n",
       "  'start': 48,\n",
       "  'end': 50,\n",
       "  'text': '엄청',\n",
       "  'token_features': {'semantic': '성분부사|정도부사',\n",
       "   'has_jongseong': True,\n",
       "   'reading': '엄청',\n",
       "   'type': None,\n",
       "   'start_pos': None,\n",
       "   'end_pos': None,\n",
       "   'expression': None,\n",
       "   '_pos': 'MAG',\n",
       "   '_space': False}},\n",
       " {'DocId': '20210303-160540-893659',\n",
       "  'offset': 26,\n",
       "  'start': 51,\n",
       "  'end': 52,\n",
       "  'text': '좋',\n",
       "  'token_features': {'semantic': None,\n",
       "   'has_jongseong': True,\n",
       "   'reading': '좋',\n",
       "   'type': None,\n",
       "   'start_pos': None,\n",
       "   'end_pos': None,\n",
       "   'expression': None,\n",
       "   '_pos': 'VA',\n",
       "   '_space': False}},\n",
       " {'DocId': '20210303-160540-893659',\n",
       "  'offset': 27,\n",
       "  'start': 52,\n",
       "  'end': 54,\n",
       "  'text': '아요',\n",
       "  'token_features': {'semantic': None,\n",
       "   'has_jongseong': False,\n",
       "   'reading': '아요',\n",
       "   'type': None,\n",
       "   'start_pos': None,\n",
       "   'end_pos': None,\n",
       "   'expression': None,\n",
       "   '_pos': 'EF',\n",
       "   '_space': False}},\n",
       " {'DocId': '20210303-160540-893659',\n",
       "  'offset': 28,\n",
       "  'start': 55,\n",
       "  'end': 57,\n",
       "  'text': '사진',\n",
       "  'token_features': {'semantic': None,\n",
       "   'has_jongseong': True,\n",
       "   'reading': '사진',\n",
       "   'type': None,\n",
       "   'start_pos': None,\n",
       "   'end_pos': None,\n",
       "   'expression': None,\n",
       "   '_pos': 'NNG',\n",
       "   '_space': False}},\n",
       " {'DocId': '20210303-160540-893659',\n",
       "  'offset': 29,\n",
       "  'start': 57,\n",
       "  'end': 58,\n",
       "  'text': '에',\n",
       "  'token_features': {'semantic': None,\n",
       "   'has_jongseong': False,\n",
       "   'reading': '에',\n",
       "   'type': None,\n",
       "   'start_pos': None,\n",
       "   'end_pos': None,\n",
       "   'expression': None,\n",
       "   '_pos': 'JKB',\n",
       "   '_space': False}},\n",
       " {'DocId': '20210303-160540-893659',\n",
       "  'offset': 30,\n",
       "  'start': 59,\n",
       "  'end': 61,\n",
       "  'text': '나온',\n",
       "  'token_features': {'semantic': None,\n",
       "   'has_jongseong': True,\n",
       "   'reading': '나온',\n",
       "   'type': 'Inflect',\n",
       "   'start_pos': 'VV',\n",
       "   'end_pos': 'ETM',\n",
       "   'expression': '나오/VV/*+ᆫ/ETM/*',\n",
       "   '_pos': 'VV+ETM',\n",
       "   '_space': False}},\n",
       " {'DocId': '20210303-160540-893659',\n",
       "  'offset': 31,\n",
       "  'start': 62,\n",
       "  'end': 64,\n",
       "  'text': '색상',\n",
       "  'token_features': {'semantic': None,\n",
       "   'has_jongseong': True,\n",
       "   'reading': '색상',\n",
       "   'type': None,\n",
       "   'start_pos': None,\n",
       "   'end_pos': None,\n",
       "   'expression': None,\n",
       "   '_pos': 'NNG',\n",
       "   '_space': False}},\n",
       " {'DocId': '20210303-160540-893659',\n",
       "  'offset': 32,\n",
       "  'start': 64,\n",
       "  'end': 65,\n",
       "  'text': '이',\n",
       "  'token_features': {'semantic': None,\n",
       "   'has_jongseong': False,\n",
       "   'reading': '이',\n",
       "   'type': None,\n",
       "   'start_pos': None,\n",
       "   'end_pos': None,\n",
       "   'expression': None,\n",
       "   '_pos': 'JKS',\n",
       "   '_space': False}},\n",
       " {'DocId': '20210303-160540-893659',\n",
       "  'offset': 33,\n",
       "  'start': 66,\n",
       "  'end': 68,\n",
       "  'text': '실제',\n",
       "  'token_features': {'semantic': None,\n",
       "   'has_jongseong': False,\n",
       "   'reading': '실제',\n",
       "   'type': None,\n",
       "   'start_pos': None,\n",
       "   'end_pos': None,\n",
       "   'expression': None,\n",
       "   '_pos': 'NNG',\n",
       "   '_space': False}},\n",
       " {'DocId': '20210303-160540-893659',\n",
       "  'offset': 34,\n",
       "  'start': 69,\n",
       "  'end': 71,\n",
       "  'text': '색상',\n",
       "  'token_features': {'semantic': None,\n",
       "   'has_jongseong': True,\n",
       "   'reading': '색상',\n",
       "   'type': None,\n",
       "   'start_pos': None,\n",
       "   'end_pos': None,\n",
       "   'expression': None,\n",
       "   '_pos': 'NNG',\n",
       "   '_space': False}},\n",
       " {'DocId': '20210303-160540-893659',\n",
       "  'offset': 35,\n",
       "  'start': 71,\n",
       "  'end': 72,\n",
       "  'text': '과',\n",
       "  'token_features': {'semantic': None,\n",
       "   'has_jongseong': False,\n",
       "   'reading': '과',\n",
       "   'type': None,\n",
       "   'start_pos': None,\n",
       "   'end_pos': None,\n",
       "   'expression': None,\n",
       "   '_pos': 'JKB',\n",
       "   '_space': False}},\n",
       " {'DocId': '20210303-160540-893659',\n",
       "  'offset': 36,\n",
       "  'start': 73,\n",
       "  'end': 75,\n",
       "  'text': '제일',\n",
       "  'token_features': {'semantic': None,\n",
       "   'has_jongseong': True,\n",
       "   'reading': '제일',\n",
       "   'type': None,\n",
       "   'start_pos': None,\n",
       "   'end_pos': None,\n",
       "   'expression': None,\n",
       "   '_pos': 'MAG',\n",
       "   '_space': False}},\n",
       " {'DocId': '20210303-160540-893659',\n",
       "  'offset': 37,\n",
       "  'start': 76,\n",
       "  'end': 78,\n",
       "  'text': '흡사',\n",
       "  'token_features': {'semantic': '문장부사|양상부사',\n",
       "   'has_jongseong': False,\n",
       "   'reading': '흡사',\n",
       "   'type': None,\n",
       "   'start_pos': None,\n",
       "   'end_pos': None,\n",
       "   'expression': None,\n",
       "   '_pos': 'MAG',\n",
       "   '_space': False}},\n",
       " {'DocId': '20210303-160540-893659',\n",
       "  'offset': 38,\n",
       "  'start': 78,\n",
       "  'end': 81,\n",
       "  'text': '합니다',\n",
       "  'token_features': {'semantic': None,\n",
       "   'has_jongseong': False,\n",
       "   'reading': '합니다',\n",
       "   'type': 'Inflect',\n",
       "   'start_pos': 'XSA',\n",
       "   'end_pos': 'EF',\n",
       "   'expression': '하/XSA/*+ᄇ니다/EF/*',\n",
       "   '_pos': 'XSA+EF',\n",
       "   '_space': False}},\n",
       " {'DocId': '20210303-160540-893659',\n",
       "  'offset': 39,\n",
       "  'start': 81,\n",
       "  'end': 82,\n",
       "  'text': '.',\n",
       "  'token_features': {'semantic': None,\n",
       "   'has_jongseong': None,\n",
       "   'reading': None,\n",
       "   'type': None,\n",
       "   'start_pos': None,\n",
       "   'end_pos': None,\n",
       "   'expression': None,\n",
       "   '_pos': 'SF',\n",
       "   '_space': False}},\n",
       " {'DocId': '20210303-160540-893659',\n",
       "  'offset': 40,\n",
       "  'start': 82,\n",
       "  'end': 83,\n",
       "  'text': '.',\n",
       "  'token_features': {'semantic': None,\n",
       "   'has_jongseong': None,\n",
       "   'reading': None,\n",
       "   'type': None,\n",
       "   'start_pos': None,\n",
       "   'end_pos': None,\n",
       "   'expression': None,\n",
       "   '_pos': 'SY',\n",
       "   '_space': False}},\n",
       " {'DocId': '20210303-160540-893659',\n",
       "  'offset': 41,\n",
       "  'start': 84,\n",
       "  'end': 88,\n",
       "  'text': '여름뮤트',\n",
       "  'token_features': {'semantic': None,\n",
       "   'has_jongseong': None,\n",
       "   'reading': None,\n",
       "   'type': None,\n",
       "   'start_pos': None,\n",
       "   'end_pos': None,\n",
       "   'expression': None,\n",
       "   '_pos': 'KEYPHRASE',\n",
       "   '_space': None}},\n",
       " {'DocId': '20210303-160540-893659',\n",
       "  'offset': 43,\n",
       "  'start': 88,\n",
       "  'end': 89,\n",
       "  'text': '나',\n",
       "  'token_features': {'semantic': None,\n",
       "   'has_jongseong': False,\n",
       "   'reading': '나',\n",
       "   'type': None,\n",
       "   'start_pos': None,\n",
       "   'end_pos': None,\n",
       "   'expression': None,\n",
       "   '_pos': 'JC',\n",
       "   '_space': False}},\n",
       " {'DocId': '20210303-160540-893659',\n",
       "  'offset': 44,\n",
       "  'start': 90,\n",
       "  'end': 92,\n",
       "  'text': '쿨톤',\n",
       "  'token_features': {'semantic': None,\n",
       "   'has_jongseong': True,\n",
       "   'reading': '쿨톤',\n",
       "   'type': 'Compound',\n",
       "   'start_pos': None,\n",
       "   'end_pos': None,\n",
       "   'expression': '쿨/NNG/+톤/NNG/',\n",
       "   '_pos': 'NNG',\n",
       "   '_space': False}},\n",
       " {'DocId': '20210303-160540-893659',\n",
       "  'offset': 45,\n",
       "  'start': 92,\n",
       "  'end': 93,\n",
       "  'text': '인',\n",
       "  'token_features': {'semantic': None,\n",
       "   'has_jongseong': True,\n",
       "   'reading': '인',\n",
       "   'type': 'Inflect',\n",
       "   'start_pos': 'VCP',\n",
       "   'end_pos': 'ETM',\n",
       "   'expression': '이/VCP/*+ᆫ/ETM/*',\n",
       "   '_pos': 'VCP+ETM',\n",
       "   '_space': False}},\n",
       " {'DocId': '20210303-160540-893659',\n",
       "  'offset': 46,\n",
       "  'start': 94,\n",
       "  'end': 95,\n",
       "  'text': '분',\n",
       "  'token_features': {'semantic': None,\n",
       "   'has_jongseong': True,\n",
       "   'reading': '분',\n",
       "   'type': None,\n",
       "   'start_pos': None,\n",
       "   'end_pos': None,\n",
       "   'expression': None,\n",
       "   '_pos': 'NNB',\n",
       "   '_space': False}},\n",
       " {'DocId': '20210303-160540-893659',\n",
       "  'offset': 47,\n",
       "  'start': 95,\n",
       "  'end': 96,\n",
       "  'text': '들',\n",
       "  'token_features': {'semantic': None,\n",
       "   'has_jongseong': True,\n",
       "   'reading': '들',\n",
       "   'type': None,\n",
       "   'start_pos': None,\n",
       "   'end_pos': None,\n",
       "   'expression': None,\n",
       "   '_pos': 'XSN',\n",
       "   '_space': False}},\n",
       " {'DocId': '20210303-160540-893659',\n",
       "  'offset': 48,\n",
       "  'start': 96,\n",
       "  'end': 97,\n",
       "  'text': '이',\n",
       "  'token_features': {'semantic': None,\n",
       "   'has_jongseong': False,\n",
       "   'reading': '이',\n",
       "   'type': None,\n",
       "   'start_pos': None,\n",
       "   'end_pos': None,\n",
       "   'expression': None,\n",
       "   '_pos': 'JKS',\n",
       "   '_space': False}},\n",
       " {'DocId': '20210303-160540-893659',\n",
       "  'offset': 49,\n",
       "  'start': 98,\n",
       "  'end': 99,\n",
       "  'text': '쓰',\n",
       "  'token_features': {'semantic': None,\n",
       "   'has_jongseong': False,\n",
       "   'reading': '쓰',\n",
       "   'type': None,\n",
       "   'start_pos': None,\n",
       "   'end_pos': None,\n",
       "   'expression': None,\n",
       "   '_pos': 'VV',\n",
       "   '_space': False}},\n",
       " {'DocId': '20210303-160540-893659',\n",
       "  'offset': 50,\n",
       "  'start': 99,\n",
       "  'end': 100,\n",
       "  'text': '기',\n",
       "  'token_features': {'semantic': None,\n",
       "   'has_jongseong': False,\n",
       "   'reading': '기',\n",
       "   'type': None,\n",
       "   'start_pos': None,\n",
       "   'end_pos': None,\n",
       "   'expression': None,\n",
       "   '_pos': 'ETN',\n",
       "   '_space': False}},\n",
       " {'DocId': '20210303-160540-893659',\n",
       "  'offset': 51,\n",
       "  'start': 100,\n",
       "  'end': 101,\n",
       "  'text': '에',\n",
       "  'token_features': {'semantic': None,\n",
       "   'has_jongseong': False,\n",
       "   'reading': '에',\n",
       "   'type': None,\n",
       "   'start_pos': None,\n",
       "   'end_pos': None,\n",
       "   'expression': None,\n",
       "   '_pos': 'JKB',\n",
       "   '_space': False}},\n",
       " {'DocId': '20210303-160540-893659',\n",
       "  'offset': 52,\n",
       "  'start': 102,\n",
       "  'end': 103,\n",
       "  'text': '좋',\n",
       "  'token_features': {'semantic': None,\n",
       "   'has_jongseong': True,\n",
       "   'reading': '좋',\n",
       "   'type': None,\n",
       "   'start_pos': None,\n",
       "   'end_pos': None,\n",
       "   'expression': None,\n",
       "   '_pos': 'VA',\n",
       "   '_space': False}},\n",
       " {'DocId': '20210303-160540-893659',\n",
       "  'offset': 53,\n",
       "  'start': 103,\n",
       "  'end': 104,\n",
       "  'text': '을',\n",
       "  'token_features': {'semantic': None,\n",
       "   'has_jongseong': True,\n",
       "   'reading': '을',\n",
       "   'type': None,\n",
       "   'start_pos': None,\n",
       "   'end_pos': None,\n",
       "   'expression': None,\n",
       "   '_pos': 'ETM',\n",
       "   '_space': False}},\n",
       " {'DocId': '20210303-160540-893659',\n",
       "  'offset': 54,\n",
       "  'start': 105,\n",
       "  'end': 106,\n",
       "  'text': '것',\n",
       "  'token_features': {'semantic': None,\n",
       "   'has_jongseong': True,\n",
       "   'reading': '것',\n",
       "   'type': None,\n",
       "   'start_pos': None,\n",
       "   'end_pos': None,\n",
       "   'expression': None,\n",
       "   '_pos': 'NNB',\n",
       "   '_space': False}},\n",
       " {'DocId': '20210303-160540-893659',\n",
       "  'offset': 55,\n",
       "  'start': 107,\n",
       "  'end': 108,\n",
       "  'text': '같',\n",
       "  'token_features': {'semantic': None,\n",
       "   'has_jongseong': True,\n",
       "   'reading': '같',\n",
       "   'type': None,\n",
       "   'start_pos': None,\n",
       "   'end_pos': None,\n",
       "   'expression': None,\n",
       "   '_pos': 'VA',\n",
       "   '_space': False}},\n",
       " {'DocId': '20210303-160540-893659',\n",
       "  'offset': 56,\n",
       "  'start': 108,\n",
       "  'end': 110,\n",
       "  'text': '아요',\n",
       "  'token_features': {'semantic': None,\n",
       "   'has_jongseong': False,\n",
       "   'reading': '아요',\n",
       "   'type': None,\n",
       "   'start_pos': None,\n",
       "   'end_pos': None,\n",
       "   'expression': None,\n",
       "   '_pos': 'EC',\n",
       "   '_space': False}}]"
      ]
     },
     "execution_count": 14,
     "metadata": {},
     "output_type": "execute_result"
    }
   ],
   "source": [
    "dump['Tokens']"
   ]
  },
  {
   "cell_type": "code",
   "execution_count": null,
   "metadata": {},
   "outputs": [],
   "source": []
  },
  {
   "cell_type": "code",
   "execution_count": 8,
   "metadata": {},
   "outputs": [],
   "source": [
    "tmp = Doc2.from_dict(dump)"
   ]
  },
  {
   "cell_type": "code",
   "execution_count": 19,
   "metadata": {},
   "outputs": [],
   "source": [
    "tmp"
   ]
  },
  {
   "cell_type": "code",
   "execution_count": 14,
   "metadata": {},
   "outputs": [
    {
     "ename": "AttributeError",
     "evalue": "'NoneType' object has no attribute 'Id'",
     "output_type": "error",
     "traceback": [
      "\u001b[0;31m\u001b[0m",
      "\u001b[0;31mAttributeError\u001b[0mTraceback (most recent call last)",
      "\u001b[0;32m<ipython-input-14-cd6e0066d363>\u001b[0m in \u001b[0;36m<module>\u001b[0;34m\u001b[0m\n\u001b[0;32m----> 1\u001b[0;31m \u001b[0mtmp\u001b[0m\u001b[0;34m.\u001b[0m\u001b[0mId\u001b[0m\u001b[0;34m\u001b[0m\u001b[0;34m\u001b[0m\u001b[0m\n\u001b[0m",
      "\u001b[0;31mAttributeError\u001b[0m: 'NoneType' object has no attribute 'Id'"
     ]
    }
   ],
   "source": [
    "tmp.Id"
   ]
  },
  {
   "cell_type": "code",
   "execution_count": null,
   "metadata": {},
   "outputs": [],
   "source": []
  },
  {
   "cell_type": "code",
   "execution_count": null,
   "metadata": {},
   "outputs": [],
   "source": [
    "import json\n",
    "import dataclasses\n",
    "from dataclasses import dataclass,field\n",
    "from typing import Dict, List, Optional, Union\n"
   ]
  },
  {
   "cell_type": "code",
   "execution_count": null,
   "metadata": {},
   "outputs": [],
   "source": []
  },
  {
   "cell_type": "code",
   "execution_count": 5,
   "metadata": {},
   "outputs": [
    {
     "data": {
      "text/plain": [
       "['사랑', '미래', '행복']"
      ]
     },
     "execution_count": 5,
     "metadata": {},
     "output_type": "execute_result"
    }
   ],
   "source": [
    "tokenizer.preprocessor.hashtag.findall('#사랑 #미래 #행복')"
   ]
  },
  {
   "cell_type": "code",
   "execution_count": null,
   "metadata": {},
   "outputs": [],
   "source": []
  },
  {
   "cell_type": "code",
   "execution_count": 11,
   "metadata": {},
   "outputs": [
    {
     "data": {
      "text/plain": [
       "True"
      ]
     },
     "execution_count": 11,
     "metadata": {},
     "output_type": "execute_result"
    }
   ],
   "source": [
    "tokenizer(doc).update_feature({})"
   ]
  },
  {
   "cell_type": "code",
   "execution_count": 7,
   "metadata": {},
   "outputs": [],
   "source": [
    "import unicodedata"
   ]
  },
  {
   "cell_type": "code",
   "execution_count": 16,
   "metadata": {},
   "outputs": [
    {
     "data": {
      "text/plain": [
       "True"
      ]
     },
     "execution_count": 16,
     "metadata": {},
     "output_type": "execute_result"
    }
   ],
   "source": [
    "'잠깐' == unicodedata.normalize('NFKC', '잠깐')"
   ]
  },
  {
   "cell_type": "code",
   "execution_count": 20,
   "metadata": {},
   "outputs": [
    {
     "data": {
      "text/plain": [
       "44032"
      ]
     },
     "execution_count": 20,
     "metadata": {},
     "output_type": "execute_result"
    }
   ],
   "source": [
    "ord('가')"
   ]
  },
  {
   "cell_type": "code",
   "execution_count": 14,
   "metadata": {},
   "outputs": [
    {
     "data": {
      "text/plain": [
       "128519"
      ]
     },
     "execution_count": 14,
     "metadata": {},
     "output_type": "execute_result"
    }
   ],
   "source": [
    "ord(unicodedata.normalize('NFKC', '😇'))"
   ]
  },
  {
   "cell_type": "code",
   "execution_count": 13,
   "metadata": {},
   "outputs": [
    {
     "data": {
      "text/plain": [
       "128519"
      ]
     },
     "execution_count": 13,
     "metadata": {},
     "output_type": "execute_result"
    }
   ],
   "source": [
    "ord('😇')"
   ]
  },
  {
   "cell_type": "code",
   "execution_count": 27,
   "metadata": {},
   "outputs": [
    {
     "data": {
      "text/plain": [
       "'ᅵ'"
      ]
     },
     "execution_count": 27,
     "metadata": {},
     "output_type": "execute_result"
    }
   ],
   "source": [
    "unicodedata.normalize('NFKC', 'ㅣ')"
   ]
  },
  {
   "cell_type": "code",
   "execution_count": 24,
   "metadata": {},
   "outputs": [
    {
     "data": {
      "text/plain": [
       "12593"
      ]
     },
     "execution_count": 24,
     "metadata": {},
     "output_type": "execute_result"
    }
   ],
   "source": [
    "ord('ㄱ')"
   ]
  },
  {
   "cell_type": "code",
   "execution_count": 25,
   "metadata": {},
   "outputs": [
    {
     "data": {
      "text/plain": [
       "12643"
      ]
     },
     "execution_count": 25,
     "metadata": {},
     "output_type": "execute_result"
    }
   ],
   "source": [
    "ord('ㅣ')"
   ]
  },
  {
   "cell_type": "code",
   "execution_count": 6,
   "metadata": {},
   "outputs": [
    {
     "data": {
      "text/plain": [
       "[('😇', 'SY')]"
      ]
     },
     "execution_count": 6,
     "metadata": {},
     "output_type": "execute_result"
    }
   ],
   "source": [
    "tokenizer.mecab.pos('😇')"
   ]
  },
  {
   "cell_type": "code",
   "execution_count": 8,
   "metadata": {},
   "outputs": [
    {
     "data": {
      "text/plain": [
       "'ᅲᅲᅲ'"
      ]
     },
     "execution_count": 8,
     "metadata": {},
     "output_type": "execute_result"
    }
   ],
   "source": []
  },
  {
   "cell_type": "code",
   "execution_count": 9,
   "metadata": {},
   "outputs": [
    {
     "data": {
      "text/plain": [
       "''"
      ]
     },
     "execution_count": 9,
     "metadata": {},
     "output_type": "execute_result"
    }
   ],
   "source": [
    "KoPreprocessing().normalize_korean_pattern(unicodedata.normalize('NFKC', 'ㅠㅠㅠ'))"
   ]
  },
  {
   "cell_type": "code",
   "execution_count": 10,
   "metadata": {},
   "outputs": [
    {
     "data": {
      "text/plain": [
       "'ㅠㅠㅠㅠ'"
      ]
     },
     "execution_count": 10,
     "metadata": {},
     "output_type": "execute_result"
    }
   ],
   "source": [
    "tokenizer.preprocessor.normalize_korean_pattern('ㅠㅠㅠㅠ')"
   ]
  },
  {
   "cell_type": "code",
   "execution_count": 14,
   "metadata": {},
   "outputs": [],
   "source": [
    "from src.textanalyzer import KoPreprocessing"
   ]
  },
  {
   "cell_type": "code",
   "execution_count": 3,
   "metadata": {},
   "outputs": [],
   "source": [
    "preprocessor = KoPreprocessing()"
   ]
  },
  {
   "cell_type": "code",
   "execution_count": 4,
   "metadata": {},
   "outputs": [
    {
     "data": {
      "text/plain": [
       "'ㅜㅜ 엄'"
      ]
     },
     "execution_count": 4,
     "metadata": {},
     "output_type": "execute_result"
    }
   ],
   "source": [
    "preprocessor.normalize_korean_pattern('ㅜㅜ 엄')"
   ]
  },
  {
   "cell_type": "code",
   "execution_count": 10,
   "metadata": {
    "collapsed": true,
    "jupyter": {
     "outputs_hidden": true
    }
   },
   "outputs": [
    {
     "data": {
      "text/plain": [
       "[('색상', 'NNG'),\n",
       " ('너무', 'MAG'),\n",
       " ('잘', 'MAG'),\n",
       " ('뽑힌', 'VV+ETM'),\n",
       " ('것', 'NNB'),\n",
       " ('같', 'VA'),\n",
       " ('아요', 'EF'),\n",
       " ('ㅠㅠ', 'UNKNOWN'),\n",
       " ('웜', 'NNG'),\n",
       " ('하', 'XSV'),\n",
       " ('지', 'EC'),\n",
       " ('도', 'JX'),\n",
       " ('않', 'VX'),\n",
       " ('고', 'EC'),\n",
       " ('너무', 'MAG'),\n",
       " ('쿨', 'NNG'),\n",
       " ('하', 'XSV'),\n",
       " ('지', 'EC'),\n",
       " ('도', 'JX'),\n",
       " ('않', 'VX'),\n",
       " ('고', 'EC'),\n",
       " ('적절', 'XR'),\n",
       " ('합니다', 'XSA+EF'),\n",
       " ('발색', 'NNG'),\n",
       " ('도', 'JX'),\n",
       " ('엄청', 'MAG'),\n",
       " ('좋', 'VA'),\n",
       " ('아요', 'EF'),\n",
       " ('사진', 'NNG'),\n",
       " ('에', 'JKB'),\n",
       " ('나온', 'VV+ETM'),\n",
       " ('색상', 'NNG'),\n",
       " ('이', 'JKS'),\n",
       " ('실제', 'NNG'),\n",
       " ('색상', 'NNG'),\n",
       " ('과', 'JKB'),\n",
       " ('제일', 'MAG'),\n",
       " ('흡사', 'MAG'),\n",
       " ('합니다', 'XSA+EF'),\n",
       " ('.', 'SF'),\n",
       " ('.', 'SY'),\n",
       " ('여름', 'NNG'),\n",
       " ('뮤', 'NNG'),\n",
       " ('트', 'NNG'),\n",
       " ('나', 'JC'),\n",
       " ('쿨톤', 'NNG'),\n",
       " ('인', 'VCP+ETM'),\n",
       " ('분', 'NNB'),\n",
       " ('들', 'XSN'),\n",
       " ('이', 'JKS'),\n",
       " ('쓰', 'VV'),\n",
       " ('기', 'ETN'),\n",
       " ('에', 'JKB'),\n",
       " ('좋', 'VA'),\n",
       " ('을', 'ETM'),\n",
       " ('것', 'NNB'),\n",
       " ('같', 'VA'),\n",
       " ('아요', 'EC')]"
      ]
     },
     "execution_count": 10,
     "metadata": {},
     "output_type": "execute_result"
    }
   ],
   "source": [
    "tokenizer.mecab.pos(doc)"
   ]
  },
  {
   "cell_type": "code",
   "execution_count": 15,
   "metadata": {},
   "outputs": [],
   "source": [
    "import unicodedata"
   ]
  },
  {
   "cell_type": "code",
   "execution_count": 17,
   "metadata": {},
   "outputs": [],
   "source": [
    "from soynlp.normalizer import repeat_normalize"
   ]
  },
  {
   "cell_type": "code",
   "execution_count": 20,
   "metadata": {},
   "outputs": [],
   "source": [
    "import re\n",
    "html = re.compile(\"<(\\\"[^\\\"]*\\\"|'[^']*'|[^'\\\">])*>\")\n",
    "if html.search(doc) != None: # html js 처리\n",
    "    soup = BeautifulSoup(doc, \"lxml\")\n",
    "    for script in soup([\"script\", \"style\"]):\n",
    "        script.decompose()\n",
    "    doc = soup.get_text()"
   ]
  },
  {
   "cell_type": "code",
   "execution_count": 22,
   "metadata": {},
   "outputs": [],
   "source": [
    "from src.textanalyzer import KoPreprocessing"
   ]
  },
  {
   "cell_type": "code",
   "execution_count": 23,
   "metadata": {},
   "outputs": [],
   "source": [
    "preprocessor = KoPreprocessing()"
   ]
  },
  {
   "cell_type": "code",
   "execution_count": 24,
   "metadata": {},
   "outputs": [
    {
     "data": {
      "text/plain": [
       "'색상 너무 잘뽑힌 것 같아요 ㅠㅠ 웜하지도 않고 너무 쿨하지도 않고 적절합니다 발색도 엄청 좋아요 사진에 나온 색상이 실제 색상과 제일 흡사합니다.. 여름뮤트나 쿨톤인 분들이 쓰기에 좋을 것 같아요'"
      ]
     },
     "execution_count": 24,
     "metadata": {},
     "output_type": "execute_result"
    }
   ],
   "source": [
    "preprocessor.normalize_korean_pattern(doc)"
   ]
  },
  {
   "cell_type": "code",
   "execution_count": null,
   "metadata": {},
   "outputs": [],
   "source": []
  },
  {
   "cell_type": "code",
   "execution_count": 28,
   "metadata": {},
   "outputs": [
    {
     "data": {
      "text/plain": [
       "'색상 너무 잘뽑힌 것 같아요 ㅠㅠ 웜하지도 않고 너무 쿨하지도 않고 적절합니다 발색도 엄청 좋아요 사진에 나온 색상이 실제 색상과 제일 흡사합니다.. 여름뮤트나 쿨톤인 분들이 쓰기에 좋을 것 같아요'"
      ]
     },
     "execution_count": 28,
     "metadata": {},
     "output_type": "execute_result"
    }
   ],
   "source": [
    "repeat_normalize(doc, 3)"
   ]
  },
  {
   "cell_type": "code",
   "execution_count": 16,
   "metadata": {},
   "outputs": [
    {
     "data": {
      "text/plain": [
       "'색상 너무 잘뽑힌 것 같아요 ᅲᅲ 웜하지도 않고 너무 쿨하지도 않고 적절합니다 발색도 엄청 좋아요 사진에 나온 색상이 실제 색상과 제일 흡사합니다.. 여름뮤트나 쿨톤인 분들이 쓰기에 좋을 것 같아요'"
      ]
     },
     "execution_count": 16,
     "metadata": {},
     "output_type": "execute_result"
    }
   ],
   "source": [
    "unicodedata.normalize('NFKC', doc)"
   ]
  },
  {
   "cell_type": "code",
   "execution_count": 25,
   "metadata": {},
   "outputs": [
    {
     "data": {
      "text/plain": [
       "'색상 너무 잘뽑힌 것 같아요 웜하지도 않고 너무 쿨하지도 않고 적절합니다 발색도 엄청 좋아요 사진에 나온 색상이 실제 색상과 제일 흡사합니다.. 여름뮤트나 쿨톤인 분들이 쓰기에 좋을 것 같아요'"
      ]
     },
     "execution_count": 25,
     "metadata": {},
     "output_type": "execute_result"
    }
   ],
   "source": [
    "tokenizer._normalize(doc)"
   ]
  },
  {
   "cell_type": "code",
   "execution_count": 12,
   "metadata": {},
   "outputs": [
    {
     "data": {
      "text/plain": [
       "[('색상', 'NNG', 0, 2),\n",
       " ('너무', 'MAG', 3, 5),\n",
       " ('잘', 'MAG', 6, 7),\n",
       " ('뽑힌', 'VV+ETM', 7, 9),\n",
       " ('것', 'NNB', 10, 11),\n",
       " ('같', 'VA', 12, 13),\n",
       " ('아요', 'EF', 13, 15),\n",
       " ('웜', 'NNG', 16, 17),\n",
       " ('하', 'XSV', 17, 18),\n",
       " ('지', 'EC', 18, 19),\n",
       " ('도', 'JX', 19, 20),\n",
       " ('않', 'VX', 21, 22),\n",
       " ('고', 'EC', 22, 23),\n",
       " ('너무', 'MAG', 24, 26),\n",
       " ('쿨', 'NNG', 27, 28),\n",
       " ('하', 'XSV', 28, 29),\n",
       " ('지', 'EC', 29, 30),\n",
       " ('도', 'JX', 30, 31),\n",
       " ('않', 'VX', 32, 33),\n",
       " ('고', 'EC', 33, 34),\n",
       " ('적절', 'XR', 35, 37),\n",
       " ('합니다', 'XSA+EF', 37, 40),\n",
       " ('발색', 'NNG', 41, 43),\n",
       " ('도', 'JX', 43, 44),\n",
       " ('엄청', 'MAG', 45, 47),\n",
       " ('좋', 'VA', 48, 49),\n",
       " ('아요', 'EF', 49, 51),\n",
       " ('사진', 'NNG', 52, 54),\n",
       " ('에', 'JKB', 54, 55),\n",
       " ('나온', 'VV+ETM', 56, 58),\n",
       " ('색상', 'NNG', 59, 61),\n",
       " ('이', 'JKS', 61, 62),\n",
       " ('실제', 'NNG', 63, 65),\n",
       " ('색상', 'NNG', 66, 68),\n",
       " ('과', 'JKB', 68, 69),\n",
       " ('제일', 'MAG', 70, 72),\n",
       " ('흡사', 'MAG', 73, 75),\n",
       " ('합니다', 'XSA+EF', 75, 78),\n",
       " ('.', 'SF', 78, 79),\n",
       " ('.', 'SY', 79, 80),\n",
       " ('여름', 'NNG', 81, 83),\n",
       " ('뮤', 'NNG', 83, 84),\n",
       " ('트', 'NNG', 84, 85),\n",
       " ('나', 'JC', 85, 86),\n",
       " ('쿨톤', 'NNG', 87, 89),\n",
       " ('인', 'VCP+ETM', 89, 90),\n",
       " ('분', 'NNB', 91, 92),\n",
       " ('들', 'XSN', 92, 93),\n",
       " ('이', 'JKS', 93, 94),\n",
       " ('쓰', 'VV', 95, 96),\n",
       " ('기', 'ETN', 96, 97),\n",
       " ('에', 'JKB', 97, 98),\n",
       " ('좋', 'VA', 99, 100),\n",
       " ('을', 'ETM', 100, 101),\n",
       " ('것', 'NNB', 102, 103),\n",
       " ('같', 'VA', 104, 105),\n",
       " ('아요', 'EC', 105, 107)]"
      ]
     },
     "execution_count": 12,
     "metadata": {},
     "output_type": "execute_result"
    }
   ],
   "source": [
    "[(tok.text, tok._pos, tok.start, tok.end) for tok in tokenizer(doc, use_rtk=False)]"
   ]
  },
  {
   "cell_type": "code",
   "execution_count": null,
   "metadata": {},
   "outputs": [],
   "source": []
  },
  {
   "cell_type": "code",
   "execution_count": 3,
   "metadata": {},
   "outputs": [
    {
     "ename": "NameError",
     "evalue": "name 'doc' is not defined",
     "output_type": "error",
     "traceback": [
      "\u001b[0;31m\u001b[0m",
      "\u001b[0;31mNameError\u001b[0mTraceback (most recent call last)",
      "\u001b[0;32m<ipython-input-3-9e9bf5dd9a72>\u001b[0m in \u001b[0;36m<module>\u001b[0;34m\u001b[0m\n\u001b[0;32m----> 1\u001b[0;31m \u001b[0mprint\u001b[0m\u001b[0;34m(\u001b[0m\u001b[0;34m[\u001b[0m\u001b[0mtok\u001b[0m\u001b[0;34m.\u001b[0m\u001b[0mtext\u001b[0m \u001b[0;32mfor\u001b[0m \u001b[0mtok\u001b[0m \u001b[0;32min\u001b[0m \u001b[0mtokenizer\u001b[0m\u001b[0;34m(\u001b[0m\u001b[0mdoc\u001b[0m\u001b[0;34m)\u001b[0m \u001b[0;32mif\u001b[0m \u001b[0mtok\u001b[0m\u001b[0;34m.\u001b[0m\u001b[0m_pos\u001b[0m \u001b[0;32min\u001b[0m \u001b[0;34m{\u001b[0m\u001b[0;34m'KEYPHRASE'\u001b[0m\u001b[0;34m,\u001b[0m \u001b[0;34m'NNG'\u001b[0m\u001b[0;34m,\u001b[0m \u001b[0;34m'NNP'\u001b[0m\u001b[0;34m}\u001b[0m\u001b[0;34m]\u001b[0m\u001b[0;34m)\u001b[0m\u001b[0;34m\u001b[0m\u001b[0;34m\u001b[0m\u001b[0m\n\u001b[0m",
      "\u001b[0;31mNameError\u001b[0m: name 'doc' is not defined"
     ]
    }
   ],
   "source": [
    "print([tok.text for tok in tokenizer(doc) if tok._pos in {'KEYPHRASE', 'NNG', 'NNP'}])"
   ]
  },
  {
   "cell_type": "code",
   "execution_count": null,
   "metadata": {},
   "outputs": [],
   "source": [
    "toke"
   ]
  },
  {
   "cell_type": "code",
   "execution_count": null,
   "metadata": {},
   "outputs": [],
   "source": []
  },
  {
   "cell_type": "code",
   "execution_count": null,
   "metadata": {},
   "outputs": [],
   "source": []
  },
  {
   "cell_type": "raw",
   "metadata": {},
   "source": [
    "tokenizer.mecab.parse('유분기운이 많아')"
   ]
  },
  {
   "cell_type": "code",
   "execution_count": 6,
   "metadata": {},
   "outputs": [
    {
     "data": {
      "text/plain": [
       "[('웜톤',\n",
       "  Feature(pos='NNG', semantic=None, has_jongseong=True, reading='웜톤', type='Compound', start_pos=None, end_pos=None, expression='웜/NNG/+톤/NNG/'))]"
      ]
     },
     "execution_count": 6,
     "metadata": {},
     "output_type": "execute_result"
    }
   ],
   "source": [
    "tokenizer.mecab.parse('웜톤')"
   ]
  },
  {
   "cell_type": "markdown",
   "metadata": {},
   "source": [
    "---"
   ]
  },
  {
   "cell_type": "code",
   "execution_count": 5,
   "metadata": {},
   "outputs": [
    {
     "data": {
      "text/plain": [
       "['프로바이오틱']"
      ]
     },
     "execution_count": 5,
     "metadata": {},
     "output_type": "execute_result"
    }
   ],
   "source": [
    "tokenizer.kpe.extract_keywords('프로바이오틱스랑 함꼐 먹으니까 좋아요~')"
   ]
  },
  {
   "cell_type": "code",
   "execution_count": 19,
   "metadata": {},
   "outputs": [
    {
     "data": {
      "text/plain": [
       "'프로바이오틱스랑 함꼐 먹으니까 좋아요~'"
      ]
     },
     "execution_count": 19,
     "metadata": {},
     "output_type": "execute_result"
    }
   ],
   "source": []
  },
  {
   "cell_type": "code",
   "execution_count": 20,
   "metadata": {},
   "outputs": [
    {
     "data": {
      "text/plain": [
       "[('녹차향',\n",
       "  Feature(pos='NNG', semantic=None, has_jongseong=True, reading='녹차향', type='Compound', start_pos=None, end_pos=None, expression='녹차/NNG/+향/NNG/')),\n",
       " ('이',\n",
       "  Feature(pos='JKS', semantic=None, has_jongseong=False, reading='이', type=None, start_pos=None, end_pos=None, expression=None)),\n",
       " ('진동',\n",
       "  Feature(pos='NNG', semantic=None, has_jongseong=True, reading='진동', type=None, start_pos=None, end_pos=None, expression=None)),\n",
       " ('한다',\n",
       "  Feature(pos='XSV+EC', semantic=None, has_jongseong=False, reading='한다', type='Inflect', start_pos='XSV', end_pos='EC', expression='하/XSV/*+ᆫ다/EC/*'))]"
      ]
     },
     "execution_count": 20,
     "metadata": {},
     "output_type": "execute_result"
    }
   ],
   "source": [
    "tokenizer.mecab.parse('녹차향이 진동한다')"
   ]
  },
  {
   "cell_type": "code",
   "execution_count": 15,
   "metadata": {},
   "outputs": [
    {
     "data": {
      "text/plain": [
       "[('틱', 'NNG'), ('스', 'XSN')]"
      ]
     },
     "execution_count": 15,
     "metadata": {},
     "output_type": "execute_result"
    }
   ],
   "source": [
    "tokenizer.mecab.pos('틱스')"
   ]
  },
  {
   "cell_type": "code",
   "execution_count": 23,
   "metadata": {},
   "outputs": [
    {
     "data": {
      "text/plain": [
       "[('티', 'NNG'),\n",
       " ('존', 'NNP'),\n",
       " ('이', 'JKS'),\n",
       " ('난다', 'VV+EC'),\n",
       " ('상했', 'VV+EP'),\n",
       " ('어', 'EC')]"
      ]
     },
     "execution_count": 23,
     "metadata": {},
     "output_type": "execute_result"
    }
   ],
   "source": [
    "tokenizer.mecab.pos('티존이 난다 상했어')"
   ]
  },
  {
   "cell_type": "code",
   "execution_count": 25,
   "metadata": {},
   "outputs": [
    {
     "data": {
      "text/plain": [
       "Doc(Id='20210302-164354-988845', text='티존에', Tokens=[Token(DocId='20210302-164354-988845', offset=0, start=0, end=2, text='티존'), Token(DocId='20210302-164354-988845', offset=2, start=2, end=3, text='에')])"
      ]
     },
     "execution_count": 25,
     "metadata": {},
     "output_type": "execute_result"
    }
   ],
   "source": [
    "tokenizer('티존에')"
   ]
  },
  {
   "cell_type": "code",
   "execution_count": 2,
   "metadata": {},
   "outputs": [],
   "source": [
    "from mecab import MeCab"
   ]
  },
  {
   "cell_type": "code",
   "execution_count": 3,
   "metadata": {},
   "outputs": [
    {
     "ename": "TypeError",
     "evalue": "pybind11::init(): factory function returned nullptr",
     "output_type": "error",
     "traceback": [
      "\u001b[0;31m\u001b[0m",
      "\u001b[0;31mTypeError\u001b[0mTraceback (most recent call last)",
      "\u001b[0;32m<ipython-input-3-ed716c4efa36>\u001b[0m in \u001b[0;36m<module>\u001b[0;34m\u001b[0m\n\u001b[0;32m----> 1\u001b[0;31m \u001b[0mmecab\u001b[0m \u001b[0;34m=\u001b[0m \u001b[0mMeCab\u001b[0m\u001b[0;34m(\u001b[0m\u001b[0mdicpath\u001b[0m\u001b[0;34m=\u001b[0m\u001b[0;34m'/root/custom_dict/ap_custom_dict.csv'\u001b[0m\u001b[0;34m)\u001b[0m\u001b[0;34m\u001b[0m\u001b[0;34m\u001b[0m\u001b[0m\n\u001b[0m",
      "\u001b[0;32m/usr/local/lib/python3.7/dist-packages/mecab/mecab.py\u001b[0m in \u001b[0;36m__init__\u001b[0;34m(self, dicpath)\u001b[0m\n\u001b[1;32m     51\u001b[0m             \u001b[0margument\u001b[0m \u001b[0;34m=\u001b[0m \u001b[0;34m'-d %s'\u001b[0m \u001b[0;34m%\u001b[0m \u001b[0mdicpath\u001b[0m\u001b[0;34m\u001b[0m\u001b[0;34m\u001b[0m\u001b[0m\n\u001b[1;32m     52\u001b[0m \u001b[0;34m\u001b[0m\u001b[0m\n\u001b[0;32m---> 53\u001b[0;31m         \u001b[0mself\u001b[0m\u001b[0;34m.\u001b[0m\u001b[0mtagger\u001b[0m \u001b[0;34m=\u001b[0m \u001b[0m_mecab\u001b[0m\u001b[0;34m.\u001b[0m\u001b[0mTagger\u001b[0m\u001b[0;34m(\u001b[0m\u001b[0margument\u001b[0m\u001b[0;34m)\u001b[0m\u001b[0;34m\u001b[0m\u001b[0;34m\u001b[0m\u001b[0m\n\u001b[0m\u001b[1;32m     54\u001b[0m \u001b[0;34m\u001b[0m\u001b[0m\n\u001b[1;32m     55\u001b[0m     \u001b[0;32mdef\u001b[0m \u001b[0mparse\u001b[0m\u001b[0;34m(\u001b[0m\u001b[0mself\u001b[0m\u001b[0;34m,\u001b[0m \u001b[0msentence\u001b[0m\u001b[0;34m)\u001b[0m\u001b[0;34m:\u001b[0m\u001b[0;34m\u001b[0m\u001b[0;34m\u001b[0m\u001b[0m\n",
      "\u001b[0;31mTypeError\u001b[0m: pybind11::init(): factory function returned nullptr"
     ]
    }
   ],
   "source": [
    "mecab = MeCab(dicpath='/root/custom_dict/ap_custom_dict.csv')"
   ]
  },
  {
   "cell_type": "code",
   "execution_count": 8,
   "metadata": {},
   "outputs": [
    {
     "ename": "TypeError",
     "evalue": "pybind11::init(): factory function returned nullptr",
     "output_type": "error",
     "traceback": [
      "\u001b[0;31m\u001b[0m",
      "\u001b[0;31mTypeError\u001b[0mTraceback (most recent call last)",
      "\u001b[0;32m<ipython-input-8-ac9379d53b7b>\u001b[0m in \u001b[0;36m<module>\u001b[0;34m\u001b[0m\n\u001b[0;32m----> 1\u001b[0;31m \u001b[0mMeCab\u001b[0m\u001b[0;34m(\u001b[0m\u001b[0mdicpath\u001b[0m\u001b[0;34m=\u001b[0m\u001b[0;34m'/root/custom_dict/ap_custom_dict.csv'\u001b[0m\u001b[0;34m)\u001b[0m\u001b[0;34m\u001b[0m\u001b[0;34m\u001b[0m\u001b[0m\n\u001b[0m",
      "\u001b[0;32m/usr/local/lib/python3.7/dist-packages/mecab/mecab.py\u001b[0m in \u001b[0;36m__init__\u001b[0;34m(self, dicpath)\u001b[0m\n\u001b[1;32m     51\u001b[0m             \u001b[0margument\u001b[0m \u001b[0;34m=\u001b[0m \u001b[0;34m'-d %s'\u001b[0m \u001b[0;34m%\u001b[0m \u001b[0mdicpath\u001b[0m\u001b[0;34m\u001b[0m\u001b[0;34m\u001b[0m\u001b[0m\n\u001b[1;32m     52\u001b[0m \u001b[0;34m\u001b[0m\u001b[0m\n\u001b[0;32m---> 53\u001b[0;31m         \u001b[0mself\u001b[0m\u001b[0;34m.\u001b[0m\u001b[0mtagger\u001b[0m \u001b[0;34m=\u001b[0m \u001b[0m_mecab\u001b[0m\u001b[0;34m.\u001b[0m\u001b[0mTagger\u001b[0m\u001b[0;34m(\u001b[0m\u001b[0margument\u001b[0m\u001b[0;34m)\u001b[0m\u001b[0;34m\u001b[0m\u001b[0;34m\u001b[0m\u001b[0m\n\u001b[0m\u001b[1;32m     54\u001b[0m \u001b[0;34m\u001b[0m\u001b[0m\n\u001b[1;32m     55\u001b[0m     \u001b[0;32mdef\u001b[0m \u001b[0mparse\u001b[0m\u001b[0;34m(\u001b[0m\u001b[0mself\u001b[0m\u001b[0;34m,\u001b[0m \u001b[0msentence\u001b[0m\u001b[0;34m)\u001b[0m\u001b[0;34m:\u001b[0m\u001b[0;34m\u001b[0m\u001b[0;34m\u001b[0m\u001b[0m\n",
      "\u001b[0;31mTypeError\u001b[0m: pybind11::init(): factory function returned nullptr"
     ]
    }
   ],
   "source": [
    "MeCab(dicpath='/root/custom_dict/ap_custom_dict.csv')"
   ]
  },
  {
   "cell_type": "code",
   "execution_count": null,
   "metadata": {},
   "outputs": [],
   "source": []
  },
  {
   "cell_type": "code",
   "execution_count": null,
   "metadata": {},
   "outputs": [],
   "source": []
  },
  {
   "cell_type": "code",
   "execution_count": null,
   "metadata": {},
   "outputs": [],
   "source": []
  },
  {
   "cell_type": "code",
   "execution_count": null,
   "metadata": {},
   "outputs": [],
   "source": []
  },
  {
   "cell_type": "code",
   "execution_count": 3,
   "metadata": {},
   "outputs": [],
   "source": [
    "from pathlib import Path"
   ]
  },
  {
   "cell_type": "code",
   "execution_count": 4,
   "metadata": {},
   "outputs": [],
   "source": [
    "path = Path('/root/custom_dict/')"
   ]
  },
  {
   "cell_type": "code",
   "execution_count": 8,
   "metadata": {},
   "outputs": [
    {
     "data": {
      "text/plain": [
       "'/root/custom_dict/ap_custom_dict.csv'"
      ]
     },
     "execution_count": 8,
     "metadata": {},
     "output_type": "execute_result"
    }
   ],
   "source": [
    "str(list(path.glob('*.csv'))[0])"
   ]
  },
  {
   "cell_type": "code",
   "execution_count": 17,
   "metadata": {
    "collapsed": true,
    "jupyter": {
     "outputs_hidden": true
    }
   },
   "outputs": [
    {
     "data": {
      "text/plain": [
       "[('블랙쿠션', 'KEYPHARSE'),\n",
       " ('써', 'VV+EC'),\n",
       " ('보', 'VX'),\n",
       " ('고', 'EC'),\n",
       " ('좋', 'VA'),\n",
       " ('아서', 'EC'),\n",
       " ('파운데이션', 'NNG'),\n",
       " ('도', 'JX'),\n",
       " ('구매', 'NNG'),\n",
       " ('해', 'XSV+EC'),\n",
       " ('봤', 'VX+EP'),\n",
       " ('어요', 'EF'),\n",
       " ('적당히', 'MAG'),\n",
       " ('매트', 'NNG'),\n",
       " ('하', 'XSV'),\n",
       " ('고', 'EC'),\n",
       " ('커버', 'NNG'),\n",
       " ('도', 'JX'),\n",
       " ('잘', 'MAG'),\n",
       " ('되', 'VV'),\n",
       " ('고', 'EC'),\n",
       " ('요', 'MM'),\n",
       " ('홍조', 'NNG'),\n",
       " ('도', 'JX'),\n",
       " ('가려', 'VV+EC'),\n",
       " ('줘서', 'VX+EC'),\n",
       " ('좋', 'VA'),\n",
       " ('아요', 'EF'),\n",
       " ('!', 'SF'),\n",
       " ('!', 'SF')]"
      ]
     },
     "execution_count": 17,
     "metadata": {},
     "output_type": "execute_result"
    }
   ],
   "source": [
    "[(tok.text, tok._pos) for tok in tokenizer('블랙쿠션 써보고 좋아서 파운데이션도 구매해봤어요 적당히 매트하고 커버도 잘 되고요 홍조도 가려줘서 좋아요!!').Tokens]"
   ]
  },
  {
   "cell_type": "code",
   "execution_count": 16,
   "metadata": {},
   "outputs": [
    {
     "data": {
      "text/plain": [
       "[('티',\n",
       "  Feature(pos='NNG', semantic=None, has_jongseong=False, reading='티', type=None, start_pos=None, end_pos=None, expression=None)),\n",
       " ('존부',\n",
       "  Feature(pos='NNG', semantic=None, has_jongseong=False, reading='존부', type=None, start_pos=None, end_pos=None, expression=None)),\n",
       " ('위',\n",
       "  Feature(pos='NNG', semantic=None, has_jongseong=False, reading='위', type=None, start_pos=None, end_pos=None, expression=None)),\n",
       " ('가',\n",
       "  Feature(pos='JKS', semantic=None, has_jongseong=False, reading='가', type=None, start_pos=None, end_pos=None, expression=None)),\n",
       " ('상했',\n",
       "  Feature(pos='VV+EP', semantic=None, has_jongseong=True, reading='상했', type='Inflect', start_pos='VV', end_pos='EP', expression='상하/VV/*+았/EP/*')),\n",
       " ('어',\n",
       "  Feature(pos='EC', semantic=None, has_jongseong=False, reading='어', type=None, start_pos=None, end_pos=None, expression=None))]"
      ]
     },
     "execution_count": 16,
     "metadata": {},
     "output_type": "execute_result"
    }
   ],
   "source": [
    "tokenizer.mecab.parse('티존부위가 상했어')"
   ]
  },
  {
   "cell_type": "code",
   "execution_count": 5,
   "metadata": {},
   "outputs": [
    {
     "data": {
      "text/plain": [
       "[Token(DocId='20210302-132416-426713', offset=0, start=0, end=1, text='파'),\n",
       " Token(DocId='20210302-132416-426713', offset=1, start=1, end=2, text='데'),\n",
       " Token(DocId='20210302-132416-426713', offset=2, start=3, end=5, text='색상'),\n",
       " Token(DocId='20210302-132416-426713', offset=3, start=5, end=6, text='이')]"
      ]
     },
     "execution_count": 5,
     "metadata": {},
     "output_type": "execute_result"
    }
   ],
   "source": [
    "tokenizer('파데 색상이').Tokens"
   ]
  },
  {
   "cell_type": "code",
   "execution_count": 8,
   "metadata": {},
   "outputs": [
    {
     "data": {
      "text/plain": [
       "[Token(DocId='20210302-132506-000128', offset=0, start=0, end=1, text='센'),\n",
       " Token(DocId='20210302-132506-000128', offset=1, start=1, end=3, text='슈얼')]"
      ]
     },
     "execution_count": 8,
     "metadata": {},
     "output_type": "execute_result"
    }
   ],
   "source": [
    "tokenizer('센슈얼').Tokens"
   ]
  },
  {
   "cell_type": "code",
   "execution_count": 22,
   "metadata": {},
   "outputs": [
    {
     "data": {
      "text/plain": [
       "[Token(DocId='20210302-163317-712691', offset=0, start=0, end=4, text='블랙쿠션')]"
      ]
     },
     "execution_count": 22,
     "metadata": {},
     "output_type": "execute_result"
    }
   ],
   "source": [
    "tokenizer(spacing('블랙쿠션')).Tokens"
   ]
  },
  {
   "cell_type": "code",
   "execution_count": 9,
   "metadata": {},
   "outputs": [
    {
     "data": {
      "text/plain": [
       "[Token(DocId='20210302-132517-539500', offset=0, start=0, end=3, text='토마토'),\n",
       " Token(DocId='20210302-132517-539500', offset=1, start=3, end=5, text='색상')]"
      ]
     },
     "execution_count": 9,
     "metadata": {},
     "output_type": "execute_result"
    }
   ],
   "source": [
    "tokenizer('토마토색상').Tokens"
   ]
  },
  {
   "cell_type": "code",
   "execution_count": null,
   "metadata": {},
   "outputs": [],
   "source": []
  },
  {
   "cell_type": "code",
   "execution_count": 57,
   "metadata": {},
   "outputs": [
    {
     "ename": "AttributeError",
     "evalue": "'MecabTokenization' object has no attribute 'pos'",
     "output_type": "error",
     "traceback": [
      "\u001b[0;31m\u001b[0m",
      "\u001b[0;31mAttributeError\u001b[0mTraceback (most recent call last)",
      "\u001b[0;32m<ipython-input-57-bc7405984fe5>\u001b[0m in \u001b[0;36m<module>\u001b[0;34m\u001b[0m\n\u001b[0;32m----> 1\u001b[0;31m \u001b[0mmecab\u001b[0m\u001b[0;34m.\u001b[0m\u001b[0mpos\u001b[0m\u001b[0;34m(\u001b[0m\u001b[0;34m'티존부위가'\u001b[0m\u001b[0;34m)\u001b[0m\u001b[0;34m\u001b[0m\u001b[0;34m\u001b[0m\u001b[0m\n\u001b[0m",
      "\u001b[0;31mAttributeError\u001b[0m: 'MecabTokenization' object has no attribute 'pos'"
     ]
    }
   ],
   "source": [
    "mecab.pos('티존부위가')"
   ]
  },
  {
   "cell_type": "code",
   "execution_count": 12,
   "metadata": {},
   "outputs": [],
   "source": [
    "doc = mecab('워메     진       짜 이거 너무 예쁘네')"
   ]
  },
  {
   "cell_type": "code",
   "execution_count": 15,
   "metadata": {},
   "outputs": [],
   "source": [
    "from soynlp.normalizer import repeat_normalize"
   ]
  },
  {
   "cell_type": "code",
   "execution_count": 32,
   "metadata": {},
   "outputs": [
    {
     "data": {
      "text/plain": [
       "['워',\n",
       " '메',\n",
       " ' ',\n",
       " '진',\n",
       " ' ',\n",
       " '짜',\n",
       " ' ',\n",
       " '이',\n",
       " '거',\n",
       " ' ',\n",
       " '너',\n",
       " '무',\n",
       " ' ',\n",
       " '예',\n",
       " '쁘',\n",
       " '네']"
      ]
     },
     "execution_count": 32,
     "metadata": {},
     "output_type": "execute_result"
    }
   ],
   "source": [
    "list(repeat_normalize('워메    진       짜 이거 너무 예쁘네', num_repeats=3))"
   ]
  },
  {
   "cell_type": "code",
   "execution_count": 42,
   "metadata": {},
   "outputs": [
    {
     "data": {
      "text/plain": [
       "' '"
      ]
     },
     "execution_count": 42,
     "metadata": {},
     "output_type": "execute_result"
    }
   ],
   "source": [
    "doc.text[2]"
   ]
  },
  {
   "cell_type": "code",
   "execution_count": 43,
   "metadata": {},
   "outputs": [
    {
     "data": {
      "text/plain": [
       "' '"
      ]
     },
     "execution_count": 43,
     "metadata": {},
     "output_type": "execute_result"
    }
   ],
   "source": [
    "doc.text[4]"
   ]
  },
  {
   "cell_type": "code",
   "execution_count": 44,
   "metadata": {},
   "outputs": [
    {
     "data": {
      "text/plain": [
       "' '"
      ]
     },
     "execution_count": 44,
     "metadata": {},
     "output_type": "execute_result"
    }
   ],
   "source": [
    "doc.text[6]"
   ]
  },
  {
   "cell_type": "code",
   "execution_count": 45,
   "metadata": {},
   "outputs": [
    {
     "data": {
      "text/plain": [
       "' '"
      ]
     },
     "execution_count": 45,
     "metadata": {},
     "output_type": "execute_result"
    }
   ],
   "source": [
    "doc.text[9]"
   ]
  },
  {
   "cell_type": "code",
   "execution_count": 46,
   "metadata": {},
   "outputs": [
    {
     "data": {
      "text/plain": [
       "' '"
      ]
     },
     "execution_count": 46,
     "metadata": {},
     "output_type": "execute_result"
    }
   ],
   "source": [
    "doc.text[12]"
   ]
  },
  {
   "cell_type": "code",
   "execution_count": 47,
   "metadata": {},
   "outputs": [
    {
     "data": {
      "text/plain": [
       "'네'"
      ]
     },
     "execution_count": 47,
     "metadata": {},
     "output_type": "execute_result"
    }
   ],
   "source": [
    "doc.text[15]"
   ]
  },
  {
   "cell_type": "code",
   "execution_count": 54,
   "metadata": {},
   "outputs": [
    {
     "name": "stdout",
     "output_type": "stream",
     "text": [
      "202 ns ± 2.45 ns per loop (mean ± std. dev. of 7 runs, 1000000 loops each)\n"
     ]
    }
   ],
   "source": [
    "%%timeit\n",
    "doc.size"
   ]
  },
  {
   "cell_type": "code",
   "execution_count": 55,
   "metadata": {},
   "outputs": [
    {
     "name": "stdout",
     "output_type": "stream",
     "text": [
      "104 ns ± 5.64 ns per loop (mean ± std. dev. of 7 runs, 10000000 loops each)\n"
     ]
    }
   ],
   "source": [
    "%%timeit\n",
    "len(doc.text)"
   ]
  },
  {
   "cell_type": "code",
   "execution_count": 51,
   "metadata": {},
   "outputs": [
    {
     "data": {
      "text/plain": [
       "16"
      ]
     },
     "execution_count": 51,
     "metadata": {},
     "output_type": "execute_result"
    }
   ],
   "source": [
    "len(doc.text)"
   ]
  },
  {
   "cell_type": "code",
   "execution_count": 52,
   "metadata": {},
   "outputs": [
    {
     "data": {
      "text/plain": [
       "True"
      ]
     },
     "execution_count": 52,
     "metadata": {},
     "output_type": "execute_result"
    }
   ],
   "source": [
    "15 < len(doc.text)"
   ]
  },
  {
   "cell_type": "code",
   "execution_count": null,
   "metadata": {},
   "outputs": [],
   "source": []
  },
  {
   "cell_type": "code",
   "execution_count": 41,
   "metadata": {},
   "outputs": [
    {
     "data": {
      "text/plain": [
       "[2, 4, 6, 9, 12, 15, 16]"
      ]
     },
     "execution_count": 41,
     "metadata": {},
     "output_type": "execute_result"
    }
   ],
   "source": [
    "[tok.end for tok in doc.Tokens]"
   ]
  },
  {
   "cell_type": "code",
   "execution_count": 12,
   "metadata": {},
   "outputs": [
    {
     "data": {
      "text/plain": [
       "['워메', '진짜', '이거', '너무', '예쁘', '네']"
      ]
     },
     "execution_count": 12,
     "metadata": {},
     "output_type": "execute_result"
    }
   ],
   "source": [
    "[tok.text for tok in tokens]"
   ]
  },
  {
   "cell_type": "code",
   "execution_count": 10,
   "metadata": {},
   "outputs": [
    {
     "data": {
      "text/plain": [
       "'워메'"
      ]
     },
     "execution_count": 10,
     "metadata": {},
     "output_type": "execute_result"
    }
   ],
   "source": [
    "tokens[0].text"
   ]
  },
  {
   "cell_type": "code",
   "execution_count": 13,
   "metadata": {},
   "outputs": [],
   "source": [
    "import streamlit as st"
   ]
  },
  {
   "cell_type": "code",
   "execution_count": null,
   "metadata": {},
   "outputs": [],
   "source": [
    "st.text_area()"
   ]
  },
  {
   "cell_type": "code",
   "execution_count": 1,
   "metadata": {},
   "outputs": [],
   "source": [
    "from mecab import MeCab\n",
    "from src.textanalyzer import Doc, Token, Tokenization, TokenCandidateGeneration, KoPreprocessing\n",
    "\n",
    "import re\n",
    "import unicodedata\n",
    "from typing import List, Union, Tuple, Dict, Iterator\n",
    "from soynlp.normalizer import repeat_normalize\n",
    "\n",
    "from pathlib import Path\n",
    "\n",
    "from flashtext import KeywordProcessor"
   ]
  },
  {
   "cell_type": "code",
   "execution_count": 2,
   "metadata": {},
   "outputs": [],
   "source": [
    "class MecabTokenization(Tokenization):\n",
    "    def __call__(self, doc: Union[str, Dict], use_rtk:bool=True) -> Doc:\n",
    "        \"\"\"Mecab++ Tokenizer\n",
    "    \n",
    "        - Mecab with flashtext's keyphrase extraction.\n",
    "        - You can parse keypharse with use_rtk.\n",
    "        \n",
    "        Args:\n",
    "            doc: text \n",
    "            use_rtk: retokenization with extracted keyphrase.\n",
    "        \n",
    "        Returns:\n",
    "            doc: Textanalyzers.Doc class\n",
    "        \"\"\"\n",
    "        \n",
    "        doc = super().__call__(doc)\n",
    "        # from now on doc is Textanalyzers.Doc\n",
    "        if use_rtk:\n",
    "            doc = self._retokenize(doc)\n",
    "        return doc\n",
    "    \n",
    "    def __init__(self, custom_dir:str = None):\n",
    "        self.preprocessor = KoPreprocessing()\n",
    "        path = Path(custom_dir)\n",
    "        mecab_user_dict = list(path.glob('*.csv'))\n",
    "        str_match_dict = path.glob('*.txt')\n",
    "        \n",
    "        # init mecab custom dictionary\n",
    "        if mecab_user_dict:\n",
    "            self.mecab = MeCab(dicpath=mecab_user_dict[0])\n",
    "        else:\n",
    "            self.mecab = MeCab()\n",
    "            \n",
    "        # init kpe custom dictionary\n",
    "        self.kpe = KeywordProcessor()\n",
    "        for fn in str_match_dict:\n",
    "            self.kpe.add_keyword_from_file(fn)\n",
    "        \n",
    "    def _normalize(self, text: str) -> str:\n",
    "        # unicode normalization\n",
    "        text = unicodedata.normalize('NFKC', text)\n",
    "        \n",
    "        # eradicate html script\n",
    "        html = re.compile(\"<(\\\"[^\\\"]*\\\"|'[^']*'|[^'\\\">])*>\")\n",
    "        if html.search(text) != None: # html js 처리\n",
    "            soup = BeautifulSoup(text, \"lxml\")\n",
    "            for script in soup([\"script\", \"style\"]):\n",
    "                script.decompose()\n",
    "            text = soup.get_text()\n",
    "        \n",
    "        # chinese preprocessing format\n",
    "        text = self.preprocessor.normalize_korean_pattern(text)\n",
    "        \n",
    "        # normalize repeated pattern\n",
    "        text = repeat_normalize(text, num_repeats=3).strip()\n",
    "        return text\n",
    "    \n",
    "    def _preprocess(self, text: str) -> str:\n",
    "        text = self.preprocessor.rm_url(text)\n",
    "        text = self.preprocessor.rm_email(text)\n",
    "        text = self.preprocessor.rm_emoji(text)\n",
    "        text = self.preprocessor.rm_hashtag(text)\n",
    "        text = self.preprocessor.rm_mention(text)\n",
    "        text = self.preprocessor.rm_image(text)\n",
    "        return text.strip()\n",
    "    \n",
    "    def _tokenize(self, text: str) -> List:\n",
    "        return self.mecab.parse(text)\n",
    "    \n",
    "    def _postprocess(self, doc: List) -> List:\n",
    "        tokens = []\n",
    "        for token, parsed in doc:\n",
    "            feature = dict(parsed._asdict())\n",
    "            feature['_pos'] = feature.pop('pos')\n",
    "            tokens.append((token, feature))\n",
    "        return tokens\n",
    "\n",
    "    def _retokenize(self, doc:Doc) -> Doc:\n",
    "        \"\"\"토크나이즈된 Textanalyzers.Doc을 매칭된 문자열로 retokenize하는 프로세스\n",
    "        \n",
    "        - self.kpe로 사전에 등록된 keyphrase를 index와 함께 추출함.\n",
    "        - case 1) 기존 여러개로 쪼개진 토큰이 keyphrase로 하나의 큰 토큰으로 추출되는 경우...\n",
    "        -  \n",
    "        \"\"\"\n",
    "        keyphrases = self.kpe.extract_keywords(doc.text, span_info=True) # list of tuple\n",
    "        # keyphrases[0] ->  (keyphrase, start_index, end_index)\n",
    "        if keyphrases:\n",
    "            kpe_idx = 0\n",
    "            Tokens = []\n",
    "            for token in doc.Tokens:\n",
    "                if token.start == keyphrases[kpe_idx][1]:\n",
    "                    end = sum(map(lambda tok: tok.end if tok.end == keyphrases[kpe_idx][2] else 0, doc.Tokens[token.offset:]))\n",
    "                    if end != 0:\n",
    "                        tok = Token(\n",
    "                            DocId = token.DocId,\n",
    "                            offset = token.offset,\n",
    "                            start = token.start,\n",
    "                            end = end,\n",
    "                            text = keyphrases[kpe_idx][0]\n",
    "                        )\n",
    "                        feature = dict.fromkeys(token.features.keys())\n",
    "                        feature['_pos'] = 'KEYPHARSE'\n",
    "                        tok.update_feature(feature)\n",
    "                        Tokens.append(tok)\n",
    "                        if len(keyphrases) > kpe_idx+1:\n",
    "                            kpe_idx += 1\n",
    "                        continue\n",
    "                if (len(Tokens)==0) or (Tokens[-1].end < token.end):\n",
    "                    Tokens.append(token)\n",
    "            doc.Tokens = Tokens\n",
    "        return doc"
   ]
  },
  {
   "cell_type": "markdown",
   "metadata": {},
   "source": [
    "- mecab의 후처리 방식..."
   ]
  },
  {
   "cell_type": "code",
   "execution_count": 3,
   "metadata": {},
   "outputs": [],
   "source": [
    "tokenizer = MecabTokenization(custom_dir='/root/custom_dict')"
   ]
  },
  {
   "cell_type": "code",
   "execution_count": 4,
   "metadata": {},
   "outputs": [],
   "source": [
    "doc = \"\"\"당첨된 사람들 사이에서 이거 가방으로 맬 수 있냐 없냐가 구매 결정에 가장 중요한 문제 중 하나였는데 스트랩 연결해서 가방 맨 착샷도 보여주셨으면 아주 좋은 리뷰일 뻔 했네요 \n",
    "아쉽지만 잘봤습니다\"\"\""
   ]
  },
  {
   "cell_type": "code",
   "execution_count": 5,
   "metadata": {},
   "outputs": [],
   "source": [
    "result = tokenizer(doc)"
   ]
  },
  {
   "cell_type": "code",
   "execution_count": 6,
   "metadata": {},
   "outputs": [
    {
     "data": {
      "text/plain": [
       "{'semantic': None,\n",
       " 'has_jongseong': True,\n",
       " 'reading': '당첨',\n",
       " 'type': None,\n",
       " 'start_pos': None,\n",
       " 'end_pos': None,\n",
       " 'expression': None,\n",
       " '_pos': 'NNG'}"
      ]
     },
     "execution_count": 6,
     "metadata": {},
     "output_type": "execute_result"
    }
   ],
   "source": [
    "result.Tokens[0].features"
   ]
  },
  {
   "cell_type": "code",
   "execution_count": 12,
   "metadata": {},
   "outputs": [],
   "source": [
    "import json"
   ]
  },
  {
   "cell_type": "code",
   "execution_count": 15,
   "metadata": {},
   "outputs": [
    {
     "data": {
      "text/plain": [
       "13730"
      ]
     },
     "execution_count": 15,
     "metadata": {},
     "output_type": "execute_result"
    }
   ],
   "source": [
    "len(json.dumps(result.to_dict(), ensure_ascii=False))"
   ]
  },
  {
   "cell_type": "code",
   "execution_count": null,
   "metadata": {},
   "outputs": [],
   "source": []
  },
  {
   "cell_type": "code",
   "execution_count": null,
   "metadata": {},
   "outputs": [],
   "source": []
  },
  {
   "cell_type": "code",
   "execution_count": 26,
   "metadata": {},
   "outputs": [
    {
     "data": {
      "text/plain": [
       "'KEY'"
      ]
     },
     "execution_count": 26,
     "metadata": {},
     "output_type": "execute_result"
    }
   ],
   "source": [
    "result.Tokens[12]._pos"
   ]
  },
  {
   "cell_type": "code",
   "execution_count": null,
   "metadata": {},
   "outputs": [],
   "source": []
  },
  {
   "cell_type": "code",
   "execution_count": 8,
   "metadata": {},
   "outputs": [
    {
     "data": {
      "text/plain": [
       "{'semantic': None,\n",
       " 'has_jongseong': None,\n",
       " 'reading': None,\n",
       " 'type': None,\n",
       " 'start_pos': None,\n",
       " 'end_pos': None,\n",
       " 'expression': None,\n",
       " '_pos': 'SC'}"
      ]
     },
     "execution_count": 8,
     "metadata": {},
     "output_type": "execute_result"
    }
   ],
   "source": [
    "result.Tokens[11].features"
   ]
  },
  {
   "cell_type": "code",
   "execution_count": 14,
   "metadata": {},
   "outputs": [],
   "source": [
    "tmp = tokenizer.mecab.parse('이런 의심은 결국 확신이 된다.')"
   ]
  },
  {
   "cell_type": "code",
   "execution_count": 23,
   "metadata": {},
   "outputs": [],
   "source": [
    "from collections import OrderedDict"
   ]
  },
  {
   "cell_type": "code",
   "execution_count": 24,
   "metadata": {},
   "outputs": [
    {
     "ename": "ValueError",
     "evalue": "too many values to unpack (expected 2)",
     "output_type": "error",
     "traceback": [
      "\u001b[0;31m\u001b[0m",
      "\u001b[0;31mValueError\u001b[0mTraceback (most recent call last)",
      "\u001b[0;32m<ipython-input-24-dc48126fadb5>\u001b[0m in \u001b[0;36m<module>\u001b[0;34m\u001b[0m\n\u001b[0;32m----> 1\u001b[0;31m \u001b[0mOrderedDict\u001b[0m\u001b[0;34m(\u001b[0m\u001b[0mtmp\u001b[0m\u001b[0;34m[\u001b[0m\u001b[0;36m0\u001b[0m\u001b[0;34m]\u001b[0m\u001b[0;34m[\u001b[0m\u001b[0;36m1\u001b[0m\u001b[0;34m]\u001b[0m\u001b[0;34m)\u001b[0m\u001b[0;34m\u001b[0m\u001b[0;34m\u001b[0m\u001b[0m\n\u001b[0m",
      "\u001b[0;31mValueError\u001b[0m: too many values to unpack (expected 2)"
     ]
    }
   ],
   "source": [
    "OrderedDict(tmp[0][1])"
   ]
  },
  {
   "cell_type": "code",
   "execution_count": 13,
   "metadata": {},
   "outputs": [
    {
     "data": {
      "text/plain": [
       "{'semantic': None,\n",
       " 'has_jongseong': None,\n",
       " 'reading': None,\n",
       " 'type': None,\n",
       " 'start_pos': None,\n",
       " 'end_pos': None,\n",
       " 'expression': None,\n",
       " '_pos': 'SC'}"
      ]
     },
     "execution_count": 13,
     "metadata": {},
     "output_type": "execute_result"
    }
   ],
   "source": [
    "result.Tokens[11].features"
   ]
  },
  {
   "cell_type": "code",
   "execution_count": 22,
   "metadata": {},
   "outputs": [],
   "source": [
    "from LAC import LAC"
   ]
  },
  {
   "cell_type": "code",
   "execution_count": null,
   "metadata": {},
   "outputs": [],
   "source": []
  },
  {
   "cell_type": "code",
   "execution_count": 19,
   "metadata": {
    "collapsed": true,
    "jupyter": {
     "outputs_hidden": true
    }
   },
   "outputs": [
    {
     "data": {
      "text/plain": [
       "['대표',\n",
       " '적',\n",
       " '인',\n",
       " '성분',\n",
       " '으로',\n",
       " '아보',\n",
       " '벤존',\n",
       " '(',\n",
       " '파',\n",
       " '솔',\n",
       " '1789',\n",
       " ',',\n",
       " '부틸',\n",
       " '메',\n",
       " '톡',\n",
       " '시디',\n",
       " '벤조일',\n",
       " '메탄',\n",
       " '표기',\n",
       " ')',\n",
       " '[',\n",
       " '20',\n",
       " ']',\n",
       " ',',\n",
       " '옥티',\n",
       " '녹',\n",
       " '세이',\n",
       " '트',\n",
       " '(',\n",
       " '에',\n",
       " '칠',\n",
       " '헥',\n",
       " '실',\n",
       " '메',\n",
       " '톡',\n",
       " '시신',\n",
       " '나',\n",
       " '메이트',\n",
       " ')',\n",
       " '등',\n",
       " '이',\n",
       " '있',\n",
       " '다',\n",
       " '.',\n",
       " '2',\n",
       " '가지',\n",
       " '성분',\n",
       " '뿐',\n",
       " '이',\n",
       " '라',\n",
       " '알',\n",
       " '기',\n",
       " '쉬운',\n",
       " '물리',\n",
       " '적',\n",
       " '차단',\n",
       " '성분',\n",
       " '들',\n",
       " '에',\n",
       " '비해',\n",
       " '가짓수',\n",
       " '도',\n",
       " '다양',\n",
       " '하',\n",
       " '고',\n",
       " '그만큼',\n",
       " '차단',\n",
       " '범위',\n",
       " '도',\n",
       " '넓',\n",
       " '고',\n",
       " '조합',\n",
       " '하',\n",
       " '는',\n",
       " '성분',\n",
       " '구성',\n",
       " '도',\n",
       " '다양',\n",
       " '하',\n",
       " '다',\n",
       " '.',\n",
       " '국내',\n",
       " '에서',\n",
       " '가장',\n",
       " '많이',\n",
       " '사용',\n",
       " '되',\n",
       " '는',\n",
       " '것',\n",
       " '은',\n",
       " '아보',\n",
       " '벤존',\n",
       " '이',\n",
       " '아닌',\n",
       " '에',\n",
       " '칠',\n",
       " '헥',\n",
       " '실',\n",
       " '메',\n",
       " '톡',\n",
       " '시신',\n",
       " '나',\n",
       " '메이트',\n",
       " '인데',\n",
       " '이게',\n",
       " '참',\n",
       " '.',\n",
       " '..',\n",
       " '아보',\n",
       " '벤존',\n",
       " '은',\n",
       " '벤조페논',\n",
       " '계',\n",
       " '광',\n",
       " '증감제',\n",
       " '로',\n",
       " 'UVA',\n",
       " '파장',\n",
       " '일부',\n",
       " '를',\n",
       " '들뜬',\n",
       " '에너지',\n",
       " '상태',\n",
       " '로',\n",
       " '만들',\n",
       " '어',\n",
       " '내보낸다',\n",
       " '.',\n",
       " '즉',\n",
       " ',',\n",
       " 'UVA',\n",
       " '파장',\n",
       " '의',\n",
       " '전부',\n",
       " '는',\n",
       " '아닐지라도',\n",
       " '효과',\n",
       " '적',\n",
       " '으로',\n",
       " '차단',\n",
       " '한다',\n",
       " '.',\n",
       " '반',\n",
       " '대로',\n",
       " '에',\n",
       " '칠',\n",
       " '헥',\n",
       " '실',\n",
       " '메',\n",
       " '톡',\n",
       " '시신',\n",
       " '나',\n",
       " '메이트',\n",
       " '는',\n",
       " 'UVB',\n",
       " '파장',\n",
       " '에',\n",
       " '대해서',\n",
       " '만',\n",
       " '효과',\n",
       " '적',\n",
       " '으로',\n",
       " '반응',\n",
       " '하',\n",
       " '지',\n",
       " 'UVA',\n",
       " '에',\n",
       " '대해서',\n",
       " '는',\n",
       " '거의',\n",
       " '반응',\n",
       " '하',\n",
       " '지',\n",
       " '않',\n",
       " '는다',\n",
       " '.',\n",
       " '화장품',\n",
       " '업계',\n",
       " '나',\n",
       " '이른바',\n",
       " \"'\",\n",
       " '뷰티',\n",
       " '블로그',\n",
       " \"'\",\n",
       " '를',\n",
       " '자칭',\n",
       " '하',\n",
       " '는',\n",
       " '일각',\n",
       " '에서',\n",
       " '는',\n",
       " 'UVA',\n",
       " '도',\n",
       " '차단',\n",
       " '하',\n",
       " '는',\n",
       " '성분',\n",
       " '이',\n",
       " '라며',\n",
       " '광고',\n",
       " '한다',\n",
       " '.',\n",
       " '하지만',\n",
       " '과학',\n",
       " '을',\n",
       " '조금',\n",
       " '이',\n",
       " '라도',\n",
       " '공부',\n",
       " '한',\n",
       " '사람',\n",
       " '이',\n",
       " '라면',\n",
       " '이',\n",
       " '성분',\n",
       " '으로',\n",
       " '는',\n",
       " '제대로',\n",
       " '된',\n",
       " 'UVA',\n",
       " '차단',\n",
       " '효과',\n",
       " '를',\n",
       " '기대',\n",
       " '하',\n",
       " '기',\n",
       " '힘들',\n",
       " '다는',\n",
       " '걸',\n",
       " '알',\n",
       " '것',\n",
       " '이',\n",
       " '다',\n",
       " '.',\n",
       " '하지만',\n",
       " '사실',\n",
       " '소비자',\n",
       " '가',\n",
       " '선크림',\n",
       " '을',\n",
       " '살',\n",
       " '때',\n",
       " '에',\n",
       " '효능',\n",
       " '을',\n",
       " '따지',\n",
       " '기',\n",
       " '위해서',\n",
       " '성분',\n",
       " '을',\n",
       " '볼',\n",
       " '필요',\n",
       " '는',\n",
       " '없',\n",
       " '다',\n",
       " '.',\n",
       " 'SPF',\n",
       " '지수',\n",
       " '와',\n",
       " 'PA',\n",
       " '지수',\n",
       " '를',\n",
       " '표기',\n",
       " '하',\n",
       " '기',\n",
       " '때문',\n",
       " '.',\n",
       " '선크림',\n",
       " '을',\n",
       " '판매',\n",
       " '등록',\n",
       " '할',\n",
       " '때',\n",
       " '식',\n",
       " '약',\n",
       " '처',\n",
       " '에',\n",
       " '임상',\n",
       " '에',\n",
       " '따른',\n",
       " '차단',\n",
       " '지수',\n",
       " '를',\n",
       " '보',\n",
       " '고',\n",
       " '하',\n",
       " '고',\n",
       " '등록',\n",
       " '하',\n",
       " '기',\n",
       " '때문',\n",
       " '에',\n",
       " '소비자',\n",
       " '가',\n",
       " '화장품',\n",
       " '성분',\n",
       " '을',\n",
       " '보',\n",
       " '고',\n",
       " '자외선',\n",
       " '차단',\n",
       " '지수',\n",
       " '를',\n",
       " '추측',\n",
       " '할',\n",
       " '필요',\n",
       " '는',\n",
       " '없',\n",
       " '다',\n",
       " '.',\n",
       " '(',\n",
       " '만약',\n",
       " '표기',\n",
       " '된',\n",
       " '차단',\n",
       " '지수',\n",
       " '가',\n",
       " '다르',\n",
       " '면',\n",
       " '그건',\n",
       " '사기',\n",
       " '이',\n",
       " '므로',\n",
       " '그',\n",
       " '회사',\n",
       " '문',\n",
       " '닫',\n",
       " '는다',\n",
       " ')',\n",
       " '.',\n",
       " '화장품',\n",
       " '성분',\n",
       " '을',\n",
       " '볼',\n",
       " '때',\n",
       " '에',\n",
       " '는',\n",
       " '그',\n",
       " '유해',\n",
       " '성',\n",
       " '을',\n",
       " '따지',\n",
       " '거나',\n",
       " '나와',\n",
       " '맞',\n",
       " '지',\n",
       " '않',\n",
       " '는',\n",
       " '성분',\n",
       " '을',\n",
       " '찾',\n",
       " '을',\n",
       " '때',\n",
       " '이',\n",
       " '다',\n",
       " '.']"
      ]
     },
     "execution_count": 19,
     "metadata": {},
     "output_type": "execute_result"
    }
   ],
   "source": [
    "result[0]"
   ]
  },
  {
   "cell_type": "code",
   "execution_count": 20,
   "metadata": {
    "collapsed": true,
    "jupyter": {
     "outputs_hidden": true
    }
   },
   "outputs": [
    {
     "data": {
      "text/plain": [
       "[{'semantic': None,\n",
       "  'has_jongseong': False,\n",
       "  'reading': '대표',\n",
       "  'type': None,\n",
       "  'start_pos': None,\n",
       "  'end_pos': None,\n",
       "  'expression': None,\n",
       "  '_pos': 'NNG'},\n",
       " {'semantic': None,\n",
       "  'has_jongseong': True,\n",
       "  'reading': '적',\n",
       "  'type': None,\n",
       "  'start_pos': None,\n",
       "  'end_pos': None,\n",
       "  'expression': None,\n",
       "  '_pos': 'XSN'},\n",
       " {'semantic': None,\n",
       "  'has_jongseong': True,\n",
       "  'reading': '인',\n",
       "  'type': 'Inflect',\n",
       "  'start_pos': 'VCP',\n",
       "  'end_pos': 'ETM',\n",
       "  'expression': '이/VCP/*+ᆫ/ETM/*',\n",
       "  '_pos': 'VCP+ETM'},\n",
       " {'semantic': None,\n",
       "  'has_jongseong': True,\n",
       "  'reading': '성분',\n",
       "  'type': None,\n",
       "  'start_pos': None,\n",
       "  'end_pos': None,\n",
       "  'expression': None,\n",
       "  '_pos': 'NNG'},\n",
       " {'semantic': None,\n",
       "  'has_jongseong': False,\n",
       "  'reading': '으로',\n",
       "  'type': None,\n",
       "  'start_pos': None,\n",
       "  'end_pos': None,\n",
       "  'expression': None,\n",
       "  '_pos': 'JKB'},\n",
       " {'semantic': None,\n",
       "  'has_jongseong': False,\n",
       "  'reading': '아보',\n",
       "  'type': None,\n",
       "  'start_pos': None,\n",
       "  'end_pos': None,\n",
       "  'expression': None,\n",
       "  '_pos': 'NNG'},\n",
       " {'semantic': '인명',\n",
       "  'has_jongseong': True,\n",
       "  'reading': '벤존',\n",
       "  'type': None,\n",
       "  'start_pos': None,\n",
       "  'end_pos': None,\n",
       "  'expression': None,\n",
       "  '_pos': 'NNP'},\n",
       " {'semantic': None,\n",
       "  'has_jongseong': None,\n",
       "  'reading': None,\n",
       "  'type': None,\n",
       "  'start_pos': None,\n",
       "  'end_pos': None,\n",
       "  'expression': None,\n",
       "  '_pos': 'SSO'},\n",
       " {'semantic': None,\n",
       "  'has_jongseong': False,\n",
       "  'reading': '파',\n",
       "  'type': None,\n",
       "  'start_pos': None,\n",
       "  'end_pos': None,\n",
       "  'expression': None,\n",
       "  '_pos': 'NNG'},\n",
       " {'semantic': None,\n",
       "  'has_jongseong': True,\n",
       "  'reading': '솔',\n",
       "  'type': None,\n",
       "  'start_pos': None,\n",
       "  'end_pos': None,\n",
       "  'expression': None,\n",
       "  '_pos': 'NNG'},\n",
       " {'semantic': None,\n",
       "  'has_jongseong': None,\n",
       "  'reading': None,\n",
       "  'type': None,\n",
       "  'start_pos': None,\n",
       "  'end_pos': None,\n",
       "  'expression': None,\n",
       "  '_pos': 'SN'},\n",
       " {'semantic': None,\n",
       "  'has_jongseong': None,\n",
       "  'reading': None,\n",
       "  'type': None,\n",
       "  'start_pos': None,\n",
       "  'end_pos': None,\n",
       "  'expression': None,\n",
       "  '_pos': 'SC'},\n",
       " {'semantic': None,\n",
       "  'has_jongseong': True,\n",
       "  'reading': '부틸',\n",
       "  'type': None,\n",
       "  'start_pos': None,\n",
       "  'end_pos': None,\n",
       "  'expression': None,\n",
       "  '_pos': 'NNG'},\n",
       " {'semantic': None,\n",
       "  'has_jongseong': False,\n",
       "  'reading': '메',\n",
       "  'type': None,\n",
       "  'start_pos': None,\n",
       "  'end_pos': None,\n",
       "  'expression': None,\n",
       "  '_pos': 'NNG'},\n",
       " {'semantic': None,\n",
       "  'has_jongseong': True,\n",
       "  'reading': '톡',\n",
       "  'type': None,\n",
       "  'start_pos': None,\n",
       "  'end_pos': None,\n",
       "  'expression': None,\n",
       "  '_pos': 'NNG'},\n",
       " {'semantic': None,\n",
       "  'has_jongseong': False,\n",
       "  'reading': '시디',\n",
       "  'type': None,\n",
       "  'start_pos': None,\n",
       "  'end_pos': None,\n",
       "  'expression': None,\n",
       "  '_pos': 'NNG'},\n",
       " {'semantic': None,\n",
       "  'has_jongseong': True,\n",
       "  'reading': '벤조일',\n",
       "  'type': None,\n",
       "  'start_pos': None,\n",
       "  'end_pos': None,\n",
       "  'expression': None,\n",
       "  '_pos': 'NNG'},\n",
       " {'semantic': None,\n",
       "  'has_jongseong': True,\n",
       "  'reading': '메탄',\n",
       "  'type': None,\n",
       "  'start_pos': None,\n",
       "  'end_pos': None,\n",
       "  'expression': None,\n",
       "  '_pos': 'NNG'},\n",
       " {'semantic': None,\n",
       "  'has_jongseong': False,\n",
       "  'reading': '표기',\n",
       "  'type': None,\n",
       "  'start_pos': None,\n",
       "  'end_pos': None,\n",
       "  'expression': None,\n",
       "  '_pos': 'NNG'},\n",
       " {'semantic': None,\n",
       "  'has_jongseong': None,\n",
       "  'reading': None,\n",
       "  'type': None,\n",
       "  'start_pos': None,\n",
       "  'end_pos': None,\n",
       "  'expression': None,\n",
       "  '_pos': 'SSC'},\n",
       " {'semantic': None,\n",
       "  'has_jongseong': None,\n",
       "  'reading': None,\n",
       "  'type': None,\n",
       "  'start_pos': None,\n",
       "  'end_pos': None,\n",
       "  'expression': None,\n",
       "  '_pos': 'SSO'},\n",
       " {'semantic': None,\n",
       "  'has_jongseong': None,\n",
       "  'reading': None,\n",
       "  'type': None,\n",
       "  'start_pos': None,\n",
       "  'end_pos': None,\n",
       "  'expression': None,\n",
       "  '_pos': 'SN'},\n",
       " {'semantic': None,\n",
       "  'has_jongseong': None,\n",
       "  'reading': None,\n",
       "  'type': None,\n",
       "  'start_pos': None,\n",
       "  'end_pos': None,\n",
       "  'expression': None,\n",
       "  '_pos': 'SSC'},\n",
       " {'semantic': None,\n",
       "  'has_jongseong': None,\n",
       "  'reading': None,\n",
       "  'type': None,\n",
       "  'start_pos': None,\n",
       "  'end_pos': None,\n",
       "  'expression': None,\n",
       "  '_pos': 'SC'},\n",
       " {'semantic': None,\n",
       "  'has_jongseong': False,\n",
       "  'reading': '옥티',\n",
       "  'type': 'Compound',\n",
       "  'start_pos': None,\n",
       "  'end_pos': None,\n",
       "  'expression': '옥/NNG/*+티/NNG/*',\n",
       "  '_pos': 'NNG'},\n",
       " {'semantic': None,\n",
       "  'has_jongseong': True,\n",
       "  'reading': '녹',\n",
       "  'type': None,\n",
       "  'start_pos': None,\n",
       "  'end_pos': None,\n",
       "  'expression': None,\n",
       "  '_pos': 'NNG'},\n",
       " {'semantic': None,\n",
       "  'has_jongseong': False,\n",
       "  'reading': '세이',\n",
       "  'type': None,\n",
       "  'start_pos': None,\n",
       "  'end_pos': None,\n",
       "  'expression': None,\n",
       "  '_pos': 'NNG'},\n",
       " {'semantic': None,\n",
       "  'has_jongseong': False,\n",
       "  'reading': '트',\n",
       "  'type': None,\n",
       "  'start_pos': None,\n",
       "  'end_pos': None,\n",
       "  'expression': None,\n",
       "  '_pos': 'NNG'},\n",
       " {'semantic': None,\n",
       "  'has_jongseong': None,\n",
       "  'reading': None,\n",
       "  'type': None,\n",
       "  'start_pos': None,\n",
       "  'end_pos': None,\n",
       "  'expression': None,\n",
       "  '_pos': 'SSO'},\n",
       " {'semantic': None,\n",
       "  'has_jongseong': False,\n",
       "  'reading': '에',\n",
       "  'type': None,\n",
       "  'start_pos': None,\n",
       "  'end_pos': None,\n",
       "  'expression': None,\n",
       "  '_pos': 'JKB'},\n",
       " {'semantic': None,\n",
       "  'has_jongseong': True,\n",
       "  'reading': '칠',\n",
       "  'type': 'Inflect',\n",
       "  'start_pos': 'VV',\n",
       "  'end_pos': 'ETM',\n",
       "  'expression': '치/VV/*+ᆯ/ETM/*',\n",
       "  '_pos': 'VV+ETM'},\n",
       " {'semantic': None,\n",
       "  'has_jongseong': True,\n",
       "  'reading': '헥',\n",
       "  'type': None,\n",
       "  'start_pos': None,\n",
       "  'end_pos': None,\n",
       "  'expression': None,\n",
       "  '_pos': 'IC'},\n",
       " {'semantic': None,\n",
       "  'has_jongseong': True,\n",
       "  'reading': '실',\n",
       "  'type': None,\n",
       "  'start_pos': None,\n",
       "  'end_pos': None,\n",
       "  'expression': None,\n",
       "  '_pos': 'NNG'},\n",
       " {'semantic': None,\n",
       "  'has_jongseong': False,\n",
       "  'reading': '메',\n",
       "  'type': None,\n",
       "  'start_pos': None,\n",
       "  'end_pos': None,\n",
       "  'expression': None,\n",
       "  '_pos': 'NNG'},\n",
       " {'semantic': None,\n",
       "  'has_jongseong': True,\n",
       "  'reading': '톡',\n",
       "  'type': None,\n",
       "  'start_pos': None,\n",
       "  'end_pos': None,\n",
       "  'expression': None,\n",
       "  '_pos': 'NNG'},\n",
       " {'semantic': None,\n",
       "  'has_jongseong': True,\n",
       "  'reading': '시신',\n",
       "  'type': None,\n",
       "  'start_pos': None,\n",
       "  'end_pos': None,\n",
       "  'expression': None,\n",
       "  '_pos': 'NNG'},\n",
       " {'semantic': None,\n",
       "  'has_jongseong': False,\n",
       "  'reading': '나',\n",
       "  'type': None,\n",
       "  'start_pos': None,\n",
       "  'end_pos': None,\n",
       "  'expression': None,\n",
       "  '_pos': 'JC'},\n",
       " {'semantic': None,\n",
       "  'has_jongseong': False,\n",
       "  'reading': '메이트',\n",
       "  'type': None,\n",
       "  'start_pos': None,\n",
       "  'end_pos': None,\n",
       "  'expression': None,\n",
       "  '_pos': 'NNG'},\n",
       " {'semantic': None,\n",
       "  'has_jongseong': None,\n",
       "  'reading': None,\n",
       "  'type': None,\n",
       "  'start_pos': None,\n",
       "  'end_pos': None,\n",
       "  'expression': None,\n",
       "  '_pos': 'SSC'},\n",
       " {'semantic': None,\n",
       "  'has_jongseong': True,\n",
       "  'reading': '등',\n",
       "  'type': None,\n",
       "  'start_pos': None,\n",
       "  'end_pos': None,\n",
       "  'expression': None,\n",
       "  '_pos': 'NNB'},\n",
       " {'semantic': None,\n",
       "  'has_jongseong': False,\n",
       "  'reading': '이',\n",
       "  'type': None,\n",
       "  'start_pos': None,\n",
       "  'end_pos': None,\n",
       "  'expression': None,\n",
       "  '_pos': 'JKS'},\n",
       " {'semantic': None,\n",
       "  'has_jongseong': True,\n",
       "  'reading': '있',\n",
       "  'type': None,\n",
       "  'start_pos': None,\n",
       "  'end_pos': None,\n",
       "  'expression': None,\n",
       "  '_pos': 'VV'},\n",
       " {'semantic': None,\n",
       "  'has_jongseong': False,\n",
       "  'reading': '다',\n",
       "  'type': None,\n",
       "  'start_pos': None,\n",
       "  'end_pos': None,\n",
       "  'expression': None,\n",
       "  '_pos': 'EC'},\n",
       " {'semantic': None,\n",
       "  'has_jongseong': None,\n",
       "  'reading': None,\n",
       "  'type': None,\n",
       "  'start_pos': None,\n",
       "  'end_pos': None,\n",
       "  'expression': None,\n",
       "  '_pos': 'SY'},\n",
       " {'semantic': None,\n",
       "  'has_jongseong': None,\n",
       "  'reading': None,\n",
       "  'type': None,\n",
       "  'start_pos': None,\n",
       "  'end_pos': None,\n",
       "  'expression': None,\n",
       "  '_pos': 'SN'},\n",
       " {'semantic': None,\n",
       "  'has_jongseong': False,\n",
       "  'reading': '가지',\n",
       "  'type': None,\n",
       "  'start_pos': None,\n",
       "  'end_pos': None,\n",
       "  'expression': None,\n",
       "  '_pos': 'NNBC'},\n",
       " {'semantic': None,\n",
       "  'has_jongseong': True,\n",
       "  'reading': '성분',\n",
       "  'type': None,\n",
       "  'start_pos': None,\n",
       "  'end_pos': None,\n",
       "  'expression': None,\n",
       "  '_pos': 'NNG'},\n",
       " {'semantic': None,\n",
       "  'has_jongseong': True,\n",
       "  'reading': '뿐',\n",
       "  'type': None,\n",
       "  'start_pos': None,\n",
       "  'end_pos': None,\n",
       "  'expression': None,\n",
       "  '_pos': 'NNB'},\n",
       " {'semantic': None,\n",
       "  'has_jongseong': False,\n",
       "  'reading': '이',\n",
       "  'type': None,\n",
       "  'start_pos': None,\n",
       "  'end_pos': None,\n",
       "  'expression': None,\n",
       "  '_pos': 'VCP'},\n",
       " {'semantic': None,\n",
       "  'has_jongseong': False,\n",
       "  'reading': '라',\n",
       "  'type': None,\n",
       "  'start_pos': None,\n",
       "  'end_pos': None,\n",
       "  'expression': None,\n",
       "  '_pos': 'EC'},\n",
       " {'semantic': None,\n",
       "  'has_jongseong': True,\n",
       "  'reading': '알',\n",
       "  'type': None,\n",
       "  'start_pos': None,\n",
       "  'end_pos': None,\n",
       "  'expression': None,\n",
       "  '_pos': 'VV'},\n",
       " {'semantic': None,\n",
       "  'has_jongseong': False,\n",
       "  'reading': '기',\n",
       "  'type': None,\n",
       "  'start_pos': None,\n",
       "  'end_pos': None,\n",
       "  'expression': None,\n",
       "  '_pos': 'ETN'},\n",
       " {'semantic': None,\n",
       "  'has_jongseong': True,\n",
       "  'reading': '쉬운',\n",
       "  'type': 'Inflect',\n",
       "  'start_pos': 'VA',\n",
       "  'end_pos': 'ETM',\n",
       "  'expression': '쉽/VA/*+ᆫ/ETM/*',\n",
       "  '_pos': 'VA+ETM'},\n",
       " {'semantic': None,\n",
       "  'has_jongseong': False,\n",
       "  'reading': '물리',\n",
       "  'type': None,\n",
       "  'start_pos': None,\n",
       "  'end_pos': None,\n",
       "  'expression': None,\n",
       "  '_pos': 'NNG'},\n",
       " {'semantic': None,\n",
       "  'has_jongseong': True,\n",
       "  'reading': '적',\n",
       "  'type': None,\n",
       "  'start_pos': None,\n",
       "  'end_pos': None,\n",
       "  'expression': None,\n",
       "  '_pos': 'XSN'},\n",
       " {'semantic': '행위',\n",
       "  'has_jongseong': True,\n",
       "  'reading': '차단',\n",
       "  'type': None,\n",
       "  'start_pos': None,\n",
       "  'end_pos': None,\n",
       "  'expression': None,\n",
       "  '_pos': 'NNG'},\n",
       " {'semantic': None,\n",
       "  'has_jongseong': True,\n",
       "  'reading': '성분',\n",
       "  'type': None,\n",
       "  'start_pos': None,\n",
       "  'end_pos': None,\n",
       "  'expression': None,\n",
       "  '_pos': 'NNG'},\n",
       " {'semantic': None,\n",
       "  'has_jongseong': True,\n",
       "  'reading': '들',\n",
       "  'type': None,\n",
       "  'start_pos': None,\n",
       "  'end_pos': None,\n",
       "  'expression': None,\n",
       "  '_pos': 'XSN'},\n",
       " {'semantic': None,\n",
       "  'has_jongseong': False,\n",
       "  'reading': '에',\n",
       "  'type': None,\n",
       "  'start_pos': None,\n",
       "  'end_pos': None,\n",
       "  'expression': None,\n",
       "  '_pos': 'JKB'},\n",
       " {'semantic': None,\n",
       "  'has_jongseong': False,\n",
       "  'reading': '비해',\n",
       "  'type': 'Inflect',\n",
       "  'start_pos': 'VV',\n",
       "  'end_pos': 'EC',\n",
       "  'expression': '비하/VV/*+아/EC/*',\n",
       "  '_pos': 'VV+EC'},\n",
       " {'semantic': None,\n",
       "  'has_jongseong': False,\n",
       "  'reading': '가짓수',\n",
       "  'type': 'Compound',\n",
       "  'start_pos': None,\n",
       "  'end_pos': None,\n",
       "  'expression': '가짓/NNG/*+수/NNG/*',\n",
       "  '_pos': 'NNG'},\n",
       " {'semantic': None,\n",
       "  'has_jongseong': False,\n",
       "  'reading': '도',\n",
       "  'type': None,\n",
       "  'start_pos': None,\n",
       "  'end_pos': None,\n",
       "  'expression': None,\n",
       "  '_pos': 'JX'},\n",
       " {'semantic': None,\n",
       "  'has_jongseong': True,\n",
       "  'reading': '다양',\n",
       "  'type': None,\n",
       "  'start_pos': None,\n",
       "  'end_pos': None,\n",
       "  'expression': None,\n",
       "  '_pos': 'NNG'},\n",
       " {'semantic': None,\n",
       "  'has_jongseong': False,\n",
       "  'reading': '하',\n",
       "  'type': None,\n",
       "  'start_pos': None,\n",
       "  'end_pos': None,\n",
       "  'expression': None,\n",
       "  '_pos': 'XSV'},\n",
       " {'semantic': None,\n",
       "  'has_jongseong': False,\n",
       "  'reading': '고',\n",
       "  'type': None,\n",
       "  'start_pos': None,\n",
       "  'end_pos': None,\n",
       "  'expression': None,\n",
       "  '_pos': 'EC'},\n",
       " {'semantic': '성분부사|정도부사',\n",
       "  'has_jongseong': True,\n",
       "  'reading': '그만큼',\n",
       "  'type': None,\n",
       "  'start_pos': None,\n",
       "  'end_pos': None,\n",
       "  'expression': None,\n",
       "  '_pos': 'MAG'},\n",
       " {'semantic': '행위',\n",
       "  'has_jongseong': True,\n",
       "  'reading': '차단',\n",
       "  'type': None,\n",
       "  'start_pos': None,\n",
       "  'end_pos': None,\n",
       "  'expression': None,\n",
       "  '_pos': 'NNG'},\n",
       " {'semantic': None,\n",
       "  'has_jongseong': False,\n",
       "  'reading': '범위',\n",
       "  'type': None,\n",
       "  'start_pos': None,\n",
       "  'end_pos': None,\n",
       "  'expression': None,\n",
       "  '_pos': 'NNG'},\n",
       " {'semantic': None,\n",
       "  'has_jongseong': False,\n",
       "  'reading': '도',\n",
       "  'type': None,\n",
       "  'start_pos': None,\n",
       "  'end_pos': None,\n",
       "  'expression': None,\n",
       "  '_pos': 'JX'},\n",
       " {'semantic': None,\n",
       "  'has_jongseong': True,\n",
       "  'reading': '넓',\n",
       "  'type': None,\n",
       "  'start_pos': None,\n",
       "  'end_pos': None,\n",
       "  'expression': None,\n",
       "  '_pos': 'VA'},\n",
       " {'semantic': None,\n",
       "  'has_jongseong': False,\n",
       "  'reading': '고',\n",
       "  'type': None,\n",
       "  'start_pos': None,\n",
       "  'end_pos': None,\n",
       "  'expression': None,\n",
       "  '_pos': 'EC'},\n",
       " {'semantic': None,\n",
       "  'has_jongseong': True,\n",
       "  'reading': '조합',\n",
       "  'type': None,\n",
       "  'start_pos': None,\n",
       "  'end_pos': None,\n",
       "  'expression': None,\n",
       "  '_pos': 'NNG'},\n",
       " {'semantic': None,\n",
       "  'has_jongseong': False,\n",
       "  'reading': '하',\n",
       "  'type': None,\n",
       "  'start_pos': None,\n",
       "  'end_pos': None,\n",
       "  'expression': None,\n",
       "  '_pos': 'XSV'},\n",
       " {'semantic': None,\n",
       "  'has_jongseong': True,\n",
       "  'reading': '는',\n",
       "  'type': None,\n",
       "  'start_pos': None,\n",
       "  'end_pos': None,\n",
       "  'expression': None,\n",
       "  '_pos': 'ETM'},\n",
       " {'semantic': None,\n",
       "  'has_jongseong': True,\n",
       "  'reading': '성분',\n",
       "  'type': None,\n",
       "  'start_pos': None,\n",
       "  'end_pos': None,\n",
       "  'expression': None,\n",
       "  '_pos': 'NNG'},\n",
       " {'semantic': None,\n",
       "  'has_jongseong': True,\n",
       "  'reading': '구성',\n",
       "  'type': None,\n",
       "  'start_pos': None,\n",
       "  'end_pos': None,\n",
       "  'expression': None,\n",
       "  '_pos': 'NNG'},\n",
       " {'semantic': None,\n",
       "  'has_jongseong': False,\n",
       "  'reading': '도',\n",
       "  'type': None,\n",
       "  'start_pos': None,\n",
       "  'end_pos': None,\n",
       "  'expression': None,\n",
       "  '_pos': 'JX'},\n",
       " {'semantic': None,\n",
       "  'has_jongseong': True,\n",
       "  'reading': '다양',\n",
       "  'type': None,\n",
       "  'start_pos': None,\n",
       "  'end_pos': None,\n",
       "  'expression': None,\n",
       "  '_pos': 'XR'},\n",
       " {'semantic': None,\n",
       "  'has_jongseong': False,\n",
       "  'reading': '하',\n",
       "  'type': None,\n",
       "  'start_pos': None,\n",
       "  'end_pos': None,\n",
       "  'expression': None,\n",
       "  '_pos': 'XSA'},\n",
       " {'semantic': None,\n",
       "  'has_jongseong': False,\n",
       "  'reading': '다',\n",
       "  'type': None,\n",
       "  'start_pos': None,\n",
       "  'end_pos': None,\n",
       "  'expression': None,\n",
       "  '_pos': 'EF'},\n",
       " {'semantic': None,\n",
       "  'has_jongseong': None,\n",
       "  'reading': None,\n",
       "  'type': None,\n",
       "  'start_pos': None,\n",
       "  'end_pos': None,\n",
       "  'expression': None,\n",
       "  '_pos': 'SF'},\n",
       " {'semantic': '장소',\n",
       "  'has_jongseong': False,\n",
       "  'reading': '국내',\n",
       "  'type': None,\n",
       "  'start_pos': None,\n",
       "  'end_pos': None,\n",
       "  'expression': None,\n",
       "  '_pos': 'NNG'},\n",
       " {'semantic': None,\n",
       "  'has_jongseong': False,\n",
       "  'reading': '에서',\n",
       "  'type': None,\n",
       "  'start_pos': None,\n",
       "  'end_pos': None,\n",
       "  'expression': None,\n",
       "  '_pos': 'JKB'},\n",
       " {'semantic': '성분부사|정도부사',\n",
       "  'has_jongseong': True,\n",
       "  'reading': '가장',\n",
       "  'type': None,\n",
       "  'start_pos': None,\n",
       "  'end_pos': None,\n",
       "  'expression': None,\n",
       "  '_pos': 'MAG'},\n",
       " {'semantic': '성분부사|정도부사',\n",
       "  'has_jongseong': False,\n",
       "  'reading': '많이',\n",
       "  'type': None,\n",
       "  'start_pos': None,\n",
       "  'end_pos': None,\n",
       "  'expression': None,\n",
       "  '_pos': 'MAG'},\n",
       " {'semantic': '행위',\n",
       "  'has_jongseong': True,\n",
       "  'reading': '사용',\n",
       "  'type': None,\n",
       "  'start_pos': None,\n",
       "  'end_pos': None,\n",
       "  'expression': None,\n",
       "  '_pos': 'NNG'},\n",
       " {'semantic': None,\n",
       "  'has_jongseong': False,\n",
       "  'reading': '되',\n",
       "  'type': None,\n",
       "  'start_pos': None,\n",
       "  'end_pos': None,\n",
       "  'expression': None,\n",
       "  '_pos': 'XSV'},\n",
       " {'semantic': None,\n",
       "  'has_jongseong': True,\n",
       "  'reading': '는',\n",
       "  'type': None,\n",
       "  'start_pos': None,\n",
       "  'end_pos': None,\n",
       "  'expression': None,\n",
       "  '_pos': 'ETM'},\n",
       " {'semantic': None,\n",
       "  'has_jongseong': True,\n",
       "  'reading': '것',\n",
       "  'type': None,\n",
       "  'start_pos': None,\n",
       "  'end_pos': None,\n",
       "  'expression': None,\n",
       "  '_pos': 'NNB'},\n",
       " {'semantic': None,\n",
       "  'has_jongseong': True,\n",
       "  'reading': '은',\n",
       "  'type': None,\n",
       "  'start_pos': None,\n",
       "  'end_pos': None,\n",
       "  'expression': None,\n",
       "  '_pos': 'JX'},\n",
       " {'semantic': '인명',\n",
       "  'has_jongseong': False,\n",
       "  'reading': '아보',\n",
       "  'type': None,\n",
       "  'start_pos': None,\n",
       "  'end_pos': None,\n",
       "  'expression': None,\n",
       "  '_pos': 'NNP'},\n",
       " {'semantic': '인명',\n",
       "  'has_jongseong': True,\n",
       "  'reading': '벤존',\n",
       "  'type': None,\n",
       "  'start_pos': None,\n",
       "  'end_pos': None,\n",
       "  'expression': None,\n",
       "  '_pos': 'NNP'},\n",
       " {'semantic': None,\n",
       "  'has_jongseong': False,\n",
       "  'reading': '이',\n",
       "  'type': None,\n",
       "  'start_pos': None,\n",
       "  'end_pos': None,\n",
       "  'expression': None,\n",
       "  '_pos': 'JKC'},\n",
       " {'semantic': None,\n",
       "  'has_jongseong': True,\n",
       "  'reading': '아닌',\n",
       "  'type': 'Inflect',\n",
       "  'start_pos': 'VCN',\n",
       "  'end_pos': 'ETM',\n",
       "  'expression': '아니/VCN/*+ᆫ/ETM/*',\n",
       "  '_pos': 'VCN+ETM'},\n",
       " {'semantic': None,\n",
       "  'has_jongseong': False,\n",
       "  'reading': '에',\n",
       "  'type': None,\n",
       "  'start_pos': None,\n",
       "  'end_pos': None,\n",
       "  'expression': None,\n",
       "  '_pos': 'IC'},\n",
       " {'semantic': None,\n",
       "  'has_jongseong': True,\n",
       "  'reading': '칠',\n",
       "  'type': None,\n",
       "  'start_pos': None,\n",
       "  'end_pos': None,\n",
       "  'expression': None,\n",
       "  '_pos': 'NR'},\n",
       " {'semantic': None,\n",
       "  'has_jongseong': True,\n",
       "  'reading': '헥',\n",
       "  'type': None,\n",
       "  'start_pos': None,\n",
       "  'end_pos': None,\n",
       "  'expression': None,\n",
       "  '_pos': 'IC'},\n",
       " {'semantic': None,\n",
       "  'has_jongseong': True,\n",
       "  'reading': '실',\n",
       "  'type': None,\n",
       "  'start_pos': None,\n",
       "  'end_pos': None,\n",
       "  'expression': None,\n",
       "  '_pos': 'NNG'},\n",
       " {'semantic': None,\n",
       "  'has_jongseong': False,\n",
       "  'reading': '메',\n",
       "  'type': None,\n",
       "  'start_pos': None,\n",
       "  'end_pos': None,\n",
       "  'expression': None,\n",
       "  '_pos': 'NNG'},\n",
       " {'semantic': None,\n",
       "  'has_jongseong': True,\n",
       "  'reading': '톡',\n",
       "  'type': None,\n",
       "  'start_pos': None,\n",
       "  'end_pos': None,\n",
       "  'expression': None,\n",
       "  '_pos': 'NNG'},\n",
       " {'semantic': None,\n",
       "  'has_jongseong': True,\n",
       "  'reading': '시신',\n",
       "  'type': None,\n",
       "  'start_pos': None,\n",
       "  'end_pos': None,\n",
       "  'expression': None,\n",
       "  '_pos': 'NNG'},\n",
       " {'semantic': None,\n",
       "  'has_jongseong': False,\n",
       "  'reading': '나',\n",
       "  'type': None,\n",
       "  'start_pos': None,\n",
       "  'end_pos': None,\n",
       "  'expression': None,\n",
       "  '_pos': 'JC'},\n",
       " {'semantic': None,\n",
       "  'has_jongseong': False,\n",
       "  'reading': '메이트',\n",
       "  'type': None,\n",
       "  'start_pos': None,\n",
       "  'end_pos': None,\n",
       "  'expression': None,\n",
       "  '_pos': 'NNG'},\n",
       " {'semantic': None,\n",
       "  'has_jongseong': False,\n",
       "  'reading': '인데',\n",
       "  'type': 'Inflect',\n",
       "  'start_pos': 'VCP',\n",
       "  'end_pos': 'EC',\n",
       "  'expression': '이/VCP/*+ᆫ데/EC/*',\n",
       "  '_pos': 'VCP+EC'},\n",
       " {'semantic': None,\n",
       "  'has_jongseong': False,\n",
       "  'reading': '이게',\n",
       "  'type': 'Inflect',\n",
       "  'start_pos': 'NP',\n",
       "  'end_pos': 'JKS',\n",
       "  'expression': '이것/NP/*+이/JKS/*',\n",
       "  '_pos': 'NP+JKS'},\n",
       " {'semantic': None,\n",
       "  'has_jongseong': True,\n",
       "  'reading': '참',\n",
       "  'type': None,\n",
       "  'start_pos': None,\n",
       "  'end_pos': None,\n",
       "  'expression': None,\n",
       "  '_pos': 'IC'},\n",
       " {'semantic': None,\n",
       "  'has_jongseong': None,\n",
       "  'reading': None,\n",
       "  'type': None,\n",
       "  'start_pos': None,\n",
       "  'end_pos': None,\n",
       "  'expression': None,\n",
       "  '_pos': 'SF'},\n",
       " {'semantic': None,\n",
       "  'has_jongseong': None,\n",
       "  'reading': None,\n",
       "  'type': None,\n",
       "  'start_pos': None,\n",
       "  'end_pos': None,\n",
       "  'expression': None,\n",
       "  '_pos': 'SY'},\n",
       " {'semantic': '인명',\n",
       "  'has_jongseong': False,\n",
       "  'reading': '아보',\n",
       "  'type': None,\n",
       "  'start_pos': None,\n",
       "  'end_pos': None,\n",
       "  'expression': None,\n",
       "  '_pos': 'NNP'},\n",
       " {'semantic': '인명',\n",
       "  'has_jongseong': True,\n",
       "  'reading': '벤존',\n",
       "  'type': None,\n",
       "  'start_pos': None,\n",
       "  'end_pos': None,\n",
       "  'expression': None,\n",
       "  '_pos': 'NNP'},\n",
       " {'semantic': None,\n",
       "  'has_jongseong': True,\n",
       "  'reading': '은',\n",
       "  'type': None,\n",
       "  'start_pos': None,\n",
       "  'end_pos': None,\n",
       "  'expression': None,\n",
       "  '_pos': 'JX'},\n",
       " {'semantic': None,\n",
       "  'has_jongseong': True,\n",
       "  'reading': '벤조페논',\n",
       "  'type': 'Compound',\n",
       "  'start_pos': None,\n",
       "  'end_pos': None,\n",
       "  'expression': '벤조/NNG/*+페논/NNG/*',\n",
       "  '_pos': 'NNG'},\n",
       " {'semantic': None,\n",
       "  'has_jongseong': False,\n",
       "  'reading': '계',\n",
       "  'type': None,\n",
       "  'start_pos': None,\n",
       "  'end_pos': None,\n",
       "  'expression': None,\n",
       "  '_pos': 'XSN'},\n",
       " {'semantic': None,\n",
       "  'has_jongseong': True,\n",
       "  'reading': '광',\n",
       "  'type': None,\n",
       "  'start_pos': None,\n",
       "  'end_pos': None,\n",
       "  'expression': None,\n",
       "  '_pos': 'NNG'},\n",
       " {'semantic': None,\n",
       "  'has_jongseong': False,\n",
       "  'reading': '증감제',\n",
       "  'type': 'Compound',\n",
       "  'start_pos': None,\n",
       "  'end_pos': None,\n",
       "  'expression': '증감/NNG/상태변화+제/NNG/*',\n",
       "  '_pos': 'NNG'},\n",
       " {'semantic': None,\n",
       "  'has_jongseong': False,\n",
       "  'reading': '로',\n",
       "  'type': None,\n",
       "  'start_pos': None,\n",
       "  'end_pos': None,\n",
       "  'expression': None,\n",
       "  '_pos': 'JKB'},\n",
       " {'semantic': None,\n",
       "  'has_jongseong': None,\n",
       "  'reading': None,\n",
       "  'type': None,\n",
       "  'start_pos': None,\n",
       "  'end_pos': None,\n",
       "  'expression': None,\n",
       "  '_pos': 'SL'},\n",
       " {'semantic': None,\n",
       "  'has_jongseong': True,\n",
       "  'reading': '파장',\n",
       "  'type': None,\n",
       "  'start_pos': None,\n",
       "  'end_pos': None,\n",
       "  'expression': None,\n",
       "  '_pos': 'NNG'},\n",
       " {'semantic': None,\n",
       "  'has_jongseong': False,\n",
       "  'reading': '일부',\n",
       "  'type': None,\n",
       "  'start_pos': None,\n",
       "  'end_pos': None,\n",
       "  'expression': None,\n",
       "  '_pos': 'NNG'},\n",
       " {'semantic': None,\n",
       "  'has_jongseong': True,\n",
       "  'reading': '를',\n",
       "  'type': None,\n",
       "  'start_pos': None,\n",
       "  'end_pos': None,\n",
       "  'expression': None,\n",
       "  '_pos': 'JKO'},\n",
       " {'semantic': None,\n",
       "  'has_jongseong': True,\n",
       "  'reading': '들뜬',\n",
       "  'type': 'Inflect',\n",
       "  'start_pos': 'VV',\n",
       "  'end_pos': 'ETM',\n",
       "  'expression': '들뜨/VV/*+ᆫ/ETM/*',\n",
       "  '_pos': 'VV+ETM'},\n",
       " {'semantic': None,\n",
       "  'has_jongseong': False,\n",
       "  'reading': '에너지',\n",
       "  'type': None,\n",
       "  'start_pos': None,\n",
       "  'end_pos': None,\n",
       "  'expression': None,\n",
       "  '_pos': 'NNG'},\n",
       " {'semantic': '정적사태',\n",
       "  'has_jongseong': False,\n",
       "  'reading': '상태',\n",
       "  'type': None,\n",
       "  'start_pos': None,\n",
       "  'end_pos': None,\n",
       "  'expression': None,\n",
       "  '_pos': 'NNG'},\n",
       " {'semantic': None,\n",
       "  'has_jongseong': False,\n",
       "  'reading': '로',\n",
       "  'type': None,\n",
       "  'start_pos': None,\n",
       "  'end_pos': None,\n",
       "  'expression': None,\n",
       "  '_pos': 'JKB'},\n",
       " {'semantic': None,\n",
       "  'has_jongseong': True,\n",
       "  'reading': '만들',\n",
       "  'type': None,\n",
       "  'start_pos': None,\n",
       "  'end_pos': None,\n",
       "  'expression': None,\n",
       "  '_pos': 'VV'},\n",
       " {'semantic': None,\n",
       "  'has_jongseong': False,\n",
       "  'reading': '어',\n",
       "  'type': None,\n",
       "  'start_pos': None,\n",
       "  'end_pos': None,\n",
       "  'expression': None,\n",
       "  '_pos': 'EC'},\n",
       " {'semantic': None,\n",
       "  'has_jongseong': False,\n",
       "  'reading': '내보낸다',\n",
       "  'type': 'Inflect',\n",
       "  'start_pos': 'VV',\n",
       "  'end_pos': 'EF',\n",
       "  'expression': '내보내/VV/*+ᆫ다/EF/*',\n",
       "  '_pos': 'VV+EF'},\n",
       " {'semantic': None,\n",
       "  'has_jongseong': None,\n",
       "  'reading': None,\n",
       "  'type': None,\n",
       "  'start_pos': None,\n",
       "  'end_pos': None,\n",
       "  'expression': None,\n",
       "  '_pos': 'SF'},\n",
       " {'semantic': None,\n",
       "  'has_jongseong': True,\n",
       "  'reading': '즉',\n",
       "  'type': None,\n",
       "  'start_pos': None,\n",
       "  'end_pos': None,\n",
       "  'expression': None,\n",
       "  '_pos': 'MAJ'},\n",
       " {'semantic': None,\n",
       "  'has_jongseong': None,\n",
       "  'reading': None,\n",
       "  'type': None,\n",
       "  'start_pos': None,\n",
       "  'end_pos': None,\n",
       "  'expression': None,\n",
       "  '_pos': 'SC'},\n",
       " {'semantic': None,\n",
       "  'has_jongseong': None,\n",
       "  'reading': None,\n",
       "  'type': None,\n",
       "  'start_pos': None,\n",
       "  'end_pos': None,\n",
       "  'expression': None,\n",
       "  '_pos': 'SL'},\n",
       " {'semantic': None,\n",
       "  'has_jongseong': True,\n",
       "  'reading': '파장',\n",
       "  'type': None,\n",
       "  'start_pos': None,\n",
       "  'end_pos': None,\n",
       "  'expression': None,\n",
       "  '_pos': 'NNG'},\n",
       " {'semantic': None,\n",
       "  'has_jongseong': False,\n",
       "  'reading': '의',\n",
       "  'type': None,\n",
       "  'start_pos': None,\n",
       "  'end_pos': None,\n",
       "  'expression': None,\n",
       "  '_pos': 'JKG'},\n",
       " {'semantic': None,\n",
       "  'has_jongseong': False,\n",
       "  'reading': '전부',\n",
       "  'type': None,\n",
       "  'start_pos': None,\n",
       "  'end_pos': None,\n",
       "  'expression': None,\n",
       "  '_pos': 'NNG'},\n",
       " {'semantic': None,\n",
       "  'has_jongseong': True,\n",
       "  'reading': '는',\n",
       "  'type': None,\n",
       "  'start_pos': None,\n",
       "  'end_pos': None,\n",
       "  'expression': None,\n",
       "  '_pos': 'JX'},\n",
       " {'semantic': None,\n",
       "  'has_jongseong': False,\n",
       "  'reading': '아닐지라도',\n",
       "  'type': 'Inflect',\n",
       "  'start_pos': 'VCN',\n",
       "  'end_pos': 'EC',\n",
       "  'expression': '아니/VCN/*+ᆯ지라도/EC/*',\n",
       "  '_pos': 'VCN+EC'},\n",
       " {'semantic': None,\n",
       "  'has_jongseong': False,\n",
       "  'reading': '효과',\n",
       "  'type': None,\n",
       "  'start_pos': None,\n",
       "  'end_pos': None,\n",
       "  'expression': None,\n",
       "  '_pos': 'NNG'},\n",
       " {'semantic': None,\n",
       "  'has_jongseong': True,\n",
       "  'reading': '적',\n",
       "  'type': None,\n",
       "  'start_pos': None,\n",
       "  'end_pos': None,\n",
       "  'expression': None,\n",
       "  '_pos': 'XSN'},\n",
       " {'semantic': None,\n",
       "  'has_jongseong': False,\n",
       "  'reading': '으로',\n",
       "  'type': None,\n",
       "  'start_pos': None,\n",
       "  'end_pos': None,\n",
       "  'expression': None,\n",
       "  '_pos': 'JKB'},\n",
       " {'semantic': '행위',\n",
       "  'has_jongseong': True,\n",
       "  'reading': '차단',\n",
       "  'type': None,\n",
       "  'start_pos': None,\n",
       "  'end_pos': None,\n",
       "  'expression': None,\n",
       "  '_pos': 'NNG'},\n",
       " {'semantic': None,\n",
       "  'has_jongseong': False,\n",
       "  'reading': '한다',\n",
       "  'type': 'Inflect',\n",
       "  'start_pos': 'XSV',\n",
       "  'end_pos': 'EF',\n",
       "  'expression': '하/XSV/*+ᆫ다/EF/*',\n",
       "  '_pos': 'XSV+EF'},\n",
       " {'semantic': None,\n",
       "  'has_jongseong': None,\n",
       "  'reading': None,\n",
       "  'type': None,\n",
       "  'start_pos': None,\n",
       "  'end_pos': None,\n",
       "  'expression': None,\n",
       "  '_pos': 'SF'},\n",
       " {'semantic': None,\n",
       "  'has_jongseong': True,\n",
       "  'reading': '반',\n",
       "  'type': None,\n",
       "  'start_pos': None,\n",
       "  'end_pos': None,\n",
       "  'expression': None,\n",
       "  '_pos': 'NNG'},\n",
       " {'semantic': None,\n",
       "  'has_jongseong': False,\n",
       "  'reading': '대로',\n",
       "  'type': None,\n",
       "  'start_pos': None,\n",
       "  'end_pos': None,\n",
       "  'expression': None,\n",
       "  '_pos': 'JKB'},\n",
       " {'semantic': None,\n",
       "  'has_jongseong': False,\n",
       "  'reading': '에',\n",
       "  'type': None,\n",
       "  'start_pos': None,\n",
       "  'end_pos': None,\n",
       "  'expression': None,\n",
       "  '_pos': 'IC'},\n",
       " {'semantic': None,\n",
       "  'has_jongseong': True,\n",
       "  'reading': '칠',\n",
       "  'type': None,\n",
       "  'start_pos': None,\n",
       "  'end_pos': None,\n",
       "  'expression': None,\n",
       "  '_pos': 'NR'},\n",
       " {'semantic': None,\n",
       "  'has_jongseong': True,\n",
       "  'reading': '헥',\n",
       "  'type': None,\n",
       "  'start_pos': None,\n",
       "  'end_pos': None,\n",
       "  'expression': None,\n",
       "  '_pos': 'IC'},\n",
       " {'semantic': None,\n",
       "  'has_jongseong': True,\n",
       "  'reading': '실',\n",
       "  'type': None,\n",
       "  'start_pos': None,\n",
       "  'end_pos': None,\n",
       "  'expression': None,\n",
       "  '_pos': 'NNG'},\n",
       " {'semantic': None,\n",
       "  'has_jongseong': False,\n",
       "  'reading': '메',\n",
       "  'type': None,\n",
       "  'start_pos': None,\n",
       "  'end_pos': None,\n",
       "  'expression': None,\n",
       "  '_pos': 'NNG'},\n",
       " {'semantic': None,\n",
       "  'has_jongseong': True,\n",
       "  'reading': '톡',\n",
       "  'type': None,\n",
       "  'start_pos': None,\n",
       "  'end_pos': None,\n",
       "  'expression': None,\n",
       "  '_pos': 'NNG'},\n",
       " {'semantic': None,\n",
       "  'has_jongseong': True,\n",
       "  'reading': '시신',\n",
       "  'type': None,\n",
       "  'start_pos': None,\n",
       "  'end_pos': None,\n",
       "  'expression': None,\n",
       "  '_pos': 'NNG'},\n",
       " {'semantic': None,\n",
       "  'has_jongseong': False,\n",
       "  'reading': '나',\n",
       "  'type': None,\n",
       "  'start_pos': None,\n",
       "  'end_pos': None,\n",
       "  'expression': None,\n",
       "  '_pos': 'JC'},\n",
       " {'semantic': None,\n",
       "  'has_jongseong': False,\n",
       "  'reading': '메이트',\n",
       "  'type': None,\n",
       "  'start_pos': None,\n",
       "  'end_pos': None,\n",
       "  'expression': None,\n",
       "  '_pos': 'NNG'},\n",
       " {'semantic': None,\n",
       "  'has_jongseong': True,\n",
       "  'reading': '는',\n",
       "  'type': None,\n",
       "  'start_pos': None,\n",
       "  'end_pos': None,\n",
       "  'expression': None,\n",
       "  '_pos': 'JX'},\n",
       " {'semantic': None,\n",
       "  'has_jongseong': None,\n",
       "  'reading': None,\n",
       "  'type': None,\n",
       "  'start_pos': None,\n",
       "  'end_pos': None,\n",
       "  'expression': None,\n",
       "  '_pos': 'SL'},\n",
       " {'semantic': None,\n",
       "  'has_jongseong': True,\n",
       "  'reading': '파장',\n",
       "  'type': None,\n",
       "  'start_pos': None,\n",
       "  'end_pos': None,\n",
       "  'expression': None,\n",
       "  '_pos': 'NNG'},\n",
       " {'semantic': None,\n",
       "  'has_jongseong': False,\n",
       "  'reading': '에',\n",
       "  'type': None,\n",
       "  'start_pos': None,\n",
       "  'end_pos': None,\n",
       "  'expression': None,\n",
       "  '_pos': 'JKB'},\n",
       " {'semantic': None,\n",
       "  'has_jongseong': False,\n",
       "  'reading': '대해서',\n",
       "  'type': 'Inflect',\n",
       "  'start_pos': 'VV',\n",
       "  'end_pos': 'EC',\n",
       "  'expression': '대하/VV/*+아서/EC/*',\n",
       "  '_pos': 'VV+EC'},\n",
       " {'semantic': None,\n",
       "  'has_jongseong': True,\n",
       "  'reading': '만',\n",
       "  'type': None,\n",
       "  'start_pos': None,\n",
       "  'end_pos': None,\n",
       "  'expression': None,\n",
       "  '_pos': 'JX'},\n",
       " {'semantic': None,\n",
       "  'has_jongseong': False,\n",
       "  'reading': '효과',\n",
       "  'type': None,\n",
       "  'start_pos': None,\n",
       "  'end_pos': None,\n",
       "  'expression': None,\n",
       "  '_pos': 'NNG'},\n",
       " {'semantic': None,\n",
       "  'has_jongseong': True,\n",
       "  'reading': '적',\n",
       "  'type': None,\n",
       "  'start_pos': None,\n",
       "  'end_pos': None,\n",
       "  'expression': None,\n",
       "  '_pos': 'XSN'},\n",
       " {'semantic': None,\n",
       "  'has_jongseong': False,\n",
       "  'reading': '으로',\n",
       "  'type': None,\n",
       "  'start_pos': None,\n",
       "  'end_pos': None,\n",
       "  'expression': None,\n",
       "  '_pos': 'JKB'},\n",
       " {'semantic': None,\n",
       "  'has_jongseong': True,\n",
       "  'reading': '반응',\n",
       "  'type': None,\n",
       "  'start_pos': None,\n",
       "  'end_pos': None,\n",
       "  'expression': None,\n",
       "  '_pos': 'NNG'},\n",
       " {'semantic': None,\n",
       "  'has_jongseong': False,\n",
       "  'reading': '하',\n",
       "  'type': None,\n",
       "  'start_pos': None,\n",
       "  'end_pos': None,\n",
       "  'expression': None,\n",
       "  '_pos': 'XSV'},\n",
       " {'semantic': None,\n",
       "  'has_jongseong': False,\n",
       "  'reading': '지',\n",
       "  'type': None,\n",
       "  'start_pos': None,\n",
       "  'end_pos': None,\n",
       "  'expression': None,\n",
       "  '_pos': 'EC'},\n",
       " {'semantic': None,\n",
       "  'has_jongseong': None,\n",
       "  'reading': None,\n",
       "  'type': None,\n",
       "  'start_pos': None,\n",
       "  'end_pos': None,\n",
       "  'expression': None,\n",
       "  '_pos': 'SL'},\n",
       " {'semantic': None,\n",
       "  'has_jongseong': False,\n",
       "  'reading': '에',\n",
       "  'type': None,\n",
       "  'start_pos': None,\n",
       "  'end_pos': None,\n",
       "  'expression': None,\n",
       "  '_pos': 'JKB'},\n",
       " {'semantic': None,\n",
       "  'has_jongseong': False,\n",
       "  'reading': '대해서',\n",
       "  'type': 'Inflect',\n",
       "  'start_pos': 'VV',\n",
       "  'end_pos': 'EC',\n",
       "  'expression': '대하/VV/*+아서/EC/*',\n",
       "  '_pos': 'VV+EC'},\n",
       " {'semantic': None,\n",
       "  'has_jongseong': True,\n",
       "  'reading': '는',\n",
       "  'type': None,\n",
       "  'start_pos': None,\n",
       "  'end_pos': None,\n",
       "  'expression': None,\n",
       "  '_pos': 'JX'},\n",
       " {'semantic': '성분부사|정도부사',\n",
       "  'has_jongseong': False,\n",
       "  'reading': '거의',\n",
       "  'type': None,\n",
       "  'start_pos': None,\n",
       "  'end_pos': None,\n",
       "  'expression': None,\n",
       "  '_pos': 'MAG'},\n",
       " {'semantic': None,\n",
       "  'has_jongseong': True,\n",
       "  'reading': '반응',\n",
       "  'type': None,\n",
       "  'start_pos': None,\n",
       "  'end_pos': None,\n",
       "  'expression': None,\n",
       "  '_pos': 'NNG'},\n",
       " {'semantic': None,\n",
       "  'has_jongseong': False,\n",
       "  'reading': '하',\n",
       "  'type': None,\n",
       "  'start_pos': None,\n",
       "  'end_pos': None,\n",
       "  'expression': None,\n",
       "  '_pos': 'XSV'},\n",
       " {'semantic': None,\n",
       "  'has_jongseong': False,\n",
       "  'reading': '지',\n",
       "  'type': None,\n",
       "  'start_pos': None,\n",
       "  'end_pos': None,\n",
       "  'expression': None,\n",
       "  '_pos': 'EC'},\n",
       " {'semantic': None,\n",
       "  'has_jongseong': True,\n",
       "  'reading': '않',\n",
       "  'type': None,\n",
       "  'start_pos': None,\n",
       "  'end_pos': None,\n",
       "  'expression': None,\n",
       "  '_pos': 'VX'},\n",
       " {'semantic': None,\n",
       "  'has_jongseong': False,\n",
       "  'reading': '는다',\n",
       "  'type': None,\n",
       "  'start_pos': None,\n",
       "  'end_pos': None,\n",
       "  'expression': None,\n",
       "  '_pos': 'EF'},\n",
       " {'semantic': None,\n",
       "  'has_jongseong': None,\n",
       "  'reading': None,\n",
       "  'type': None,\n",
       "  'start_pos': None,\n",
       "  'end_pos': None,\n",
       "  'expression': None,\n",
       "  '_pos': 'SF'},\n",
       " {'semantic': None,\n",
       "  'has_jongseong': True,\n",
       "  'reading': '화장품',\n",
       "  'type': 'Compound',\n",
       "  'start_pos': None,\n",
       "  'end_pos': None,\n",
       "  'expression': '화장/NNG/*+품/NNG/*',\n",
       "  '_pos': 'NNG'},\n",
       " {'semantic': None,\n",
       "  'has_jongseong': False,\n",
       "  'reading': '업계',\n",
       "  'type': None,\n",
       "  'start_pos': None,\n",
       "  'end_pos': None,\n",
       "  'expression': None,\n",
       "  '_pos': 'NNG'},\n",
       " {'semantic': None,\n",
       "  'has_jongseong': False,\n",
       "  'reading': '나',\n",
       "  'type': None,\n",
       "  'start_pos': None,\n",
       "  'end_pos': None,\n",
       "  'expression': None,\n",
       "  '_pos': 'JC'},\n",
       " {'semantic': None,\n",
       "  'has_jongseong': False,\n",
       "  'reading': '이른바',\n",
       "  'type': None,\n",
       "  'start_pos': None,\n",
       "  'end_pos': None,\n",
       "  'expression': None,\n",
       "  '_pos': 'MAJ'},\n",
       " {'semantic': None,\n",
       "  'has_jongseong': None,\n",
       "  'reading': None,\n",
       "  'type': None,\n",
       "  'start_pos': None,\n",
       "  'end_pos': None,\n",
       "  'expression': None,\n",
       "  '_pos': 'SY'},\n",
       " {'semantic': None,\n",
       "  'has_jongseong': False,\n",
       "  'reading': '뷰티',\n",
       "  'type': None,\n",
       "  'start_pos': None,\n",
       "  'end_pos': None,\n",
       "  'expression': None,\n",
       "  '_pos': 'NNG'},\n",
       " {'semantic': None,\n",
       "  'has_jongseong': False,\n",
       "  'reading': '블로그',\n",
       "  'type': None,\n",
       "  'start_pos': None,\n",
       "  'end_pos': None,\n",
       "  'expression': None,\n",
       "  '_pos': 'NNG'},\n",
       " {'semantic': None,\n",
       "  'has_jongseong': None,\n",
       "  'reading': None,\n",
       "  'type': None,\n",
       "  'start_pos': None,\n",
       "  'end_pos': None,\n",
       "  'expression': None,\n",
       "  '_pos': 'SY'},\n",
       " {'semantic': None,\n",
       "  'has_jongseong': True,\n",
       "  'reading': '를',\n",
       "  'type': None,\n",
       "  'start_pos': None,\n",
       "  'end_pos': None,\n",
       "  'expression': None,\n",
       "  '_pos': 'JKO'},\n",
       " {'semantic': '행위',\n",
       "  'has_jongseong': True,\n",
       "  'reading': '자칭',\n",
       "  'type': None,\n",
       "  'start_pos': None,\n",
       "  'end_pos': None,\n",
       "  'expression': None,\n",
       "  '_pos': 'NNG'},\n",
       " {'semantic': None,\n",
       "  'has_jongseong': False,\n",
       "  'reading': '하',\n",
       "  'type': None,\n",
       "  'start_pos': None,\n",
       "  'end_pos': None,\n",
       "  'expression': None,\n",
       "  '_pos': 'XSV'},\n",
       " {'semantic': None,\n",
       "  'has_jongseong': True,\n",
       "  'reading': '는',\n",
       "  'type': None,\n",
       "  'start_pos': None,\n",
       "  'end_pos': None,\n",
       "  'expression': None,\n",
       "  '_pos': 'ETM'},\n",
       " {'semantic': None,\n",
       "  'has_jongseong': True,\n",
       "  'reading': '일각',\n",
       "  'type': None,\n",
       "  'start_pos': None,\n",
       "  'end_pos': None,\n",
       "  'expression': None,\n",
       "  '_pos': 'NNG'},\n",
       " {'semantic': None,\n",
       "  'has_jongseong': False,\n",
       "  'reading': '에서',\n",
       "  'type': None,\n",
       "  'start_pos': None,\n",
       "  'end_pos': None,\n",
       "  'expression': None,\n",
       "  '_pos': 'JKB'},\n",
       " {'semantic': None,\n",
       "  'has_jongseong': True,\n",
       "  'reading': '는',\n",
       "  'type': None,\n",
       "  'start_pos': None,\n",
       "  'end_pos': None,\n",
       "  'expression': None,\n",
       "  '_pos': 'JX'},\n",
       " {'semantic': None,\n",
       "  'has_jongseong': None,\n",
       "  'reading': None,\n",
       "  'type': None,\n",
       "  'start_pos': None,\n",
       "  'end_pos': None,\n",
       "  'expression': None,\n",
       "  '_pos': 'SL'},\n",
       " {'semantic': None,\n",
       "  'has_jongseong': False,\n",
       "  'reading': '도',\n",
       "  'type': None,\n",
       "  'start_pos': None,\n",
       "  'end_pos': None,\n",
       "  'expression': None,\n",
       "  '_pos': 'JX'},\n",
       " {'semantic': '행위',\n",
       "  'has_jongseong': True,\n",
       "  'reading': '차단',\n",
       "  'type': None,\n",
       "  'start_pos': None,\n",
       "  'end_pos': None,\n",
       "  'expression': None,\n",
       "  '_pos': 'NNG'},\n",
       " {'semantic': None,\n",
       "  'has_jongseong': False,\n",
       "  'reading': '하',\n",
       "  'type': None,\n",
       "  'start_pos': None,\n",
       "  'end_pos': None,\n",
       "  'expression': None,\n",
       "  '_pos': 'XSV'},\n",
       " {'semantic': None,\n",
       "  'has_jongseong': True,\n",
       "  'reading': '는',\n",
       "  'type': None,\n",
       "  'start_pos': None,\n",
       "  'end_pos': None,\n",
       "  'expression': None,\n",
       "  '_pos': 'ETM'},\n",
       " {'semantic': None,\n",
       "  'has_jongseong': True,\n",
       "  'reading': '성분',\n",
       "  'type': None,\n",
       "  'start_pos': None,\n",
       "  'end_pos': None,\n",
       "  'expression': None,\n",
       "  '_pos': 'NNG'},\n",
       " {'semantic': None,\n",
       "  'has_jongseong': False,\n",
       "  'reading': '이',\n",
       "  'type': None,\n",
       "  'start_pos': None,\n",
       "  'end_pos': None,\n",
       "  'expression': None,\n",
       "  '_pos': 'VCP'},\n",
       " {'semantic': None,\n",
       "  'has_jongseong': False,\n",
       "  'reading': '라며',\n",
       "  'type': None,\n",
       "  'start_pos': None,\n",
       "  'end_pos': None,\n",
       "  'expression': None,\n",
       "  '_pos': 'EC'},\n",
       " {'semantic': None,\n",
       "  'has_jongseong': False,\n",
       "  'reading': '광고',\n",
       "  'type': None,\n",
       "  'start_pos': None,\n",
       "  'end_pos': None,\n",
       "  'expression': None,\n",
       "  '_pos': 'NNG'},\n",
       " {'semantic': None,\n",
       "  'has_jongseong': False,\n",
       "  'reading': '한다',\n",
       "  'type': 'Inflect',\n",
       "  'start_pos': 'XSV',\n",
       "  'end_pos': 'EF',\n",
       "  'expression': '하/XSV/*+ᆫ다/EF/*',\n",
       "  '_pos': 'XSV+EF'},\n",
       " {'semantic': None,\n",
       "  'has_jongseong': None,\n",
       "  'reading': None,\n",
       "  'type': None,\n",
       "  'start_pos': None,\n",
       "  'end_pos': None,\n",
       "  'expression': None,\n",
       "  '_pos': 'SF'},\n",
       " {'semantic': None,\n",
       "  'has_jongseong': True,\n",
       "  'reading': '하지만',\n",
       "  'type': None,\n",
       "  'start_pos': None,\n",
       "  'end_pos': None,\n",
       "  'expression': None,\n",
       "  '_pos': 'MAJ'},\n",
       " {'semantic': None,\n",
       "  'has_jongseong': True,\n",
       "  'reading': '과학',\n",
       "  'type': None,\n",
       "  'start_pos': None,\n",
       "  'end_pos': None,\n",
       "  'expression': None,\n",
       "  '_pos': 'NNG'},\n",
       " {'semantic': None,\n",
       "  'has_jongseong': True,\n",
       "  'reading': '을',\n",
       "  'type': None,\n",
       "  'start_pos': None,\n",
       "  'end_pos': None,\n",
       "  'expression': None,\n",
       "  '_pos': 'JKO'},\n",
       " {'semantic': None,\n",
       "  'has_jongseong': True,\n",
       "  'reading': '조금',\n",
       "  'type': None,\n",
       "  'start_pos': None,\n",
       "  'end_pos': None,\n",
       "  'expression': None,\n",
       "  '_pos': 'NNG'},\n",
       " {'semantic': None,\n",
       "  'has_jongseong': False,\n",
       "  'reading': '이',\n",
       "  'type': None,\n",
       "  'start_pos': None,\n",
       "  'end_pos': None,\n",
       "  'expression': None,\n",
       "  '_pos': 'VCP'},\n",
       " {'semantic': None,\n",
       "  'has_jongseong': False,\n",
       "  'reading': '라도',\n",
       "  'type': None,\n",
       "  'start_pos': None,\n",
       "  'end_pos': None,\n",
       "  'expression': None,\n",
       "  '_pos': 'EC'},\n",
       " {'semantic': '행위',\n",
       "  'has_jongseong': False,\n",
       "  'reading': '공부',\n",
       "  'type': None,\n",
       "  'start_pos': None,\n",
       "  'end_pos': None,\n",
       "  'expression': None,\n",
       "  '_pos': 'NNG'},\n",
       " {'semantic': None,\n",
       "  'has_jongseong': True,\n",
       "  'reading': '한',\n",
       "  'type': 'Inflect',\n",
       "  'start_pos': 'XSV',\n",
       "  'end_pos': 'ETM',\n",
       "  'expression': '하/XSV/*+ᆫ/ETM/*',\n",
       "  '_pos': 'XSV+ETM'},\n",
       " {'semantic': None,\n",
       "  'has_jongseong': True,\n",
       "  'reading': '사람',\n",
       "  'type': None,\n",
       "  'start_pos': None,\n",
       "  'end_pos': None,\n",
       "  'expression': None,\n",
       "  '_pos': 'NNG'},\n",
       " {'semantic': None,\n",
       "  'has_jongseong': False,\n",
       "  'reading': '이',\n",
       "  'type': None,\n",
       "  'start_pos': None,\n",
       "  'end_pos': None,\n",
       "  'expression': None,\n",
       "  '_pos': 'VCP'},\n",
       " {'semantic': None,\n",
       "  'has_jongseong': True,\n",
       "  'reading': '라면',\n",
       "  'type': None,\n",
       "  'start_pos': None,\n",
       "  'end_pos': None,\n",
       "  'expression': None,\n",
       "  '_pos': 'EC'},\n",
       " {'semantic': '~명사',\n",
       "  'has_jongseong': False,\n",
       "  'reading': '이',\n",
       "  'type': None,\n",
       "  'start_pos': None,\n",
       "  'end_pos': None,\n",
       "  'expression': None,\n",
       "  '_pos': 'MM'},\n",
       " {'semantic': None,\n",
       "  'has_jongseong': True,\n",
       "  'reading': '성분',\n",
       "  'type': None,\n",
       "  'start_pos': None,\n",
       "  'end_pos': None,\n",
       "  'expression': None,\n",
       "  '_pos': 'NNG'},\n",
       " {'semantic': None,\n",
       "  'has_jongseong': False,\n",
       "  'reading': '으로',\n",
       "  'type': None,\n",
       "  'start_pos': None,\n",
       "  'end_pos': None,\n",
       "  'expression': None,\n",
       "  '_pos': 'JKB'},\n",
       " {'semantic': None,\n",
       "  'has_jongseong': True,\n",
       "  'reading': '는',\n",
       "  'type': None,\n",
       "  'start_pos': None,\n",
       "  'end_pos': None,\n",
       "  'expression': None,\n",
       "  '_pos': 'JX'},\n",
       " {'semantic': '성분부사|양태부사',\n",
       "  'has_jongseong': False,\n",
       "  'reading': '제대로',\n",
       "  'type': None,\n",
       "  'start_pos': None,\n",
       "  'end_pos': None,\n",
       "  'expression': None,\n",
       "  '_pos': 'MAG'},\n",
       " {'semantic': None,\n",
       "  'has_jongseong': True,\n",
       "  'reading': '된',\n",
       "  'type': 'Inflect',\n",
       "  'start_pos': 'VV',\n",
       "  'end_pos': 'ETM',\n",
       "  'expression': '되/VV/*+ᆫ/ETM/*',\n",
       "  '_pos': 'VV+ETM'},\n",
       " {'semantic': None,\n",
       "  'has_jongseong': None,\n",
       "  'reading': None,\n",
       "  'type': None,\n",
       "  'start_pos': None,\n",
       "  'end_pos': None,\n",
       "  'expression': None,\n",
       "  '_pos': 'SL'},\n",
       " {'semantic': '행위',\n",
       "  'has_jongseong': True,\n",
       "  'reading': '차단',\n",
       "  'type': None,\n",
       "  'start_pos': None,\n",
       "  'end_pos': None,\n",
       "  'expression': None,\n",
       "  '_pos': 'NNG'},\n",
       " {'semantic': None,\n",
       "  'has_jongseong': False,\n",
       "  'reading': '효과',\n",
       "  'type': None,\n",
       "  'start_pos': None,\n",
       "  'end_pos': None,\n",
       "  'expression': None,\n",
       "  '_pos': 'NNG'},\n",
       " {'semantic': None,\n",
       "  'has_jongseong': True,\n",
       "  'reading': '를',\n",
       "  'type': None,\n",
       "  'start_pos': None,\n",
       "  'end_pos': None,\n",
       "  'expression': None,\n",
       "  '_pos': 'JKO'},\n",
       " {'semantic': '행위',\n",
       "  'has_jongseong': False,\n",
       "  'reading': '기대',\n",
       "  'type': None,\n",
       "  'start_pos': None,\n",
       "  'end_pos': None,\n",
       "  'expression': None,\n",
       "  '_pos': 'NNG'},\n",
       " {'semantic': None,\n",
       "  'has_jongseong': False,\n",
       "  'reading': '하',\n",
       "  'type': None,\n",
       "  'start_pos': None,\n",
       "  'end_pos': None,\n",
       "  'expression': None,\n",
       "  '_pos': 'XSV'},\n",
       " {'semantic': None,\n",
       "  'has_jongseong': False,\n",
       "  'reading': '기',\n",
       "  'type': None,\n",
       "  'start_pos': None,\n",
       "  'end_pos': None,\n",
       "  'expression': None,\n",
       "  '_pos': 'ETN'},\n",
       " {'semantic': None,\n",
       "  'has_jongseong': True,\n",
       "  'reading': '힘들',\n",
       "  'type': None,\n",
       "  'start_pos': None,\n",
       "  'end_pos': None,\n",
       "  'expression': None,\n",
       "  '_pos': 'VA'},\n",
       " {'semantic': None,\n",
       "  'has_jongseong': True,\n",
       "  'reading': '다는',\n",
       "  'type': None,\n",
       "  'start_pos': None,\n",
       "  'end_pos': None,\n",
       "  'expression': None,\n",
       "  '_pos': 'ETM'},\n",
       " {'semantic': None,\n",
       "  'has_jongseong': True,\n",
       "  'reading': '걸',\n",
       "  'type': 'Inflect',\n",
       "  'start_pos': 'NNB',\n",
       "  'end_pos': 'JKO',\n",
       "  'expression': '것/NNB/*+ᆯ/JKO/*',\n",
       "  '_pos': 'NNB+JKO'},\n",
       " {'semantic': None,\n",
       "  'has_jongseong': True,\n",
       "  'reading': '알',\n",
       "  'type': 'Inflect',\n",
       "  'start_pos': 'VV',\n",
       "  'end_pos': 'ETM',\n",
       "  'expression': '알/VV/*+ᆯ/ETM/*',\n",
       "  '_pos': 'VV+ETM'},\n",
       " {'semantic': None,\n",
       "  'has_jongseong': True,\n",
       "  'reading': '것',\n",
       "  'type': None,\n",
       "  'start_pos': None,\n",
       "  'end_pos': None,\n",
       "  'expression': None,\n",
       "  '_pos': 'NNB'},\n",
       " {'semantic': None,\n",
       "  'has_jongseong': False,\n",
       "  'reading': '이',\n",
       "  'type': None,\n",
       "  'start_pos': None,\n",
       "  'end_pos': None,\n",
       "  'expression': None,\n",
       "  '_pos': 'VCP'},\n",
       " {'semantic': None,\n",
       "  'has_jongseong': False,\n",
       "  'reading': '다',\n",
       "  'type': None,\n",
       "  'start_pos': None,\n",
       "  'end_pos': None,\n",
       "  'expression': None,\n",
       "  '_pos': 'EF'},\n",
       " {'semantic': None,\n",
       "  'has_jongseong': None,\n",
       "  'reading': None,\n",
       "  'type': None,\n",
       "  'start_pos': None,\n",
       "  'end_pos': None,\n",
       "  'expression': None,\n",
       "  '_pos': 'SF'},\n",
       " {'semantic': None,\n",
       "  'has_jongseong': True,\n",
       "  'reading': '하지만',\n",
       "  'type': None,\n",
       "  'start_pos': None,\n",
       "  'end_pos': None,\n",
       "  'expression': None,\n",
       "  '_pos': 'MAJ'},\n",
       " {'semantic': '문장부사|양상부사',\n",
       "  'has_jongseong': True,\n",
       "  'reading': '사실',\n",
       "  'type': None,\n",
       "  'start_pos': None,\n",
       "  'end_pos': None,\n",
       "  'expression': None,\n",
       "  '_pos': 'MAG'},\n",
       " {'semantic': None,\n",
       "  'has_jongseong': False,\n",
       "  'reading': '소비자',\n",
       "  'type': 'Compound',\n",
       "  'start_pos': None,\n",
       "  'end_pos': None,\n",
       "  'expression': '소비/NNG/*+자/NNG/*',\n",
       "  '_pos': 'NNG'},\n",
       " {'semantic': None,\n",
       "  'has_jongseong': False,\n",
       "  'reading': '가',\n",
       "  'type': None,\n",
       "  'start_pos': None,\n",
       "  'end_pos': None,\n",
       "  'expression': None,\n",
       "  '_pos': 'JKS'},\n",
       " {'semantic': None,\n",
       "  'has_jongseong': True,\n",
       "  'reading': '선크림',\n",
       "  'type': 'Compound',\n",
       "  'start_pos': None,\n",
       "  'end_pos': None,\n",
       "  'expression': '선/NNG/*+크림/NNG/*',\n",
       "  '_pos': 'NNG'},\n",
       " {'semantic': None,\n",
       "  'has_jongseong': True,\n",
       "  'reading': '을',\n",
       "  'type': None,\n",
       "  'start_pos': None,\n",
       "  'end_pos': None,\n",
       "  'expression': None,\n",
       "  '_pos': 'JKO'},\n",
       " {'semantic': None,\n",
       "  'has_jongseong': True,\n",
       "  'reading': '살',\n",
       "  'type': 'Inflect',\n",
       "  'start_pos': 'VV',\n",
       "  'end_pos': 'ETM',\n",
       "  'expression': '사/VV/*+ᆯ/ETM/*',\n",
       "  '_pos': 'VV+ETM'},\n",
       " {'semantic': None,\n",
       "  'has_jongseong': False,\n",
       "  'reading': '때',\n",
       "  'type': None,\n",
       "  'start_pos': None,\n",
       "  'end_pos': None,\n",
       "  'expression': None,\n",
       "  '_pos': 'NNG'},\n",
       " {'semantic': None,\n",
       "  'has_jongseong': False,\n",
       "  'reading': '에',\n",
       "  'type': None,\n",
       "  'start_pos': None,\n",
       "  'end_pos': None,\n",
       "  'expression': None,\n",
       "  '_pos': 'JKB'},\n",
       " {'semantic': None,\n",
       "  'has_jongseong': True,\n",
       "  'reading': '효능',\n",
       "  'type': None,\n",
       "  'start_pos': None,\n",
       "  'end_pos': None,\n",
       "  'expression': None,\n",
       "  '_pos': 'NNG'},\n",
       " {'semantic': None,\n",
       "  'has_jongseong': True,\n",
       "  'reading': '을',\n",
       "  'type': None,\n",
       "  'start_pos': None,\n",
       "  'end_pos': None,\n",
       "  'expression': None,\n",
       "  '_pos': 'JKO'},\n",
       " {'semantic': None,\n",
       "  'has_jongseong': False,\n",
       "  'reading': '따지',\n",
       "  'type': None,\n",
       "  'start_pos': None,\n",
       "  'end_pos': None,\n",
       "  'expression': None,\n",
       "  '_pos': 'VV'},\n",
       " {'semantic': None,\n",
       "  'has_jongseong': False,\n",
       "  'reading': '기',\n",
       "  'type': None,\n",
       "  'start_pos': None,\n",
       "  'end_pos': None,\n",
       "  'expression': None,\n",
       "  '_pos': 'ETN'},\n",
       " {'semantic': None,\n",
       "  'has_jongseong': False,\n",
       "  'reading': '위해서',\n",
       "  'type': 'Inflect',\n",
       "  'start_pos': 'VV',\n",
       "  'end_pos': 'EC',\n",
       "  'expression': '위하/VV/*+아서/EC/*',\n",
       "  '_pos': 'VV+EC'},\n",
       " {'semantic': None,\n",
       "  'has_jongseong': True,\n",
       "  'reading': '성분',\n",
       "  'type': None,\n",
       "  'start_pos': None,\n",
       "  'end_pos': None,\n",
       "  'expression': None,\n",
       "  '_pos': 'NNG'},\n",
       " {'semantic': None,\n",
       "  'has_jongseong': True,\n",
       "  'reading': '을',\n",
       "  'type': None,\n",
       "  'start_pos': None,\n",
       "  'end_pos': None,\n",
       "  'expression': None,\n",
       "  '_pos': 'JKO'},\n",
       " {'semantic': None,\n",
       "  'has_jongseong': True,\n",
       "  'reading': '볼',\n",
       "  'type': 'Inflect',\n",
       "  'start_pos': 'VV',\n",
       "  'end_pos': 'ETM',\n",
       "  'expression': '보/VV/*+ᆯ/ETM/*',\n",
       "  '_pos': 'VV+ETM'},\n",
       " {'semantic': '정적사태',\n",
       "  'has_jongseong': False,\n",
       "  'reading': '필요',\n",
       "  'type': None,\n",
       "  'start_pos': None,\n",
       "  'end_pos': None,\n",
       "  'expression': None,\n",
       "  '_pos': 'NNG'},\n",
       " {'semantic': None,\n",
       "  'has_jongseong': True,\n",
       "  'reading': '는',\n",
       "  'type': None,\n",
       "  'start_pos': None,\n",
       "  'end_pos': None,\n",
       "  'expression': None,\n",
       "  '_pos': 'JX'},\n",
       " {'semantic': None,\n",
       "  'has_jongseong': True,\n",
       "  'reading': '없',\n",
       "  'type': None,\n",
       "  'start_pos': None,\n",
       "  'end_pos': None,\n",
       "  'expression': None,\n",
       "  '_pos': 'VA'},\n",
       " {'semantic': None,\n",
       "  'has_jongseong': False,\n",
       "  'reading': '다',\n",
       "  'type': None,\n",
       "  'start_pos': None,\n",
       "  'end_pos': None,\n",
       "  'expression': None,\n",
       "  '_pos': 'EF'},\n",
       " {'semantic': None,\n",
       "  'has_jongseong': None,\n",
       "  'reading': None,\n",
       "  'type': None,\n",
       "  'start_pos': None,\n",
       "  'end_pos': None,\n",
       "  'expression': None,\n",
       "  '_pos': 'SF'},\n",
       " {'semantic': None,\n",
       "  'has_jongseong': None,\n",
       "  'reading': None,\n",
       "  'type': None,\n",
       "  'start_pos': None,\n",
       "  'end_pos': None,\n",
       "  'expression': None,\n",
       "  '_pos': 'SL'},\n",
       " {'semantic': None,\n",
       "  'has_jongseong': False,\n",
       "  'reading': '지수',\n",
       "  'type': None,\n",
       "  'start_pos': None,\n",
       "  'end_pos': None,\n",
       "  'expression': None,\n",
       "  '_pos': 'NNG'},\n",
       " {'semantic': None,\n",
       "  'has_jongseong': False,\n",
       "  'reading': '와',\n",
       "  'type': None,\n",
       "  'start_pos': None,\n",
       "  'end_pos': None,\n",
       "  'expression': None,\n",
       "  '_pos': 'JC'},\n",
       " {'semantic': None,\n",
       "  'has_jongseong': None,\n",
       "  'reading': None,\n",
       "  'type': None,\n",
       "  'start_pos': None,\n",
       "  'end_pos': None,\n",
       "  'expression': None,\n",
       "  '_pos': 'SL'},\n",
       " {'semantic': None,\n",
       "  'has_jongseong': False,\n",
       "  'reading': '지수',\n",
       "  'type': None,\n",
       "  'start_pos': None,\n",
       "  'end_pos': None,\n",
       "  'expression': None,\n",
       "  '_pos': 'NNG'},\n",
       " {'semantic': None,\n",
       "  'has_jongseong': True,\n",
       "  'reading': '를',\n",
       "  'type': None,\n",
       "  'start_pos': None,\n",
       "  'end_pos': None,\n",
       "  'expression': None,\n",
       "  '_pos': 'JKO'},\n",
       " {'semantic': None,\n",
       "  'has_jongseong': False,\n",
       "  'reading': '표기',\n",
       "  'type': None,\n",
       "  'start_pos': None,\n",
       "  'end_pos': None,\n",
       "  'expression': None,\n",
       "  '_pos': 'NNG'},\n",
       " {'semantic': None,\n",
       "  'has_jongseong': False,\n",
       "  'reading': '하',\n",
       "  'type': None,\n",
       "  'start_pos': None,\n",
       "  'end_pos': None,\n",
       "  'expression': None,\n",
       "  '_pos': 'XSV'},\n",
       " {'semantic': None,\n",
       "  'has_jongseong': False,\n",
       "  'reading': '기',\n",
       "  'type': None,\n",
       "  'start_pos': None,\n",
       "  'end_pos': None,\n",
       "  'expression': None,\n",
       "  '_pos': 'ETN'},\n",
       " {'semantic': None,\n",
       "  'has_jongseong': True,\n",
       "  'reading': '때문',\n",
       "  'type': None,\n",
       "  'start_pos': None,\n",
       "  'end_pos': None,\n",
       "  'expression': None,\n",
       "  '_pos': 'NNB'},\n",
       " {'semantic': None,\n",
       "  'has_jongseong': None,\n",
       "  'reading': None,\n",
       "  'type': None,\n",
       "  'start_pos': None,\n",
       "  'end_pos': None,\n",
       "  'expression': None,\n",
       "  '_pos': 'SF'},\n",
       " {'semantic': None,\n",
       "  'has_jongseong': True,\n",
       "  'reading': '선크림',\n",
       "  'type': 'Compound',\n",
       "  'start_pos': None,\n",
       "  'end_pos': None,\n",
       "  'expression': '선/NNG/*+크림/NNG/*',\n",
       "  '_pos': 'NNG'},\n",
       " {'semantic': None,\n",
       "  'has_jongseong': True,\n",
       "  'reading': '을',\n",
       "  'type': None,\n",
       "  'start_pos': None,\n",
       "  'end_pos': None,\n",
       "  'expression': None,\n",
       "  '_pos': 'JKO'},\n",
       " {'semantic': '행위',\n",
       "  'has_jongseong': False,\n",
       "  'reading': '판매',\n",
       "  'type': None,\n",
       "  'start_pos': None,\n",
       "  'end_pos': None,\n",
       "  'expression': None,\n",
       "  '_pos': 'NNG'},\n",
       " {'semantic': '행위',\n",
       "  'has_jongseong': True,\n",
       "  'reading': '등록',\n",
       "  'type': None,\n",
       "  'start_pos': None,\n",
       "  'end_pos': None,\n",
       "  'expression': None,\n",
       "  '_pos': 'NNG'},\n",
       " {'semantic': None,\n",
       "  'has_jongseong': True,\n",
       "  'reading': '할',\n",
       "  'type': 'Inflect',\n",
       "  'start_pos': 'XSV',\n",
       "  'end_pos': 'ETM',\n",
       "  'expression': '하/XSV/*+ᆯ/ETM/*',\n",
       "  '_pos': 'XSV+ETM'},\n",
       " {'semantic': None,\n",
       "  'has_jongseong': False,\n",
       "  'reading': '때',\n",
       "  'type': None,\n",
       "  'start_pos': None,\n",
       "  'end_pos': None,\n",
       "  'expression': None,\n",
       "  '_pos': 'NNG'},\n",
       " {'semantic': None,\n",
       "  'has_jongseong': True,\n",
       "  'reading': '식',\n",
       "  'type': None,\n",
       "  'start_pos': None,\n",
       "  'end_pos': None,\n",
       "  'expression': None,\n",
       "  '_pos': 'NNB'},\n",
       " {'semantic': None,\n",
       "  'has_jongseong': True,\n",
       "  'reading': '약',\n",
       "  'type': None,\n",
       "  'start_pos': None,\n",
       "  'end_pos': None,\n",
       "  'expression': None,\n",
       "  '_pos': 'NNG'},\n",
       " {'semantic': None,\n",
       "  'has_jongseong': False,\n",
       "  'reading': '처',\n",
       "  'type': None,\n",
       "  'start_pos': None,\n",
       "  'end_pos': None,\n",
       "  'expression': None,\n",
       "  '_pos': 'NNG'},\n",
       " {'semantic': None,\n",
       "  'has_jongseong': False,\n",
       "  'reading': '에',\n",
       "  'type': None,\n",
       "  'start_pos': None,\n",
       "  'end_pos': None,\n",
       "  'expression': None,\n",
       "  '_pos': 'JKB'},\n",
       " {'semantic': '행위',\n",
       "  'has_jongseong': True,\n",
       "  'reading': '임상',\n",
       "  'type': None,\n",
       "  'start_pos': None,\n",
       "  'end_pos': None,\n",
       "  'expression': None,\n",
       "  '_pos': 'NNG'},\n",
       " {'semantic': None,\n",
       "  'has_jongseong': False,\n",
       "  'reading': '에',\n",
       "  'type': None,\n",
       "  'start_pos': None,\n",
       "  'end_pos': None,\n",
       "  'expression': None,\n",
       "  '_pos': 'JKB'},\n",
       " {'semantic': None,\n",
       "  'has_jongseong': True,\n",
       "  'reading': '따른',\n",
       "  'type': 'Inflect',\n",
       "  'start_pos': 'VV',\n",
       "  'end_pos': 'ETM',\n",
       "  'expression': '따르/VV/*+ᆫ/ETM/*',\n",
       "  '_pos': 'VV+ETM'},\n",
       " {'semantic': '행위',\n",
       "  'has_jongseong': True,\n",
       "  'reading': '차단',\n",
       "  'type': None,\n",
       "  'start_pos': None,\n",
       "  'end_pos': None,\n",
       "  'expression': None,\n",
       "  '_pos': 'NNG'},\n",
       " {'semantic': None,\n",
       "  'has_jongseong': False,\n",
       "  'reading': '지수',\n",
       "  'type': None,\n",
       "  'start_pos': None,\n",
       "  'end_pos': None,\n",
       "  'expression': None,\n",
       "  '_pos': 'NNG'},\n",
       " {'semantic': None,\n",
       "  'has_jongseong': True,\n",
       "  'reading': '를',\n",
       "  'type': None,\n",
       "  'start_pos': None,\n",
       "  'end_pos': None,\n",
       "  'expression': None,\n",
       "  '_pos': 'JKO'},\n",
       " {'semantic': None,\n",
       "  'has_jongseong': False,\n",
       "  'reading': '보',\n",
       "  'type': None,\n",
       "  'start_pos': None,\n",
       "  'end_pos': None,\n",
       "  'expression': None,\n",
       "  '_pos': 'VV'},\n",
       " {'semantic': None,\n",
       "  'has_jongseong': False,\n",
       "  'reading': '고',\n",
       "  'type': None,\n",
       "  'start_pos': None,\n",
       "  'end_pos': None,\n",
       "  'expression': None,\n",
       "  '_pos': 'EC'},\n",
       " {'semantic': None,\n",
       "  'has_jongseong': False,\n",
       "  'reading': '하',\n",
       "  'type': None,\n",
       "  'start_pos': None,\n",
       "  'end_pos': None,\n",
       "  'expression': None,\n",
       "  '_pos': 'VV'},\n",
       " {'semantic': None,\n",
       "  'has_jongseong': False,\n",
       "  'reading': '고',\n",
       "  'type': None,\n",
       "  'start_pos': None,\n",
       "  'end_pos': None,\n",
       "  'expression': None,\n",
       "  '_pos': 'EC'},\n",
       " {'semantic': '행위',\n",
       "  'has_jongseong': True,\n",
       "  'reading': '등록',\n",
       "  'type': None,\n",
       "  'start_pos': None,\n",
       "  'end_pos': None,\n",
       "  'expression': None,\n",
       "  '_pos': 'NNG'},\n",
       " {'semantic': None,\n",
       "  'has_jongseong': False,\n",
       "  'reading': '하',\n",
       "  'type': None,\n",
       "  'start_pos': None,\n",
       "  'end_pos': None,\n",
       "  'expression': None,\n",
       "  '_pos': 'XSV'},\n",
       " {'semantic': None,\n",
       "  'has_jongseong': False,\n",
       "  'reading': '기',\n",
       "  'type': None,\n",
       "  'start_pos': None,\n",
       "  'end_pos': None,\n",
       "  'expression': None,\n",
       "  '_pos': 'ETN'},\n",
       " {'semantic': None,\n",
       "  'has_jongseong': True,\n",
       "  'reading': '때문',\n",
       "  'type': None,\n",
       "  'start_pos': None,\n",
       "  'end_pos': None,\n",
       "  'expression': None,\n",
       "  '_pos': 'NNB'},\n",
       " {'semantic': None,\n",
       "  'has_jongseong': False,\n",
       "  'reading': '에',\n",
       "  'type': None,\n",
       "  'start_pos': None,\n",
       "  'end_pos': None,\n",
       "  'expression': None,\n",
       "  '_pos': 'JKB'},\n",
       " {'semantic': None,\n",
       "  'has_jongseong': False,\n",
       "  'reading': '소비자',\n",
       "  'type': 'Compound',\n",
       "  'start_pos': None,\n",
       "  'end_pos': None,\n",
       "  'expression': '소비/NNG/*+자/NNG/*',\n",
       "  '_pos': 'NNG'},\n",
       " {'semantic': None,\n",
       "  'has_jongseong': False,\n",
       "  'reading': '가',\n",
       "  'type': None,\n",
       "  'start_pos': None,\n",
       "  'end_pos': None,\n",
       "  'expression': None,\n",
       "  '_pos': 'JKS'},\n",
       " {'semantic': None,\n",
       "  'has_jongseong': True,\n",
       "  'reading': '화장품',\n",
       "  'type': 'Compound',\n",
       "  'start_pos': None,\n",
       "  'end_pos': None,\n",
       "  'expression': '화장/NNG/*+품/NNG/*',\n",
       "  '_pos': 'NNG'},\n",
       " {'semantic': None,\n",
       "  'has_jongseong': True,\n",
       "  'reading': '성분',\n",
       "  'type': None,\n",
       "  'start_pos': None,\n",
       "  'end_pos': None,\n",
       "  'expression': None,\n",
       "  '_pos': 'NNG'},\n",
       " {'semantic': None,\n",
       "  'has_jongseong': True,\n",
       "  'reading': '을',\n",
       "  'type': None,\n",
       "  'start_pos': None,\n",
       "  'end_pos': None,\n",
       "  'expression': None,\n",
       "  '_pos': 'JKO'},\n",
       " {'semantic': None,\n",
       "  'has_jongseong': False,\n",
       "  'reading': '보',\n",
       "  'type': None,\n",
       "  'start_pos': None,\n",
       "  'end_pos': None,\n",
       "  'expression': None,\n",
       "  '_pos': 'VV'},\n",
       " {'semantic': None,\n",
       "  'has_jongseong': False,\n",
       "  'reading': '고',\n",
       "  'type': None,\n",
       "  'start_pos': None,\n",
       "  'end_pos': None,\n",
       "  'expression': None,\n",
       "  '_pos': 'EC'},\n",
       " {'semantic': None,\n",
       "  'has_jongseong': True,\n",
       "  'reading': '자외선',\n",
       "  'type': 'Compound',\n",
       "  'start_pos': None,\n",
       "  'end_pos': None,\n",
       "  'expression': '자외/NNG/*+선/NNG/*',\n",
       "  '_pos': 'NNG'},\n",
       " {'semantic': '행위',\n",
       "  'has_jongseong': True,\n",
       "  'reading': '차단',\n",
       "  'type': None,\n",
       "  'start_pos': None,\n",
       "  'end_pos': None,\n",
       "  'expression': None,\n",
       "  '_pos': 'NNG'},\n",
       " {'semantic': None,\n",
       "  'has_jongseong': False,\n",
       "  'reading': '지수',\n",
       "  'type': None,\n",
       "  'start_pos': None,\n",
       "  'end_pos': None,\n",
       "  'expression': None,\n",
       "  '_pos': 'NNG'},\n",
       " {'semantic': None,\n",
       "  'has_jongseong': True,\n",
       "  'reading': '를',\n",
       "  'type': None,\n",
       "  'start_pos': None,\n",
       "  'end_pos': None,\n",
       "  'expression': None,\n",
       "  '_pos': 'JKO'},\n",
       " {'semantic': '행위',\n",
       "  'has_jongseong': True,\n",
       "  'reading': '추측',\n",
       "  'type': None,\n",
       "  'start_pos': None,\n",
       "  'end_pos': None,\n",
       "  'expression': None,\n",
       "  '_pos': 'NNG'},\n",
       " {'semantic': None,\n",
       "  'has_jongseong': True,\n",
       "  'reading': '할',\n",
       "  'type': 'Inflect',\n",
       "  'start_pos': 'XSV',\n",
       "  'end_pos': 'ETM',\n",
       "  'expression': '하/XSV/*+ᆯ/ETM/*',\n",
       "  '_pos': 'XSV+ETM'},\n",
       " {'semantic': '정적사태',\n",
       "  'has_jongseong': False,\n",
       "  'reading': '필요',\n",
       "  'type': None,\n",
       "  'start_pos': None,\n",
       "  'end_pos': None,\n",
       "  'expression': None,\n",
       "  '_pos': 'NNG'},\n",
       " {'semantic': None,\n",
       "  'has_jongseong': True,\n",
       "  'reading': '는',\n",
       "  'type': None,\n",
       "  'start_pos': None,\n",
       "  'end_pos': None,\n",
       "  'expression': None,\n",
       "  '_pos': 'JX'},\n",
       " {'semantic': None,\n",
       "  'has_jongseong': True,\n",
       "  'reading': '없',\n",
       "  'type': None,\n",
       "  'start_pos': None,\n",
       "  'end_pos': None,\n",
       "  'expression': None,\n",
       "  '_pos': 'VA'},\n",
       " {'semantic': None,\n",
       "  'has_jongseong': False,\n",
       "  'reading': '다',\n",
       "  'type': None,\n",
       "  'start_pos': None,\n",
       "  'end_pos': None,\n",
       "  'expression': None,\n",
       "  '_pos': 'EF'},\n",
       " {'semantic': None,\n",
       "  'has_jongseong': None,\n",
       "  'reading': None,\n",
       "  'type': None,\n",
       "  'start_pos': None,\n",
       "  'end_pos': None,\n",
       "  'expression': None,\n",
       "  '_pos': 'SF'},\n",
       " {'semantic': None,\n",
       "  'has_jongseong': None,\n",
       "  'reading': None,\n",
       "  'type': None,\n",
       "  'start_pos': None,\n",
       "  'end_pos': None,\n",
       "  'expression': None,\n",
       "  '_pos': 'SSO'},\n",
       " {'semantic': None,\n",
       "  'has_jongseong': True,\n",
       "  'reading': '만약',\n",
       "  'type': None,\n",
       "  'start_pos': None,\n",
       "  'end_pos': None,\n",
       "  'expression': None,\n",
       "  '_pos': 'NNG'},\n",
       " {'semantic': None,\n",
       "  'has_jongseong': False,\n",
       "  'reading': '표기',\n",
       "  'type': None,\n",
       "  'start_pos': None,\n",
       "  'end_pos': None,\n",
       "  'expression': None,\n",
       "  '_pos': 'NNG'},\n",
       " {'semantic': None,\n",
       "  'has_jongseong': True,\n",
       "  'reading': '된',\n",
       "  'type': 'Inflect',\n",
       "  'start_pos': 'XSV',\n",
       "  'end_pos': 'ETM',\n",
       "  'expression': '되/XSV/*+ᆫ/ETM/*',\n",
       "  '_pos': 'XSV+ETM'},\n",
       " {'semantic': '행위',\n",
       "  'has_jongseong': True,\n",
       "  'reading': '차단',\n",
       "  'type': None,\n",
       "  'start_pos': None,\n",
       "  'end_pos': None,\n",
       "  'expression': None,\n",
       "  '_pos': 'NNG'},\n",
       " {'semantic': None,\n",
       "  'has_jongseong': False,\n",
       "  'reading': '지수',\n",
       "  'type': None,\n",
       "  'start_pos': None,\n",
       "  'end_pos': None,\n",
       "  'expression': None,\n",
       "  '_pos': 'NNG'},\n",
       " {'semantic': None,\n",
       "  'has_jongseong': False,\n",
       "  'reading': '가',\n",
       "  'type': None,\n",
       "  'start_pos': None,\n",
       "  'end_pos': None,\n",
       "  'expression': None,\n",
       "  '_pos': 'JKS'},\n",
       " {'semantic': None,\n",
       "  'has_jongseong': False,\n",
       "  'reading': '다르',\n",
       "  'type': None,\n",
       "  'start_pos': None,\n",
       "  'end_pos': None,\n",
       "  'expression': None,\n",
       "  '_pos': 'VA'},\n",
       " {'semantic': None,\n",
       "  'has_jongseong': True,\n",
       "  'reading': '면',\n",
       "  'type': None,\n",
       "  'start_pos': None,\n",
       "  'end_pos': None,\n",
       "  'expression': None,\n",
       "  '_pos': 'EC'},\n",
       " {'semantic': None,\n",
       "  'has_jongseong': True,\n",
       "  'reading': '그건',\n",
       "  'type': 'Inflect',\n",
       "  'start_pos': 'NP',\n",
       "  'end_pos': 'JX',\n",
       "  'expression': '그거/NP/*+ㄴ/JX/*',\n",
       "  '_pos': 'NP+JX'},\n",
       " {'semantic': None,\n",
       "  'has_jongseong': False,\n",
       "  'reading': '사기',\n",
       "  'type': None,\n",
       "  'start_pos': None,\n",
       "  'end_pos': None,\n",
       "  'expression': None,\n",
       "  '_pos': 'NNG'},\n",
       " {'semantic': None,\n",
       "  'has_jongseong': False,\n",
       "  'reading': '이',\n",
       "  'type': None,\n",
       "  'start_pos': None,\n",
       "  'end_pos': None,\n",
       "  'expression': None,\n",
       "  '_pos': 'VCP'},\n",
       " {'semantic': None,\n",
       "  'has_jongseong': False,\n",
       "  'reading': '므로',\n",
       "  'type': None,\n",
       "  'start_pos': None,\n",
       "  'end_pos': None,\n",
       "  'expression': None,\n",
       "  '_pos': 'EC'},\n",
       " {'semantic': '~명사',\n",
       "  'has_jongseong': False,\n",
       "  'reading': '그',\n",
       "  'type': None,\n",
       "  'start_pos': None,\n",
       "  'end_pos': None,\n",
       "  'expression': None,\n",
       "  '_pos': 'MM'},\n",
       " {'semantic': None,\n",
       "  'has_jongseong': False,\n",
       "  'reading': '회사',\n",
       "  'type': None,\n",
       "  'start_pos': None,\n",
       "  'end_pos': None,\n",
       "  'expression': None,\n",
       "  '_pos': 'NNG'},\n",
       " {'semantic': None,\n",
       "  'has_jongseong': True,\n",
       "  'reading': '문',\n",
       "  'type': None,\n",
       "  'start_pos': None,\n",
       "  'end_pos': None,\n",
       "  'expression': None,\n",
       "  '_pos': 'NNG'},\n",
       " {'semantic': None,\n",
       "  'has_jongseong': True,\n",
       "  'reading': '닫',\n",
       "  'type': None,\n",
       "  'start_pos': None,\n",
       "  'end_pos': None,\n",
       "  'expression': None,\n",
       "  '_pos': 'VV'},\n",
       " {'semantic': None,\n",
       "  'has_jongseong': False,\n",
       "  'reading': '는다',\n",
       "  'type': None,\n",
       "  'start_pos': None,\n",
       "  'end_pos': None,\n",
       "  'expression': None,\n",
       "  '_pos': 'EC'},\n",
       " {'semantic': None,\n",
       "  'has_jongseong': None,\n",
       "  'reading': None,\n",
       "  'type': None,\n",
       "  'start_pos': None,\n",
       "  'end_pos': None,\n",
       "  'expression': None,\n",
       "  '_pos': 'SSC'},\n",
       " {'semantic': None,\n",
       "  'has_jongseong': None,\n",
       "  'reading': None,\n",
       "  'type': None,\n",
       "  'start_pos': None,\n",
       "  'end_pos': None,\n",
       "  'expression': None,\n",
       "  '_pos': 'SF'},\n",
       " {'semantic': None,\n",
       "  'has_jongseong': True,\n",
       "  'reading': '화장품',\n",
       "  'type': 'Compound',\n",
       "  'start_pos': None,\n",
       "  'end_pos': None,\n",
       "  'expression': '화장/NNG/*+품/NNG/*',\n",
       "  '_pos': 'NNG'},\n",
       " {'semantic': None,\n",
       "  'has_jongseong': True,\n",
       "  'reading': '성분',\n",
       "  'type': None,\n",
       "  'start_pos': None,\n",
       "  'end_pos': None,\n",
       "  'expression': None,\n",
       "  '_pos': 'NNG'},\n",
       " {'semantic': None,\n",
       "  'has_jongseong': True,\n",
       "  'reading': '을',\n",
       "  'type': None,\n",
       "  'start_pos': None,\n",
       "  'end_pos': None,\n",
       "  'expression': None,\n",
       "  '_pos': 'JKO'},\n",
       " {'semantic': None,\n",
       "  'has_jongseong': True,\n",
       "  'reading': '볼',\n",
       "  'type': 'Inflect',\n",
       "  'start_pos': 'VV',\n",
       "  'end_pos': 'ETM',\n",
       "  'expression': '보/VV/*+ᆯ/ETM/*',\n",
       "  '_pos': 'VV+ETM'},\n",
       " {'semantic': None,\n",
       "  'has_jongseong': False,\n",
       "  'reading': '때',\n",
       "  'type': None,\n",
       "  'start_pos': None,\n",
       "  'end_pos': None,\n",
       "  'expression': None,\n",
       "  '_pos': 'NNG'},\n",
       " {'semantic': None,\n",
       "  'has_jongseong': False,\n",
       "  'reading': '에',\n",
       "  'type': None,\n",
       "  'start_pos': None,\n",
       "  'end_pos': None,\n",
       "  'expression': None,\n",
       "  '_pos': 'JKB'},\n",
       " {'semantic': None,\n",
       "  'has_jongseong': True,\n",
       "  'reading': '는',\n",
       "  'type': None,\n",
       "  'start_pos': None,\n",
       "  'end_pos': None,\n",
       "  'expression': None,\n",
       "  '_pos': 'JX'},\n",
       " {'semantic': '~명사',\n",
       "  'has_jongseong': False,\n",
       "  'reading': '그',\n",
       "  'type': None,\n",
       "  'start_pos': None,\n",
       "  'end_pos': None,\n",
       "  'expression': None,\n",
       "  '_pos': 'MM'},\n",
       " {'semantic': None,\n",
       "  'has_jongseong': False,\n",
       "  'reading': '유해',\n",
       "  'type': None,\n",
       "  'start_pos': None,\n",
       "  'end_pos': None,\n",
       "  'expression': None,\n",
       "  '_pos': 'NNG'},\n",
       " {'semantic': None,\n",
       "  'has_jongseong': True,\n",
       "  'reading': '성',\n",
       "  'type': None,\n",
       "  'start_pos': None,\n",
       "  'end_pos': None,\n",
       "  'expression': None,\n",
       "  '_pos': 'XSN'},\n",
       " {'semantic': None,\n",
       "  'has_jongseong': True,\n",
       "  'reading': '을',\n",
       "  'type': None,\n",
       "  'start_pos': None,\n",
       "  'end_pos': None,\n",
       "  'expression': None,\n",
       "  '_pos': 'JKO'},\n",
       " {'semantic': None,\n",
       "  'has_jongseong': False,\n",
       "  'reading': '따지',\n",
       "  'type': None,\n",
       "  'start_pos': None,\n",
       "  'end_pos': None,\n",
       "  'expression': None,\n",
       "  '_pos': 'VV'},\n",
       " {'semantic': None,\n",
       "  'has_jongseong': False,\n",
       "  'reading': '거나',\n",
       "  'type': None,\n",
       "  'start_pos': None,\n",
       "  'end_pos': None,\n",
       "  'expression': None,\n",
       "  '_pos': 'EC'},\n",
       " {'semantic': None,\n",
       "  'has_jongseong': False,\n",
       "  'reading': '나와',\n",
       "  'type': 'Inflect',\n",
       "  'start_pos': 'VV',\n",
       "  'end_pos': 'EC',\n",
       "  'expression': '나오/VV/*+아/EC/*',\n",
       "  '_pos': 'VV+EC'},\n",
       " {'semantic': None,\n",
       "  'has_jongseong': True,\n",
       "  'reading': '맞',\n",
       "  'type': None,\n",
       "  'start_pos': None,\n",
       "  'end_pos': None,\n",
       "  'expression': None,\n",
       "  '_pos': 'VV'},\n",
       " {'semantic': None,\n",
       "  'has_jongseong': False,\n",
       "  'reading': '지',\n",
       "  'type': None,\n",
       "  'start_pos': None,\n",
       "  'end_pos': None,\n",
       "  'expression': None,\n",
       "  '_pos': 'EC'},\n",
       " {'semantic': None,\n",
       "  'has_jongseong': True,\n",
       "  'reading': '않',\n",
       "  'type': None,\n",
       "  'start_pos': None,\n",
       "  'end_pos': None,\n",
       "  'expression': None,\n",
       "  '_pos': 'VX'},\n",
       " {'semantic': None,\n",
       "  'has_jongseong': True,\n",
       "  'reading': '는',\n",
       "  'type': None,\n",
       "  'start_pos': None,\n",
       "  'end_pos': None,\n",
       "  'expression': None,\n",
       "  '_pos': 'ETM'},\n",
       " {'semantic': None,\n",
       "  'has_jongseong': True,\n",
       "  'reading': '성분',\n",
       "  'type': None,\n",
       "  'start_pos': None,\n",
       "  'end_pos': None,\n",
       "  'expression': None,\n",
       "  '_pos': 'NNG'},\n",
       " {'semantic': None,\n",
       "  'has_jongseong': True,\n",
       "  'reading': '을',\n",
       "  'type': None,\n",
       "  'start_pos': None,\n",
       "  'end_pos': None,\n",
       "  'expression': None,\n",
       "  '_pos': 'JKO'},\n",
       " {'semantic': None,\n",
       "  'has_jongseong': True,\n",
       "  'reading': '찾',\n",
       "  'type': None,\n",
       "  'start_pos': None,\n",
       "  'end_pos': None,\n",
       "  'expression': None,\n",
       "  '_pos': 'VV'},\n",
       " {'semantic': None,\n",
       "  'has_jongseong': True,\n",
       "  'reading': '을',\n",
       "  'type': None,\n",
       "  'start_pos': None,\n",
       "  'end_pos': None,\n",
       "  'expression': None,\n",
       "  '_pos': 'ETM'},\n",
       " {'semantic': None,\n",
       "  'has_jongseong': False,\n",
       "  'reading': '때',\n",
       "  'type': None,\n",
       "  'start_pos': None,\n",
       "  'end_pos': None,\n",
       "  'expression': None,\n",
       "  '_pos': 'NNG'},\n",
       " {'semantic': None,\n",
       "  'has_jongseong': False,\n",
       "  'reading': '이',\n",
       "  'type': None,\n",
       "  'start_pos': None,\n",
       "  'end_pos': None,\n",
       "  'expression': None,\n",
       "  '_pos': 'VCP'},\n",
       " {'semantic': None,\n",
       "  'has_jongseong': False,\n",
       "  'reading': '다',\n",
       "  'type': None,\n",
       "  'start_pos': None,\n",
       "  'end_pos': None,\n",
       "  'expression': None,\n",
       "  '_pos': 'EF'},\n",
       " {'semantic': None,\n",
       "  'has_jongseong': None,\n",
       "  'reading': None,\n",
       "  'type': None,\n",
       "  'start_pos': None,\n",
       "  'end_pos': None,\n",
       "  'expression': None,\n",
       "  '_pos': 'SF'}]"
      ]
     },
     "execution_count": 20,
     "metadata": {},
     "output_type": "execute_result"
    }
   ],
   "source": [
    "result[1]"
   ]
  },
  {
   "cell_type": "code",
   "execution_count": 10,
   "metadata": {},
   "outputs": [
    {
     "data": {
      "text/plain": [
       "{'_tokenizable': True}"
      ]
     },
     "execution_count": 10,
     "metadata": {},
     "output_type": "execute_result"
    }
   ],
   "source": [
    "result.features"
   ]
  },
  {
   "cell_type": "code",
   "execution_count": 12,
   "metadata": {
    "collapsed": true,
    "jupyter": {
     "outputs_hidden": true
    }
   },
   "outputs": [
    {
     "data": {
      "text/plain": [
       "[{'_pos': Feature(pos='NNG', semantic=None, has_jongseong=False, reading='대표', type=None, start_pos=None, end_pos=None, expression=None)},\n",
       " {'_pos': Feature(pos='XSN', semantic=None, has_jongseong=True, reading='적', type=None, start_pos=None, end_pos=None, expression=None)},\n",
       " {'_pos': Feature(pos='VCP+ETM', semantic=None, has_jongseong=True, reading='인', type='Inflect', start_pos='VCP', end_pos='ETM', expression='이/VCP/*+ᆫ/ETM/*')},\n",
       " {'_pos': Feature(pos='NNG', semantic=None, has_jongseong=True, reading='성분', type=None, start_pos=None, end_pos=None, expression=None)},\n",
       " {'_pos': Feature(pos='JKB', semantic=None, has_jongseong=False, reading='으로', type=None, start_pos=None, end_pos=None, expression=None)},\n",
       " {'_pos': Feature(pos='NNG', semantic=None, has_jongseong=False, reading='아보', type=None, start_pos=None, end_pos=None, expression=None)},\n",
       " {'_pos': Feature(pos='NNP', semantic='인명', has_jongseong=True, reading='벤존', type=None, start_pos=None, end_pos=None, expression=None)},\n",
       " {'_pos': Feature(pos='SSO', semantic=None, has_jongseong=None, reading=None, type=None, start_pos=None, end_pos=None, expression=None)},\n",
       " {'_pos': Feature(pos='NNG', semantic=None, has_jongseong=False, reading='파', type=None, start_pos=None, end_pos=None, expression=None)},\n",
       " {'_pos': Feature(pos='NNG', semantic=None, has_jongseong=True, reading='솔', type=None, start_pos=None, end_pos=None, expression=None)},\n",
       " {'_pos': Feature(pos='SN', semantic=None, has_jongseong=None, reading=None, type=None, start_pos=None, end_pos=None, expression=None)},\n",
       " {'_pos': Feature(pos='SC', semantic=None, has_jongseong=None, reading=None, type=None, start_pos=None, end_pos=None, expression=None)},\n",
       " {'_pos': 'kpe'},\n",
       " {'_pos': Feature(pos='NNG', semantic=None, has_jongseong=False, reading='표기', type=None, start_pos=None, end_pos=None, expression=None)},\n",
       " {'_pos': Feature(pos='SSC', semantic=None, has_jongseong=None, reading=None, type=None, start_pos=None, end_pos=None, expression=None)},\n",
       " {'_pos': Feature(pos='SSO', semantic=None, has_jongseong=None, reading=None, type=None, start_pos=None, end_pos=None, expression=None)},\n",
       " {'_pos': Feature(pos='SN', semantic=None, has_jongseong=None, reading=None, type=None, start_pos=None, end_pos=None, expression=None)},\n",
       " {'_pos': Feature(pos='SSC', semantic=None, has_jongseong=None, reading=None, type=None, start_pos=None, end_pos=None, expression=None)},\n",
       " {'_pos': Feature(pos='SC', semantic=None, has_jongseong=None, reading=None, type=None, start_pos=None, end_pos=None, expression=None)},\n",
       " {'_pos': Feature(pos='NNG', semantic=None, has_jongseong=False, reading='옥티', type='Compound', start_pos=None, end_pos=None, expression='옥/NNG/*+티/NNG/*')},\n",
       " {'_pos': Feature(pos='NNG', semantic=None, has_jongseong=True, reading='녹', type=None, start_pos=None, end_pos=None, expression=None)},\n",
       " {'_pos': Feature(pos='NNG', semantic=None, has_jongseong=False, reading='세이', type=None, start_pos=None, end_pos=None, expression=None)},\n",
       " {'_pos': Feature(pos='NNG', semantic=None, has_jongseong=False, reading='트', type=None, start_pos=None, end_pos=None, expression=None)},\n",
       " {'_pos': Feature(pos='SSO', semantic=None, has_jongseong=None, reading=None, type=None, start_pos=None, end_pos=None, expression=None)},\n",
       " {'_pos': 'kpe'},\n",
       " {'_pos': Feature(pos='SSC', semantic=None, has_jongseong=None, reading=None, type=None, start_pos=None, end_pos=None, expression=None)},\n",
       " {'_pos': Feature(pos='NNB', semantic=None, has_jongseong=True, reading='등', type=None, start_pos=None, end_pos=None, expression=None)},\n",
       " {'_pos': Feature(pos='JKS', semantic=None, has_jongseong=False, reading='이', type=None, start_pos=None, end_pos=None, expression=None)},\n",
       " {'_pos': Feature(pos='VV', semantic=None, has_jongseong=True, reading='있', type=None, start_pos=None, end_pos=None, expression=None)},\n",
       " {'_pos': Feature(pos='EC', semantic=None, has_jongseong=False, reading='다', type=None, start_pos=None, end_pos=None, expression=None)},\n",
       " {'_pos': Feature(pos='SY', semantic=None, has_jongseong=None, reading=None, type=None, start_pos=None, end_pos=None, expression=None)},\n",
       " {'_pos': Feature(pos='SN', semantic=None, has_jongseong=None, reading=None, type=None, start_pos=None, end_pos=None, expression=None)},\n",
       " {'_pos': Feature(pos='NNBC', semantic=None, has_jongseong=False, reading='가지', type=None, start_pos=None, end_pos=None, expression=None)},\n",
       " {'_pos': Feature(pos='NNG', semantic=None, has_jongseong=True, reading='성분', type=None, start_pos=None, end_pos=None, expression=None)},\n",
       " {'_pos': Feature(pos='NNB', semantic=None, has_jongseong=True, reading='뿐', type=None, start_pos=None, end_pos=None, expression=None)},\n",
       " {'_pos': Feature(pos='VCP', semantic=None, has_jongseong=False, reading='이', type=None, start_pos=None, end_pos=None, expression=None)},\n",
       " {'_pos': Feature(pos='EC', semantic=None, has_jongseong=False, reading='라', type=None, start_pos=None, end_pos=None, expression=None)},\n",
       " {'_pos': Feature(pos='VV', semantic=None, has_jongseong=True, reading='알', type=None, start_pos=None, end_pos=None, expression=None)},\n",
       " {'_pos': Feature(pos='ETN', semantic=None, has_jongseong=False, reading='기', type=None, start_pos=None, end_pos=None, expression=None)},\n",
       " {'_pos': Feature(pos='VA+ETM', semantic=None, has_jongseong=True, reading='쉬운', type='Inflect', start_pos='VA', end_pos='ETM', expression='쉽/VA/*+ᆫ/ETM/*')},\n",
       " {'_pos': Feature(pos='NNG', semantic=None, has_jongseong=False, reading='물리', type=None, start_pos=None, end_pos=None, expression=None)},\n",
       " {'_pos': Feature(pos='XSN', semantic=None, has_jongseong=True, reading='적', type=None, start_pos=None, end_pos=None, expression=None)},\n",
       " {'_pos': Feature(pos='NNG', semantic='행위', has_jongseong=True, reading='차단', type=None, start_pos=None, end_pos=None, expression=None)},\n",
       " {'_pos': Feature(pos='NNG', semantic=None, has_jongseong=True, reading='성분', type=None, start_pos=None, end_pos=None, expression=None)},\n",
       " {'_pos': Feature(pos='XSN', semantic=None, has_jongseong=True, reading='들', type=None, start_pos=None, end_pos=None, expression=None)},\n",
       " {'_pos': Feature(pos='JKB', semantic=None, has_jongseong=False, reading='에', type=None, start_pos=None, end_pos=None, expression=None)},\n",
       " {'_pos': Feature(pos='VV+EC', semantic=None, has_jongseong=False, reading='비해', type='Inflect', start_pos='VV', end_pos='EC', expression='비하/VV/*+아/EC/*')},\n",
       " {'_pos': Feature(pos='NNG', semantic=None, has_jongseong=False, reading='가짓수', type='Compound', start_pos=None, end_pos=None, expression='가짓/NNG/*+수/NNG/*')},\n",
       " {'_pos': Feature(pos='JX', semantic=None, has_jongseong=False, reading='도', type=None, start_pos=None, end_pos=None, expression=None)},\n",
       " {'_pos': Feature(pos='NNG', semantic=None, has_jongseong=True, reading='다양', type=None, start_pos=None, end_pos=None, expression=None)},\n",
       " {'_pos': Feature(pos='XSV', semantic=None, has_jongseong=False, reading='하', type=None, start_pos=None, end_pos=None, expression=None)},\n",
       " {'_pos': Feature(pos='EC', semantic=None, has_jongseong=False, reading='고', type=None, start_pos=None, end_pos=None, expression=None)},\n",
       " {'_pos': Feature(pos='MAG', semantic='성분부사|정도부사', has_jongseong=True, reading='그만큼', type=None, start_pos=None, end_pos=None, expression=None)},\n",
       " {'_pos': Feature(pos='NNG', semantic='행위', has_jongseong=True, reading='차단', type=None, start_pos=None, end_pos=None, expression=None)},\n",
       " {'_pos': Feature(pos='NNG', semantic=None, has_jongseong=False, reading='범위', type=None, start_pos=None, end_pos=None, expression=None)},\n",
       " {'_pos': Feature(pos='JX', semantic=None, has_jongseong=False, reading='도', type=None, start_pos=None, end_pos=None, expression=None)},\n",
       " {'_pos': Feature(pos='VA', semantic=None, has_jongseong=True, reading='넓', type=None, start_pos=None, end_pos=None, expression=None)},\n",
       " {'_pos': Feature(pos='EC', semantic=None, has_jongseong=False, reading='고', type=None, start_pos=None, end_pos=None, expression=None)},\n",
       " {'_pos': Feature(pos='NNG', semantic=None, has_jongseong=True, reading='조합', type=None, start_pos=None, end_pos=None, expression=None)},\n",
       " {'_pos': Feature(pos='XSV', semantic=None, has_jongseong=False, reading='하', type=None, start_pos=None, end_pos=None, expression=None)},\n",
       " {'_pos': Feature(pos='ETM', semantic=None, has_jongseong=True, reading='는', type=None, start_pos=None, end_pos=None, expression=None)},\n",
       " {'_pos': Feature(pos='NNG', semantic=None, has_jongseong=True, reading='성분', type=None, start_pos=None, end_pos=None, expression=None)},\n",
       " {'_pos': Feature(pos='NNG', semantic=None, has_jongseong=True, reading='구성', type=None, start_pos=None, end_pos=None, expression=None)},\n",
       " {'_pos': Feature(pos='JX', semantic=None, has_jongseong=False, reading='도', type=None, start_pos=None, end_pos=None, expression=None)},\n",
       " {'_pos': Feature(pos='XR', semantic=None, has_jongseong=True, reading='다양', type=None, start_pos=None, end_pos=None, expression=None)},\n",
       " {'_pos': Feature(pos='XSA', semantic=None, has_jongseong=False, reading='하', type=None, start_pos=None, end_pos=None, expression=None)},\n",
       " {'_pos': Feature(pos='EF', semantic=None, has_jongseong=False, reading='다', type=None, start_pos=None, end_pos=None, expression=None)},\n",
       " {'_pos': Feature(pos='SF', semantic=None, has_jongseong=None, reading=None, type=None, start_pos=None, end_pos=None, expression=None)},\n",
       " {'_pos': Feature(pos='NNG', semantic='장소', has_jongseong=False, reading='국내', type=None, start_pos=None, end_pos=None, expression=None)},\n",
       " {'_pos': Feature(pos='JKB', semantic=None, has_jongseong=False, reading='에서', type=None, start_pos=None, end_pos=None, expression=None)},\n",
       " {'_pos': Feature(pos='MAG', semantic='성분부사|정도부사', has_jongseong=True, reading='가장', type=None, start_pos=None, end_pos=None, expression=None)},\n",
       " {'_pos': Feature(pos='MAG', semantic='성분부사|정도부사', has_jongseong=False, reading='많이', type=None, start_pos=None, end_pos=None, expression=None)},\n",
       " {'_pos': Feature(pos='NNG', semantic='행위', has_jongseong=True, reading='사용', type=None, start_pos=None, end_pos=None, expression=None)},\n",
       " {'_pos': Feature(pos='XSV', semantic=None, has_jongseong=False, reading='되', type=None, start_pos=None, end_pos=None, expression=None)},\n",
       " {'_pos': Feature(pos='ETM', semantic=None, has_jongseong=True, reading='는', type=None, start_pos=None, end_pos=None, expression=None)},\n",
       " {'_pos': Feature(pos='NNB', semantic=None, has_jongseong=True, reading='것', type=None, start_pos=None, end_pos=None, expression=None)},\n",
       " {'_pos': Feature(pos='JX', semantic=None, has_jongseong=True, reading='은', type=None, start_pos=None, end_pos=None, expression=None)},\n",
       " {'_pos': Feature(pos='NNP', semantic='인명', has_jongseong=False, reading='아보', type=None, start_pos=None, end_pos=None, expression=None)},\n",
       " {'_pos': Feature(pos='NNP', semantic='인명', has_jongseong=True, reading='벤존', type=None, start_pos=None, end_pos=None, expression=None)},\n",
       " {'_pos': Feature(pos='JKC', semantic=None, has_jongseong=False, reading='이', type=None, start_pos=None, end_pos=None, expression=None)},\n",
       " {'_pos': Feature(pos='VCN+ETM', semantic=None, has_jongseong=True, reading='아닌', type='Inflect', start_pos='VCN', end_pos='ETM', expression='아니/VCN/*+ᆫ/ETM/*')},\n",
       " {'_pos': 'kpe'},\n",
       " {'_pos': Feature(pos='VCP+EC', semantic=None, has_jongseong=False, reading='인데', type='Inflect', start_pos='VCP', end_pos='EC', expression='이/VCP/*+ᆫ데/EC/*')},\n",
       " {'_pos': Feature(pos='NP+JKS', semantic=None, has_jongseong=False, reading='이게', type='Inflect', start_pos='NP', end_pos='JKS', expression='이것/NP/*+이/JKS/*')},\n",
       " {'_pos': Feature(pos='IC', semantic=None, has_jongseong=True, reading='참', type=None, start_pos=None, end_pos=None, expression=None)},\n",
       " {'_pos': Feature(pos='SF', semantic=None, has_jongseong=None, reading=None, type=None, start_pos=None, end_pos=None, expression=None)},\n",
       " {'_pos': Feature(pos='SY', semantic=None, has_jongseong=None, reading=None, type=None, start_pos=None, end_pos=None, expression=None)},\n",
       " {'_pos': Feature(pos='NNP', semantic='인명', has_jongseong=False, reading='아보', type=None, start_pos=None, end_pos=None, expression=None)},\n",
       " {'_pos': Feature(pos='NNP', semantic='인명', has_jongseong=True, reading='벤존', type=None, start_pos=None, end_pos=None, expression=None)},\n",
       " {'_pos': Feature(pos='JX', semantic=None, has_jongseong=True, reading='은', type=None, start_pos=None, end_pos=None, expression=None)},\n",
       " {'_pos': Feature(pos='NNG', semantic=None, has_jongseong=True, reading='벤조페논', type='Compound', start_pos=None, end_pos=None, expression='벤조/NNG/*+페논/NNG/*')},\n",
       " {'_pos': Feature(pos='XSN', semantic=None, has_jongseong=False, reading='계', type=None, start_pos=None, end_pos=None, expression=None)},\n",
       " {'_pos': Feature(pos='NNG', semantic=None, has_jongseong=True, reading='광', type=None, start_pos=None, end_pos=None, expression=None)},\n",
       " {'_pos': Feature(pos='NNG', semantic=None, has_jongseong=False, reading='증감제', type='Compound', start_pos=None, end_pos=None, expression='증감/NNG/상태변화+제/NNG/*')},\n",
       " {'_pos': Feature(pos='JKB', semantic=None, has_jongseong=False, reading='로', type=None, start_pos=None, end_pos=None, expression=None)},\n",
       " {'_pos': Feature(pos='SL', semantic=None, has_jongseong=None, reading=None, type=None, start_pos=None, end_pos=None, expression=None)},\n",
       " {'_pos': Feature(pos='NNG', semantic=None, has_jongseong=True, reading='파장', type=None, start_pos=None, end_pos=None, expression=None)},\n",
       " {'_pos': Feature(pos='NNG', semantic=None, has_jongseong=False, reading='일부', type=None, start_pos=None, end_pos=None, expression=None)},\n",
       " {'_pos': Feature(pos='JKO', semantic=None, has_jongseong=True, reading='를', type=None, start_pos=None, end_pos=None, expression=None)},\n",
       " {'_pos': Feature(pos='VV+ETM', semantic=None, has_jongseong=True, reading='들뜬', type='Inflect', start_pos='VV', end_pos='ETM', expression='들뜨/VV/*+ᆫ/ETM/*')},\n",
       " {'_pos': Feature(pos='NNG', semantic=None, has_jongseong=False, reading='에너지', type=None, start_pos=None, end_pos=None, expression=None)},\n",
       " {'_pos': Feature(pos='NNG', semantic='정적사태', has_jongseong=False, reading='상태', type=None, start_pos=None, end_pos=None, expression=None)},\n",
       " {'_pos': Feature(pos='JKB', semantic=None, has_jongseong=False, reading='로', type=None, start_pos=None, end_pos=None, expression=None)},\n",
       " {'_pos': Feature(pos='VV', semantic=None, has_jongseong=True, reading='만들', type=None, start_pos=None, end_pos=None, expression=None)},\n",
       " {'_pos': Feature(pos='EC', semantic=None, has_jongseong=False, reading='어', type=None, start_pos=None, end_pos=None, expression=None)},\n",
       " {'_pos': Feature(pos='VV+EF', semantic=None, has_jongseong=False, reading='내보낸다', type='Inflect', start_pos='VV', end_pos='EF', expression='내보내/VV/*+ᆫ다/EF/*')},\n",
       " {'_pos': Feature(pos='SF', semantic=None, has_jongseong=None, reading=None, type=None, start_pos=None, end_pos=None, expression=None)},\n",
       " {'_pos': Feature(pos='MAJ', semantic=None, has_jongseong=True, reading='즉', type=None, start_pos=None, end_pos=None, expression=None)},\n",
       " {'_pos': Feature(pos='SC', semantic=None, has_jongseong=None, reading=None, type=None, start_pos=None, end_pos=None, expression=None)},\n",
       " {'_pos': Feature(pos='SL', semantic=None, has_jongseong=None, reading=None, type=None, start_pos=None, end_pos=None, expression=None)},\n",
       " {'_pos': Feature(pos='NNG', semantic=None, has_jongseong=True, reading='파장', type=None, start_pos=None, end_pos=None, expression=None)},\n",
       " {'_pos': Feature(pos='JKG', semantic=None, has_jongseong=False, reading='의', type=None, start_pos=None, end_pos=None, expression=None)},\n",
       " {'_pos': Feature(pos='NNG', semantic=None, has_jongseong=False, reading='전부', type=None, start_pos=None, end_pos=None, expression=None)},\n",
       " {'_pos': Feature(pos='JX', semantic=None, has_jongseong=True, reading='는', type=None, start_pos=None, end_pos=None, expression=None)},\n",
       " {'_pos': Feature(pos='VCN+EC', semantic=None, has_jongseong=False, reading='아닐지라도', type='Inflect', start_pos='VCN', end_pos='EC', expression='아니/VCN/*+ᆯ지라도/EC/*')},\n",
       " {'_pos': Feature(pos='NNG', semantic=None, has_jongseong=False, reading='효과', type=None, start_pos=None, end_pos=None, expression=None)},\n",
       " {'_pos': Feature(pos='XSN', semantic=None, has_jongseong=True, reading='적', type=None, start_pos=None, end_pos=None, expression=None)},\n",
       " {'_pos': Feature(pos='JKB', semantic=None, has_jongseong=False, reading='으로', type=None, start_pos=None, end_pos=None, expression=None)},\n",
       " {'_pos': Feature(pos='NNG', semantic='행위', has_jongseong=True, reading='차단', type=None, start_pos=None, end_pos=None, expression=None)},\n",
       " {'_pos': Feature(pos='XSV+EF', semantic=None, has_jongseong=False, reading='한다', type='Inflect', start_pos='XSV', end_pos='EF', expression='하/XSV/*+ᆫ다/EF/*')},\n",
       " {'_pos': Feature(pos='SF', semantic=None, has_jongseong=None, reading=None, type=None, start_pos=None, end_pos=None, expression=None)},\n",
       " {'_pos': Feature(pos='NNG', semantic=None, has_jongseong=True, reading='반', type=None, start_pos=None, end_pos=None, expression=None)},\n",
       " {'_pos': Feature(pos='JKB', semantic=None, has_jongseong=False, reading='대로', type=None, start_pos=None, end_pos=None, expression=None)},\n",
       " {'_pos': 'kpe'},\n",
       " {'_pos': Feature(pos='JX', semantic=None, has_jongseong=True, reading='는', type=None, start_pos=None, end_pos=None, expression=None)},\n",
       " {'_pos': Feature(pos='SL', semantic=None, has_jongseong=None, reading=None, type=None, start_pos=None, end_pos=None, expression=None)},\n",
       " {'_pos': Feature(pos='NNG', semantic=None, has_jongseong=True, reading='파장', type=None, start_pos=None, end_pos=None, expression=None)},\n",
       " {'_pos': Feature(pos='JKB', semantic=None, has_jongseong=False, reading='에', type=None, start_pos=None, end_pos=None, expression=None)},\n",
       " {'_pos': Feature(pos='VV+EC', semantic=None, has_jongseong=False, reading='대해서', type='Inflect', start_pos='VV', end_pos='EC', expression='대하/VV/*+아서/EC/*')},\n",
       " {'_pos': Feature(pos='JX', semantic=None, has_jongseong=True, reading='만', type=None, start_pos=None, end_pos=None, expression=None)},\n",
       " {'_pos': Feature(pos='NNG', semantic=None, has_jongseong=False, reading='효과', type=None, start_pos=None, end_pos=None, expression=None)},\n",
       " {'_pos': Feature(pos='XSN', semantic=None, has_jongseong=True, reading='적', type=None, start_pos=None, end_pos=None, expression=None)},\n",
       " {'_pos': Feature(pos='JKB', semantic=None, has_jongseong=False, reading='으로', type=None, start_pos=None, end_pos=None, expression=None)},\n",
       " {'_pos': Feature(pos='NNG', semantic=None, has_jongseong=True, reading='반응', type=None, start_pos=None, end_pos=None, expression=None)},\n",
       " {'_pos': Feature(pos='XSV', semantic=None, has_jongseong=False, reading='하', type=None, start_pos=None, end_pos=None, expression=None)},\n",
       " {'_pos': Feature(pos='EC', semantic=None, has_jongseong=False, reading='지', type=None, start_pos=None, end_pos=None, expression=None)},\n",
       " {'_pos': Feature(pos='SL', semantic=None, has_jongseong=None, reading=None, type=None, start_pos=None, end_pos=None, expression=None)},\n",
       " {'_pos': Feature(pos='JKB', semantic=None, has_jongseong=False, reading='에', type=None, start_pos=None, end_pos=None, expression=None)},\n",
       " {'_pos': Feature(pos='VV+EC', semantic=None, has_jongseong=False, reading='대해서', type='Inflect', start_pos='VV', end_pos='EC', expression='대하/VV/*+아서/EC/*')},\n",
       " {'_pos': Feature(pos='JX', semantic=None, has_jongseong=True, reading='는', type=None, start_pos=None, end_pos=None, expression=None)},\n",
       " {'_pos': Feature(pos='MAG', semantic='성분부사|정도부사', has_jongseong=False, reading='거의', type=None, start_pos=None, end_pos=None, expression=None)},\n",
       " {'_pos': Feature(pos='NNG', semantic=None, has_jongseong=True, reading='반응', type=None, start_pos=None, end_pos=None, expression=None)},\n",
       " {'_pos': Feature(pos='XSV', semantic=None, has_jongseong=False, reading='하', type=None, start_pos=None, end_pos=None, expression=None)},\n",
       " {'_pos': Feature(pos='EC', semantic=None, has_jongseong=False, reading='지', type=None, start_pos=None, end_pos=None, expression=None)},\n",
       " {'_pos': Feature(pos='VX', semantic=None, has_jongseong=True, reading='않', type=None, start_pos=None, end_pos=None, expression=None)},\n",
       " {'_pos': Feature(pos='EF', semantic=None, has_jongseong=False, reading='는다', type=None, start_pos=None, end_pos=None, expression=None)},\n",
       " {'_pos': Feature(pos='SF', semantic=None, has_jongseong=None, reading=None, type=None, start_pos=None, end_pos=None, expression=None)},\n",
       " {'_pos': Feature(pos='NNG', semantic=None, has_jongseong=True, reading='화장품', type='Compound', start_pos=None, end_pos=None, expression='화장/NNG/*+품/NNG/*')},\n",
       " {'_pos': Feature(pos='NNG', semantic=None, has_jongseong=False, reading='업계', type=None, start_pos=None, end_pos=None, expression=None)},\n",
       " {'_pos': Feature(pos='JC', semantic=None, has_jongseong=False, reading='나', type=None, start_pos=None, end_pos=None, expression=None)},\n",
       " {'_pos': Feature(pos='MAJ', semantic=None, has_jongseong=False, reading='이른바', type=None, start_pos=None, end_pos=None, expression=None)},\n",
       " {'_pos': Feature(pos='SY', semantic=None, has_jongseong=None, reading=None, type=None, start_pos=None, end_pos=None, expression=None)},\n",
       " {'_pos': Feature(pos='NNG', semantic=None, has_jongseong=False, reading='뷰티', type=None, start_pos=None, end_pos=None, expression=None)},\n",
       " {'_pos': Feature(pos='NNG', semantic=None, has_jongseong=False, reading='블로그', type=None, start_pos=None, end_pos=None, expression=None)},\n",
       " {'_pos': Feature(pos='SY', semantic=None, has_jongseong=None, reading=None, type=None, start_pos=None, end_pos=None, expression=None)},\n",
       " {'_pos': Feature(pos='JKO', semantic=None, has_jongseong=True, reading='를', type=None, start_pos=None, end_pos=None, expression=None)},\n",
       " {'_pos': Feature(pos='NNG', semantic='행위', has_jongseong=True, reading='자칭', type=None, start_pos=None, end_pos=None, expression=None)},\n",
       " {'_pos': Feature(pos='XSV', semantic=None, has_jongseong=False, reading='하', type=None, start_pos=None, end_pos=None, expression=None)},\n",
       " {'_pos': Feature(pos='ETM', semantic=None, has_jongseong=True, reading='는', type=None, start_pos=None, end_pos=None, expression=None)},\n",
       " {'_pos': Feature(pos='NNG', semantic=None, has_jongseong=True, reading='일각', type=None, start_pos=None, end_pos=None, expression=None)},\n",
       " {'_pos': Feature(pos='JKB', semantic=None, has_jongseong=False, reading='에서', type=None, start_pos=None, end_pos=None, expression=None)},\n",
       " {'_pos': Feature(pos='JX', semantic=None, has_jongseong=True, reading='는', type=None, start_pos=None, end_pos=None, expression=None)},\n",
       " {'_pos': Feature(pos='SL', semantic=None, has_jongseong=None, reading=None, type=None, start_pos=None, end_pos=None, expression=None)},\n",
       " {'_pos': Feature(pos='JX', semantic=None, has_jongseong=False, reading='도', type=None, start_pos=None, end_pos=None, expression=None)},\n",
       " {'_pos': Feature(pos='NNG', semantic='행위', has_jongseong=True, reading='차단', type=None, start_pos=None, end_pos=None, expression=None)},\n",
       " {'_pos': Feature(pos='XSV', semantic=None, has_jongseong=False, reading='하', type=None, start_pos=None, end_pos=None, expression=None)},\n",
       " {'_pos': Feature(pos='ETM', semantic=None, has_jongseong=True, reading='는', type=None, start_pos=None, end_pos=None, expression=None)},\n",
       " {'_pos': Feature(pos='NNG', semantic=None, has_jongseong=True, reading='성분', type=None, start_pos=None, end_pos=None, expression=None)},\n",
       " {'_pos': Feature(pos='VCP', semantic=None, has_jongseong=False, reading='이', type=None, start_pos=None, end_pos=None, expression=None)},\n",
       " {'_pos': Feature(pos='EC', semantic=None, has_jongseong=False, reading='라며', type=None, start_pos=None, end_pos=None, expression=None)},\n",
       " {'_pos': Feature(pos='NNG', semantic=None, has_jongseong=False, reading='광고', type=None, start_pos=None, end_pos=None, expression=None)},\n",
       " {'_pos': Feature(pos='XSV+EF', semantic=None, has_jongseong=False, reading='한다', type='Inflect', start_pos='XSV', end_pos='EF', expression='하/XSV/*+ᆫ다/EF/*')},\n",
       " {'_pos': Feature(pos='SF', semantic=None, has_jongseong=None, reading=None, type=None, start_pos=None, end_pos=None, expression=None)},\n",
       " {'_pos': Feature(pos='MAJ', semantic=None, has_jongseong=True, reading='하지만', type=None, start_pos=None, end_pos=None, expression=None)},\n",
       " {'_pos': Feature(pos='NNG', semantic=None, has_jongseong=True, reading='과학', type=None, start_pos=None, end_pos=None, expression=None)},\n",
       " {'_pos': Feature(pos='JKO', semantic=None, has_jongseong=True, reading='을', type=None, start_pos=None, end_pos=None, expression=None)},\n",
       " {'_pos': Feature(pos='NNG', semantic=None, has_jongseong=True, reading='조금', type=None, start_pos=None, end_pos=None, expression=None)},\n",
       " {'_pos': Feature(pos='VCP', semantic=None, has_jongseong=False, reading='이', type=None, start_pos=None, end_pos=None, expression=None)},\n",
       " {'_pos': Feature(pos='EC', semantic=None, has_jongseong=False, reading='라도', type=None, start_pos=None, end_pos=None, expression=None)},\n",
       " {'_pos': Feature(pos='NNG', semantic='행위', has_jongseong=False, reading='공부', type=None, start_pos=None, end_pos=None, expression=None)},\n",
       " {'_pos': Feature(pos='XSV+ETM', semantic=None, has_jongseong=True, reading='한', type='Inflect', start_pos='XSV', end_pos='ETM', expression='하/XSV/*+ᆫ/ETM/*')},\n",
       " {'_pos': Feature(pos='NNG', semantic=None, has_jongseong=True, reading='사람', type=None, start_pos=None, end_pos=None, expression=None)},\n",
       " {'_pos': Feature(pos='VCP', semantic=None, has_jongseong=False, reading='이', type=None, start_pos=None, end_pos=None, expression=None)},\n",
       " {'_pos': Feature(pos='EC', semantic=None, has_jongseong=True, reading='라면', type=None, start_pos=None, end_pos=None, expression=None)},\n",
       " {'_pos': Feature(pos='MM', semantic='~명사', has_jongseong=False, reading='이', type=None, start_pos=None, end_pos=None, expression=None)},\n",
       " {'_pos': Feature(pos='NNG', semantic=None, has_jongseong=True, reading='성분', type=None, start_pos=None, end_pos=None, expression=None)},\n",
       " {'_pos': Feature(pos='JKB', semantic=None, has_jongseong=False, reading='으로', type=None, start_pos=None, end_pos=None, expression=None)},\n",
       " {'_pos': Feature(pos='JX', semantic=None, has_jongseong=True, reading='는', type=None, start_pos=None, end_pos=None, expression=None)},\n",
       " {'_pos': Feature(pos='MAG', semantic='성분부사|양태부사', has_jongseong=False, reading='제대로', type=None, start_pos=None, end_pos=None, expression=None)},\n",
       " {'_pos': Feature(pos='VV+ETM', semantic=None, has_jongseong=True, reading='된', type='Inflect', start_pos='VV', end_pos='ETM', expression='되/VV/*+ᆫ/ETM/*')},\n",
       " {'_pos': Feature(pos='SL', semantic=None, has_jongseong=None, reading=None, type=None, start_pos=None, end_pos=None, expression=None)},\n",
       " {'_pos': Feature(pos='NNG', semantic='행위', has_jongseong=True, reading='차단', type=None, start_pos=None, end_pos=None, expression=None)},\n",
       " {'_pos': Feature(pos='NNG', semantic=None, has_jongseong=False, reading='효과', type=None, start_pos=None, end_pos=None, expression=None)},\n",
       " {'_pos': Feature(pos='JKO', semantic=None, has_jongseong=True, reading='를', type=None, start_pos=None, end_pos=None, expression=None)},\n",
       " {'_pos': Feature(pos='NNG', semantic='행위', has_jongseong=False, reading='기대', type=None, start_pos=None, end_pos=None, expression=None)},\n",
       " {'_pos': Feature(pos='XSV', semantic=None, has_jongseong=False, reading='하', type=None, start_pos=None, end_pos=None, expression=None)},\n",
       " {'_pos': Feature(pos='ETN', semantic=None, has_jongseong=False, reading='기', type=None, start_pos=None, end_pos=None, expression=None)},\n",
       " {'_pos': Feature(pos='VA', semantic=None, has_jongseong=True, reading='힘들', type=None, start_pos=None, end_pos=None, expression=None)},\n",
       " {'_pos': Feature(pos='ETM', semantic=None, has_jongseong=True, reading='다는', type=None, start_pos=None, end_pos=None, expression=None)},\n",
       " {'_pos': Feature(pos='NNB+JKO', semantic=None, has_jongseong=True, reading='걸', type='Inflect', start_pos='NNB', end_pos='JKO', expression='것/NNB/*+ᆯ/JKO/*')},\n",
       " {'_pos': Feature(pos='VV+ETM', semantic=None, has_jongseong=True, reading='알', type='Inflect', start_pos='VV', end_pos='ETM', expression='알/VV/*+ᆯ/ETM/*')},\n",
       " {'_pos': Feature(pos='NNB', semantic=None, has_jongseong=True, reading='것', type=None, start_pos=None, end_pos=None, expression=None)},\n",
       " {'_pos': Feature(pos='VCP', semantic=None, has_jongseong=False, reading='이', type=None, start_pos=None, end_pos=None, expression=None)},\n",
       " {'_pos': Feature(pos='EF', semantic=None, has_jongseong=False, reading='다', type=None, start_pos=None, end_pos=None, expression=None)},\n",
       " {'_pos': Feature(pos='SF', semantic=None, has_jongseong=None, reading=None, type=None, start_pos=None, end_pos=None, expression=None)},\n",
       " {'_pos': Feature(pos='MAJ', semantic=None, has_jongseong=True, reading='하지만', type=None, start_pos=None, end_pos=None, expression=None)},\n",
       " {'_pos': Feature(pos='MAG', semantic='문장부사|양상부사', has_jongseong=True, reading='사실', type=None, start_pos=None, end_pos=None, expression=None)},\n",
       " {'_pos': Feature(pos='NNG', semantic=None, has_jongseong=False, reading='소비자', type='Compound', start_pos=None, end_pos=None, expression='소비/NNG/*+자/NNG/*')},\n",
       " {'_pos': Feature(pos='JKS', semantic=None, has_jongseong=False, reading='가', type=None, start_pos=None, end_pos=None, expression=None)},\n",
       " {'_pos': Feature(pos='NNG', semantic=None, has_jongseong=True, reading='선크림', type='Compound', start_pos=None, end_pos=None, expression='선/NNG/*+크림/NNG/*')},\n",
       " {'_pos': Feature(pos='JKO', semantic=None, has_jongseong=True, reading='을', type=None, start_pos=None, end_pos=None, expression=None)},\n",
       " {'_pos': Feature(pos='VV+ETM', semantic=None, has_jongseong=True, reading='살', type='Inflect', start_pos='VV', end_pos='ETM', expression='사/VV/*+ᆯ/ETM/*')},\n",
       " {'_pos': Feature(pos='NNG', semantic=None, has_jongseong=False, reading='때', type=None, start_pos=None, end_pos=None, expression=None)},\n",
       " {'_pos': Feature(pos='JKB', semantic=None, has_jongseong=False, reading='에', type=None, start_pos=None, end_pos=None, expression=None)},\n",
       " {'_pos': Feature(pos='NNG', semantic=None, has_jongseong=True, reading='효능', type=None, start_pos=None, end_pos=None, expression=None)},\n",
       " {'_pos': Feature(pos='JKO', semantic=None, has_jongseong=True, reading='을', type=None, start_pos=None, end_pos=None, expression=None)},\n",
       " {'_pos': Feature(pos='VV', semantic=None, has_jongseong=False, reading='따지', type=None, start_pos=None, end_pos=None, expression=None)},\n",
       " {'_pos': Feature(pos='ETN', semantic=None, has_jongseong=False, reading='기', type=None, start_pos=None, end_pos=None, expression=None)},\n",
       " {'_pos': Feature(pos='VV+EC', semantic=None, has_jongseong=False, reading='위해서', type='Inflect', start_pos='VV', end_pos='EC', expression='위하/VV/*+아서/EC/*')},\n",
       " {'_pos': Feature(pos='NNG', semantic=None, has_jongseong=True, reading='성분', type=None, start_pos=None, end_pos=None, expression=None)},\n",
       " {'_pos': Feature(pos='JKO', semantic=None, has_jongseong=True, reading='을', type=None, start_pos=None, end_pos=None, expression=None)},\n",
       " {'_pos': Feature(pos='VV+ETM', semantic=None, has_jongseong=True, reading='볼', type='Inflect', start_pos='VV', end_pos='ETM', expression='보/VV/*+ᆯ/ETM/*')},\n",
       " {'_pos': Feature(pos='NNG', semantic='정적사태', has_jongseong=False, reading='필요', type=None, start_pos=None, end_pos=None, expression=None)},\n",
       " {'_pos': Feature(pos='JX', semantic=None, has_jongseong=True, reading='는', type=None, start_pos=None, end_pos=None, expression=None)},\n",
       " {'_pos': Feature(pos='VA', semantic=None, has_jongseong=True, reading='없', type=None, start_pos=None, end_pos=None, expression=None)},\n",
       " {'_pos': Feature(pos='EF', semantic=None, has_jongseong=False, reading='다', type=None, start_pos=None, end_pos=None, expression=None)},\n",
       " {'_pos': Feature(pos='SF', semantic=None, has_jongseong=None, reading=None, type=None, start_pos=None, end_pos=None, expression=None)},\n",
       " {'_pos': Feature(pos='SL', semantic=None, has_jongseong=None, reading=None, type=None, start_pos=None, end_pos=None, expression=None)},\n",
       " {'_pos': Feature(pos='NNG', semantic=None, has_jongseong=False, reading='지수', type=None, start_pos=None, end_pos=None, expression=None)},\n",
       " {'_pos': Feature(pos='JC', semantic=None, has_jongseong=False, reading='와', type=None, start_pos=None, end_pos=None, expression=None)},\n",
       " {'_pos': Feature(pos='SL', semantic=None, has_jongseong=None, reading=None, type=None, start_pos=None, end_pos=None, expression=None)},\n",
       " {'_pos': Feature(pos='NNG', semantic=None, has_jongseong=False, reading='지수', type=None, start_pos=None, end_pos=None, expression=None)},\n",
       " {'_pos': Feature(pos='JKO', semantic=None, has_jongseong=True, reading='를', type=None, start_pos=None, end_pos=None, expression=None)},\n",
       " {'_pos': Feature(pos='NNG', semantic=None, has_jongseong=False, reading='표기', type=None, start_pos=None, end_pos=None, expression=None)},\n",
       " {'_pos': Feature(pos='XSV', semantic=None, has_jongseong=False, reading='하', type=None, start_pos=None, end_pos=None, expression=None)},\n",
       " {'_pos': Feature(pos='ETN', semantic=None, has_jongseong=False, reading='기', type=None, start_pos=None, end_pos=None, expression=None)},\n",
       " {'_pos': Feature(pos='NNB', semantic=None, has_jongseong=True, reading='때문', type=None, start_pos=None, end_pos=None, expression=None)},\n",
       " {'_pos': Feature(pos='SF', semantic=None, has_jongseong=None, reading=None, type=None, start_pos=None, end_pos=None, expression=None)},\n",
       " {'_pos': Feature(pos='NNG', semantic=None, has_jongseong=True, reading='선크림', type='Compound', start_pos=None, end_pos=None, expression='선/NNG/*+크림/NNG/*')},\n",
       " {'_pos': Feature(pos='JKO', semantic=None, has_jongseong=True, reading='을', type=None, start_pos=None, end_pos=None, expression=None)},\n",
       " {'_pos': Feature(pos='NNG', semantic='행위', has_jongseong=False, reading='판매', type=None, start_pos=None, end_pos=None, expression=None)},\n",
       " {'_pos': Feature(pos='NNG', semantic='행위', has_jongseong=True, reading='등록', type=None, start_pos=None, end_pos=None, expression=None)},\n",
       " {'_pos': Feature(pos='XSV+ETM', semantic=None, has_jongseong=True, reading='할', type='Inflect', start_pos='XSV', end_pos='ETM', expression='하/XSV/*+ᆯ/ETM/*')},\n",
       " {'_pos': Feature(pos='NNG', semantic=None, has_jongseong=False, reading='때', type=None, start_pos=None, end_pos=None, expression=None)},\n",
       " {'_pos': Feature(pos='NNB', semantic=None, has_jongseong=True, reading='식', type=None, start_pos=None, end_pos=None, expression=None)},\n",
       " {'_pos': Feature(pos='NNG', semantic=None, has_jongseong=True, reading='약', type=None, start_pos=None, end_pos=None, expression=None)},\n",
       " {'_pos': Feature(pos='NNG', semantic=None, has_jongseong=False, reading='처', type=None, start_pos=None, end_pos=None, expression=None)},\n",
       " {'_pos': Feature(pos='JKB', semantic=None, has_jongseong=False, reading='에', type=None, start_pos=None, end_pos=None, expression=None)},\n",
       " {'_pos': Feature(pos='NNG', semantic='행위', has_jongseong=True, reading='임상', type=None, start_pos=None, end_pos=None, expression=None)},\n",
       " {'_pos': Feature(pos='JKB', semantic=None, has_jongseong=False, reading='에', type=None, start_pos=None, end_pos=None, expression=None)},\n",
       " {'_pos': Feature(pos='VV+ETM', semantic=None, has_jongseong=True, reading='따른', type='Inflect', start_pos='VV', end_pos='ETM', expression='따르/VV/*+ᆫ/ETM/*')},\n",
       " {'_pos': Feature(pos='NNG', semantic='행위', has_jongseong=True, reading='차단', type=None, start_pos=None, end_pos=None, expression=None)},\n",
       " {'_pos': Feature(pos='NNG', semantic=None, has_jongseong=False, reading='지수', type=None, start_pos=None, end_pos=None, expression=None)},\n",
       " {'_pos': Feature(pos='JKO', semantic=None, has_jongseong=True, reading='를', type=None, start_pos=None, end_pos=None, expression=None)},\n",
       " {'_pos': Feature(pos='VV', semantic=None, has_jongseong=False, reading='보', type=None, start_pos=None, end_pos=None, expression=None)},\n",
       " {'_pos': Feature(pos='EC', semantic=None, has_jongseong=False, reading='고', type=None, start_pos=None, end_pos=None, expression=None)},\n",
       " {'_pos': Feature(pos='VV', semantic=None, has_jongseong=False, reading='하', type=None, start_pos=None, end_pos=None, expression=None)},\n",
       " {'_pos': Feature(pos='EC', semantic=None, has_jongseong=False, reading='고', type=None, start_pos=None, end_pos=None, expression=None)},\n",
       " {'_pos': Feature(pos='NNG', semantic='행위', has_jongseong=True, reading='등록', type=None, start_pos=None, end_pos=None, expression=None)},\n",
       " {'_pos': Feature(pos='XSV', semantic=None, has_jongseong=False, reading='하', type=None, start_pos=None, end_pos=None, expression=None)},\n",
       " {'_pos': Feature(pos='ETN', semantic=None, has_jongseong=False, reading='기', type=None, start_pos=None, end_pos=None, expression=None)},\n",
       " {'_pos': Feature(pos='NNB', semantic=None, has_jongseong=True, reading='때문', type=None, start_pos=None, end_pos=None, expression=None)},\n",
       " {'_pos': Feature(pos='JKB', semantic=None, has_jongseong=False, reading='에', type=None, start_pos=None, end_pos=None, expression=None)},\n",
       " {'_pos': Feature(pos='NNG', semantic=None, has_jongseong=False, reading='소비자', type='Compound', start_pos=None, end_pos=None, expression='소비/NNG/*+자/NNG/*')},\n",
       " {'_pos': Feature(pos='JKS', semantic=None, has_jongseong=False, reading='가', type=None, start_pos=None, end_pos=None, expression=None)},\n",
       " {'_pos': Feature(pos='NNG', semantic=None, has_jongseong=True, reading='화장품', type='Compound', start_pos=None, end_pos=None, expression='화장/NNG/*+품/NNG/*')},\n",
       " {'_pos': Feature(pos='NNG', semantic=None, has_jongseong=True, reading='성분', type=None, start_pos=None, end_pos=None, expression=None)},\n",
       " {'_pos': Feature(pos='JKO', semantic=None, has_jongseong=True, reading='을', type=None, start_pos=None, end_pos=None, expression=None)},\n",
       " {'_pos': Feature(pos='VV', semantic=None, has_jongseong=False, reading='보', type=None, start_pos=None, end_pos=None, expression=None)},\n",
       " {'_pos': Feature(pos='EC', semantic=None, has_jongseong=False, reading='고', type=None, start_pos=None, end_pos=None, expression=None)},\n",
       " {'_pos': 'kpe'},\n",
       " {'_pos': Feature(pos='NNG', semantic=None, has_jongseong=False, reading='지수', type=None, start_pos=None, end_pos=None, expression=None)},\n",
       " {'_pos': Feature(pos='JKO', semantic=None, has_jongseong=True, reading='를', type=None, start_pos=None, end_pos=None, expression=None)},\n",
       " {'_pos': Feature(pos='NNG', semantic='행위', has_jongseong=True, reading='추측', type=None, start_pos=None, end_pos=None, expression=None)},\n",
       " {'_pos': Feature(pos='XSV+ETM', semantic=None, has_jongseong=True, reading='할', type='Inflect', start_pos='XSV', end_pos='ETM', expression='하/XSV/*+ᆯ/ETM/*')},\n",
       " {'_pos': Feature(pos='NNG', semantic='정적사태', has_jongseong=False, reading='필요', type=None, start_pos=None, end_pos=None, expression=None)},\n",
       " {'_pos': Feature(pos='JX', semantic=None, has_jongseong=True, reading='는', type=None, start_pos=None, end_pos=None, expression=None)},\n",
       " {'_pos': Feature(pos='VA', semantic=None, has_jongseong=True, reading='없', type=None, start_pos=None, end_pos=None, expression=None)},\n",
       " {'_pos': Feature(pos='EF', semantic=None, has_jongseong=False, reading='다', type=None, start_pos=None, end_pos=None, expression=None)},\n",
       " {'_pos': Feature(pos='SF', semantic=None, has_jongseong=None, reading=None, type=None, start_pos=None, end_pos=None, expression=None)},\n",
       " {'_pos': Feature(pos='SSO', semantic=None, has_jongseong=None, reading=None, type=None, start_pos=None, end_pos=None, expression=None)},\n",
       " {'_pos': Feature(pos='NNG', semantic=None, has_jongseong=True, reading='만약', type=None, start_pos=None, end_pos=None, expression=None)},\n",
       " {'_pos': Feature(pos='NNG', semantic=None, has_jongseong=False, reading='표기', type=None, start_pos=None, end_pos=None, expression=None)},\n",
       " {'_pos': Feature(pos='XSV+ETM', semantic=None, has_jongseong=True, reading='된', type='Inflect', start_pos='XSV', end_pos='ETM', expression='되/XSV/*+ᆫ/ETM/*')},\n",
       " {'_pos': Feature(pos='NNG', semantic='행위', has_jongseong=True, reading='차단', type=None, start_pos=None, end_pos=None, expression=None)},\n",
       " {'_pos': Feature(pos='NNG', semantic=None, has_jongseong=False, reading='지수', type=None, start_pos=None, end_pos=None, expression=None)},\n",
       " {'_pos': Feature(pos='JKS', semantic=None, has_jongseong=False, reading='가', type=None, start_pos=None, end_pos=None, expression=None)},\n",
       " {'_pos': Feature(pos='VA', semantic=None, has_jongseong=False, reading='다르', type=None, start_pos=None, end_pos=None, expression=None)},\n",
       " {'_pos': Feature(pos='EC', semantic=None, has_jongseong=True, reading='면', type=None, start_pos=None, end_pos=None, expression=None)},\n",
       " {'_pos': Feature(pos='NP+JX', semantic=None, has_jongseong=True, reading='그건', type='Inflect', start_pos='NP', end_pos='JX', expression='그거/NP/*+ㄴ/JX/*')},\n",
       " {'_pos': Feature(pos='NNG', semantic=None, has_jongseong=False, reading='사기', type=None, start_pos=None, end_pos=None, expression=None)},\n",
       " {'_pos': Feature(pos='VCP', semantic=None, has_jongseong=False, reading='이', type=None, start_pos=None, end_pos=None, expression=None)},\n",
       " {'_pos': Feature(pos='EC', semantic=None, has_jongseong=False, reading='므로', type=None, start_pos=None, end_pos=None, expression=None)},\n",
       " {'_pos': Feature(pos='MM', semantic='~명사', has_jongseong=False, reading='그', type=None, start_pos=None, end_pos=None, expression=None)},\n",
       " {'_pos': Feature(pos='NNG', semantic=None, has_jongseong=False, reading='회사', type=None, start_pos=None, end_pos=None, expression=None)},\n",
       " {'_pos': Feature(pos='NNG', semantic=None, has_jongseong=True, reading='문', type=None, start_pos=None, end_pos=None, expression=None)},\n",
       " {'_pos': Feature(pos='VV', semantic=None, has_jongseong=True, reading='닫', type=None, start_pos=None, end_pos=None, expression=None)},\n",
       " {'_pos': Feature(pos='EC', semantic=None, has_jongseong=False, reading='는다', type=None, start_pos=None, end_pos=None, expression=None)},\n",
       " {'_pos': Feature(pos='SSC', semantic=None, has_jongseong=None, reading=None, type=None, start_pos=None, end_pos=None, expression=None)},\n",
       " {'_pos': Feature(pos='SF', semantic=None, has_jongseong=None, reading=None, type=None, start_pos=None, end_pos=None, expression=None)},\n",
       " {'_pos': Feature(pos='NNG', semantic=None, has_jongseong=True, reading='화장품', type='Compound', start_pos=None, end_pos=None, expression='화장/NNG/*+품/NNG/*')},\n",
       " {'_pos': Feature(pos='NNG', semantic=None, has_jongseong=True, reading='성분', type=None, start_pos=None, end_pos=None, expression=None)},\n",
       " {'_pos': Feature(pos='JKO', semantic=None, has_jongseong=True, reading='을', type=None, start_pos=None, end_pos=None, expression=None)},\n",
       " {'_pos': Feature(pos='VV+ETM', semantic=None, has_jongseong=True, reading='볼', type='Inflect', start_pos='VV', end_pos='ETM', expression='보/VV/*+ᆯ/ETM/*')},\n",
       " {'_pos': Feature(pos='NNG', semantic=None, has_jongseong=False, reading='때', type=None, start_pos=None, end_pos=None, expression=None)},\n",
       " {'_pos': Feature(pos='JKB', semantic=None, has_jongseong=False, reading='에', type=None, start_pos=None, end_pos=None, expression=None)},\n",
       " {'_pos': Feature(pos='JX', semantic=None, has_jongseong=True, reading='는', type=None, start_pos=None, end_pos=None, expression=None)},\n",
       " {'_pos': Feature(pos='MM', semantic='~명사', has_jongseong=False, reading='그', type=None, start_pos=None, end_pos=None, expression=None)},\n",
       " {'_pos': Feature(pos='NNG', semantic=None, has_jongseong=False, reading='유해', type=None, start_pos=None, end_pos=None, expression=None)},\n",
       " {'_pos': Feature(pos='XSN', semantic=None, has_jongseong=True, reading='성', type=None, start_pos=None, end_pos=None, expression=None)},\n",
       " {'_pos': Feature(pos='JKO', semantic=None, has_jongseong=True, reading='을', type=None, start_pos=None, end_pos=None, expression=None)},\n",
       " {'_pos': Feature(pos='VV', semantic=None, has_jongseong=False, reading='따지', type=None, start_pos=None, end_pos=None, expression=None)},\n",
       " {'_pos': Feature(pos='EC', semantic=None, has_jongseong=False, reading='거나', type=None, start_pos=None, end_pos=None, expression=None)},\n",
       " {'_pos': Feature(pos='VV+EC', semantic=None, has_jongseong=False, reading='나와', type='Inflect', start_pos='VV', end_pos='EC', expression='나오/VV/*+아/EC/*')},\n",
       " {'_pos': Feature(pos='VV', semantic=None, has_jongseong=True, reading='맞', type=None, start_pos=None, end_pos=None, expression=None)},\n",
       " {'_pos': Feature(pos='EC', semantic=None, has_jongseong=False, reading='지', type=None, start_pos=None, end_pos=None, expression=None)},\n",
       " {'_pos': Feature(pos='VX', semantic=None, has_jongseong=True, reading='않', type=None, start_pos=None, end_pos=None, expression=None)},\n",
       " {'_pos': Feature(pos='ETM', semantic=None, has_jongseong=True, reading='는', type=None, start_pos=None, end_pos=None, expression=None)},\n",
       " {'_pos': Feature(pos='NNG', semantic=None, has_jongseong=True, reading='성분', type=None, start_pos=None, end_pos=None, expression=None)},\n",
       " {'_pos': Feature(pos='JKO', semantic=None, has_jongseong=True, reading='을', type=None, start_pos=None, end_pos=None, expression=None)},\n",
       " {'_pos': Feature(pos='VV', semantic=None, has_jongseong=True, reading='찾', type=None, start_pos=None, end_pos=None, expression=None)},\n",
       " {'_pos': Feature(pos='ETM', semantic=None, has_jongseong=True, reading='을', type=None, start_pos=None, end_pos=None, expression=None)},\n",
       " {'_pos': Feature(pos='NNG', semantic=None, has_jongseong=False, reading='때', type=None, start_pos=None, end_pos=None, expression=None)},\n",
       " {'_pos': Feature(pos='VCP', semantic=None, has_jongseong=False, reading='이', type=None, start_pos=None, end_pos=None, expression=None)},\n",
       " {'_pos': Feature(pos='EF', semantic=None, has_jongseong=False, reading='다', type=None, start_pos=None, end_pos=None, expression=None)},\n",
       " {'_pos': Feature(pos='SF', semantic=None, has_jongseong=None, reading=None, type=None, start_pos=None, end_pos=None, expression=None)}]"
      ]
     },
     "execution_count": 12,
     "metadata": {},
     "output_type": "execute_result"
    }
   ],
   "source": [
    "[tok.features for tok in result.Tokens]"
   ]
  },
  {
   "cell_type": "code",
   "execution_count": null,
   "metadata": {},
   "outputs": [],
   "source": []
  },
  {
   "cell_type": "code",
   "execution_count": 33,
   "metadata": {},
   "outputs": [
    {
     "data": {
      "text/plain": [
       "'NNG'"
      ]
     },
     "execution_count": 33,
     "metadata": {},
     "output_type": "execute_result"
    }
   ],
   "source": [
    "dict(result.Tokens[0]._pos._asdict()).pop('pos')"
   ]
  },
  {
   "cell_type": "code",
   "execution_count": null,
   "metadata": {},
   "outputs": [],
   "source": [
    "pos='NNG', semantic=None, has_jongseong=False, reading='대표', type=None, start_pos=None, end_pos=None, expression=None"
   ]
  },
  {
   "cell_type": "code",
   "execution_count": 15,
   "metadata": {
    "collapsed": true,
    "jupyter": {
     "outputs_hidden": true
    }
   },
   "outputs": [
    {
     "data": {
      "text/plain": [
       "[{'DocId': '20210227-093809-271157',\n",
       "  'offset': 0,\n",
       "  'start': 0,\n",
       "  'end': 2,\n",
       "  'text': '대표',\n",
       "  '_pos': Feature(pos='NNG', semantic=None, has_jongseong=False, reading='대표', type=None, start_pos=None, end_pos=None, expression=None)},\n",
       " {'DocId': '20210227-093809-271157',\n",
       "  'offset': 1,\n",
       "  'start': 2,\n",
       "  'end': 3,\n",
       "  'text': '적',\n",
       "  '_pos': Feature(pos='XSN', semantic=None, has_jongseong=True, reading='적', type=None, start_pos=None, end_pos=None, expression=None)},\n",
       " {'DocId': '20210227-093809-271157',\n",
       "  'offset': 2,\n",
       "  'start': 3,\n",
       "  'end': 4,\n",
       "  'text': '인',\n",
       "  '_pos': Feature(pos='VCP+ETM', semantic=None, has_jongseong=True, reading='인', type='Inflect', start_pos='VCP', end_pos='ETM', expression='이/VCP/*+ᆫ/ETM/*')},\n",
       " {'DocId': '20210227-093809-271157',\n",
       "  'offset': 3,\n",
       "  'start': 5,\n",
       "  'end': 7,\n",
       "  'text': '성분',\n",
       "  '_pos': Feature(pos='NNG', semantic=None, has_jongseong=True, reading='성분', type=None, start_pos=None, end_pos=None, expression=None)},\n",
       " {'DocId': '20210227-093809-271157',\n",
       "  'offset': 4,\n",
       "  'start': 7,\n",
       "  'end': 9,\n",
       "  'text': '으로',\n",
       "  '_pos': Feature(pos='JKB', semantic=None, has_jongseong=False, reading='으로', type=None, start_pos=None, end_pos=None, expression=None)},\n",
       " {'DocId': '20210227-093809-271157',\n",
       "  'offset': 5,\n",
       "  'start': 10,\n",
       "  'end': 12,\n",
       "  'text': '아보',\n",
       "  '_pos': Feature(pos='NNG', semantic=None, has_jongseong=False, reading='아보', type=None, start_pos=None, end_pos=None, expression=None)},\n",
       " {'DocId': '20210227-093809-271157',\n",
       "  'offset': 6,\n",
       "  'start': 12,\n",
       "  'end': 14,\n",
       "  'text': '벤존',\n",
       "  '_pos': Feature(pos='NNP', semantic='인명', has_jongseong=True, reading='벤존', type=None, start_pos=None, end_pos=None, expression=None)},\n",
       " {'DocId': '20210227-093809-271157',\n",
       "  'offset': 7,\n",
       "  'start': 14,\n",
       "  'end': 15,\n",
       "  'text': '(',\n",
       "  '_pos': Feature(pos='SSO', semantic=None, has_jongseong=None, reading=None, type=None, start_pos=None, end_pos=None, expression=None)},\n",
       " {'DocId': '20210227-093809-271157',\n",
       "  'offset': 8,\n",
       "  'start': 15,\n",
       "  'end': 16,\n",
       "  'text': '파',\n",
       "  '_pos': Feature(pos='NNG', semantic=None, has_jongseong=False, reading='파', type=None, start_pos=None, end_pos=None, expression=None)},\n",
       " {'DocId': '20210227-093809-271157',\n",
       "  'offset': 9,\n",
       "  'start': 16,\n",
       "  'end': 17,\n",
       "  'text': '솔',\n",
       "  '_pos': Feature(pos='NNG', semantic=None, has_jongseong=True, reading='솔', type=None, start_pos=None, end_pos=None, expression=None)},\n",
       " {'DocId': '20210227-093809-271157',\n",
       "  'offset': 10,\n",
       "  'start': 17,\n",
       "  'end': 21,\n",
       "  'text': '1789',\n",
       "  '_pos': Feature(pos='SN', semantic=None, has_jongseong=None, reading=None, type=None, start_pos=None, end_pos=None, expression=None)},\n",
       " {'DocId': '20210227-093809-271157',\n",
       "  'offset': 11,\n",
       "  'start': 21,\n",
       "  'end': 22,\n",
       "  'text': ',',\n",
       "  '_pos': Feature(pos='SC', semantic=None, has_jongseong=None, reading=None, type=None, start_pos=None, end_pos=None, expression=None)},\n",
       " {'DocId': '20210227-093809-271157',\n",
       "  'offset': 12,\n",
       "  'start': 23,\n",
       "  'end': 34,\n",
       "  'text': '부틸메톡시디벤조일메탄',\n",
       "  '_pos': 'kpe'},\n",
       " {'DocId': '20210227-093809-271157',\n",
       "  'offset': 18,\n",
       "  'start': 35,\n",
       "  'end': 37,\n",
       "  'text': '표기',\n",
       "  '_pos': Feature(pos='NNG', semantic=None, has_jongseong=False, reading='표기', type=None, start_pos=None, end_pos=None, expression=None)},\n",
       " {'DocId': '20210227-093809-271157',\n",
       "  'offset': 19,\n",
       "  'start': 37,\n",
       "  'end': 38,\n",
       "  'text': ')',\n",
       "  '_pos': Feature(pos='SSC', semantic=None, has_jongseong=None, reading=None, type=None, start_pos=None, end_pos=None, expression=None)},\n",
       " {'DocId': '20210227-093809-271157',\n",
       "  'offset': 20,\n",
       "  'start': 38,\n",
       "  'end': 39,\n",
       "  'text': '[',\n",
       "  '_pos': Feature(pos='SSO', semantic=None, has_jongseong=None, reading=None, type=None, start_pos=None, end_pos=None, expression=None)},\n",
       " {'DocId': '20210227-093809-271157',\n",
       "  'offset': 21,\n",
       "  'start': 39,\n",
       "  'end': 41,\n",
       "  'text': '20',\n",
       "  '_pos': Feature(pos='SN', semantic=None, has_jongseong=None, reading=None, type=None, start_pos=None, end_pos=None, expression=None)},\n",
       " {'DocId': '20210227-093809-271157',\n",
       "  'offset': 22,\n",
       "  'start': 41,\n",
       "  'end': 42,\n",
       "  'text': ']',\n",
       "  '_pos': Feature(pos='SSC', semantic=None, has_jongseong=None, reading=None, type=None, start_pos=None, end_pos=None, expression=None)},\n",
       " {'DocId': '20210227-093809-271157',\n",
       "  'offset': 23,\n",
       "  'start': 42,\n",
       "  'end': 43,\n",
       "  'text': ',',\n",
       "  '_pos': Feature(pos='SC', semantic=None, has_jongseong=None, reading=None, type=None, start_pos=None, end_pos=None, expression=None)},\n",
       " {'DocId': '20210227-093809-271157',\n",
       "  'offset': 24,\n",
       "  'start': 44,\n",
       "  'end': 46,\n",
       "  'text': '옥티',\n",
       "  '_pos': Feature(pos='NNG', semantic=None, has_jongseong=False, reading='옥티', type='Compound', start_pos=None, end_pos=None, expression='옥/NNG/*+티/NNG/*')},\n",
       " {'DocId': '20210227-093809-271157',\n",
       "  'offset': 25,\n",
       "  'start': 46,\n",
       "  'end': 47,\n",
       "  'text': '녹',\n",
       "  '_pos': Feature(pos='NNG', semantic=None, has_jongseong=True, reading='녹', type=None, start_pos=None, end_pos=None, expression=None)},\n",
       " {'DocId': '20210227-093809-271157',\n",
       "  'offset': 26,\n",
       "  'start': 47,\n",
       "  'end': 49,\n",
       "  'text': '세이',\n",
       "  '_pos': Feature(pos='NNG', semantic=None, has_jongseong=False, reading='세이', type=None, start_pos=None, end_pos=None, expression=None)},\n",
       " {'DocId': '20210227-093809-271157',\n",
       "  'offset': 27,\n",
       "  'start': 49,\n",
       "  'end': 50,\n",
       "  'text': '트',\n",
       "  '_pos': Feature(pos='NNG', semantic=None, has_jongseong=False, reading='트', type=None, start_pos=None, end_pos=None, expression=None)},\n",
       " {'DocId': '20210227-093809-271157',\n",
       "  'offset': 28,\n",
       "  'start': 50,\n",
       "  'end': 51,\n",
       "  'text': '(',\n",
       "  '_pos': Feature(pos='SSO', semantic=None, has_jongseong=None, reading=None, type=None, start_pos=None, end_pos=None, expression=None)},\n",
       " {'DocId': '20210227-093809-271157',\n",
       "  'offset': 29,\n",
       "  'start': 51,\n",
       "  'end': 63,\n",
       "  'text': '에칠헥실메톡시신나메이트',\n",
       "  '_pos': 'kpe'},\n",
       " {'DocId': '20210227-093809-271157',\n",
       "  'offset': 38,\n",
       "  'start': 63,\n",
       "  'end': 64,\n",
       "  'text': ')',\n",
       "  '_pos': Feature(pos='SSC', semantic=None, has_jongseong=None, reading=None, type=None, start_pos=None, end_pos=None, expression=None)},\n",
       " {'DocId': '20210227-093809-271157',\n",
       "  'offset': 39,\n",
       "  'start': 65,\n",
       "  'end': 66,\n",
       "  'text': '등',\n",
       "  '_pos': Feature(pos='NNB', semantic=None, has_jongseong=True, reading='등', type=None, start_pos=None, end_pos=None, expression=None)},\n",
       " {'DocId': '20210227-093809-271157',\n",
       "  'offset': 40,\n",
       "  'start': 66,\n",
       "  'end': 67,\n",
       "  'text': '이',\n",
       "  '_pos': Feature(pos='JKS', semantic=None, has_jongseong=False, reading='이', type=None, start_pos=None, end_pos=None, expression=None)},\n",
       " {'DocId': '20210227-093809-271157',\n",
       "  'offset': 41,\n",
       "  'start': 68,\n",
       "  'end': 69,\n",
       "  'text': '있',\n",
       "  '_pos': Feature(pos='VV', semantic=None, has_jongseong=True, reading='있', type=None, start_pos=None, end_pos=None, expression=None)},\n",
       " {'DocId': '20210227-093809-271157',\n",
       "  'offset': 42,\n",
       "  'start': 69,\n",
       "  'end': 70,\n",
       "  'text': '다',\n",
       "  '_pos': Feature(pos='EC', semantic=None, has_jongseong=False, reading='다', type=None, start_pos=None, end_pos=None, expression=None)},\n",
       " {'DocId': '20210227-093809-271157',\n",
       "  'offset': 43,\n",
       "  'start': 70,\n",
       "  'end': 71,\n",
       "  'text': '.',\n",
       "  '_pos': Feature(pos='SY', semantic=None, has_jongseong=None, reading=None, type=None, start_pos=None, end_pos=None, expression=None)},\n",
       " {'DocId': '20210227-093809-271157',\n",
       "  'offset': 44,\n",
       "  'start': 72,\n",
       "  'end': 73,\n",
       "  'text': '2',\n",
       "  '_pos': Feature(pos='SN', semantic=None, has_jongseong=None, reading=None, type=None, start_pos=None, end_pos=None, expression=None)},\n",
       " {'DocId': '20210227-093809-271157',\n",
       "  'offset': 45,\n",
       "  'start': 73,\n",
       "  'end': 75,\n",
       "  'text': '가지',\n",
       "  '_pos': Feature(pos='NNBC', semantic=None, has_jongseong=False, reading='가지', type=None, start_pos=None, end_pos=None, expression=None)},\n",
       " {'DocId': '20210227-093809-271157',\n",
       "  'offset': 46,\n",
       "  'start': 76,\n",
       "  'end': 78,\n",
       "  'text': '성분',\n",
       "  '_pos': Feature(pos='NNG', semantic=None, has_jongseong=True, reading='성분', type=None, start_pos=None, end_pos=None, expression=None)},\n",
       " {'DocId': '20210227-093809-271157',\n",
       "  'offset': 47,\n",
       "  'start': 79,\n",
       "  'end': 80,\n",
       "  'text': '뿐',\n",
       "  '_pos': Feature(pos='NNB', semantic=None, has_jongseong=True, reading='뿐', type=None, start_pos=None, end_pos=None, expression=None)},\n",
       " {'DocId': '20210227-093809-271157',\n",
       "  'offset': 48,\n",
       "  'start': 80,\n",
       "  'end': 81,\n",
       "  'text': '이',\n",
       "  '_pos': Feature(pos='VCP', semantic=None, has_jongseong=False, reading='이', type=None, start_pos=None, end_pos=None, expression=None)},\n",
       " {'DocId': '20210227-093809-271157',\n",
       "  'offset': 49,\n",
       "  'start': 81,\n",
       "  'end': 82,\n",
       "  'text': '라',\n",
       "  '_pos': Feature(pos='EC', semantic=None, has_jongseong=False, reading='라', type=None, start_pos=None, end_pos=None, expression=None)},\n",
       " {'DocId': '20210227-093809-271157',\n",
       "  'offset': 50,\n",
       "  'start': 83,\n",
       "  'end': 84,\n",
       "  'text': '알',\n",
       "  '_pos': Feature(pos='VV', semantic=None, has_jongseong=True, reading='알', type=None, start_pos=None, end_pos=None, expression=None)},\n",
       " {'DocId': '20210227-093809-271157',\n",
       "  'offset': 51,\n",
       "  'start': 84,\n",
       "  'end': 85,\n",
       "  'text': '기',\n",
       "  '_pos': Feature(pos='ETN', semantic=None, has_jongseong=False, reading='기', type=None, start_pos=None, end_pos=None, expression=None)},\n",
       " {'DocId': '20210227-093809-271157',\n",
       "  'offset': 52,\n",
       "  'start': 86,\n",
       "  'end': 88,\n",
       "  'text': '쉬운',\n",
       "  '_pos': Feature(pos='VA+ETM', semantic=None, has_jongseong=True, reading='쉬운', type='Inflect', start_pos='VA', end_pos='ETM', expression='쉽/VA/*+ᆫ/ETM/*')},\n",
       " {'DocId': '20210227-093809-271157',\n",
       "  'offset': 53,\n",
       "  'start': 89,\n",
       "  'end': 91,\n",
       "  'text': '물리',\n",
       "  '_pos': Feature(pos='NNG', semantic=None, has_jongseong=False, reading='물리', type=None, start_pos=None, end_pos=None, expression=None)},\n",
       " {'DocId': '20210227-093809-271157',\n",
       "  'offset': 54,\n",
       "  'start': 91,\n",
       "  'end': 92,\n",
       "  'text': '적',\n",
       "  '_pos': Feature(pos='XSN', semantic=None, has_jongseong=True, reading='적', type=None, start_pos=None, end_pos=None, expression=None)},\n",
       " {'DocId': '20210227-093809-271157',\n",
       "  'offset': 55,\n",
       "  'start': 93,\n",
       "  'end': 95,\n",
       "  'text': '차단',\n",
       "  '_pos': Feature(pos='NNG', semantic='행위', has_jongseong=True, reading='차단', type=None, start_pos=None, end_pos=None, expression=None)},\n",
       " {'DocId': '20210227-093809-271157',\n",
       "  'offset': 56,\n",
       "  'start': 96,\n",
       "  'end': 98,\n",
       "  'text': '성분',\n",
       "  '_pos': Feature(pos='NNG', semantic=None, has_jongseong=True, reading='성분', type=None, start_pos=None, end_pos=None, expression=None)},\n",
       " {'DocId': '20210227-093809-271157',\n",
       "  'offset': 57,\n",
       "  'start': 98,\n",
       "  'end': 99,\n",
       "  'text': '들',\n",
       "  '_pos': Feature(pos='XSN', semantic=None, has_jongseong=True, reading='들', type=None, start_pos=None, end_pos=None, expression=None)},\n",
       " {'DocId': '20210227-093809-271157',\n",
       "  'offset': 58,\n",
       "  'start': 99,\n",
       "  'end': 100,\n",
       "  'text': '에',\n",
       "  '_pos': Feature(pos='JKB', semantic=None, has_jongseong=False, reading='에', type=None, start_pos=None, end_pos=None, expression=None)},\n",
       " {'DocId': '20210227-093809-271157',\n",
       "  'offset': 59,\n",
       "  'start': 101,\n",
       "  'end': 103,\n",
       "  'text': '비해',\n",
       "  '_pos': Feature(pos='VV+EC', semantic=None, has_jongseong=False, reading='비해', type='Inflect', start_pos='VV', end_pos='EC', expression='비하/VV/*+아/EC/*')},\n",
       " {'DocId': '20210227-093809-271157',\n",
       "  'offset': 60,\n",
       "  'start': 104,\n",
       "  'end': 107,\n",
       "  'text': '가짓수',\n",
       "  '_pos': Feature(pos='NNG', semantic=None, has_jongseong=False, reading='가짓수', type='Compound', start_pos=None, end_pos=None, expression='가짓/NNG/*+수/NNG/*')},\n",
       " {'DocId': '20210227-093809-271157',\n",
       "  'offset': 61,\n",
       "  'start': 107,\n",
       "  'end': 108,\n",
       "  'text': '도',\n",
       "  '_pos': Feature(pos='JX', semantic=None, has_jongseong=False, reading='도', type=None, start_pos=None, end_pos=None, expression=None)},\n",
       " {'DocId': '20210227-093809-271157',\n",
       "  'offset': 62,\n",
       "  'start': 109,\n",
       "  'end': 111,\n",
       "  'text': '다양',\n",
       "  '_pos': Feature(pos='NNG', semantic=None, has_jongseong=True, reading='다양', type=None, start_pos=None, end_pos=None, expression=None)},\n",
       " {'DocId': '20210227-093809-271157',\n",
       "  'offset': 63,\n",
       "  'start': 111,\n",
       "  'end': 112,\n",
       "  'text': '하',\n",
       "  '_pos': Feature(pos='XSV', semantic=None, has_jongseong=False, reading='하', type=None, start_pos=None, end_pos=None, expression=None)},\n",
       " {'DocId': '20210227-093809-271157',\n",
       "  'offset': 64,\n",
       "  'start': 112,\n",
       "  'end': 113,\n",
       "  'text': '고',\n",
       "  '_pos': Feature(pos='EC', semantic=None, has_jongseong=False, reading='고', type=None, start_pos=None, end_pos=None, expression=None)},\n",
       " {'DocId': '20210227-093809-271157',\n",
       "  'offset': 65,\n",
       "  'start': 114,\n",
       "  'end': 117,\n",
       "  'text': '그만큼',\n",
       "  '_pos': Feature(pos='MAG', semantic='성분부사|정도부사', has_jongseong=True, reading='그만큼', type=None, start_pos=None, end_pos=None, expression=None)},\n",
       " {'DocId': '20210227-093809-271157',\n",
       "  'offset': 66,\n",
       "  'start': 118,\n",
       "  'end': 120,\n",
       "  'text': '차단',\n",
       "  '_pos': Feature(pos='NNG', semantic='행위', has_jongseong=True, reading='차단', type=None, start_pos=None, end_pos=None, expression=None)},\n",
       " {'DocId': '20210227-093809-271157',\n",
       "  'offset': 67,\n",
       "  'start': 121,\n",
       "  'end': 123,\n",
       "  'text': '범위',\n",
       "  '_pos': Feature(pos='NNG', semantic=None, has_jongseong=False, reading='범위', type=None, start_pos=None, end_pos=None, expression=None)},\n",
       " {'DocId': '20210227-093809-271157',\n",
       "  'offset': 68,\n",
       "  'start': 123,\n",
       "  'end': 124,\n",
       "  'text': '도',\n",
       "  '_pos': Feature(pos='JX', semantic=None, has_jongseong=False, reading='도', type=None, start_pos=None, end_pos=None, expression=None)},\n",
       " {'DocId': '20210227-093809-271157',\n",
       "  'offset': 69,\n",
       "  'start': 125,\n",
       "  'end': 126,\n",
       "  'text': '넓',\n",
       "  '_pos': Feature(pos='VA', semantic=None, has_jongseong=True, reading='넓', type=None, start_pos=None, end_pos=None, expression=None)},\n",
       " {'DocId': '20210227-093809-271157',\n",
       "  'offset': 70,\n",
       "  'start': 126,\n",
       "  'end': 127,\n",
       "  'text': '고',\n",
       "  '_pos': Feature(pos='EC', semantic=None, has_jongseong=False, reading='고', type=None, start_pos=None, end_pos=None, expression=None)},\n",
       " {'DocId': '20210227-093809-271157',\n",
       "  'offset': 71,\n",
       "  'start': 128,\n",
       "  'end': 130,\n",
       "  'text': '조합',\n",
       "  '_pos': Feature(pos='NNG', semantic=None, has_jongseong=True, reading='조합', type=None, start_pos=None, end_pos=None, expression=None)},\n",
       " {'DocId': '20210227-093809-271157',\n",
       "  'offset': 72,\n",
       "  'start': 130,\n",
       "  'end': 131,\n",
       "  'text': '하',\n",
       "  '_pos': Feature(pos='XSV', semantic=None, has_jongseong=False, reading='하', type=None, start_pos=None, end_pos=None, expression=None)},\n",
       " {'DocId': '20210227-093809-271157',\n",
       "  'offset': 73,\n",
       "  'start': 131,\n",
       "  'end': 132,\n",
       "  'text': '는',\n",
       "  '_pos': Feature(pos='ETM', semantic=None, has_jongseong=True, reading='는', type=None, start_pos=None, end_pos=None, expression=None)},\n",
       " {'DocId': '20210227-093809-271157',\n",
       "  'offset': 74,\n",
       "  'start': 133,\n",
       "  'end': 135,\n",
       "  'text': '성분',\n",
       "  '_pos': Feature(pos='NNG', semantic=None, has_jongseong=True, reading='성분', type=None, start_pos=None, end_pos=None, expression=None)},\n",
       " {'DocId': '20210227-093809-271157',\n",
       "  'offset': 75,\n",
       "  'start': 136,\n",
       "  'end': 138,\n",
       "  'text': '구성',\n",
       "  '_pos': Feature(pos='NNG', semantic=None, has_jongseong=True, reading='구성', type=None, start_pos=None, end_pos=None, expression=None)},\n",
       " {'DocId': '20210227-093809-271157',\n",
       "  'offset': 76,\n",
       "  'start': 138,\n",
       "  'end': 139,\n",
       "  'text': '도',\n",
       "  '_pos': Feature(pos='JX', semantic=None, has_jongseong=False, reading='도', type=None, start_pos=None, end_pos=None, expression=None)},\n",
       " {'DocId': '20210227-093809-271157',\n",
       "  'offset': 77,\n",
       "  'start': 140,\n",
       "  'end': 142,\n",
       "  'text': '다양',\n",
       "  '_pos': Feature(pos='XR', semantic=None, has_jongseong=True, reading='다양', type=None, start_pos=None, end_pos=None, expression=None)},\n",
       " {'DocId': '20210227-093809-271157',\n",
       "  'offset': 78,\n",
       "  'start': 142,\n",
       "  'end': 143,\n",
       "  'text': '하',\n",
       "  '_pos': Feature(pos='XSA', semantic=None, has_jongseong=False, reading='하', type=None, start_pos=None, end_pos=None, expression=None)},\n",
       " {'DocId': '20210227-093809-271157',\n",
       "  'offset': 79,\n",
       "  'start': 143,\n",
       "  'end': 144,\n",
       "  'text': '다',\n",
       "  '_pos': Feature(pos='EF', semantic=None, has_jongseong=False, reading='다', type=None, start_pos=None, end_pos=None, expression=None)},\n",
       " {'DocId': '20210227-093809-271157',\n",
       "  'offset': 80,\n",
       "  'start': 144,\n",
       "  'end': 145,\n",
       "  'text': '.',\n",
       "  '_pos': Feature(pos='SF', semantic=None, has_jongseong=None, reading=None, type=None, start_pos=None, end_pos=None, expression=None)},\n",
       " {'DocId': '20210227-093809-271157',\n",
       "  'offset': 81,\n",
       "  'start': 146,\n",
       "  'end': 148,\n",
       "  'text': '국내',\n",
       "  '_pos': Feature(pos='NNG', semantic='장소', has_jongseong=False, reading='국내', type=None, start_pos=None, end_pos=None, expression=None)},\n",
       " {'DocId': '20210227-093809-271157',\n",
       "  'offset': 82,\n",
       "  'start': 148,\n",
       "  'end': 150,\n",
       "  'text': '에서',\n",
       "  '_pos': Feature(pos='JKB', semantic=None, has_jongseong=False, reading='에서', type=None, start_pos=None, end_pos=None, expression=None)},\n",
       " {'DocId': '20210227-093809-271157',\n",
       "  'offset': 83,\n",
       "  'start': 151,\n",
       "  'end': 153,\n",
       "  'text': '가장',\n",
       "  '_pos': Feature(pos='MAG', semantic='성분부사|정도부사', has_jongseong=True, reading='가장', type=None, start_pos=None, end_pos=None, expression=None)},\n",
       " {'DocId': '20210227-093809-271157',\n",
       "  'offset': 84,\n",
       "  'start': 154,\n",
       "  'end': 156,\n",
       "  'text': '많이',\n",
       "  '_pos': Feature(pos='MAG', semantic='성분부사|정도부사', has_jongseong=False, reading='많이', type=None, start_pos=None, end_pos=None, expression=None)},\n",
       " {'DocId': '20210227-093809-271157',\n",
       "  'offset': 85,\n",
       "  'start': 157,\n",
       "  'end': 159,\n",
       "  'text': '사용',\n",
       "  '_pos': Feature(pos='NNG', semantic='행위', has_jongseong=True, reading='사용', type=None, start_pos=None, end_pos=None, expression=None)},\n",
       " {'DocId': '20210227-093809-271157',\n",
       "  'offset': 86,\n",
       "  'start': 159,\n",
       "  'end': 160,\n",
       "  'text': '되',\n",
       "  '_pos': Feature(pos='XSV', semantic=None, has_jongseong=False, reading='되', type=None, start_pos=None, end_pos=None, expression=None)},\n",
       " {'DocId': '20210227-093809-271157',\n",
       "  'offset': 87,\n",
       "  'start': 160,\n",
       "  'end': 161,\n",
       "  'text': '는',\n",
       "  '_pos': Feature(pos='ETM', semantic=None, has_jongseong=True, reading='는', type=None, start_pos=None, end_pos=None, expression=None)},\n",
       " {'DocId': '20210227-093809-271157',\n",
       "  'offset': 88,\n",
       "  'start': 162,\n",
       "  'end': 163,\n",
       "  'text': '것',\n",
       "  '_pos': Feature(pos='NNB', semantic=None, has_jongseong=True, reading='것', type=None, start_pos=None, end_pos=None, expression=None)},\n",
       " {'DocId': '20210227-093809-271157',\n",
       "  'offset': 89,\n",
       "  'start': 163,\n",
       "  'end': 164,\n",
       "  'text': '은',\n",
       "  '_pos': Feature(pos='JX', semantic=None, has_jongseong=True, reading='은', type=None, start_pos=None, end_pos=None, expression=None)},\n",
       " {'DocId': '20210227-093809-271157',\n",
       "  'offset': 90,\n",
       "  'start': 165,\n",
       "  'end': 167,\n",
       "  'text': '아보',\n",
       "  '_pos': Feature(pos='NNP', semantic='인명', has_jongseong=False, reading='아보', type=None, start_pos=None, end_pos=None, expression=None)},\n",
       " {'DocId': '20210227-093809-271157',\n",
       "  'offset': 91,\n",
       "  'start': 167,\n",
       "  'end': 169,\n",
       "  'text': '벤존',\n",
       "  '_pos': Feature(pos='NNP', semantic='인명', has_jongseong=True, reading='벤존', type=None, start_pos=None, end_pos=None, expression=None)},\n",
       " {'DocId': '20210227-093809-271157',\n",
       "  'offset': 92,\n",
       "  'start': 169,\n",
       "  'end': 170,\n",
       "  'text': '이',\n",
       "  '_pos': Feature(pos='JKC', semantic=None, has_jongseong=False, reading='이', type=None, start_pos=None, end_pos=None, expression=None)},\n",
       " {'DocId': '20210227-093809-271157',\n",
       "  'offset': 93,\n",
       "  'start': 171,\n",
       "  'end': 173,\n",
       "  'text': '아닌',\n",
       "  '_pos': Feature(pos='VCN+ETM', semantic=None, has_jongseong=True, reading='아닌', type='Inflect', start_pos='VCN', end_pos='ETM', expression='아니/VCN/*+ᆫ/ETM/*')},\n",
       " {'DocId': '20210227-093809-271157',\n",
       "  'offset': 94,\n",
       "  'start': 174,\n",
       "  'end': 186,\n",
       "  'text': '에칠헥실메톡시신나메이트',\n",
       "  '_pos': 'kpe'},\n",
       " {'DocId': '20210227-093809-271157',\n",
       "  'offset': 103,\n",
       "  'start': 186,\n",
       "  'end': 188,\n",
       "  'text': '인데',\n",
       "  '_pos': Feature(pos='VCP+EC', semantic=None, has_jongseong=False, reading='인데', type='Inflect', start_pos='VCP', end_pos='EC', expression='이/VCP/*+ᆫ데/EC/*')},\n",
       " {'DocId': '20210227-093809-271157',\n",
       "  'offset': 104,\n",
       "  'start': 189,\n",
       "  'end': 191,\n",
       "  'text': '이게',\n",
       "  '_pos': Feature(pos='NP+JKS', semantic=None, has_jongseong=False, reading='이게', type='Inflect', start_pos='NP', end_pos='JKS', expression='이것/NP/*+이/JKS/*')},\n",
       " {'DocId': '20210227-093809-271157',\n",
       "  'offset': 105,\n",
       "  'start': 192,\n",
       "  'end': 193,\n",
       "  'text': '참',\n",
       "  '_pos': Feature(pos='IC', semantic=None, has_jongseong=True, reading='참', type=None, start_pos=None, end_pos=None, expression=None)},\n",
       " {'DocId': '20210227-093809-271157',\n",
       "  'offset': 106,\n",
       "  'start': 193,\n",
       "  'end': 194,\n",
       "  'text': '.',\n",
       "  '_pos': Feature(pos='SF', semantic=None, has_jongseong=None, reading=None, type=None, start_pos=None, end_pos=None, expression=None)},\n",
       " {'DocId': '20210227-093809-271157',\n",
       "  'offset': 107,\n",
       "  'start': 194,\n",
       "  'end': 196,\n",
       "  'text': '..',\n",
       "  '_pos': Feature(pos='SY', semantic=None, has_jongseong=None, reading=None, type=None, start_pos=None, end_pos=None, expression=None)},\n",
       " {'DocId': '20210227-093809-271157',\n",
       "  'offset': 108,\n",
       "  'start': 197,\n",
       "  'end': 199,\n",
       "  'text': '아보',\n",
       "  '_pos': Feature(pos='NNP', semantic='인명', has_jongseong=False, reading='아보', type=None, start_pos=None, end_pos=None, expression=None)},\n",
       " {'DocId': '20210227-093809-271157',\n",
       "  'offset': 109,\n",
       "  'start': 199,\n",
       "  'end': 201,\n",
       "  'text': '벤존',\n",
       "  '_pos': Feature(pos='NNP', semantic='인명', has_jongseong=True, reading='벤존', type=None, start_pos=None, end_pos=None, expression=None)},\n",
       " {'DocId': '20210227-093809-271157',\n",
       "  'offset': 110,\n",
       "  'start': 201,\n",
       "  'end': 202,\n",
       "  'text': '은',\n",
       "  '_pos': Feature(pos='JX', semantic=None, has_jongseong=True, reading='은', type=None, start_pos=None, end_pos=None, expression=None)},\n",
       " {'DocId': '20210227-093809-271157',\n",
       "  'offset': 111,\n",
       "  'start': 203,\n",
       "  'end': 207,\n",
       "  'text': '벤조페논',\n",
       "  '_pos': Feature(pos='NNG', semantic=None, has_jongseong=True, reading='벤조페논', type='Compound', start_pos=None, end_pos=None, expression='벤조/NNG/*+페논/NNG/*')},\n",
       " {'DocId': '20210227-093809-271157',\n",
       "  'offset': 112,\n",
       "  'start': 207,\n",
       "  'end': 208,\n",
       "  'text': '계',\n",
       "  '_pos': Feature(pos='XSN', semantic=None, has_jongseong=False, reading='계', type=None, start_pos=None, end_pos=None, expression=None)},\n",
       " {'DocId': '20210227-093809-271157',\n",
       "  'offset': 113,\n",
       "  'start': 209,\n",
       "  'end': 210,\n",
       "  'text': '광',\n",
       "  '_pos': Feature(pos='NNG', semantic=None, has_jongseong=True, reading='광', type=None, start_pos=None, end_pos=None, expression=None)},\n",
       " {'DocId': '20210227-093809-271157',\n",
       "  'offset': 114,\n",
       "  'start': 210,\n",
       "  'end': 213,\n",
       "  'text': '증감제',\n",
       "  '_pos': Feature(pos='NNG', semantic=None, has_jongseong=False, reading='증감제', type='Compound', start_pos=None, end_pos=None, expression='증감/NNG/상태변화+제/NNG/*')},\n",
       " {'DocId': '20210227-093809-271157',\n",
       "  'offset': 115,\n",
       "  'start': 213,\n",
       "  'end': 214,\n",
       "  'text': '로',\n",
       "  '_pos': Feature(pos='JKB', semantic=None, has_jongseong=False, reading='로', type=None, start_pos=None, end_pos=None, expression=None)},\n",
       " {'DocId': '20210227-093809-271157',\n",
       "  'offset': 116,\n",
       "  'start': 215,\n",
       "  'end': 218,\n",
       "  'text': 'UVA',\n",
       "  '_pos': Feature(pos='SL', semantic=None, has_jongseong=None, reading=None, type=None, start_pos=None, end_pos=None, expression=None)},\n",
       " {'DocId': '20210227-093809-271157',\n",
       "  'offset': 117,\n",
       "  'start': 219,\n",
       "  'end': 221,\n",
       "  'text': '파장',\n",
       "  '_pos': Feature(pos='NNG', semantic=None, has_jongseong=True, reading='파장', type=None, start_pos=None, end_pos=None, expression=None)},\n",
       " {'DocId': '20210227-093809-271157',\n",
       "  'offset': 118,\n",
       "  'start': 222,\n",
       "  'end': 224,\n",
       "  'text': '일부',\n",
       "  '_pos': Feature(pos='NNG', semantic=None, has_jongseong=False, reading='일부', type=None, start_pos=None, end_pos=None, expression=None)},\n",
       " {'DocId': '20210227-093809-271157',\n",
       "  'offset': 119,\n",
       "  'start': 224,\n",
       "  'end': 225,\n",
       "  'text': '를',\n",
       "  '_pos': Feature(pos='JKO', semantic=None, has_jongseong=True, reading='를', type=None, start_pos=None, end_pos=None, expression=None)},\n",
       " {'DocId': '20210227-093809-271157',\n",
       "  'offset': 120,\n",
       "  'start': 226,\n",
       "  'end': 228,\n",
       "  'text': '들뜬',\n",
       "  '_pos': Feature(pos='VV+ETM', semantic=None, has_jongseong=True, reading='들뜬', type='Inflect', start_pos='VV', end_pos='ETM', expression='들뜨/VV/*+ᆫ/ETM/*')},\n",
       " {'DocId': '20210227-093809-271157',\n",
       "  'offset': 121,\n",
       "  'start': 229,\n",
       "  'end': 232,\n",
       "  'text': '에너지',\n",
       "  '_pos': Feature(pos='NNG', semantic=None, has_jongseong=False, reading='에너지', type=None, start_pos=None, end_pos=None, expression=None)},\n",
       " {'DocId': '20210227-093809-271157',\n",
       "  'offset': 122,\n",
       "  'start': 233,\n",
       "  'end': 235,\n",
       "  'text': '상태',\n",
       "  '_pos': Feature(pos='NNG', semantic='정적사태', has_jongseong=False, reading='상태', type=None, start_pos=None, end_pos=None, expression=None)},\n",
       " {'DocId': '20210227-093809-271157',\n",
       "  'offset': 123,\n",
       "  'start': 235,\n",
       "  'end': 236,\n",
       "  'text': '로',\n",
       "  '_pos': Feature(pos='JKB', semantic=None, has_jongseong=False, reading='로', type=None, start_pos=None, end_pos=None, expression=None)},\n",
       " {'DocId': '20210227-093809-271157',\n",
       "  'offset': 124,\n",
       "  'start': 237,\n",
       "  'end': 239,\n",
       "  'text': '만들',\n",
       "  '_pos': Feature(pos='VV', semantic=None, has_jongseong=True, reading='만들', type=None, start_pos=None, end_pos=None, expression=None)},\n",
       " {'DocId': '20210227-093809-271157',\n",
       "  'offset': 125,\n",
       "  'start': 239,\n",
       "  'end': 240,\n",
       "  'text': '어',\n",
       "  '_pos': Feature(pos='EC', semantic=None, has_jongseong=False, reading='어', type=None, start_pos=None, end_pos=None, expression=None)},\n",
       " {'DocId': '20210227-093809-271157',\n",
       "  'offset': 126,\n",
       "  'start': 241,\n",
       "  'end': 245,\n",
       "  'text': '내보낸다',\n",
       "  '_pos': Feature(pos='VV+EF', semantic=None, has_jongseong=False, reading='내보낸다', type='Inflect', start_pos='VV', end_pos='EF', expression='내보내/VV/*+ᆫ다/EF/*')},\n",
       " {'DocId': '20210227-093809-271157',\n",
       "  'offset': 127,\n",
       "  'start': 245,\n",
       "  'end': 246,\n",
       "  'text': '.',\n",
       "  '_pos': Feature(pos='SF', semantic=None, has_jongseong=None, reading=None, type=None, start_pos=None, end_pos=None, expression=None)},\n",
       " {'DocId': '20210227-093809-271157',\n",
       "  'offset': 128,\n",
       "  'start': 247,\n",
       "  'end': 248,\n",
       "  'text': '즉',\n",
       "  '_pos': Feature(pos='MAJ', semantic=None, has_jongseong=True, reading='즉', type=None, start_pos=None, end_pos=None, expression=None)},\n",
       " {'DocId': '20210227-093809-271157',\n",
       "  'offset': 129,\n",
       "  'start': 248,\n",
       "  'end': 249,\n",
       "  'text': ',',\n",
       "  '_pos': Feature(pos='SC', semantic=None, has_jongseong=None, reading=None, type=None, start_pos=None, end_pos=None, expression=None)},\n",
       " {'DocId': '20210227-093809-271157',\n",
       "  'offset': 130,\n",
       "  'start': 250,\n",
       "  'end': 253,\n",
       "  'text': 'UVA',\n",
       "  '_pos': Feature(pos='SL', semantic=None, has_jongseong=None, reading=None, type=None, start_pos=None, end_pos=None, expression=None)},\n",
       " {'DocId': '20210227-093809-271157',\n",
       "  'offset': 131,\n",
       "  'start': 254,\n",
       "  'end': 256,\n",
       "  'text': '파장',\n",
       "  '_pos': Feature(pos='NNG', semantic=None, has_jongseong=True, reading='파장', type=None, start_pos=None, end_pos=None, expression=None)},\n",
       " {'DocId': '20210227-093809-271157',\n",
       "  'offset': 132,\n",
       "  'start': 256,\n",
       "  'end': 257,\n",
       "  'text': '의',\n",
       "  '_pos': Feature(pos='JKG', semantic=None, has_jongseong=False, reading='의', type=None, start_pos=None, end_pos=None, expression=None)},\n",
       " {'DocId': '20210227-093809-271157',\n",
       "  'offset': 133,\n",
       "  'start': 258,\n",
       "  'end': 260,\n",
       "  'text': '전부',\n",
       "  '_pos': Feature(pos='NNG', semantic=None, has_jongseong=False, reading='전부', type=None, start_pos=None, end_pos=None, expression=None)},\n",
       " {'DocId': '20210227-093809-271157',\n",
       "  'offset': 134,\n",
       "  'start': 260,\n",
       "  'end': 261,\n",
       "  'text': '는',\n",
       "  '_pos': Feature(pos='JX', semantic=None, has_jongseong=True, reading='는', type=None, start_pos=None, end_pos=None, expression=None)},\n",
       " {'DocId': '20210227-093809-271157',\n",
       "  'offset': 135,\n",
       "  'start': 262,\n",
       "  'end': 267,\n",
       "  'text': '아닐지라도',\n",
       "  '_pos': Feature(pos='VCN+EC', semantic=None, has_jongseong=False, reading='아닐지라도', type='Inflect', start_pos='VCN', end_pos='EC', expression='아니/VCN/*+ᆯ지라도/EC/*')},\n",
       " {'DocId': '20210227-093809-271157',\n",
       "  'offset': 136,\n",
       "  'start': 268,\n",
       "  'end': 270,\n",
       "  'text': '효과',\n",
       "  '_pos': Feature(pos='NNG', semantic=None, has_jongseong=False, reading='효과', type=None, start_pos=None, end_pos=None, expression=None)},\n",
       " {'DocId': '20210227-093809-271157',\n",
       "  'offset': 137,\n",
       "  'start': 270,\n",
       "  'end': 271,\n",
       "  'text': '적',\n",
       "  '_pos': Feature(pos='XSN', semantic=None, has_jongseong=True, reading='적', type=None, start_pos=None, end_pos=None, expression=None)},\n",
       " {'DocId': '20210227-093809-271157',\n",
       "  'offset': 138,\n",
       "  'start': 271,\n",
       "  'end': 273,\n",
       "  'text': '으로',\n",
       "  '_pos': Feature(pos='JKB', semantic=None, has_jongseong=False, reading='으로', type=None, start_pos=None, end_pos=None, expression=None)},\n",
       " {'DocId': '20210227-093809-271157',\n",
       "  'offset': 139,\n",
       "  'start': 274,\n",
       "  'end': 276,\n",
       "  'text': '차단',\n",
       "  '_pos': Feature(pos='NNG', semantic='행위', has_jongseong=True, reading='차단', type=None, start_pos=None, end_pos=None, expression=None)},\n",
       " {'DocId': '20210227-093809-271157',\n",
       "  'offset': 140,\n",
       "  'start': 276,\n",
       "  'end': 278,\n",
       "  'text': '한다',\n",
       "  '_pos': Feature(pos='XSV+EF', semantic=None, has_jongseong=False, reading='한다', type='Inflect', start_pos='XSV', end_pos='EF', expression='하/XSV/*+ᆫ다/EF/*')},\n",
       " {'DocId': '20210227-093809-271157',\n",
       "  'offset': 141,\n",
       "  'start': 278,\n",
       "  'end': 279,\n",
       "  'text': '.',\n",
       "  '_pos': Feature(pos='SF', semantic=None, has_jongseong=None, reading=None, type=None, start_pos=None, end_pos=None, expression=None)},\n",
       " {'DocId': '20210227-093809-271157',\n",
       "  'offset': 142,\n",
       "  'start': 280,\n",
       "  'end': 281,\n",
       "  'text': '반',\n",
       "  '_pos': Feature(pos='NNG', semantic=None, has_jongseong=True, reading='반', type=None, start_pos=None, end_pos=None, expression=None)},\n",
       " {'DocId': '20210227-093809-271157',\n",
       "  'offset': 143,\n",
       "  'start': 281,\n",
       "  'end': 283,\n",
       "  'text': '대로',\n",
       "  '_pos': Feature(pos='JKB', semantic=None, has_jongseong=False, reading='대로', type=None, start_pos=None, end_pos=None, expression=None)},\n",
       " {'DocId': '20210227-093809-271157',\n",
       "  'offset': 144,\n",
       "  'start': 284,\n",
       "  'end': 296,\n",
       "  'text': '에칠헥실메톡시신나메이트',\n",
       "  '_pos': 'kpe'},\n",
       " {'DocId': '20210227-093809-271157',\n",
       "  'offset': 153,\n",
       "  'start': 296,\n",
       "  'end': 297,\n",
       "  'text': '는',\n",
       "  '_pos': Feature(pos='JX', semantic=None, has_jongseong=True, reading='는', type=None, start_pos=None, end_pos=None, expression=None)},\n",
       " {'DocId': '20210227-093809-271157',\n",
       "  'offset': 154,\n",
       "  'start': 298,\n",
       "  'end': 301,\n",
       "  'text': 'UVB',\n",
       "  '_pos': Feature(pos='SL', semantic=None, has_jongseong=None, reading=None, type=None, start_pos=None, end_pos=None, expression=None)},\n",
       " {'DocId': '20210227-093809-271157',\n",
       "  'offset': 155,\n",
       "  'start': 302,\n",
       "  'end': 304,\n",
       "  'text': '파장',\n",
       "  '_pos': Feature(pos='NNG', semantic=None, has_jongseong=True, reading='파장', type=None, start_pos=None, end_pos=None, expression=None)},\n",
       " {'DocId': '20210227-093809-271157',\n",
       "  'offset': 156,\n",
       "  'start': 304,\n",
       "  'end': 305,\n",
       "  'text': '에',\n",
       "  '_pos': Feature(pos='JKB', semantic=None, has_jongseong=False, reading='에', type=None, start_pos=None, end_pos=None, expression=None)},\n",
       " {'DocId': '20210227-093809-271157',\n",
       "  'offset': 157,\n",
       "  'start': 306,\n",
       "  'end': 309,\n",
       "  'text': '대해서',\n",
       "  '_pos': Feature(pos='VV+EC', semantic=None, has_jongseong=False, reading='대해서', type='Inflect', start_pos='VV', end_pos='EC', expression='대하/VV/*+아서/EC/*')},\n",
       " {'DocId': '20210227-093809-271157',\n",
       "  'offset': 158,\n",
       "  'start': 309,\n",
       "  'end': 310,\n",
       "  'text': '만',\n",
       "  '_pos': Feature(pos='JX', semantic=None, has_jongseong=True, reading='만', type=None, start_pos=None, end_pos=None, expression=None)},\n",
       " {'DocId': '20210227-093809-271157',\n",
       "  'offset': 159,\n",
       "  'start': 311,\n",
       "  'end': 313,\n",
       "  'text': '효과',\n",
       "  '_pos': Feature(pos='NNG', semantic=None, has_jongseong=False, reading='효과', type=None, start_pos=None, end_pos=None, expression=None)},\n",
       " {'DocId': '20210227-093809-271157',\n",
       "  'offset': 160,\n",
       "  'start': 313,\n",
       "  'end': 314,\n",
       "  'text': '적',\n",
       "  '_pos': Feature(pos='XSN', semantic=None, has_jongseong=True, reading='적', type=None, start_pos=None, end_pos=None, expression=None)},\n",
       " {'DocId': '20210227-093809-271157',\n",
       "  'offset': 161,\n",
       "  'start': 314,\n",
       "  'end': 316,\n",
       "  'text': '으로',\n",
       "  '_pos': Feature(pos='JKB', semantic=None, has_jongseong=False, reading='으로', type=None, start_pos=None, end_pos=None, expression=None)},\n",
       " {'DocId': '20210227-093809-271157',\n",
       "  'offset': 162,\n",
       "  'start': 317,\n",
       "  'end': 319,\n",
       "  'text': '반응',\n",
       "  '_pos': Feature(pos='NNG', semantic=None, has_jongseong=True, reading='반응', type=None, start_pos=None, end_pos=None, expression=None)},\n",
       " {'DocId': '20210227-093809-271157',\n",
       "  'offset': 163,\n",
       "  'start': 319,\n",
       "  'end': 320,\n",
       "  'text': '하',\n",
       "  '_pos': Feature(pos='XSV', semantic=None, has_jongseong=False, reading='하', type=None, start_pos=None, end_pos=None, expression=None)},\n",
       " {'DocId': '20210227-093809-271157',\n",
       "  'offset': 164,\n",
       "  'start': 320,\n",
       "  'end': 321,\n",
       "  'text': '지',\n",
       "  '_pos': Feature(pos='EC', semantic=None, has_jongseong=False, reading='지', type=None, start_pos=None, end_pos=None, expression=None)},\n",
       " {'DocId': '20210227-093809-271157',\n",
       "  'offset': 165,\n",
       "  'start': 322,\n",
       "  'end': 325,\n",
       "  'text': 'UVA',\n",
       "  '_pos': Feature(pos='SL', semantic=None, has_jongseong=None, reading=None, type=None, start_pos=None, end_pos=None, expression=None)},\n",
       " {'DocId': '20210227-093809-271157',\n",
       "  'offset': 166,\n",
       "  'start': 325,\n",
       "  'end': 326,\n",
       "  'text': '에',\n",
       "  '_pos': Feature(pos='JKB', semantic=None, has_jongseong=False, reading='에', type=None, start_pos=None, end_pos=None, expression=None)},\n",
       " {'DocId': '20210227-093809-271157',\n",
       "  'offset': 167,\n",
       "  'start': 327,\n",
       "  'end': 330,\n",
       "  'text': '대해서',\n",
       "  '_pos': Feature(pos='VV+EC', semantic=None, has_jongseong=False, reading='대해서', type='Inflect', start_pos='VV', end_pos='EC', expression='대하/VV/*+아서/EC/*')},\n",
       " {'DocId': '20210227-093809-271157',\n",
       "  'offset': 168,\n",
       "  'start': 330,\n",
       "  'end': 331,\n",
       "  'text': '는',\n",
       "  '_pos': Feature(pos='JX', semantic=None, has_jongseong=True, reading='는', type=None, start_pos=None, end_pos=None, expression=None)},\n",
       " {'DocId': '20210227-093809-271157',\n",
       "  'offset': 169,\n",
       "  'start': 332,\n",
       "  'end': 334,\n",
       "  'text': '거의',\n",
       "  '_pos': Feature(pos='MAG', semantic='성분부사|정도부사', has_jongseong=False, reading='거의', type=None, start_pos=None, end_pos=None, expression=None)},\n",
       " {'DocId': '20210227-093809-271157',\n",
       "  'offset': 170,\n",
       "  'start': 335,\n",
       "  'end': 337,\n",
       "  'text': '반응',\n",
       "  '_pos': Feature(pos='NNG', semantic=None, has_jongseong=True, reading='반응', type=None, start_pos=None, end_pos=None, expression=None)},\n",
       " {'DocId': '20210227-093809-271157',\n",
       "  'offset': 171,\n",
       "  'start': 337,\n",
       "  'end': 338,\n",
       "  'text': '하',\n",
       "  '_pos': Feature(pos='XSV', semantic=None, has_jongseong=False, reading='하', type=None, start_pos=None, end_pos=None, expression=None)},\n",
       " {'DocId': '20210227-093809-271157',\n",
       "  'offset': 172,\n",
       "  'start': 338,\n",
       "  'end': 339,\n",
       "  'text': '지',\n",
       "  '_pos': Feature(pos='EC', semantic=None, has_jongseong=False, reading='지', type=None, start_pos=None, end_pos=None, expression=None)},\n",
       " {'DocId': '20210227-093809-271157',\n",
       "  'offset': 173,\n",
       "  'start': 340,\n",
       "  'end': 341,\n",
       "  'text': '않',\n",
       "  '_pos': Feature(pos='VX', semantic=None, has_jongseong=True, reading='않', type=None, start_pos=None, end_pos=None, expression=None)},\n",
       " {'DocId': '20210227-093809-271157',\n",
       "  'offset': 174,\n",
       "  'start': 341,\n",
       "  'end': 343,\n",
       "  'text': '는다',\n",
       "  '_pos': Feature(pos='EF', semantic=None, has_jongseong=False, reading='는다', type=None, start_pos=None, end_pos=None, expression=None)},\n",
       " {'DocId': '20210227-093809-271157',\n",
       "  'offset': 175,\n",
       "  'start': 343,\n",
       "  'end': 344,\n",
       "  'text': '.',\n",
       "  '_pos': Feature(pos='SF', semantic=None, has_jongseong=None, reading=None, type=None, start_pos=None, end_pos=None, expression=None)},\n",
       " {'DocId': '20210227-093809-271157',\n",
       "  'offset': 176,\n",
       "  'start': 345,\n",
       "  'end': 348,\n",
       "  'text': '화장품',\n",
       "  '_pos': Feature(pos='NNG', semantic=None, has_jongseong=True, reading='화장품', type='Compound', start_pos=None, end_pos=None, expression='화장/NNG/*+품/NNG/*')},\n",
       " {'DocId': '20210227-093809-271157',\n",
       "  'offset': 177,\n",
       "  'start': 349,\n",
       "  'end': 351,\n",
       "  'text': '업계',\n",
       "  '_pos': Feature(pos='NNG', semantic=None, has_jongseong=False, reading='업계', type=None, start_pos=None, end_pos=None, expression=None)},\n",
       " {'DocId': '20210227-093809-271157',\n",
       "  'offset': 178,\n",
       "  'start': 351,\n",
       "  'end': 352,\n",
       "  'text': '나',\n",
       "  '_pos': Feature(pos='JC', semantic=None, has_jongseong=False, reading='나', type=None, start_pos=None, end_pos=None, expression=None)},\n",
       " {'DocId': '20210227-093809-271157',\n",
       "  'offset': 179,\n",
       "  'start': 353,\n",
       "  'end': 356,\n",
       "  'text': '이른바',\n",
       "  '_pos': Feature(pos='MAJ', semantic=None, has_jongseong=False, reading='이른바', type=None, start_pos=None, end_pos=None, expression=None)},\n",
       " {'DocId': '20210227-093809-271157',\n",
       "  'offset': 180,\n",
       "  'start': 357,\n",
       "  'end': 358,\n",
       "  'text': \"'\",\n",
       "  '_pos': Feature(pos='SY', semantic=None, has_jongseong=None, reading=None, type=None, start_pos=None, end_pos=None, expression=None)},\n",
       " {'DocId': '20210227-093809-271157',\n",
       "  'offset': 181,\n",
       "  'start': 358,\n",
       "  'end': 360,\n",
       "  'text': '뷰티',\n",
       "  '_pos': Feature(pos='NNG', semantic=None, has_jongseong=False, reading='뷰티', type=None, start_pos=None, end_pos=None, expression=None)},\n",
       " {'DocId': '20210227-093809-271157',\n",
       "  'offset': 182,\n",
       "  'start': 361,\n",
       "  'end': 364,\n",
       "  'text': '블로그',\n",
       "  '_pos': Feature(pos='NNG', semantic=None, has_jongseong=False, reading='블로그', type=None, start_pos=None, end_pos=None, expression=None)},\n",
       " {'DocId': '20210227-093809-271157',\n",
       "  'offset': 183,\n",
       "  'start': 364,\n",
       "  'end': 365,\n",
       "  'text': \"'\",\n",
       "  '_pos': Feature(pos='SY', semantic=None, has_jongseong=None, reading=None, type=None, start_pos=None, end_pos=None, expression=None)},\n",
       " {'DocId': '20210227-093809-271157',\n",
       "  'offset': 184,\n",
       "  'start': 365,\n",
       "  'end': 366,\n",
       "  'text': '를',\n",
       "  '_pos': Feature(pos='JKO', semantic=None, has_jongseong=True, reading='를', type=None, start_pos=None, end_pos=None, expression=None)},\n",
       " {'DocId': '20210227-093809-271157',\n",
       "  'offset': 185,\n",
       "  'start': 367,\n",
       "  'end': 369,\n",
       "  'text': '자칭',\n",
       "  '_pos': Feature(pos='NNG', semantic='행위', has_jongseong=True, reading='자칭', type=None, start_pos=None, end_pos=None, expression=None)},\n",
       " {'DocId': '20210227-093809-271157',\n",
       "  'offset': 186,\n",
       "  'start': 369,\n",
       "  'end': 370,\n",
       "  'text': '하',\n",
       "  '_pos': Feature(pos='XSV', semantic=None, has_jongseong=False, reading='하', type=None, start_pos=None, end_pos=None, expression=None)},\n",
       " {'DocId': '20210227-093809-271157',\n",
       "  'offset': 187,\n",
       "  'start': 370,\n",
       "  'end': 371,\n",
       "  'text': '는',\n",
       "  '_pos': Feature(pos='ETM', semantic=None, has_jongseong=True, reading='는', type=None, start_pos=None, end_pos=None, expression=None)},\n",
       " {'DocId': '20210227-093809-271157',\n",
       "  'offset': 188,\n",
       "  'start': 372,\n",
       "  'end': 374,\n",
       "  'text': '일각',\n",
       "  '_pos': Feature(pos='NNG', semantic=None, has_jongseong=True, reading='일각', type=None, start_pos=None, end_pos=None, expression=None)},\n",
       " {'DocId': '20210227-093809-271157',\n",
       "  'offset': 189,\n",
       "  'start': 374,\n",
       "  'end': 376,\n",
       "  'text': '에서',\n",
       "  '_pos': Feature(pos='JKB', semantic=None, has_jongseong=False, reading='에서', type=None, start_pos=None, end_pos=None, expression=None)},\n",
       " {'DocId': '20210227-093809-271157',\n",
       "  'offset': 190,\n",
       "  'start': 376,\n",
       "  'end': 377,\n",
       "  'text': '는',\n",
       "  '_pos': Feature(pos='JX', semantic=None, has_jongseong=True, reading='는', type=None, start_pos=None, end_pos=None, expression=None)},\n",
       " {'DocId': '20210227-093809-271157',\n",
       "  'offset': 191,\n",
       "  'start': 378,\n",
       "  'end': 381,\n",
       "  'text': 'UVA',\n",
       "  '_pos': Feature(pos='SL', semantic=None, has_jongseong=None, reading=None, type=None, start_pos=None, end_pos=None, expression=None)},\n",
       " {'DocId': '20210227-093809-271157',\n",
       "  'offset': 192,\n",
       "  'start': 381,\n",
       "  'end': 382,\n",
       "  'text': '도',\n",
       "  '_pos': Feature(pos='JX', semantic=None, has_jongseong=False, reading='도', type=None, start_pos=None, end_pos=None, expression=None)},\n",
       " {'DocId': '20210227-093809-271157',\n",
       "  'offset': 193,\n",
       "  'start': 383,\n",
       "  'end': 385,\n",
       "  'text': '차단',\n",
       "  '_pos': Feature(pos='NNG', semantic='행위', has_jongseong=True, reading='차단', type=None, start_pos=None, end_pos=None, expression=None)},\n",
       " {'DocId': '20210227-093809-271157',\n",
       "  'offset': 194,\n",
       "  'start': 385,\n",
       "  'end': 386,\n",
       "  'text': '하',\n",
       "  '_pos': Feature(pos='XSV', semantic=None, has_jongseong=False, reading='하', type=None, start_pos=None, end_pos=None, expression=None)},\n",
       " {'DocId': '20210227-093809-271157',\n",
       "  'offset': 195,\n",
       "  'start': 386,\n",
       "  'end': 387,\n",
       "  'text': '는',\n",
       "  '_pos': Feature(pos='ETM', semantic=None, has_jongseong=True, reading='는', type=None, start_pos=None, end_pos=None, expression=None)},\n",
       " {'DocId': '20210227-093809-271157',\n",
       "  'offset': 196,\n",
       "  'start': 388,\n",
       "  'end': 390,\n",
       "  'text': '성분',\n",
       "  '_pos': Feature(pos='NNG', semantic=None, has_jongseong=True, reading='성분', type=None, start_pos=None, end_pos=None, expression=None)},\n",
       " {'DocId': '20210227-093809-271157',\n",
       "  'offset': 197,\n",
       "  'start': 390,\n",
       "  'end': 391,\n",
       "  'text': '이',\n",
       "  '_pos': Feature(pos='VCP', semantic=None, has_jongseong=False, reading='이', type=None, start_pos=None, end_pos=None, expression=None)},\n",
       " {'DocId': '20210227-093809-271157',\n",
       "  'offset': 198,\n",
       "  'start': 391,\n",
       "  'end': 393,\n",
       "  'text': '라며',\n",
       "  '_pos': Feature(pos='EC', semantic=None, has_jongseong=False, reading='라며', type=None, start_pos=None, end_pos=None, expression=None)},\n",
       " {'DocId': '20210227-093809-271157',\n",
       "  'offset': 199,\n",
       "  'start': 394,\n",
       "  'end': 396,\n",
       "  'text': '광고',\n",
       "  '_pos': Feature(pos='NNG', semantic=None, has_jongseong=False, reading='광고', type=None, start_pos=None, end_pos=None, expression=None)},\n",
       " {'DocId': '20210227-093809-271157',\n",
       "  'offset': 200,\n",
       "  'start': 396,\n",
       "  'end': 398,\n",
       "  'text': '한다',\n",
       "  '_pos': Feature(pos='XSV+EF', semantic=None, has_jongseong=False, reading='한다', type='Inflect', start_pos='XSV', end_pos='EF', expression='하/XSV/*+ᆫ다/EF/*')},\n",
       " {'DocId': '20210227-093809-271157',\n",
       "  'offset': 201,\n",
       "  'start': 398,\n",
       "  'end': 399,\n",
       "  'text': '.',\n",
       "  '_pos': Feature(pos='SF', semantic=None, has_jongseong=None, reading=None, type=None, start_pos=None, end_pos=None, expression=None)},\n",
       " {'DocId': '20210227-093809-271157',\n",
       "  'offset': 202,\n",
       "  'start': 400,\n",
       "  'end': 403,\n",
       "  'text': '하지만',\n",
       "  '_pos': Feature(pos='MAJ', semantic=None, has_jongseong=True, reading='하지만', type=None, start_pos=None, end_pos=None, expression=None)},\n",
       " {'DocId': '20210227-093809-271157',\n",
       "  'offset': 203,\n",
       "  'start': 404,\n",
       "  'end': 406,\n",
       "  'text': '과학',\n",
       "  '_pos': Feature(pos='NNG', semantic=None, has_jongseong=True, reading='과학', type=None, start_pos=None, end_pos=None, expression=None)},\n",
       " {'DocId': '20210227-093809-271157',\n",
       "  'offset': 204,\n",
       "  'start': 406,\n",
       "  'end': 407,\n",
       "  'text': '을',\n",
       "  '_pos': Feature(pos='JKO', semantic=None, has_jongseong=True, reading='을', type=None, start_pos=None, end_pos=None, expression=None)},\n",
       " {'DocId': '20210227-093809-271157',\n",
       "  'offset': 205,\n",
       "  'start': 408,\n",
       "  'end': 410,\n",
       "  'text': '조금',\n",
       "  '_pos': Feature(pos='NNG', semantic=None, has_jongseong=True, reading='조금', type=None, start_pos=None, end_pos=None, expression=None)},\n",
       " {'DocId': '20210227-093809-271157',\n",
       "  'offset': 206,\n",
       "  'start': 410,\n",
       "  'end': 411,\n",
       "  'text': '이',\n",
       "  '_pos': Feature(pos='VCP', semantic=None, has_jongseong=False, reading='이', type=None, start_pos=None, end_pos=None, expression=None)},\n",
       " {'DocId': '20210227-093809-271157',\n",
       "  'offset': 207,\n",
       "  'start': 411,\n",
       "  'end': 413,\n",
       "  'text': '라도',\n",
       "  '_pos': Feature(pos='EC', semantic=None, has_jongseong=False, reading='라도', type=None, start_pos=None, end_pos=None, expression=None)},\n",
       " {'DocId': '20210227-093809-271157',\n",
       "  'offset': 208,\n",
       "  'start': 414,\n",
       "  'end': 416,\n",
       "  'text': '공부',\n",
       "  '_pos': Feature(pos='NNG', semantic='행위', has_jongseong=False, reading='공부', type=None, start_pos=None, end_pos=None, expression=None)},\n",
       " {'DocId': '20210227-093809-271157',\n",
       "  'offset': 209,\n",
       "  'start': 416,\n",
       "  'end': 417,\n",
       "  'text': '한',\n",
       "  '_pos': Feature(pos='XSV+ETM', semantic=None, has_jongseong=True, reading='한', type='Inflect', start_pos='XSV', end_pos='ETM', expression='하/XSV/*+ᆫ/ETM/*')},\n",
       " {'DocId': '20210227-093809-271157',\n",
       "  'offset': 210,\n",
       "  'start': 418,\n",
       "  'end': 420,\n",
       "  'text': '사람',\n",
       "  '_pos': Feature(pos='NNG', semantic=None, has_jongseong=True, reading='사람', type=None, start_pos=None, end_pos=None, expression=None)},\n",
       " {'DocId': '20210227-093809-271157',\n",
       "  'offset': 211,\n",
       "  'start': 420,\n",
       "  'end': 421,\n",
       "  'text': '이',\n",
       "  '_pos': Feature(pos='VCP', semantic=None, has_jongseong=False, reading='이', type=None, start_pos=None, end_pos=None, expression=None)},\n",
       " {'DocId': '20210227-093809-271157',\n",
       "  'offset': 212,\n",
       "  'start': 421,\n",
       "  'end': 423,\n",
       "  'text': '라면',\n",
       "  '_pos': Feature(pos='EC', semantic=None, has_jongseong=True, reading='라면', type=None, start_pos=None, end_pos=None, expression=None)},\n",
       " {'DocId': '20210227-093809-271157',\n",
       "  'offset': 213,\n",
       "  'start': 424,\n",
       "  'end': 425,\n",
       "  'text': '이',\n",
       "  '_pos': Feature(pos='MM', semantic='~명사', has_jongseong=False, reading='이', type=None, start_pos=None, end_pos=None, expression=None)},\n",
       " {'DocId': '20210227-093809-271157',\n",
       "  'offset': 214,\n",
       "  'start': 426,\n",
       "  'end': 428,\n",
       "  'text': '성분',\n",
       "  '_pos': Feature(pos='NNG', semantic=None, has_jongseong=True, reading='성분', type=None, start_pos=None, end_pos=None, expression=None)},\n",
       " {'DocId': '20210227-093809-271157',\n",
       "  'offset': 215,\n",
       "  'start': 428,\n",
       "  'end': 430,\n",
       "  'text': '으로',\n",
       "  '_pos': Feature(pos='JKB', semantic=None, has_jongseong=False, reading='으로', type=None, start_pos=None, end_pos=None, expression=None)},\n",
       " {'DocId': '20210227-093809-271157',\n",
       "  'offset': 216,\n",
       "  'start': 430,\n",
       "  'end': 431,\n",
       "  'text': '는',\n",
       "  '_pos': Feature(pos='JX', semantic=None, has_jongseong=True, reading='는', type=None, start_pos=None, end_pos=None, expression=None)},\n",
       " {'DocId': '20210227-093809-271157',\n",
       "  'offset': 217,\n",
       "  'start': 432,\n",
       "  'end': 435,\n",
       "  'text': '제대로',\n",
       "  '_pos': Feature(pos='MAG', semantic='성분부사|양태부사', has_jongseong=False, reading='제대로', type=None, start_pos=None, end_pos=None, expression=None)},\n",
       " {'DocId': '20210227-093809-271157',\n",
       "  'offset': 218,\n",
       "  'start': 436,\n",
       "  'end': 437,\n",
       "  'text': '된',\n",
       "  '_pos': Feature(pos='VV+ETM', semantic=None, has_jongseong=True, reading='된', type='Inflect', start_pos='VV', end_pos='ETM', expression='되/VV/*+ᆫ/ETM/*')},\n",
       " {'DocId': '20210227-093809-271157',\n",
       "  'offset': 219,\n",
       "  'start': 438,\n",
       "  'end': 441,\n",
       "  'text': 'UVA',\n",
       "  '_pos': Feature(pos='SL', semantic=None, has_jongseong=None, reading=None, type=None, start_pos=None, end_pos=None, expression=None)},\n",
       " {'DocId': '20210227-093809-271157',\n",
       "  'offset': 220,\n",
       "  'start': 442,\n",
       "  'end': 444,\n",
       "  'text': '차단',\n",
       "  '_pos': Feature(pos='NNG', semantic='행위', has_jongseong=True, reading='차단', type=None, start_pos=None, end_pos=None, expression=None)},\n",
       " {'DocId': '20210227-093809-271157',\n",
       "  'offset': 221,\n",
       "  'start': 445,\n",
       "  'end': 447,\n",
       "  'text': '효과',\n",
       "  '_pos': Feature(pos='NNG', semantic=None, has_jongseong=False, reading='효과', type=None, start_pos=None, end_pos=None, expression=None)},\n",
       " {'DocId': '20210227-093809-271157',\n",
       "  'offset': 222,\n",
       "  'start': 447,\n",
       "  'end': 448,\n",
       "  'text': '를',\n",
       "  '_pos': Feature(pos='JKO', semantic=None, has_jongseong=True, reading='를', type=None, start_pos=None, end_pos=None, expression=None)},\n",
       " {'DocId': '20210227-093809-271157',\n",
       "  'offset': 223,\n",
       "  'start': 449,\n",
       "  'end': 451,\n",
       "  'text': '기대',\n",
       "  '_pos': Feature(pos='NNG', semantic='행위', has_jongseong=False, reading='기대', type=None, start_pos=None, end_pos=None, expression=None)},\n",
       " {'DocId': '20210227-093809-271157',\n",
       "  'offset': 224,\n",
       "  'start': 451,\n",
       "  'end': 452,\n",
       "  'text': '하',\n",
       "  '_pos': Feature(pos='XSV', semantic=None, has_jongseong=False, reading='하', type=None, start_pos=None, end_pos=None, expression=None)},\n",
       " {'DocId': '20210227-093809-271157',\n",
       "  'offset': 225,\n",
       "  'start': 452,\n",
       "  'end': 453,\n",
       "  'text': '기',\n",
       "  '_pos': Feature(pos='ETN', semantic=None, has_jongseong=False, reading='기', type=None, start_pos=None, end_pos=None, expression=None)},\n",
       " {'DocId': '20210227-093809-271157',\n",
       "  'offset': 226,\n",
       "  'start': 454,\n",
       "  'end': 456,\n",
       "  'text': '힘들',\n",
       "  '_pos': Feature(pos='VA', semantic=None, has_jongseong=True, reading='힘들', type=None, start_pos=None, end_pos=None, expression=None)},\n",
       " {'DocId': '20210227-093809-271157',\n",
       "  'offset': 227,\n",
       "  'start': 456,\n",
       "  'end': 458,\n",
       "  'text': '다는',\n",
       "  '_pos': Feature(pos='ETM', semantic=None, has_jongseong=True, reading='다는', type=None, start_pos=None, end_pos=None, expression=None)},\n",
       " {'DocId': '20210227-093809-271157',\n",
       "  'offset': 228,\n",
       "  'start': 459,\n",
       "  'end': 460,\n",
       "  'text': '걸',\n",
       "  '_pos': Feature(pos='NNB+JKO', semantic=None, has_jongseong=True, reading='걸', type='Inflect', start_pos='NNB', end_pos='JKO', expression='것/NNB/*+ᆯ/JKO/*')},\n",
       " {'DocId': '20210227-093809-271157',\n",
       "  'offset': 229,\n",
       "  'start': 461,\n",
       "  'end': 462,\n",
       "  'text': '알',\n",
       "  '_pos': Feature(pos='VV+ETM', semantic=None, has_jongseong=True, reading='알', type='Inflect', start_pos='VV', end_pos='ETM', expression='알/VV/*+ᆯ/ETM/*')},\n",
       " {'DocId': '20210227-093809-271157',\n",
       "  'offset': 230,\n",
       "  'start': 463,\n",
       "  'end': 464,\n",
       "  'text': '것',\n",
       "  '_pos': Feature(pos='NNB', semantic=None, has_jongseong=True, reading='것', type=None, start_pos=None, end_pos=None, expression=None)},\n",
       " {'DocId': '20210227-093809-271157',\n",
       "  'offset': 231,\n",
       "  'start': 464,\n",
       "  'end': 465,\n",
       "  'text': '이',\n",
       "  '_pos': Feature(pos='VCP', semantic=None, has_jongseong=False, reading='이', type=None, start_pos=None, end_pos=None, expression=None)},\n",
       " {'DocId': '20210227-093809-271157',\n",
       "  'offset': 232,\n",
       "  'start': 465,\n",
       "  'end': 466,\n",
       "  'text': '다',\n",
       "  '_pos': Feature(pos='EF', semantic=None, has_jongseong=False, reading='다', type=None, start_pos=None, end_pos=None, expression=None)},\n",
       " {'DocId': '20210227-093809-271157',\n",
       "  'offset': 233,\n",
       "  'start': 466,\n",
       "  'end': 467,\n",
       "  'text': '.',\n",
       "  '_pos': Feature(pos='SF', semantic=None, has_jongseong=None, reading=None, type=None, start_pos=None, end_pos=None, expression=None)},\n",
       " {'DocId': '20210227-093809-271157',\n",
       "  'offset': 234,\n",
       "  'start': 468,\n",
       "  'end': 471,\n",
       "  'text': '하지만',\n",
       "  '_pos': Feature(pos='MAJ', semantic=None, has_jongseong=True, reading='하지만', type=None, start_pos=None, end_pos=None, expression=None)},\n",
       " {'DocId': '20210227-093809-271157',\n",
       "  'offset': 235,\n",
       "  'start': 472,\n",
       "  'end': 474,\n",
       "  'text': '사실',\n",
       "  '_pos': Feature(pos='MAG', semantic='문장부사|양상부사', has_jongseong=True, reading='사실', type=None, start_pos=None, end_pos=None, expression=None)},\n",
       " {'DocId': '20210227-093809-271157',\n",
       "  'offset': 236,\n",
       "  'start': 475,\n",
       "  'end': 478,\n",
       "  'text': '소비자',\n",
       "  '_pos': Feature(pos='NNG', semantic=None, has_jongseong=False, reading='소비자', type='Compound', start_pos=None, end_pos=None, expression='소비/NNG/*+자/NNG/*')},\n",
       " {'DocId': '20210227-093809-271157',\n",
       "  'offset': 237,\n",
       "  'start': 478,\n",
       "  'end': 479,\n",
       "  'text': '가',\n",
       "  '_pos': Feature(pos='JKS', semantic=None, has_jongseong=False, reading='가', type=None, start_pos=None, end_pos=None, expression=None)},\n",
       " {'DocId': '20210227-093809-271157',\n",
       "  'offset': 238,\n",
       "  'start': 480,\n",
       "  'end': 483,\n",
       "  'text': '선크림',\n",
       "  '_pos': Feature(pos='NNG', semantic=None, has_jongseong=True, reading='선크림', type='Compound', start_pos=None, end_pos=None, expression='선/NNG/*+크림/NNG/*')},\n",
       " {'DocId': '20210227-093809-271157',\n",
       "  'offset': 239,\n",
       "  'start': 483,\n",
       "  'end': 484,\n",
       "  'text': '을',\n",
       "  '_pos': Feature(pos='JKO', semantic=None, has_jongseong=True, reading='을', type=None, start_pos=None, end_pos=None, expression=None)},\n",
       " {'DocId': '20210227-093809-271157',\n",
       "  'offset': 240,\n",
       "  'start': 485,\n",
       "  'end': 486,\n",
       "  'text': '살',\n",
       "  '_pos': Feature(pos='VV+ETM', semantic=None, has_jongseong=True, reading='살', type='Inflect', start_pos='VV', end_pos='ETM', expression='사/VV/*+ᆯ/ETM/*')},\n",
       " {'DocId': '20210227-093809-271157',\n",
       "  'offset': 241,\n",
       "  'start': 486,\n",
       "  'end': 487,\n",
       "  'text': '때',\n",
       "  '_pos': Feature(pos='NNG', semantic=None, has_jongseong=False, reading='때', type=None, start_pos=None, end_pos=None, expression=None)},\n",
       " {'DocId': '20210227-093809-271157',\n",
       "  'offset': 242,\n",
       "  'start': 487,\n",
       "  'end': 488,\n",
       "  'text': '에',\n",
       "  '_pos': Feature(pos='JKB', semantic=None, has_jongseong=False, reading='에', type=None, start_pos=None, end_pos=None, expression=None)},\n",
       " {'DocId': '20210227-093809-271157',\n",
       "  'offset': 243,\n",
       "  'start': 489,\n",
       "  'end': 491,\n",
       "  'text': '효능',\n",
       "  '_pos': Feature(pos='NNG', semantic=None, has_jongseong=True, reading='효능', type=None, start_pos=None, end_pos=None, expression=None)},\n",
       " {'DocId': '20210227-093809-271157',\n",
       "  'offset': 244,\n",
       "  'start': 491,\n",
       "  'end': 492,\n",
       "  'text': '을',\n",
       "  '_pos': Feature(pos='JKO', semantic=None, has_jongseong=True, reading='을', type=None, start_pos=None, end_pos=None, expression=None)},\n",
       " {'DocId': '20210227-093809-271157',\n",
       "  'offset': 245,\n",
       "  'start': 493,\n",
       "  'end': 495,\n",
       "  'text': '따지',\n",
       "  '_pos': Feature(pos='VV', semantic=None, has_jongseong=False, reading='따지', type=None, start_pos=None, end_pos=None, expression=None)},\n",
       " {'DocId': '20210227-093809-271157',\n",
       "  'offset': 246,\n",
       "  'start': 495,\n",
       "  'end': 496,\n",
       "  'text': '기',\n",
       "  '_pos': Feature(pos='ETN', semantic=None, has_jongseong=False, reading='기', type=None, start_pos=None, end_pos=None, expression=None)},\n",
       " {'DocId': '20210227-093809-271157',\n",
       "  'offset': 247,\n",
       "  'start': 497,\n",
       "  'end': 500,\n",
       "  'text': '위해서',\n",
       "  '_pos': Feature(pos='VV+EC', semantic=None, has_jongseong=False, reading='위해서', type='Inflect', start_pos='VV', end_pos='EC', expression='위하/VV/*+아서/EC/*')},\n",
       " {'DocId': '20210227-093809-271157',\n",
       "  'offset': 248,\n",
       "  'start': 501,\n",
       "  'end': 503,\n",
       "  'text': '성분',\n",
       "  '_pos': Feature(pos='NNG', semantic=None, has_jongseong=True, reading='성분', type=None, start_pos=None, end_pos=None, expression=None)},\n",
       " {'DocId': '20210227-093809-271157',\n",
       "  'offset': 249,\n",
       "  'start': 503,\n",
       "  'end': 504,\n",
       "  'text': '을',\n",
       "  '_pos': Feature(pos='JKO', semantic=None, has_jongseong=True, reading='을', type=None, start_pos=None, end_pos=None, expression=None)},\n",
       " {'DocId': '20210227-093809-271157',\n",
       "  'offset': 250,\n",
       "  'start': 505,\n",
       "  'end': 506,\n",
       "  'text': '볼',\n",
       "  '_pos': Feature(pos='VV+ETM', semantic=None, has_jongseong=True, reading='볼', type='Inflect', start_pos='VV', end_pos='ETM', expression='보/VV/*+ᆯ/ETM/*')},\n",
       " {'DocId': '20210227-093809-271157',\n",
       "  'offset': 251,\n",
       "  'start': 507,\n",
       "  'end': 509,\n",
       "  'text': '필요',\n",
       "  '_pos': Feature(pos='NNG', semantic='정적사태', has_jongseong=False, reading='필요', type=None, start_pos=None, end_pos=None, expression=None)},\n",
       " {'DocId': '20210227-093809-271157',\n",
       "  'offset': 252,\n",
       "  'start': 509,\n",
       "  'end': 510,\n",
       "  'text': '는',\n",
       "  '_pos': Feature(pos='JX', semantic=None, has_jongseong=True, reading='는', type=None, start_pos=None, end_pos=None, expression=None)},\n",
       " {'DocId': '20210227-093809-271157',\n",
       "  'offset': 253,\n",
       "  'start': 511,\n",
       "  'end': 512,\n",
       "  'text': '없',\n",
       "  '_pos': Feature(pos='VA', semantic=None, has_jongseong=True, reading='없', type=None, start_pos=None, end_pos=None, expression=None)},\n",
       " {'DocId': '20210227-093809-271157',\n",
       "  'offset': 254,\n",
       "  'start': 512,\n",
       "  'end': 513,\n",
       "  'text': '다',\n",
       "  '_pos': Feature(pos='EF', semantic=None, has_jongseong=False, reading='다', type=None, start_pos=None, end_pos=None, expression=None)},\n",
       " {'DocId': '20210227-093809-271157',\n",
       "  'offset': 255,\n",
       "  'start': 513,\n",
       "  'end': 514,\n",
       "  'text': '.',\n",
       "  '_pos': Feature(pos='SF', semantic=None, has_jongseong=None, reading=None, type=None, start_pos=None, end_pos=None, expression=None)},\n",
       " {'DocId': '20210227-093809-271157',\n",
       "  'offset': 256,\n",
       "  'start': 515,\n",
       "  'end': 518,\n",
       "  'text': 'SPF',\n",
       "  '_pos': Feature(pos='SL', semantic=None, has_jongseong=None, reading=None, type=None, start_pos=None, end_pos=None, expression=None)},\n",
       " {'DocId': '20210227-093809-271157',\n",
       "  'offset': 257,\n",
       "  'start': 518,\n",
       "  'end': 520,\n",
       "  'text': '지수',\n",
       "  '_pos': Feature(pos='NNG', semantic=None, has_jongseong=False, reading='지수', type=None, start_pos=None, end_pos=None, expression=None)},\n",
       " {'DocId': '20210227-093809-271157',\n",
       "  'offset': 258,\n",
       "  'start': 520,\n",
       "  'end': 521,\n",
       "  'text': '와',\n",
       "  '_pos': Feature(pos='JC', semantic=None, has_jongseong=False, reading='와', type=None, start_pos=None, end_pos=None, expression=None)},\n",
       " {'DocId': '20210227-093809-271157',\n",
       "  'offset': 259,\n",
       "  'start': 522,\n",
       "  'end': 524,\n",
       "  'text': 'PA',\n",
       "  '_pos': Feature(pos='SL', semantic=None, has_jongseong=None, reading=None, type=None, start_pos=None, end_pos=None, expression=None)},\n",
       " {'DocId': '20210227-093809-271157',\n",
       "  'offset': 260,\n",
       "  'start': 524,\n",
       "  'end': 526,\n",
       "  'text': '지수',\n",
       "  '_pos': Feature(pos='NNG', semantic=None, has_jongseong=False, reading='지수', type=None, start_pos=None, end_pos=None, expression=None)},\n",
       " {'DocId': '20210227-093809-271157',\n",
       "  'offset': 261,\n",
       "  'start': 526,\n",
       "  'end': 527,\n",
       "  'text': '를',\n",
       "  '_pos': Feature(pos='JKO', semantic=None, has_jongseong=True, reading='를', type=None, start_pos=None, end_pos=None, expression=None)},\n",
       " {'DocId': '20210227-093809-271157',\n",
       "  'offset': 262,\n",
       "  'start': 528,\n",
       "  'end': 530,\n",
       "  'text': '표기',\n",
       "  '_pos': Feature(pos='NNG', semantic=None, has_jongseong=False, reading='표기', type=None, start_pos=None, end_pos=None, expression=None)},\n",
       " {'DocId': '20210227-093809-271157',\n",
       "  'offset': 263,\n",
       "  'start': 530,\n",
       "  'end': 531,\n",
       "  'text': '하',\n",
       "  '_pos': Feature(pos='XSV', semantic=None, has_jongseong=False, reading='하', type=None, start_pos=None, end_pos=None, expression=None)},\n",
       " {'DocId': '20210227-093809-271157',\n",
       "  'offset': 264,\n",
       "  'start': 531,\n",
       "  'end': 532,\n",
       "  'text': '기',\n",
       "  '_pos': Feature(pos='ETN', semantic=None, has_jongseong=False, reading='기', type=None, start_pos=None, end_pos=None, expression=None)},\n",
       " {'DocId': '20210227-093809-271157',\n",
       "  'offset': 265,\n",
       "  'start': 533,\n",
       "  'end': 535,\n",
       "  'text': '때문',\n",
       "  '_pos': Feature(pos='NNB', semantic=None, has_jongseong=True, reading='때문', type=None, start_pos=None, end_pos=None, expression=None)},\n",
       " {'DocId': '20210227-093809-271157',\n",
       "  'offset': 266,\n",
       "  'start': 535,\n",
       "  'end': 536,\n",
       "  'text': '.',\n",
       "  '_pos': Feature(pos='SF', semantic=None, has_jongseong=None, reading=None, type=None, start_pos=None, end_pos=None, expression=None)},\n",
       " {'DocId': '20210227-093809-271157',\n",
       "  'offset': 267,\n",
       "  'start': 537,\n",
       "  'end': 540,\n",
       "  'text': '선크림',\n",
       "  '_pos': Feature(pos='NNG', semantic=None, has_jongseong=True, reading='선크림', type='Compound', start_pos=None, end_pos=None, expression='선/NNG/*+크림/NNG/*')},\n",
       " {'DocId': '20210227-093809-271157',\n",
       "  'offset': 268,\n",
       "  'start': 540,\n",
       "  'end': 541,\n",
       "  'text': '을',\n",
       "  '_pos': Feature(pos='JKO', semantic=None, has_jongseong=True, reading='을', type=None, start_pos=None, end_pos=None, expression=None)},\n",
       " {'DocId': '20210227-093809-271157',\n",
       "  'offset': 269,\n",
       "  'start': 542,\n",
       "  'end': 544,\n",
       "  'text': '판매',\n",
       "  '_pos': Feature(pos='NNG', semantic='행위', has_jongseong=False, reading='판매', type=None, start_pos=None, end_pos=None, expression=None)},\n",
       " {'DocId': '20210227-093809-271157',\n",
       "  'offset': 270,\n",
       "  'start': 544,\n",
       "  'end': 546,\n",
       "  'text': '등록',\n",
       "  '_pos': Feature(pos='NNG', semantic='행위', has_jongseong=True, reading='등록', type=None, start_pos=None, end_pos=None, expression=None)},\n",
       " {'DocId': '20210227-093809-271157',\n",
       "  'offset': 271,\n",
       "  'start': 547,\n",
       "  'end': 548,\n",
       "  'text': '할',\n",
       "  '_pos': Feature(pos='XSV+ETM', semantic=None, has_jongseong=True, reading='할', type='Inflect', start_pos='XSV', end_pos='ETM', expression='하/XSV/*+ᆯ/ETM/*')},\n",
       " {'DocId': '20210227-093809-271157',\n",
       "  'offset': 272,\n",
       "  'start': 548,\n",
       "  'end': 549,\n",
       "  'text': '때',\n",
       "  '_pos': Feature(pos='NNG', semantic=None, has_jongseong=False, reading='때', type=None, start_pos=None, end_pos=None, expression=None)},\n",
       " {'DocId': '20210227-093809-271157',\n",
       "  'offset': 273,\n",
       "  'start': 550,\n",
       "  'end': 551,\n",
       "  'text': '식',\n",
       "  '_pos': Feature(pos='NNB', semantic=None, has_jongseong=True, reading='식', type=None, start_pos=None, end_pos=None, expression=None)},\n",
       " {'DocId': '20210227-093809-271157',\n",
       "  'offset': 274,\n",
       "  'start': 551,\n",
       "  'end': 552,\n",
       "  'text': '약',\n",
       "  '_pos': Feature(pos='NNG', semantic=None, has_jongseong=True, reading='약', type=None, start_pos=None, end_pos=None, expression=None)},\n",
       " {'DocId': '20210227-093809-271157',\n",
       "  'offset': 275,\n",
       "  'start': 552,\n",
       "  'end': 553,\n",
       "  'text': '처',\n",
       "  '_pos': Feature(pos='NNG', semantic=None, has_jongseong=False, reading='처', type=None, start_pos=None, end_pos=None, expression=None)},\n",
       " {'DocId': '20210227-093809-271157',\n",
       "  'offset': 276,\n",
       "  'start': 553,\n",
       "  'end': 554,\n",
       "  'text': '에',\n",
       "  '_pos': Feature(pos='JKB', semantic=None, has_jongseong=False, reading='에', type=None, start_pos=None, end_pos=None, expression=None)},\n",
       " {'DocId': '20210227-093809-271157',\n",
       "  'offset': 277,\n",
       "  'start': 555,\n",
       "  'end': 557,\n",
       "  'text': '임상',\n",
       "  '_pos': Feature(pos='NNG', semantic='행위', has_jongseong=True, reading='임상', type=None, start_pos=None, end_pos=None, expression=None)},\n",
       " {'DocId': '20210227-093809-271157',\n",
       "  'offset': 278,\n",
       "  'start': 557,\n",
       "  'end': 558,\n",
       "  'text': '에',\n",
       "  '_pos': Feature(pos='JKB', semantic=None, has_jongseong=False, reading='에', type=None, start_pos=None, end_pos=None, expression=None)},\n",
       " {'DocId': '20210227-093809-271157',\n",
       "  'offset': 279,\n",
       "  'start': 559,\n",
       "  'end': 561,\n",
       "  'text': '따른',\n",
       "  '_pos': Feature(pos='VV+ETM', semantic=None, has_jongseong=True, reading='따른', type='Inflect', start_pos='VV', end_pos='ETM', expression='따르/VV/*+ᆫ/ETM/*')},\n",
       " {'DocId': '20210227-093809-271157',\n",
       "  'offset': 280,\n",
       "  'start': 562,\n",
       "  'end': 564,\n",
       "  'text': '차단',\n",
       "  '_pos': Feature(pos='NNG', semantic='행위', has_jongseong=True, reading='차단', type=None, start_pos=None, end_pos=None, expression=None)},\n",
       " {'DocId': '20210227-093809-271157',\n",
       "  'offset': 281,\n",
       "  'start': 564,\n",
       "  'end': 566,\n",
       "  'text': '지수',\n",
       "  '_pos': Feature(pos='NNG', semantic=None, has_jongseong=False, reading='지수', type=None, start_pos=None, end_pos=None, expression=None)},\n",
       " {'DocId': '20210227-093809-271157',\n",
       "  'offset': 282,\n",
       "  'start': 566,\n",
       "  'end': 567,\n",
       "  'text': '를',\n",
       "  '_pos': Feature(pos='JKO', semantic=None, has_jongseong=True, reading='를', type=None, start_pos=None, end_pos=None, expression=None)},\n",
       " {'DocId': '20210227-093809-271157',\n",
       "  'offset': 283,\n",
       "  'start': 568,\n",
       "  'end': 569,\n",
       "  'text': '보',\n",
       "  '_pos': Feature(pos='VV', semantic=None, has_jongseong=False, reading='보', type=None, start_pos=None, end_pos=None, expression=None)},\n",
       " {'DocId': '20210227-093809-271157',\n",
       "  'offset': 284,\n",
       "  'start': 569,\n",
       "  'end': 570,\n",
       "  'text': '고',\n",
       "  '_pos': Feature(pos='EC', semantic=None, has_jongseong=False, reading='고', type=None, start_pos=None, end_pos=None, expression=None)},\n",
       " {'DocId': '20210227-093809-271157',\n",
       "  'offset': 285,\n",
       "  'start': 570,\n",
       "  'end': 571,\n",
       "  'text': '하',\n",
       "  '_pos': Feature(pos='VV', semantic=None, has_jongseong=False, reading='하', type=None, start_pos=None, end_pos=None, expression=None)},\n",
       " {'DocId': '20210227-093809-271157',\n",
       "  'offset': 286,\n",
       "  'start': 571,\n",
       "  'end': 572,\n",
       "  'text': '고',\n",
       "  '_pos': Feature(pos='EC', semantic=None, has_jongseong=False, reading='고', type=None, start_pos=None, end_pos=None, expression=None)},\n",
       " {'DocId': '20210227-093809-271157',\n",
       "  'offset': 287,\n",
       "  'start': 573,\n",
       "  'end': 575,\n",
       "  'text': '등록',\n",
       "  '_pos': Feature(pos='NNG', semantic='행위', has_jongseong=True, reading='등록', type=None, start_pos=None, end_pos=None, expression=None)},\n",
       " {'DocId': '20210227-093809-271157',\n",
       "  'offset': 288,\n",
       "  'start': 575,\n",
       "  'end': 576,\n",
       "  'text': '하',\n",
       "  '_pos': Feature(pos='XSV', semantic=None, has_jongseong=False, reading='하', type=None, start_pos=None, end_pos=None, expression=None)},\n",
       " {'DocId': '20210227-093809-271157',\n",
       "  'offset': 289,\n",
       "  'start': 576,\n",
       "  'end': 577,\n",
       "  'text': '기',\n",
       "  '_pos': Feature(pos='ETN', semantic=None, has_jongseong=False, reading='기', type=None, start_pos=None, end_pos=None, expression=None)},\n",
       " {'DocId': '20210227-093809-271157',\n",
       "  'offset': 290,\n",
       "  'start': 578,\n",
       "  'end': 580,\n",
       "  'text': '때문',\n",
       "  '_pos': Feature(pos='NNB', semantic=None, has_jongseong=True, reading='때문', type=None, start_pos=None, end_pos=None, expression=None)},\n",
       " {'DocId': '20210227-093809-271157',\n",
       "  'offset': 291,\n",
       "  'start': 580,\n",
       "  'end': 581,\n",
       "  'text': '에',\n",
       "  '_pos': Feature(pos='JKB', semantic=None, has_jongseong=False, reading='에', type=None, start_pos=None, end_pos=None, expression=None)},\n",
       " {'DocId': '20210227-093809-271157',\n",
       "  'offset': 292,\n",
       "  'start': 582,\n",
       "  'end': 585,\n",
       "  'text': '소비자',\n",
       "  '_pos': Feature(pos='NNG', semantic=None, has_jongseong=False, reading='소비자', type='Compound', start_pos=None, end_pos=None, expression='소비/NNG/*+자/NNG/*')},\n",
       " {'DocId': '20210227-093809-271157',\n",
       "  'offset': 293,\n",
       "  'start': 585,\n",
       "  'end': 586,\n",
       "  'text': '가',\n",
       "  '_pos': Feature(pos='JKS', semantic=None, has_jongseong=False, reading='가', type=None, start_pos=None, end_pos=None, expression=None)},\n",
       " {'DocId': '20210227-093809-271157',\n",
       "  'offset': 294,\n",
       "  'start': 587,\n",
       "  'end': 590,\n",
       "  'text': '화장품',\n",
       "  '_pos': Feature(pos='NNG', semantic=None, has_jongseong=True, reading='화장품', type='Compound', start_pos=None, end_pos=None, expression='화장/NNG/*+품/NNG/*')},\n",
       " {'DocId': '20210227-093809-271157',\n",
       "  'offset': 295,\n",
       "  'start': 590,\n",
       "  'end': 592,\n",
       "  'text': '성분',\n",
       "  '_pos': Feature(pos='NNG', semantic=None, has_jongseong=True, reading='성분', type=None, start_pos=None, end_pos=None, expression=None)},\n",
       " {'DocId': '20210227-093809-271157',\n",
       "  'offset': 296,\n",
       "  'start': 592,\n",
       "  'end': 593,\n",
       "  'text': '을',\n",
       "  '_pos': Feature(pos='JKO', semantic=None, has_jongseong=True, reading='을', type=None, start_pos=None, end_pos=None, expression=None)},\n",
       " {'DocId': '20210227-093809-271157',\n",
       "  'offset': 297,\n",
       "  'start': 594,\n",
       "  'end': 595,\n",
       "  'text': '보',\n",
       "  '_pos': Feature(pos='VV', semantic=None, has_jongseong=False, reading='보', type=None, start_pos=None, end_pos=None, expression=None)},\n",
       " {'DocId': '20210227-093809-271157',\n",
       "  'offset': 298,\n",
       "  'start': 595,\n",
       "  'end': 596,\n",
       "  'text': '고',\n",
       "  '_pos': Feature(pos='EC', semantic=None, has_jongseong=False, reading='고', type=None, start_pos=None, end_pos=None, expression=None)},\n",
       " {'DocId': '20210227-093809-271157',\n",
       "  'offset': 299,\n",
       "  'start': 597,\n",
       "  'end': 602,\n",
       "  'text': '자외선차단',\n",
       "  '_pos': 'kpe'},\n",
       " {'DocId': '20210227-093809-271157',\n",
       "  'offset': 301,\n",
       "  'start': 602,\n",
       "  'end': 604,\n",
       "  'text': '지수',\n",
       "  '_pos': Feature(pos='NNG', semantic=None, has_jongseong=False, reading='지수', type=None, start_pos=None, end_pos=None, expression=None)},\n",
       " {'DocId': '20210227-093809-271157',\n",
       "  'offset': 302,\n",
       "  'start': 604,\n",
       "  'end': 605,\n",
       "  'text': '를',\n",
       "  '_pos': Feature(pos='JKO', semantic=None, has_jongseong=True, reading='를', type=None, start_pos=None, end_pos=None, expression=None)},\n",
       " {'DocId': '20210227-093809-271157',\n",
       "  'offset': 303,\n",
       "  'start': 606,\n",
       "  'end': 608,\n",
       "  'text': '추측',\n",
       "  '_pos': Feature(pos='NNG', semantic='행위', has_jongseong=True, reading='추측', type=None, start_pos=None, end_pos=None, expression=None)},\n",
       " {'DocId': '20210227-093809-271157',\n",
       "  'offset': 304,\n",
       "  'start': 608,\n",
       "  'end': 609,\n",
       "  'text': '할',\n",
       "  '_pos': Feature(pos='XSV+ETM', semantic=None, has_jongseong=True, reading='할', type='Inflect', start_pos='XSV', end_pos='ETM', expression='하/XSV/*+ᆯ/ETM/*')},\n",
       " {'DocId': '20210227-093809-271157',\n",
       "  'offset': 305,\n",
       "  'start': 610,\n",
       "  'end': 612,\n",
       "  'text': '필요',\n",
       "  '_pos': Feature(pos='NNG', semantic='정적사태', has_jongseong=False, reading='필요', type=None, start_pos=None, end_pos=None, expression=None)},\n",
       " {'DocId': '20210227-093809-271157',\n",
       "  'offset': 306,\n",
       "  'start': 612,\n",
       "  'end': 613,\n",
       "  'text': '는',\n",
       "  '_pos': Feature(pos='JX', semantic=None, has_jongseong=True, reading='는', type=None, start_pos=None, end_pos=None, expression=None)},\n",
       " {'DocId': '20210227-093809-271157',\n",
       "  'offset': 307,\n",
       "  'start': 614,\n",
       "  'end': 615,\n",
       "  'text': '없',\n",
       "  '_pos': Feature(pos='VA', semantic=None, has_jongseong=True, reading='없', type=None, start_pos=None, end_pos=None, expression=None)},\n",
       " {'DocId': '20210227-093809-271157',\n",
       "  'offset': 308,\n",
       "  'start': 615,\n",
       "  'end': 616,\n",
       "  'text': '다',\n",
       "  '_pos': Feature(pos='EF', semantic=None, has_jongseong=False, reading='다', type=None, start_pos=None, end_pos=None, expression=None)},\n",
       " {'DocId': '20210227-093809-271157',\n",
       "  'offset': 309,\n",
       "  'start': 616,\n",
       "  'end': 617,\n",
       "  'text': '.',\n",
       "  '_pos': Feature(pos='SF', semantic=None, has_jongseong=None, reading=None, type=None, start_pos=None, end_pos=None, expression=None)},\n",
       " {'DocId': '20210227-093809-271157',\n",
       "  'offset': 310,\n",
       "  'start': 617,\n",
       "  'end': 618,\n",
       "  'text': '(',\n",
       "  '_pos': Feature(pos='SSO', semantic=None, has_jongseong=None, reading=None, type=None, start_pos=None, end_pos=None, expression=None)},\n",
       " {'DocId': '20210227-093809-271157',\n",
       "  'offset': 311,\n",
       "  'start': 618,\n",
       "  'end': 620,\n",
       "  'text': '만약',\n",
       "  '_pos': Feature(pos='NNG', semantic=None, has_jongseong=True, reading='만약', type=None, start_pos=None, end_pos=None, expression=None)},\n",
       " {'DocId': '20210227-093809-271157',\n",
       "  'offset': 312,\n",
       "  'start': 621,\n",
       "  'end': 623,\n",
       "  'text': '표기',\n",
       "  '_pos': Feature(pos='NNG', semantic=None, has_jongseong=False, reading='표기', type=None, start_pos=None, end_pos=None, expression=None)},\n",
       " {'DocId': '20210227-093809-271157',\n",
       "  'offset': 313,\n",
       "  'start': 623,\n",
       "  'end': 624,\n",
       "  'text': '된',\n",
       "  '_pos': Feature(pos='XSV+ETM', semantic=None, has_jongseong=True, reading='된', type='Inflect', start_pos='XSV', end_pos='ETM', expression='되/XSV/*+ᆫ/ETM/*')},\n",
       " {'DocId': '20210227-093809-271157',\n",
       "  'offset': 314,\n",
       "  'start': 625,\n",
       "  'end': 627,\n",
       "  'text': '차단',\n",
       "  '_pos': Feature(pos='NNG', semantic='행위', has_jongseong=True, reading='차단', type=None, start_pos=None, end_pos=None, expression=None)},\n",
       " {'DocId': '20210227-093809-271157',\n",
       "  'offset': 315,\n",
       "  'start': 627,\n",
       "  'end': 629,\n",
       "  'text': '지수',\n",
       "  '_pos': Feature(pos='NNG', semantic=None, has_jongseong=False, reading='지수', type=None, start_pos=None, end_pos=None, expression=None)},\n",
       " {'DocId': '20210227-093809-271157',\n",
       "  'offset': 316,\n",
       "  'start': 629,\n",
       "  'end': 630,\n",
       "  'text': '가',\n",
       "  '_pos': Feature(pos='JKS', semantic=None, has_jongseong=False, reading='가', type=None, start_pos=None, end_pos=None, expression=None)},\n",
       " {'DocId': '20210227-093809-271157',\n",
       "  'offset': 317,\n",
       "  'start': 631,\n",
       "  'end': 633,\n",
       "  'text': '다르',\n",
       "  '_pos': Feature(pos='VA', semantic=None, has_jongseong=False, reading='다르', type=None, start_pos=None, end_pos=None, expression=None)},\n",
       " {'DocId': '20210227-093809-271157',\n",
       "  'offset': 318,\n",
       "  'start': 633,\n",
       "  'end': 634,\n",
       "  'text': '면',\n",
       "  '_pos': Feature(pos='EC', semantic=None, has_jongseong=True, reading='면', type=None, start_pos=None, end_pos=None, expression=None)},\n",
       " {'DocId': '20210227-093809-271157',\n",
       "  'offset': 319,\n",
       "  'start': 635,\n",
       "  'end': 637,\n",
       "  'text': '그건',\n",
       "  '_pos': Feature(pos='NP+JX', semantic=None, has_jongseong=True, reading='그건', type='Inflect', start_pos='NP', end_pos='JX', expression='그거/NP/*+ㄴ/JX/*')},\n",
       " {'DocId': '20210227-093809-271157',\n",
       "  'offset': 320,\n",
       "  'start': 638,\n",
       "  'end': 640,\n",
       "  'text': '사기',\n",
       "  '_pos': Feature(pos='NNG', semantic=None, has_jongseong=False, reading='사기', type=None, start_pos=None, end_pos=None, expression=None)},\n",
       " {'DocId': '20210227-093809-271157',\n",
       "  'offset': 321,\n",
       "  'start': 640,\n",
       "  'end': 641,\n",
       "  'text': '이',\n",
       "  '_pos': Feature(pos='VCP', semantic=None, has_jongseong=False, reading='이', type=None, start_pos=None, end_pos=None, expression=None)},\n",
       " {'DocId': '20210227-093809-271157',\n",
       "  'offset': 322,\n",
       "  'start': 641,\n",
       "  'end': 643,\n",
       "  'text': '므로',\n",
       "  '_pos': Feature(pos='EC', semantic=None, has_jongseong=False, reading='므로', type=None, start_pos=None, end_pos=None, expression=None)},\n",
       " {'DocId': '20210227-093809-271157',\n",
       "  'offset': 323,\n",
       "  'start': 644,\n",
       "  'end': 645,\n",
       "  'text': '그',\n",
       "  '_pos': Feature(pos='MM', semantic='~명사', has_jongseong=False, reading='그', type=None, start_pos=None, end_pos=None, expression=None)},\n",
       " {'DocId': '20210227-093809-271157',\n",
       "  'offset': 324,\n",
       "  'start': 646,\n",
       "  'end': 648,\n",
       "  'text': '회사',\n",
       "  '_pos': Feature(pos='NNG', semantic=None, has_jongseong=False, reading='회사', type=None, start_pos=None, end_pos=None, expression=None)},\n",
       " {'DocId': '20210227-093809-271157',\n",
       "  'offset': 325,\n",
       "  'start': 649,\n",
       "  'end': 650,\n",
       "  'text': '문',\n",
       "  '_pos': Feature(pos='NNG', semantic=None, has_jongseong=True, reading='문', type=None, start_pos=None, end_pos=None, expression=None)},\n",
       " {'DocId': '20210227-093809-271157',\n",
       "  'offset': 326,\n",
       "  'start': 650,\n",
       "  'end': 651,\n",
       "  'text': '닫',\n",
       "  '_pos': Feature(pos='VV', semantic=None, has_jongseong=True, reading='닫', type=None, start_pos=None, end_pos=None, expression=None)},\n",
       " {'DocId': '20210227-093809-271157',\n",
       "  'offset': 327,\n",
       "  'start': 651,\n",
       "  'end': 653,\n",
       "  'text': '는다',\n",
       "  '_pos': Feature(pos='EC', semantic=None, has_jongseong=False, reading='는다', type=None, start_pos=None, end_pos=None, expression=None)},\n",
       " {'DocId': '20210227-093809-271157',\n",
       "  'offset': 328,\n",
       "  'start': 653,\n",
       "  'end': 654,\n",
       "  'text': ')',\n",
       "  '_pos': Feature(pos='SSC', semantic=None, has_jongseong=None, reading=None, type=None, start_pos=None, end_pos=None, expression=None)},\n",
       " {'DocId': '20210227-093809-271157',\n",
       "  'offset': 329,\n",
       "  'start': 654,\n",
       "  'end': 655,\n",
       "  'text': '.',\n",
       "  '_pos': Feature(pos='SF', semantic=None, has_jongseong=None, reading=None, type=None, start_pos=None, end_pos=None, expression=None)},\n",
       " {'DocId': '20210227-093809-271157',\n",
       "  'offset': 330,\n",
       "  'start': 656,\n",
       "  'end': 659,\n",
       "  'text': '화장품',\n",
       "  '_pos': Feature(pos='NNG', semantic=None, has_jongseong=True, reading='화장품', type='Compound', start_pos=None, end_pos=None, expression='화장/NNG/*+품/NNG/*')},\n",
       " {'DocId': '20210227-093809-271157',\n",
       "  'offset': 331,\n",
       "  'start': 659,\n",
       "  'end': 661,\n",
       "  'text': '성분',\n",
       "  '_pos': Feature(pos='NNG', semantic=None, has_jongseong=True, reading='성분', type=None, start_pos=None, end_pos=None, expression=None)},\n",
       " {'DocId': '20210227-093809-271157',\n",
       "  'offset': 332,\n",
       "  'start': 661,\n",
       "  'end': 662,\n",
       "  'text': '을',\n",
       "  '_pos': Feature(pos='JKO', semantic=None, has_jongseong=True, reading='을', type=None, start_pos=None, end_pos=None, expression=None)},\n",
       " {'DocId': '20210227-093809-271157',\n",
       "  'offset': 333,\n",
       "  'start': 663,\n",
       "  'end': 664,\n",
       "  'text': '볼',\n",
       "  '_pos': Feature(pos='VV+ETM', semantic=None, has_jongseong=True, reading='볼', type='Inflect', start_pos='VV', end_pos='ETM', expression='보/VV/*+ᆯ/ETM/*')},\n",
       " {'DocId': '20210227-093809-271157',\n",
       "  'offset': 334,\n",
       "  'start': 664,\n",
       "  'end': 665,\n",
       "  'text': '때',\n",
       "  '_pos': Feature(pos='NNG', semantic=None, has_jongseong=False, reading='때', type=None, start_pos=None, end_pos=None, expression=None)},\n",
       " {'DocId': '20210227-093809-271157',\n",
       "  'offset': 335,\n",
       "  'start': 665,\n",
       "  'end': 666,\n",
       "  'text': '에',\n",
       "  '_pos': Feature(pos='JKB', semantic=None, has_jongseong=False, reading='에', type=None, start_pos=None, end_pos=None, expression=None)},\n",
       " {'DocId': '20210227-093809-271157',\n",
       "  'offset': 336,\n",
       "  'start': 666,\n",
       "  'end': 667,\n",
       "  'text': '는',\n",
       "  '_pos': Feature(pos='JX', semantic=None, has_jongseong=True, reading='는', type=None, start_pos=None, end_pos=None, expression=None)},\n",
       " {'DocId': '20210227-093809-271157',\n",
       "  'offset': 337,\n",
       "  'start': 668,\n",
       "  'end': 669,\n",
       "  'text': '그',\n",
       "  '_pos': Feature(pos='MM', semantic='~명사', has_jongseong=False, reading='그', type=None, start_pos=None, end_pos=None, expression=None)},\n",
       " {'DocId': '20210227-093809-271157',\n",
       "  'offset': 338,\n",
       "  'start': 670,\n",
       "  'end': 672,\n",
       "  'text': '유해',\n",
       "  '_pos': Feature(pos='NNG', semantic=None, has_jongseong=False, reading='유해', type=None, start_pos=None, end_pos=None, expression=None)},\n",
       " {'DocId': '20210227-093809-271157',\n",
       "  'offset': 339,\n",
       "  'start': 672,\n",
       "  'end': 673,\n",
       "  'text': '성',\n",
       "  '_pos': Feature(pos='XSN', semantic=None, has_jongseong=True, reading='성', type=None, start_pos=None, end_pos=None, expression=None)},\n",
       " {'DocId': '20210227-093809-271157',\n",
       "  'offset': 340,\n",
       "  'start': 673,\n",
       "  'end': 674,\n",
       "  'text': '을',\n",
       "  '_pos': Feature(pos='JKO', semantic=None, has_jongseong=True, reading='을', type=None, start_pos=None, end_pos=None, expression=None)},\n",
       " {'DocId': '20210227-093809-271157',\n",
       "  'offset': 341,\n",
       "  'start': 675,\n",
       "  'end': 677,\n",
       "  'text': '따지',\n",
       "  '_pos': Feature(pos='VV', semantic=None, has_jongseong=False, reading='따지', type=None, start_pos=None, end_pos=None, expression=None)},\n",
       " {'DocId': '20210227-093809-271157',\n",
       "  'offset': 342,\n",
       "  'start': 677,\n",
       "  'end': 679,\n",
       "  'text': '거나',\n",
       "  '_pos': Feature(pos='EC', semantic=None, has_jongseong=False, reading='거나', type=None, start_pos=None, end_pos=None, expression=None)},\n",
       " {'DocId': '20210227-093809-271157',\n",
       "  'offset': 343,\n",
       "  'start': 680,\n",
       "  'end': 682,\n",
       "  'text': '나와',\n",
       "  '_pos': Feature(pos='VV+EC', semantic=None, has_jongseong=False, reading='나와', type='Inflect', start_pos='VV', end_pos='EC', expression='나오/VV/*+아/EC/*')},\n",
       " {'DocId': '20210227-093809-271157',\n",
       "  'offset': 344,\n",
       "  'start': 683,\n",
       "  'end': 684,\n",
       "  'text': '맞',\n",
       "  '_pos': Feature(pos='VV', semantic=None, has_jongseong=True, reading='맞', type=None, start_pos=None, end_pos=None, expression=None)},\n",
       " {'DocId': '20210227-093809-271157',\n",
       "  'offset': 345,\n",
       "  'start': 684,\n",
       "  'end': 685,\n",
       "  'text': '지',\n",
       "  '_pos': Feature(pos='EC', semantic=None, has_jongseong=False, reading='지', type=None, start_pos=None, end_pos=None, expression=None)},\n",
       " {'DocId': '20210227-093809-271157',\n",
       "  'offset': 346,\n",
       "  'start': 686,\n",
       "  'end': 687,\n",
       "  'text': '않',\n",
       "  '_pos': Feature(pos='VX', semantic=None, has_jongseong=True, reading='않', type=None, start_pos=None, end_pos=None, expression=None)},\n",
       " {'DocId': '20210227-093809-271157',\n",
       "  'offset': 347,\n",
       "  'start': 687,\n",
       "  'end': 688,\n",
       "  'text': '는',\n",
       "  '_pos': Feature(pos='ETM', semantic=None, has_jongseong=True, reading='는', type=None, start_pos=None, end_pos=None, expression=None)},\n",
       " {'DocId': '20210227-093809-271157',\n",
       "  'offset': 348,\n",
       "  'start': 689,\n",
       "  'end': 691,\n",
       "  'text': '성분',\n",
       "  '_pos': Feature(pos='NNG', semantic=None, has_jongseong=True, reading='성분', type=None, start_pos=None, end_pos=None, expression=None)},\n",
       " {'DocId': '20210227-093809-271157',\n",
       "  'offset': 349,\n",
       "  'start': 691,\n",
       "  'end': 692,\n",
       "  'text': '을',\n",
       "  '_pos': Feature(pos='JKO', semantic=None, has_jongseong=True, reading='을', type=None, start_pos=None, end_pos=None, expression=None)},\n",
       " {'DocId': '20210227-093809-271157',\n",
       "  'offset': 350,\n",
       "  'start': 693,\n",
       "  'end': 694,\n",
       "  'text': '찾',\n",
       "  '_pos': Feature(pos='VV', semantic=None, has_jongseong=True, reading='찾', type=None, start_pos=None, end_pos=None, expression=None)},\n",
       " {'DocId': '20210227-093809-271157',\n",
       "  'offset': 351,\n",
       "  'start': 694,\n",
       "  'end': 695,\n",
       "  'text': '을',\n",
       "  '_pos': Feature(pos='ETM', semantic=None, has_jongseong=True, reading='을', type=None, start_pos=None, end_pos=None, expression=None)},\n",
       " {'DocId': '20210227-093809-271157',\n",
       "  'offset': 352,\n",
       "  'start': 696,\n",
       "  'end': 697,\n",
       "  'text': '때',\n",
       "  '_pos': Feature(pos='NNG', semantic=None, has_jongseong=False, reading='때', type=None, start_pos=None, end_pos=None, expression=None)},\n",
       " {'DocId': '20210227-093809-271157',\n",
       "  'offset': 353,\n",
       "  'start': 697,\n",
       "  'end': 698,\n",
       "  'text': '이',\n",
       "  '_pos': Feature(pos='VCP', semantic=None, has_jongseong=False, reading='이', type=None, start_pos=None, end_pos=None, expression=None)},\n",
       " {'DocId': '20210227-093809-271157',\n",
       "  'offset': 354,\n",
       "  'start': 698,\n",
       "  'end': 699,\n",
       "  'text': '다',\n",
       "  '_pos': Feature(pos='EF', semantic=None, has_jongseong=False, reading='다', type=None, start_pos=None, end_pos=None, expression=None)},\n",
       " {'DocId': '20210227-093809-271157',\n",
       "  'offset': 355,\n",
       "  'start': 699,\n",
       "  'end': 700,\n",
       "  'text': '.',\n",
       "  '_pos': Feature(pos='SF', semantic=None, has_jongseong=None, reading=None, type=None, start_pos=None, end_pos=None, expression=None)}]"
      ]
     },
     "execution_count": 15,
     "metadata": {},
     "output_type": "execute_result"
    }
   ],
   "source": [
    "[{**token, **feature.features} for token, feature in zip(result.to_dict()['Tokens'], result.Tokens)]"
   ]
  },
  {
   "cell_type": "code",
   "execution_count": 55,
   "metadata": {},
   "outputs": [
    {
     "data": {
      "text/plain": [
       "'IC'"
      ]
     },
     "execution_count": 55,
     "metadata": {},
     "output_type": "execute_result"
    }
   ],
   "source": [
    "tokenizer.mecab.parse('안녕')[0][-1].pos"
   ]
  },
  {
   "cell_type": "code",
   "execution_count": 58,
   "metadata": {},
   "outputs": [],
   "source": [
    "tmp= [ tok._pos for tok in result.Tokens]"
   ]
  },
  {
   "cell_type": "code",
   "execution_count": 46,
   "metadata": {},
   "outputs": [
    {
     "ename": "NameError",
     "evalue": "name 'tok' is not defined",
     "output_type": "error",
     "traceback": [
      "\u001b[0;31m\u001b[0m",
      "\u001b[0;31mNameError\u001b[0mTraceback (most recent call last)",
      "\u001b[0;32m<ipython-input-46-0600482b7619>\u001b[0m in \u001b[0;36m<module>\u001b[0;34m\u001b[0m\n\u001b[0;32m----> 1\u001b[0;31m \u001b[0mtok\u001b[0m\u001b[0;34m.\u001b[0m\u001b[0m_pos\u001b[0m\u001b[0;34m\u001b[0m\u001b[0;34m\u001b[0m\u001b[0m\n\u001b[0m",
      "\u001b[0;31mNameError\u001b[0m: name 'tok' is not defined"
     ]
    }
   ],
   "source": []
  },
  {
   "cell_type": "code",
   "execution_count": 12,
   "metadata": {},
   "outputs": [],
   "source": [
    "sample = Doc(Id='1lk2j', text='dlfkjs', Tokens=['l21k3j2k1'])"
   ]
  },
  {
   "cell_type": "code",
   "execution_count": 14,
   "metadata": {},
   "outputs": [],
   "source": [
    "sample.Tokens = [1,2,3]"
   ]
  },
  {
   "cell_type": "code",
   "execution_count": 15,
   "metadata": {},
   "outputs": [
    {
     "data": {
      "text/plain": [
       "Doc(Id='1lk2j', text='dlfkjs', Tokens=[1, 2, 3])"
      ]
     },
     "execution_count": 15,
     "metadata": {},
     "output_type": "execute_result"
    }
   ],
   "source": [
    "sample"
   ]
  },
  {
   "cell_type": "code",
   "execution_count": null,
   "metadata": {},
   "outputs": [],
   "source": []
  },
  {
   "cell_type": "code",
   "execution_count": null,
   "metadata": {},
   "outputs": [],
   "source": [
    "token.offset"
   ]
  },
  {
   "cell_type": "code",
   "execution_count": 6,
   "metadata": {},
   "outputs": [
    {
     "data": {
      "text/plain": [
       "('디지몬', 54, 57)"
      ]
     },
     "execution_count": 6,
     "metadata": {},
     "output_type": "execute_result"
    }
   ],
   "source": [
    "[('디지몬', 54, 57),\n",
    " ('디지몬', 93, 96),\n",
    " ('디지몬', 115, 118),\n",
    " ('디지몬', 331, 334),\n",
    " ('디지몬', 360, 363),\n",
    " ('디지몬', 440, 443),\n",
    " ('디지몬', 467, 470),\n",
    " ('디지몬', 480, 483)].pop(0)"
   ]
  },
  {
   "cell_type": "code",
   "execution_count": null,
   "metadata": {},
   "outputs": [],
   "source": []
  },
  {
   "cell_type": "code",
   "execution_count": null,
   "metadata": {},
   "outputs": [],
   "source": [
    "targets = []\n",
    "for token in doc.Tokens:\n",
    "    \n",
    "    if token.start == start:\n",
    "        targets.append(token.offset)\n",
    "        \n",
    "    elif targets:\n",
    "        targets.append(token.offset)\n",
    "        if token.end == end:\n",
    "            break\n",
    "        \n",
    "        \n",
    "        \n",
    "    \n",
    "    \n",
    "    if token.end == end:\n",
    "        targets.append(token.offset)\n",
    "    "
   ]
  },
  {
   "cell_type": "code",
   "execution_count": null,
   "metadata": {},
   "outputs": [],
   "source": [
    "start...\n",
    "- start랑 매칭...\n",
    "end...\n",
    "- end랑 매칭...\n",
    "그러면.. 된다"
   ]
  },
  {
   "cell_type": "code",
   "execution_count": 73,
   "metadata": {},
   "outputs": [
    {
     "data": {
      "text/plain": [
       "[Token(DocId='20210226-205944-887508', offset=0, start=0, end=2, text='막연'),\n",
       " Token(DocId='20210226-205944-887508', offset=1, start=2, end=3, text='한'),\n",
       " Token(DocId='20210226-205944-887508', offset=2, start=4, end=6, text='기대'),\n",
       " Token(DocId='20210226-205944-887508', offset=3, start=6, end=7, text='를'),\n",
       " Token(DocId='20210226-205944-887508', offset=4, start=8, end=9, text='하'),\n",
       " Token(DocId='20210226-205944-887508', offset=5, start=9, end=10, text='게'),\n",
       " Token(DocId='20210226-205944-887508', offset=6, start=11, end=13, text='만들'),\n",
       " Token(DocId='20210226-205944-887508', offset=7, start=13, end=14, text='어')]"
      ]
     },
     "execution_count": 73,
     "metadata": {},
     "output_type": "execute_result"
    }
   ],
   "source": [
    "tokens"
   ]
  },
  {
   "cell_type": "code",
   "execution_count": null,
   "metadata": {},
   "outputs": [],
   "source": []
  },
  {
   "cell_type": "markdown",
   "metadata": {},
   "source": [
    "- 우선 키워드 1차로 retokenize로 등록하고...\n",
    "- 만약에 얘가 개별적인 의미를 지니는게 좋다고 생각하면 mecab 전용 사전으로 등록하자"
   ]
  },
  {
   "cell_type": "code",
   "execution_count": 3,
   "metadata": {},
   "outputs": [
    {
     "name": "stdout",
     "output_type": "stream",
     "text": [
      "tdklfj\n"
     ]
    }
   ],
   "source": [
    "if ' ':\n",
    "    print('tdklfj')"
   ]
  },
  {
   "cell_type": "code",
   "execution_count": 2,
   "metadata": {},
   "outputs": [],
   "source": [
    "from flashtext import KeywordProcessor\n",
    "kpe = KeywordProcessor()\n",
    "kpe.add_keywords_from_list(['디지몬어드벤처', '디지몬', '아모레퍼시픽 에바'])"
   ]
  },
  {
   "cell_type": "code",
   "execution_count": 3,
   "metadata": {},
   "outputs": [],
   "source": [
    "doc =\"\"\"선택받은 아이들이 맨 처음 떨어진 곳인 파일섬에서 악당 데블몬과 그의 검은 톱니바퀴에 조종당하는 디지몬들을 상대로 싸우는게 주된 내용이며, 이 부분은 아이들이 자신의 디지몬을 성숙기까지 진화시키는 과정에서 디지몬의 진화에 대해 알게 되며 이 세계가 현실과는 뭔가 다른 곳이라는 것을 깨닫게 되는 부분이다. 모험, 서바이벌 느낌이 많이 나는 편.\n",
    "\n",
    "중간에 데블몬에 의해 잠시 모두가 뿔뿔이 흩어졌던 적도 있었지만 아이들 나름대로 성장하면서 위기를 극복하고, 결국 데블몬을 물리치는데 성공한다. 다만 그 반동으로 가장 큰 공헌을 한 엔젤몬이 함께 사라져버리고, 파트너였던 리키는 눈앞에서 자신의 디지몬을 잃는 비극을 치르고 만다.\n",
    "\n",
    "이때까지는 적 디지몬이라 해도 검은 톱니바퀴만 제거하면 원래대로 돌아왔기 때문에 싸움이 극한까지 치닫지 않고 싸울 수 있었다.[2] 이에 따라 세뇌받고 있던 디지몬들을 원래대로 정화하게 되며, 세뇌가 풀린 디지몬들은 원래는 착한 디지몬들이었기 때문에 데블몬을 쓰러트린 후에 서버대륙으로 떠나는데 도움을 준다.\"\"\""
   ]
  },
  {
   "cell_type": "code",
   "execution_count": 5,
   "metadata": {},
   "outputs": [
    {
     "data": {
      "text/plain": [
       "[('디지몬', 54, 57),\n",
       " ('디지몬', 93, 96),\n",
       " ('디지몬', 115, 118),\n",
       " ('디지몬', 331, 334),\n",
       " ('디지몬', 360, 363),\n",
       " ('디지몬', 440, 443),\n",
       " ('디지몬', 467, 470),\n",
       " ('디지몬', 480, 483)]"
      ]
     },
     "execution_count": 5,
     "metadata": {},
     "output_type": "execute_result"
    }
   ],
   "source": [
    "kpe.extract_keywords(doc, span_info=True)"
   ]
  },
  {
   "cell_type": "code",
   "execution_count": 21,
   "metadata": {},
   "outputs": [],
   "source": []
  },
  {
   "cell_type": "code",
   "execution_count": 68,
   "metadata": {},
   "outputs": [],
   "source": [
    "kpe.add_keyword_from_file('/root/custom_dict/category.txt')"
   ]
  },
  {
   "cell_type": "code",
   "execution_count": 22,
   "metadata": {},
   "outputs": [],
   "source": [
    "kpe.add_keyword_from_file('/root/custom_dict/brand_ko.txt')"
   ]
  },
  {
   "cell_type": "code",
   "execution_count": 42,
   "metadata": {},
   "outputs": [
    {
     "data": {
      "text/plain": [
       "[('아모레퍼시픽 에바', 0, 9)]"
      ]
     },
     "execution_count": 42,
     "metadata": {},
     "output_type": "execute_result"
    }
   ],
   "source": [
    "kpe.extract_keywords('아모레퍼시픽 에바야', span_info=True)"
   ]
  },
  {
   "cell_type": "code",
   "execution_count": 35,
   "metadata": {},
   "outputs": [],
   "source": [
    "from pororo import Pororo"
   ]
  },
  {
   "cell_type": "code",
   "execution_count": 36,
   "metadata": {},
   "outputs": [
    {
     "name": "stderr",
     "output_type": "stream",
     "text": [
      "2021-02-26 14:37:44,179-INFO: [input] dictionary: 4005 types\n",
      "2021-02-26 14:37:44,181-INFO: [label] dictionary: 9 types\n"
     ]
    },
    {
     "name": "stdout",
     "output_type": "stream",
     "text": [
      "As of now, this beta model tries to correct spacing errors in Korean text.\n"
     ]
    }
   ],
   "source": [
    "spacing = Pororo(task ='gec', lang='ko')"
   ]
  },
  {
   "cell_type": "code",
   "execution_count": 11,
   "metadata": {},
   "outputs": [
    {
     "ename": "NameError",
     "evalue": "name 'tokenizer' is not defined",
     "output_type": "error",
     "traceback": [
      "\u001b[0;31m\u001b[0m",
      "\u001b[0;31mNameError\u001b[0mTraceback (most recent call last)",
      "\u001b[0;32m<ipython-input-11-518f32281fa0>\u001b[0m in \u001b[0;36m<module>\u001b[0;34m\u001b[0m\n\u001b[0;32m----> 1\u001b[0;31m \u001b[0mnow\u001b[0m  \u001b[0;34m=\u001b[0m \u001b[0mtokenizer\u001b[0m\u001b[0;34m(\u001b[0m\u001b[0;34m'막연한 기대를 하게 만들어'\u001b[0m\u001b[0;34m)\u001b[0m\u001b[0;34m\u001b[0m\u001b[0;34m\u001b[0m\u001b[0m\n\u001b[0m",
      "\u001b[0;31mNameError\u001b[0m: name 'tokenizer' is not defined"
     ]
    }
   ],
   "source": [
    "now  = tokenizer('막연한 기대를 하게 만들어')"
   ]
  },
  {
   "cell_type": "code",
   "execution_count": null,
   "metadata": {},
   "outputs": [],
   "source": []
  },
  {
   "cell_type": "code",
   "execution_count": 76,
   "metadata": {},
   "outputs": [
    {
     "data": {
      "text/plain": [
       "{'Id': '20210226-225736-699415',\n",
       " 'text': '막연한 기대를 하게 만들어',\n",
       " 'Tokens': [Token(DocId='20210226-225736-699415', offset=0, start=0, end=2, text='막연'),\n",
       "  Token(DocId='20210226-225736-699415', offset=1, start=2, end=3, text='한'),\n",
       "  Token(DocId='20210226-225736-699415', offset=2, start=4, end=6, text='기대'),\n",
       "  Token(DocId='20210226-225736-699415', offset=3, start=6, end=7, text='를'),\n",
       "  Token(DocId='20210226-225736-699415', offset=4, start=8, end=9, text='하'),\n",
       "  Token(DocId='20210226-225736-699415', offset=5, start=9, end=10, text='게'),\n",
       "  Token(DocId='20210226-225736-699415', offset=6, start=11, end=13, text='만들'),\n",
       "  Token(DocId='20210226-225736-699415', offset=7, start=13, end=14, text='어')],\n",
       " '_features': {'_tokenizable': True},\n",
       " '_tokenizable': True}"
      ]
     },
     "execution_count": 76,
     "metadata": {},
     "output_type": "execute_result"
    }
   ],
   "source": [
    "Doc.__dict__"
   ]
  },
  {
   "cell_type": "code",
   "execution_count": 73,
   "metadata": {},
   "outputs": [
    {
     "data": {
      "text/plain": [
       "[Token(DocId='20210226-205944-887508', offset=0, start=0, end=2, text='막연'),\n",
       " Token(DocId='20210226-205944-887508', offset=1, start=2, end=3, text='한'),\n",
       " Token(DocId='20210226-205944-887508', offset=2, start=4, end=6, text='기대'),\n",
       " Token(DocId='20210226-205944-887508', offset=3, start=6, end=7, text='를'),\n",
       " Token(DocId='20210226-205944-887508', offset=4, start=8, end=9, text='하'),\n",
       " Token(DocId='20210226-205944-887508', offset=5, start=9, end=10, text='게'),\n",
       " Token(DocId='20210226-205944-887508', offset=6, start=11, end=13, text='만들'),\n",
       " Token(DocId='20210226-205944-887508', offset=7, start=13, end=14, text='어')]"
      ]
     },
     "execution_count": 73,
     "metadata": {},
     "output_type": "execute_result"
    }
   ],
   "source": [
    "tokens"
   ]
  },
  {
   "cell_type": "code",
   "execution_count": 86,
   "metadata": {},
   "outputs": [
    {
     "data": {
      "text/plain": [
       "{'DocId': '20210226-205944-887508',\n",
       " 'offset': 0,\n",
       " 'start': 0,\n",
       " 'end': 2,\n",
       " 'text': '막연'}"
      ]
     },
     "execution_count": 86,
     "metadata": {},
     "output_type": "execute_result"
    }
   ],
   "source": [
    "tokens[0].to_dict()"
   ]
  },
  {
   "cell_type": "code",
   "execution_count": 84,
   "metadata": {},
   "outputs": [
    {
     "data": {
      "text/plain": [
       "{'Id': '20210226-225736-699415',\n",
       " 'text': '막연한 기대를 하게 만들어',\n",
       " 'Tokens': [{'DocId': '20210226-225736-699415',\n",
       "   'offset': 0,\n",
       "   'start': 0,\n",
       "   'end': 2,\n",
       "   'text': '막연'},\n",
       "  {'DocId': '20210226-225736-699415',\n",
       "   'offset': 1,\n",
       "   'start': 2,\n",
       "   'end': 3,\n",
       "   'text': '한'},\n",
       "  {'DocId': '20210226-225736-699415',\n",
       "   'offset': 2,\n",
       "   'start': 4,\n",
       "   'end': 6,\n",
       "   'text': '기대'},\n",
       "  {'DocId': '20210226-225736-699415',\n",
       "   'offset': 3,\n",
       "   'start': 6,\n",
       "   'end': 7,\n",
       "   'text': '를'},\n",
       "  {'DocId': '20210226-225736-699415',\n",
       "   'offset': 4,\n",
       "   'start': 8,\n",
       "   'end': 9,\n",
       "   'text': '하'},\n",
       "  {'DocId': '20210226-225736-699415',\n",
       "   'offset': 5,\n",
       "   'start': 9,\n",
       "   'end': 10,\n",
       "   'text': '게'},\n",
       "  {'DocId': '20210226-225736-699415',\n",
       "   'offset': 6,\n",
       "   'start': 11,\n",
       "   'end': 13,\n",
       "   'text': '만들'},\n",
       "  {'DocId': '20210226-225736-699415',\n",
       "   'offset': 7,\n",
       "   'start': 13,\n",
       "   'end': 14,\n",
       "   'text': '어'}]}"
      ]
     },
     "execution_count": 84,
     "metadata": {},
     "output_type": "execute_result"
    }
   ],
   "source": [
    "Doc.to_dict()"
   ]
  },
  {
   "cell_type": "code",
   "execution_count": 71,
   "metadata": {},
   "outputs": [
    {
     "data": {
      "text/plain": [
       "0"
      ]
     },
     "execution_count": 71,
     "metadata": {},
     "output_type": "execute_result"
    }
   ],
   "source": [
    "tokens[0].start"
   ]
  },
  {
   "cell_type": "code",
   "execution_count": 72,
   "metadata": {},
   "outputs": [
    {
     "data": {
      "text/plain": [
       "2"
      ]
     },
     "execution_count": 72,
     "metadata": {},
     "output_type": "execute_result"
    }
   ],
   "source": [
    "tokens[0].end"
   ]
  },
  {
   "cell_type": "code",
   "execution_count": 62,
   "metadata": {},
   "outputs": [
    {
     "data": {
      "text/plain": [
       "'막연'"
      ]
     },
     "execution_count": 62,
     "metadata": {},
     "output_type": "execute_result"
    }
   ],
   "source": [
    "tokens[0]"
   ]
  },
  {
   "cell_type": "code",
   "execution_count": null,
   "metadata": {},
   "outputs": [],
   "source": [
    "[(0, 3), (4, 7), (8, 10)]"
   ]
  },
  {
   "cell_type": "markdown",
   "metadata": {},
   "source": []
  },
  {
   "cell_type": "code",
   "execution_count": 68,
   "metadata": {},
   "outputs": [
    {
     "data": {
      "text/plain": [
       "Token(DocId='20210226-205944-887508', offset=0, start=0, end=2, text='막연')"
      ]
     },
     "execution_count": 68,
     "metadata": {},
     "output_type": "execute_result"
    }
   ],
   "source": [
    "tokens[0].start"
   ]
  },
  {
   "cell_type": "code",
   "execution_count": null,
   "metadata": {},
   "outputs": [],
   "source": [
    "to"
   ]
  },
  {
   "cell_type": "code",
   "execution_count": 43,
   "metadata": {},
   "outputs": [
    {
     "data": {
      "text/plain": [
       "(['랑', '콤', '디지몬', '어드벤처', '보', '고', '싶', '다'],\n",
       " [Feature(pos='NNP', semantic='인명', has_jongseong=True, reading='랑', type=None, start_pos=None, end_pos=None, expression=None),\n",
       "  Feature(pos='NNP', semantic='인명', has_jongseong=True, reading='콤', type=None, start_pos=None, end_pos=None, expression=None),\n",
       "  Feature(pos='NNP', semantic='인명', has_jongseong=True, reading='디지몬', type=None, start_pos=None, end_pos=None, expression=None),\n",
       "  Feature(pos='NNP', semantic=None, has_jongseong=False, reading='어드벤처', type=None, start_pos=None, end_pos=None, expression=None),\n",
       "  Feature(pos='VV', semantic=None, has_jongseong=False, reading='보', type=None, start_pos=None, end_pos=None, expression=None),\n",
       "  Feature(pos='EC', semantic=None, has_jongseong=False, reading='고', type=None, start_pos=None, end_pos=None, expression=None),\n",
       "  Feature(pos='VX', semantic=None, has_jongseong=True, reading='싶', type=None, start_pos=None, end_pos=None, expression=None),\n",
       "  Feature(pos='EC', semantic=None, has_jongseong=False, reading='다', type=None, start_pos=None, end_pos=None, expression=None)])"
      ]
     },
     "execution_count": 43,
     "metadata": {},
     "output_type": "execute_result"
    }
   ],
   "source": [
    "tokenizer.tokenize('랑콤디지몬어드벤처 보고싶다')"
   ]
  },
  {
   "cell_type": "code",
   "execution_count": 47,
   "metadata": {},
   "outputs": [
    {
     "data": {
      "text/plain": [
       "[('재', 'XPN'), ('구매', 'NNG'), ('의사', 'NNG')]"
      ]
     },
     "execution_count": 47,
     "metadata": {},
     "output_type": "execute_result"
    }
   ],
   "source": [
    "tokenizer.mecab.pos('재구매 의사')"
   ]
  },
  {
   "cell_type": "code",
   "execution_count": 50,
   "metadata": {},
   "outputs": [
    {
     "data": {
      "text/plain": [
       "[('재', 'XPN'), ('구매', 'NNG'), ('의사', 'NNG')]"
      ]
     },
     "execution_count": 50,
     "metadata": {},
     "output_type": "execute_result"
    }
   ],
   "source": [
    "tokenizer.mecab.pos('재구매의사')"
   ]
  },
  {
   "cell_type": "code",
   "execution_count": 50,
   "metadata": {},
   "outputs": [
    {
     "data": {
      "text/plain": [
       "[('재', 'XPN'), ('구매', 'NNG'), ('의사', 'NNG')]"
      ]
     },
     "execution_count": 50,
     "metadata": {},
     "output_type": "execute_result"
    }
   ],
   "source": [
    "tokenizer.mecab.pos('재구매의사')"
   ]
  },
  {
   "cell_type": "code",
   "execution_count": 37,
   "metadata": {},
   "outputs": [
    {
     "data": {
      "text/plain": [
       "[('랑콤', 0, 2)]"
      ]
     },
     "execution_count": 37,
     "metadata": {},
     "output_type": "execute_result"
    }
   ],
   "source": [
    "kpe.extract_keywords(spacing('랑콤디지몬어드벤처 보고싶다'), span_info=True)"
   ]
  },
  {
   "cell_type": "code",
   "execution_count": 58,
   "metadata": {},
   "outputs": [
    {
     "data": {
      "text/plain": [
       "'/root/custom_dict'"
      ]
     },
     "execution_count": 58,
     "metadata": {},
     "output_type": "execute_result"
    }
   ],
   "source": [
    "'/root/custom_dict'"
   ]
  },
  {
   "cell_type": "code",
   "execution_count": 59,
   "metadata": {},
   "outputs": [],
   "source": [
    "path = Path('/root/custom_dict')"
   ]
  },
  {
   "cell_type": "code",
   "execution_count": 62,
   "metadata": {},
   "outputs": [],
   "source": [
    "if list(path.glob('*.csv')):\n",
    "    print('tlqkf')"
   ]
  },
  {
   "cell_type": "code",
   "execution_count": 11,
   "metadata": {},
   "outputs": [],
   "source": [
    "tokenizer = MecabTokenization(custom_dir='/root/custom_dict')"
   ]
  },
  {
   "cell_type": "code",
   "execution_count": 12,
   "metadata": {},
   "outputs": [
    {
     "data": {
      "text/plain": [
       "(['사랑', '해', '유경아'],\n",
       " [Feature(pos='NNG', semantic=None, has_jongseong=True, reading='사랑', type=None, start_pos=None, end_pos=None, expression=None),\n",
       "  Feature(pos='XSV+EC', semantic=None, has_jongseong=False, reading='해', type='Inflect', start_pos='XSV', end_pos='EC', expression='하/XSV/*+아/EC/*'),\n",
       "  Feature(pos='NNP', semantic='인명', has_jongseong=False, reading='유경아', type=None, start_pos=None, end_pos=None, expression=None)])"
      ]
     },
     "execution_count": 12,
     "metadata": {},
     "output_type": "execute_result"
    }
   ],
   "source": [
    "tokenizer.tokenize('사랑해 유경아')"
   ]
  },
  {
   "cell_type": "code",
   "execution_count": 13,
   "metadata": {},
   "outputs": [
    {
     "name": "stdout",
     "output_type": "stream",
     "text": [
      "Doc(Id='20210226-140613-690601', text='사랑해 유경아', Tokens=[Token(DocId='20210226-140613-690601', offset=0, start=0, end=2, text='사랑'), Token(DocId='20210226-140613-690601', offset=1, start=2, end=3, text='해'), Token(DocId='20210226-140613-690601', offset=2, start=4, end=7, text='유경아')])\n",
      "dlkfjal;fjdasl;kfjdsal;kfj\n"
     ]
    }
   ],
   "source": [
    "doc = tokenizer('사랑해 유경아')"
   ]
  },
  {
   "cell_type": "code",
   "execution_count": 50,
   "metadata": {},
   "outputs": [
    {
     "data": {
      "text/plain": [
       "Feature(pos='NNG', semantic=None, has_jongseong=True, reading='사랑', type=None, start_pos=None, end_pos=None, expression=None)"
      ]
     },
     "execution_count": 50,
     "metadata": {},
     "output_type": "execute_result"
    }
   ],
   "source": [
    "doc.Tokens[0]._pos"
   ]
  },
  {
   "cell_type": "code",
   "execution_count": 14,
   "metadata": {},
   "outputs": [
    {
     "data": {
      "text/plain": [
       "'사랑해 유경아'"
      ]
     },
     "execution_count": 14,
     "metadata": {},
     "output_type": "execute_result"
    }
   ],
   "source": [
    "doc.text"
   ]
  },
  {
   "cell_type": "code",
   "execution_count": 46,
   "metadata": {},
   "outputs": [
    {
     "data": {
      "text/plain": [
       "{'Id': '20210226-133432-245707',\n",
       " 'text': '사랑해 유경아',\n",
       " 'Tokens': [Token(DocId='20210226-133432-245707', offset=0, start=0, end=2, text='사랑'),\n",
       "  Token(DocId='20210226-133432-245707', offset=1, start=2, end=3, text='해'),\n",
       "  Token(DocId='20210226-133432-245707', offset=2, start=4, end=7, text='유경아')],\n",
       " '_features': {'_tokenizable': True},\n",
       " '_tokenizable': True}"
      ]
     },
     "execution_count": 46,
     "metadata": {},
     "output_type": "execute_result"
    }
   ],
   "source": [
    "doc.__dict__"
   ]
  },
  {
   "cell_type": "code",
   "execution_count": null,
   "metadata": {},
   "outputs": [],
   "source": [
    "pars"
   ]
  },
  {
   "cell_type": "code",
   "execution_count": 15,
   "metadata": {},
   "outputs": [
    {
     "data": {
      "text/plain": [
       "Token(DocId='20210226-132121-126672', offset=2, start=4, end=7, text='유경아')"
      ]
     },
     "execution_count": 15,
     "metadata": {},
     "output_type": "execute_result"
    }
   ],
   "source": [
    "doc.Tokens["
   ]
  },
  {
   "cell_type": "code",
   "execution_count": 32,
   "metadata": {},
   "outputs": [
    {
     "data": {
      "text/plain": [
       "{'Id': '20210226-132312-805827',\n",
       " 'text': '사랑해 유경아',\n",
       " 'Tokens': [Token(DocId='20210226-132312-805827', offset=0, start=0, end=2, text='사랑'),\n",
       "  Token(DocId='20210226-132312-805827', offset=1, start=2, end=3, text='해'),\n",
       "  Token(DocId='20210226-132312-805827', offset=2, start=4, end=7, text='유경아')],\n",
       " '_features': {'_tokenizable': True},\n",
       " '_tokenizable': True}"
      ]
     },
     "execution_count": 32,
     "metadata": {},
     "output_type": "execute_result"
    }
   ],
   "source": [
    "doc.__dict__"
   ]
  },
  {
   "cell_type": "code",
   "execution_count": null,
   "metadata": {},
   "outputs": [],
   "source": [
    "doc.__dict__"
   ]
  },
  {
   "cell_type": "code",
   "execution_count": 35,
   "metadata": {},
   "outputs": [
    {
     "data": {
      "text/plain": [
       "[Feature(pos='NNG', semantic=None, has_jongseong=True, reading='사랑', type=None, start_pos=None, end_pos=None, expression=None),\n",
       " Feature(pos='XSV+EC', semantic=None, has_jongseong=False, reading='해', type='Inflect', start_pos='XSV', end_pos='EC', expression='하/XSV/*+아/EC/*'),\n",
       " Feature(pos='NNP', semantic='인명', has_jongseong=False, reading='유경아', type=None, start_pos=None, end_pos=None, expression=None)]"
      ]
     },
     "execution_count": 35,
     "metadata": {},
     "output_type": "execute_result"
    }
   ],
   "source": [
    "tokenizer._parsed"
   ]
  },
  {
   "cell_type": "code",
   "execution_count": 10,
   "metadata": {},
   "outputs": [
    {
     "data": {
      "text/plain": [
       "7"
      ]
     },
     "execution_count": 10,
     "metadata": {},
     "output_type": "execute_result"
    }
   ],
   "source": [
    "doc.size"
   ]
  },
  {
   "cell_type": "code",
   "execution_count": 11,
   "metadata": {},
   "outputs": [
    {
     "data": {
      "text/plain": [
       "{'_tokenizable': True}"
      ]
     },
     "execution_count": 11,
     "metadata": {},
     "output_type": "execute_result"
    }
   ],
   "source": [
    "doc.features"
   ]
  },
  {
   "cell_type": "code",
   "execution_count": null,
   "metadata": {},
   "outputs": [],
   "source": []
  },
  {
   "cell_type": "code",
   "execution_count": null,
   "metadata": {},
   "outputs": [],
   "source": []
  },
  {
   "cell_type": "code",
   "execution_count": 9,
   "metadata": {},
   "outputs": [],
   "source": [
    "tokenizer = MeCab()"
   ]
  },
  {
   "cell_type": "code",
   "execution_count": 27,
   "metadata": {},
   "outputs": [
    {
     "ename": "AttributeError",
     "evalue": "'MecabTokenization' object has no attribute 'parse'",
     "output_type": "error",
     "traceback": [
      "\u001b[0;31m\u001b[0m",
      "\u001b[0;31mAttributeError\u001b[0mTraceback (most recent call last)",
      "\u001b[0;32m<ipython-input-27-000ab5dc3e8c>\u001b[0m in \u001b[0;36m<module>\u001b[0;34m\u001b[0m\n\u001b[0;32m----> 1\u001b[0;31m \u001b[0mresult\u001b[0m \u001b[0;34m=\u001b[0m \u001b[0mtokenizer\u001b[0m\u001b[0;34m.\u001b[0m\u001b[0mparse\u001b[0m\u001b[0;34m(\u001b[0m\u001b[0;34m'은은하구나'\u001b[0m\u001b[0;34m)\u001b[0m\u001b[0;34m\u001b[0m\u001b[0;34m\u001b[0m\u001b[0m\n\u001b[0m",
      "\u001b[0;31mAttributeError\u001b[0m: 'MecabTokenization' object has no attribute 'parse'"
     ]
    }
   ],
   "source": [
    "result = tokenizer.parse('은은하구나')"
   ]
  },
  {
   "cell_type": "code",
   "execution_count": null,
   "metadata": {},
   "outputs": [],
   "source": []
  },
  {
   "cell_type": "code",
   "execution_count": 14,
   "metadata": {},
   "outputs": [
    {
     "data": {
      "text/plain": [
       "'은은'"
      ]
     },
     "execution_count": 14,
     "metadata": {},
     "output_type": "execute_result"
    }
   ],
   "source": [
    "result[0][0]"
   ]
  },
  {
   "cell_type": "code",
   "execution_count": 38,
   "metadata": {},
   "outputs": [],
   "source": [
    "a, b, c = map(list, zip(*[(token, parsed.pos, parsed) for token, parsed in result]))"
   ]
  },
  {
   "cell_type": "code",
   "execution_count": 42,
   "metadata": {},
   "outputs": [
    {
     "data": {
      "text/plain": [
       "['XR', 'XSA', 'EC']"
      ]
     },
     "execution_count": 42,
     "metadata": {},
     "output_type": "execute_result"
    }
   ],
   "source": [
    "b"
   ]
  },
  {
   "cell_type": "code",
   "execution_count": 31,
   "metadata": {},
   "outputs": [
    {
     "data": {
      "text/plain": [
       "[('은은', '하', '구나'),\n",
       " (Feature(pos='XR', semantic=None, has_jongseong=True, reading='은은', type=None, start_pos=None, end_pos=None, expression=None),\n",
       "  Feature(pos='XSA', semantic=None, has_jongseong=False, reading='하', type=None, start_pos=None, end_pos=None, expression=None),\n",
       "  Feature(pos='EC', semantic=None, has_jongseong=False, reading='구나', type=None, start_pos=None, end_pos=None, expression=None))]"
      ]
     },
     "execution_count": 31,
     "metadata": {},
     "output_type": "execute_result"
    }
   ],
   "source": [
    "list(zip(*result))"
   ]
  },
  {
   "cell_type": "code",
   "execution_count": null,
   "metadata": {},
   "outputs": [],
   "source": []
  },
  {
   "cell_type": "code",
   "execution_count": 28,
   "metadata": {},
   "outputs": [
    {
     "data": {
      "text/plain": [
       "'XR'"
      ]
     },
     "execution_count": 28,
     "metadata": {},
     "output_type": "execute_result"
    }
   ],
   "source": [
    "\n"
   ]
  },
  {
   "cell_type": "code",
   "execution_count": null,
   "metadata": {},
   "outputs": [],
   "source": []
  },
  {
   "cell_type": "code",
   "execution_count": null,
   "metadata": {},
   "outputs": [],
   "source": []
  },
  {
   "cell_type": "code",
   "execution_count": null,
   "metadata": {},
   "outputs": [],
   "source": []
  },
  {
   "cell_type": "code",
   "execution_count": null,
   "metadata": {},
   "outputs": [],
   "source": []
  },
  {
   "cell_type": "code",
   "execution_count": null,
   "metadata": {},
   "outputs": [],
   "source": []
  },
  {
   "cell_type": "code",
   "execution_count": null,
   "metadata": {},
   "outputs": [],
   "source": []
  },
  {
   "cell_type": "code",
   "execution_count": null,
   "metadata": {},
   "outputs": [],
   "source": []
  },
  {
   "cell_type": "code",
   "execution_count": null,
   "metadata": {},
   "outputs": [],
   "source": []
  },
  {
   "cell_type": "code",
   "execution_count": null,
   "metadata": {},
   "outputs": [],
   "source": []
  },
  {
   "cell_type": "code",
   "execution_count": null,
   "metadata": {},
   "outputs": [],
   "source": []
  },
  {
   "cell_type": "code",
   "execution_count": null,
   "metadata": {},
   "outputs": [],
   "source": []
  },
  {
   "cell_type": "code",
   "execution_count": null,
   "metadata": {},
   "outputs": [],
   "source": []
  },
  {
   "cell_type": "code",
   "execution_count": 172,
   "metadata": {},
   "outputs": [
    {
     "data": {
      "text/plain": [
       "[('은은', 'XR'),\n",
       " ('한', 'XSA+ETM'),\n",
       " ('여성', 'NNG'),\n",
       " ('스러운', 'XSA+ETM'),\n",
       " ('비누', 'NNG'),\n",
       " ('향', 'NNG'),\n",
       " ('이', 'JKS'),\n",
       " ('넘나', 'VV'),\n",
       " ('리', 'EP'),\n",
       " ('죠', 'VA'),\n",
       " ('아요', 'EC')]"
      ]
     },
     "execution_count": 172,
     "metadata": {},
     "output_type": "execute_result"
    }
   ],
   "source": [
    "mecab.pos('은은한 여성스러운 비누향이 넘나리 죠아요')"
   ]
  },
  {
   "cell_type": "code",
   "execution_count": null,
   "metadata": {},
   "outputs": [],
   "source": [
    "mecab.parse()"
   ]
  },
  {
   "cell_type": "code",
   "execution_count": 175,
   "metadata": {},
   "outputs": [
    {
     "data": {
      "text/plain": [
       "[('은은한', 'Adjective'),\n",
       " ('여성', 'Noun'),\n",
       " ('스러운', 'Josa'),\n",
       " ('비누', 'Noun'),\n",
       " ('향', 'Noun'),\n",
       " ('이', 'Josa'),\n",
       " ('넘나리', 'Verb'),\n",
       " ('좋아요', 'Adjective')]"
      ]
     },
     "execution_count": 175,
     "metadata": {},
     "output_type": "execute_result"
    }
   ],
   "source": [
    "okt.pos('은은한 여성스러운 비누향이 넘나리 죠아요', norm=True)"
   ]
  },
  {
   "cell_type": "code",
   "execution_count": 178,
   "metadata": {},
   "outputs": [
    {
     "data": {
      "text/plain": [
       "[('은은한', 'Adjective'),\n",
       " ('여성', 'Noun'),\n",
       " ('스러운', 'Josa'),\n",
       " ('비누', 'Noun'),\n",
       " ('향', 'Noun'),\n",
       " ('이', 'Josa'),\n",
       " ('넘', 'Verb'),\n",
       " ('나리', 'Noun'),\n",
       " ('죠', 'Josa'),\n",
       " ('아', 'Josa'),\n",
       " ('요', 'Noun')]"
      ]
     },
     "execution_count": 178,
     "metadata": {},
     "output_type": "execute_result"
    }
   ],
   "source": [
    "okt.pos(spacing('은은한 여성스러운 비누향이 넘나리 죠아요'))"
   ]
  },
  {
   "cell_type": "code",
   "execution_count": 179,
   "metadata": {},
   "outputs": [
    {
     "data": {
      "text/plain": [
       "[('은은', 'XR'),\n",
       " ('한', 'XSA+ETM'),\n",
       " ('여성', 'NNG'),\n",
       " ('스러운', 'XSA+ETM'),\n",
       " ('비누', 'NNG'),\n",
       " ('향', 'NNG'),\n",
       " ('이', 'JKS'),\n",
       " ('넘나', 'VV'),\n",
       " ('리', 'EP'),\n",
       " ('죠', 'VA'),\n",
       " ('아요', 'EC')]"
      ]
     },
     "execution_count": 179,
     "metadata": {},
     "output_type": "execute_result"
    }
   ],
   "source": [
    "mecab.pos(spacing('은은한 여성스러운 비누향이 넘나리 죠아요'))"
   ]
  },
  {
   "cell_type": "code",
   "execution_count": 180,
   "metadata": {},
   "outputs": [
    {
     "data": {
      "text/plain": [
       "[('질경이', 'NNG')]"
      ]
     },
     "execution_count": 180,
     "metadata": {},
     "output_type": "execute_result"
    }
   ],
   "source": [
    "mecab.pos('질경이')"
   ]
  },
  {
   "cell_type": "code",
   "execution_count": 3,
   "metadata": {},
   "outputs": [],
   "source": [
    "from mecab import MeCab"
   ]
  },
  {
   "cell_type": "code",
   "execution_count": 4,
   "metadata": {},
   "outputs": [],
   "source": [
    "mecab = MeCab()"
   ]
  },
  {
   "cell_type": "code",
   "execution_count": 9,
   "metadata": {},
   "outputs": [
    {
     "data": {
      "text/plain": [
       "[('유', 'NNP'),\n",
       " ('튜버', 'NNP'),\n",
       " ('추천', 'NNG'),\n",
       " ('템', 'NNG'),\n",
       " ('이', 'VCP'),\n",
       " ('라', 'EC'),\n",
       " ('샀', 'VV+EP'),\n",
       " ('습니', 'EC'),\n",
       " ('디', 'VX'),\n",
       " ('ㅏ', 'UNKNOWN'),\n",
       " ('!', 'SF'),\n",
       " ('성분', 'NNG'),\n",
       " ('이', 'JKS'),\n",
       " ('좋', 'VA'),\n",
       " ('은', 'ETM'),\n",
       " ('게', 'NNB+JKS'),\n",
       " ('장점', 'NNG'),\n",
       " ('이', 'VCP'),\n",
       " ('에요', 'EF'),\n",
       " ('!', 'SF'),\n",
       " ('제형', 'NNG'),\n",
       " ('은', 'JX'),\n",
       " ('완전', 'NNG'),\n",
       " ('물', 'NNG'),\n",
       " ('제형', 'NNG'),\n",
       " ('이', 'VCP'),\n",
       " ('에요', 'EF'),\n",
       " ('.', 'SF'),\n",
       " ('닥', 'MAG'),\n",
       " ('토', 'NNG'),\n",
       " ('로', 'JKB'),\n",
       " ('좋', 'VA'),\n",
       " ('다고', 'EC'),\n",
       " ('했', 'VX+EP'),\n",
       " ('는데', 'EC'),\n",
       " ('전', 'NP+JX'),\n",
       " ('그냥', 'MAG'),\n",
       " ('보습', 'NNG'),\n",
       " ('용', 'XSN'),\n",
       " ('으로', 'JKB'),\n",
       " ('씁니다', 'VV+EF'),\n",
       " ('.', 'SF'),\n",
       " ('다만', 'MAJ'),\n",
       " (',', 'SC'),\n",
       " ('아', 'IC'),\n",
       " ('싀웠던', 'UNKNOWN'),\n",
       " ('점', 'NNG'),\n",
       " ('은', 'JX'),\n",
       " ('향료', 'NNG'),\n",
       " ('를', 'JKO'),\n",
       " ('안', 'MAG'),\n",
       " ('써서', 'VV+EC'),\n",
       " ('냄새', 'NNG'),\n",
       " ('가', 'JKS'),\n",
       " ('약간', 'MAG'),\n",
       " ('별로', 'MAG'),\n",
       " ('인', 'VCP+ETM'),\n",
       " ('것', 'NNB'),\n",
       " (',', 'SC'),\n",
       " ('그리고', 'MAJ'),\n",
       " ('속', 'NNG'),\n",
       " ('보습', 'NNG'),\n",
       " ('을', 'JKO'),\n",
       " ('잘', 'MAG'),\n",
       " ('잡', 'VV'),\n",
       " ('아', 'EC'),\n",
       " ('주', 'VX'),\n",
       " ('지', 'EC'),\n",
       " ('못하', 'VX'),\n",
       " ('는', 'ETM'),\n",
       " ('것', 'NNB'),\n",
       " ('이', 'VCP'),\n",
       " ('에요', 'EF'),\n",
       " ('.', 'SF'),\n",
       " ('그럭저럭', 'MAG'),\n",
       " ('템', 'NNG'),\n",
       " ('입니다', 'VCP+EF'),\n",
       " ('.', 'SF'),\n",
       " ('재', 'XPN'),\n",
       " ('구매', 'NNG'),\n",
       " ('의사', 'NNG'),\n",
       " ('는', 'JX'),\n",
       " ('없', 'VA'),\n",
       " ('어요', 'EF'),\n",
       " ('!', 'SF')]"
      ]
     },
     "execution_count": 9,
     "metadata": {},
     "output_type": "execute_result"
    }
   ],
   "source": [
    "mecab.pos(\"유튜버 추천템이라 샀습니디ㅏ!성분이 좋은게 장점이에요! 제형은 완전 물제형이에요. 닥토로 좋다고했는데 전 그냥 보습용으로 씁니다. 다만, 아싀웠던 점은 향료를 안써서 냄새가 약간 별로인것, 그리고 속보습을 잘 잡아주지못하는것이에요. 그럭저럭템입니다. 재구매의사는 없어요!\")"
   ]
  },
  {
   "cell_type": "code",
   "execution_count": null,
   "metadata": {},
   "outputs": [],
   "source": [
    "k_mecab"
   ]
  },
  {
   "cell_type": "code",
   "execution_count": null,
   "metadata": {},
   "outputs": [],
   "source": []
  },
  {
   "cell_type": "code",
   "execution_count": 1,
   "metadata": {},
   "outputs": [],
   "source": [
    "from src.textanalyzer import Token, Doc"
   ]
  },
  {
   "cell_type": "code",
   "execution_count": 5,
   "metadata": {},
   "outputs": [
    {
     "name": "stdout",
     "output_type": "stream",
     "text": [
      "New features _pos is updated.\n"
     ]
    }
   ],
   "source": [
    "token = Token(DocId=1, offset=1, start=2, end=123, text='test')\n",
    "token.update_feature({\"_pos\": \"sibal\"})"
   ]
  },
  {
   "cell_type": "code",
   "execution_count": 7,
   "metadata": {},
   "outputs": [
    {
     "data": {
      "text/plain": [
       "{'_pos': 'sibal'}"
      ]
     },
     "execution_count": 7,
     "metadata": {},
     "output_type": "execute_result"
    }
   ],
   "source": [
    "token.features"
   ]
  },
  {
   "cell_type": "code",
   "execution_count": 25,
   "metadata": {},
   "outputs": [],
   "source": [
    "_text = '안녕하세요. 엉덩이가 아파요.'"
   ]
  },
  {
   "cell_type": "code",
   "execution_count": 28,
   "metadata": {},
   "outputs": [
    {
     "name": "stdout",
     "output_type": "stream",
     "text": [
      "0\n",
      "2\n"
     ]
    }
   ],
   "source": [
    "token = '안녕'\n",
    "print(_text.index(token))\n",
    "print(len(token))"
   ]
  },
  {
   "cell_type": "code",
   "execution_count": null,
   "metadata": {},
   "outputs": [],
   "source": [
    "from konlpy.utils import "
   ]
  },
  {
   "cell_type": "code",
   "execution_count": 93,
   "metadata": {},
   "outputs": [],
   "source": [
    "from konlpy.tag import Okt"
   ]
  },
  {
   "cell_type": "code",
   "execution_count": 17,
   "metadata": {},
   "outputs": [
    {
     "ename": "TypeError",
     "evalue": "normalize() missing 1 required positional argument: 'phrase'",
     "output_type": "error",
     "traceback": [
      "\u001b[0;31m\u001b[0m",
      "\u001b[0;31mTypeError\u001b[0mTraceback (most recent call last)",
      "\u001b[0;32m<ipython-input-17-4b35daf70930>\u001b[0m in \u001b[0;36m<module>\u001b[0;34m\u001b[0m\n\u001b[0;32m----> 1\u001b[0;31m \u001b[0mOkt\u001b[0m\u001b[0;34m.\u001b[0m\u001b[0mnormalize\u001b[0m\u001b[0;34m(\u001b[0m\u001b[0mtext\u001b[0m\u001b[0;34m)\u001b[0m\u001b[0;34m\u001b[0m\u001b[0;34m\u001b[0m\u001b[0m\n\u001b[0m",
      "\u001b[0;31mTypeError\u001b[0m: normalize() missing 1 required positional argument: 'phrase'"
     ]
    }
   ],
   "source": [
    "Okt.pos()"
   ]
  },
  {
   "cell_type": "code",
   "execution_count": 18,
   "metadata": {},
   "outputs": [],
   "source": [
    "okt  = Okt(max_heap_size=1024*4)"
   ]
  },
  {
   "cell_type": "code",
   "execution_count": 29,
   "metadata": {},
   "outputs": [
    {
     "data": {
      "text/plain": [
       "'소시오패스아ㅓㄴㄹ 알면서도 계속'"
      ]
     },
     "execution_count": 29,
     "metadata": {},
     "output_type": "execute_result"
    }
   ],
   "source": [
    "okt.morphs()"
   ]
  },
  {
   "cell_type": "code",
   "execution_count": 125,
   "metadata": {},
   "outputs": [
    {
     "ename": "SyntaxError",
     "evalue": "invalid syntax (<ipython-input-125-4500e8135083>, line 1)",
     "output_type": "error",
     "traceback": [
      "\u001b[0;36m  File \u001b[0;32m\"<ipython-input-125-4500e8135083>\"\u001b[0;36m, line \u001b[0;32m1\u001b[0m\n\u001b[0;31m    okt.\u001b[0m\n\u001b[0m        ^\u001b[0m\n\u001b[0;31mSyntaxError\u001b[0m\u001b[0;31m:\u001b[0m invalid syntax\n"
     ]
    }
   ],
   "source": []
  },
  {
   "cell_type": "code",
   "execution_count": 121,
   "metadata": {},
   "outputs": [
    {
     "data": {
      "text/plain": [
       "[('전기장판', 'Noun'),\n",
       " ('의', 'Josa'),\n",
       " ('문제점', 'Noun'),\n",
       " ('여러', 'Modifier'),\n",
       " ('번', 'Noun'),\n",
       " ('지적', 'Noun'),\n",
       " ('해드렸습니다만', 'Verb'),\n",
       " (',', 'Punctuation'),\n",
       " ('잘', 'Verb'),\n",
       " ('쓰면', 'Verb'),\n",
       " ('안전하고', 'Adjective'),\n",
       " ('따뜻하고', 'Adjective'),\n",
       " ('다', 'Adverb'),\n",
       " ('좋은데', 'Adjective'),\n",
       " ('단지', 'Noun'),\n",
       " ('조심할', 'Verb'),\n",
       " ('게', 'Noun'),\n",
       " ('많습니다', 'Adjective'),\n",
       " ('.', 'Punctuation'),\n",
       " ('온도', 'Noun'),\n",
       " ('를', 'Josa'),\n",
       " ('낮게', 'Adjective'),\n",
       " ('맞춰', 'Verb'),\n",
       " ('놔도', 'Verb'),\n",
       " ('너무', 'Adverb'),\n",
       " ('오래', 'Adverb'),\n",
       " ('사용', 'Noun'),\n",
       " ('하면', 'Verb'),\n",
       " ('나도', 'Verb'),\n",
       " ('모르는', 'Verb'),\n",
       " ('사이', 'Noun'),\n",
       " ('에', 'Josa'),\n",
       " ('화상', 'Noun'),\n",
       " ('을', 'Josa'),\n",
       " ('입', 'Noun'),\n",
       " ('을', 'Josa'),\n",
       " ('수', 'Noun'),\n",
       " ('있습니다', 'Adjective'),\n",
       " ('.', 'Punctuation')]"
      ]
     },
     "execution_count": 121,
     "metadata": {},
     "output_type": "execute_result"
    }
   ],
   "source": [
    "[(tok, p) for tok, p in okt.pos(text) if p in {'Noun', 'Verb', 'Adjective', 'Alpha', 'Determiner' , 'Foreign', 'Hashtag', 'KoreanParticle', 'Number','Unknown'}]"
   ]
  },
  {
   "cell_type": "code",
   "execution_count": 97,
   "metadata": {
    "collapsed": true,
    "jupyter": {
     "outputs_hidden": true
    }
   },
   "outputs": [
    {
     "data": {
      "text/plain": [
       "[('전기장판', 'Noun'),\n",
       " ('의', 'Josa'),\n",
       " ('문제점', 'Noun'),\n",
       " ('여러', 'Modifier'),\n",
       " ('번', 'Noun'),\n",
       " ('지적', 'Noun'),\n",
       " ('해드리다', 'Verb'),\n",
       " (',', 'Punctuation'),\n",
       " ('자다', 'Verb'),\n",
       " ('쓰다', 'Verb'),\n",
       " ('안전하다', 'Adjective'),\n",
       " ('따뜻하다', 'Adjective'),\n",
       " ('다', 'Adverb'),\n",
       " ('좋다', 'Adjective'),\n",
       " ('단지', 'Noun'),\n",
       " ('조심하다', 'Verb'),\n",
       " ('게', 'Noun'),\n",
       " ('많다', 'Adjective'),\n",
       " ('.', 'Punctuation'),\n",
       " ('온도', 'Noun'),\n",
       " ('를', 'Josa'),\n",
       " ('낮다', 'Adjective'),\n",
       " ('맞추다', 'Verb'),\n",
       " ('놓다', 'Verb'),\n",
       " ('너무', 'Adverb'),\n",
       " ('오래', 'Adverb'),\n",
       " ('사용', 'Noun'),\n",
       " ('하다', 'Verb'),\n",
       " ('나다', 'Verb'),\n",
       " ('모르다', 'Verb'),\n",
       " ('사이', 'Noun'),\n",
       " ('에', 'Josa'),\n",
       " ('화상', 'Noun'),\n",
       " ('을', 'Josa'),\n",
       " ('입', 'Noun'),\n",
       " ('을', 'Josa'),\n",
       " ('수', 'Noun'),\n",
       " ('있다', 'Adjective'),\n",
       " ('.', 'Punctuation')]"
      ]
     },
     "execution_count": 97,
     "metadata": {},
     "output_type": "execute_result"
    }
   ],
   "source": [
    "okt.pos(text, stem=True)"
   ]
  },
  {
   "cell_type": "code",
   "execution_count": null,
   "metadata": {},
   "outputs": [],
   "source": [
    "okt.normalize()"
   ]
  },
  {
   "cell_type": "code",
   "execution_count": 45,
   "metadata": {},
   "outputs": [],
   "source": [
    "from mecab import MeCab"
   ]
  },
  {
   "cell_type": "code",
   "execution_count": 64,
   "metadata": {},
   "outputs": [],
   "source": [
    "mecab = MeCab()"
   ]
  },
  {
   "cell_type": "code",
   "execution_count": 72,
   "metadata": {},
   "outputs": [
    {
     "data": {
      "text/plain": [
       "'전기장판'"
      ]
     },
     "execution_count": 72,
     "metadata": {},
     "output_type": "execute_result"
    }
   ],
   "source": [
    "mecab.parse(text)[0][0]"
   ]
  },
  {
   "cell_type": "code",
   "execution_count": 86,
   "metadata": {},
   "outputs": [
    {
     "data": {
      "text/plain": [
       "'0.996/ko-0.9.2'"
      ]
     },
     "execution_count": 86,
     "metadata": {},
     "output_type": "execute_result"
    }
   ],
   "source": [
    "mecab.tagger.version()"
   ]
  },
  {
   "cell_type": "code",
   "execution_count": 89,
   "metadata": {},
   "outputs": [
    {
     "data": {
      "text/plain": [
       "<_mecab.DictionaryInfo at 0x7fe76c9670f0>"
      ]
     },
     "execution_count": 89,
     "metadata": {},
     "output_type": "execute_result"
    }
   ],
   "source": [
    "mecab.tagger.dictionary_info()"
   ]
  },
  {
   "cell_type": "code",
   "execution_count": 91,
   "metadata": {},
   "outputs": [
    {
     "data": {
      "text/plain": [
       "{'MAG', 'MM', 'NNB', 'NNG', 'NNP', 'NR', 'S*', 'VA', 'VV', 'XR'}"
      ]
     },
     "execution_count": 91,
     "metadata": {},
     "output_type": "execute_result"
    }
   ],
   "source": [
    "{'NNG', 'NNP', 'NNB', 'NR', 'VV', 'VA', 'MM', 'MAG', 'XR', 'S*'}"
   ]
  },
  {
   "cell_type": "code",
   "execution_count": 132,
   "metadata": {},
   "outputs": [],
   "source": [
    "text = \"유튜버 추천템이라 샀습니디ㅏ!성분이 좋은게 장점이에요! 제형은 완전 물제형이에요. 닥토로 좋다고했는데 전 그냥 보습용으로 씁니다. 다만, 아싀웠던 점은 향료를 안써서 냄새가 약간 별로인것, 그리고 속보습을 잘 잡아주지못하는것이에요. 그럭저럭템입니다. 재구매의사는 없어요!\""
   ]
  },
  {
   "cell_type": "code",
   "execution_count": 133,
   "metadata": {},
   "outputs": [
    {
     "data": {
      "text/plain": [
       "[('유',\n",
       "  Feature(pos='NNP', semantic='인명', has_jongseong=False, reading='유', type=None, start_pos=None, end_pos=None, expression=None)),\n",
       " ('튜버',\n",
       "  Feature(pos='NNP', semantic='인명', has_jongseong=False, reading='튜버', type=None, start_pos=None, end_pos=None, expression=None)),\n",
       " ('추천',\n",
       "  Feature(pos='NNG', semantic='행위', has_jongseong=True, reading='추천', type=None, start_pos=None, end_pos=None, expression=None)),\n",
       " ('템',\n",
       "  Feature(pos='NNG', semantic=None, has_jongseong=True, reading='템', type=None, start_pos=None, end_pos=None, expression=None)),\n",
       " ('성분',\n",
       "  Feature(pos='NNG', semantic=None, has_jongseong=True, reading='성분', type=None, start_pos=None, end_pos=None, expression=None)),\n",
       " ('장점',\n",
       "  Feature(pos='NNG', semantic='정적사태', has_jongseong=True, reading='장점', type=None, start_pos=None, end_pos=None, expression=None)),\n",
       " ('제형',\n",
       "  Feature(pos='NNG', semantic=None, has_jongseong=True, reading='제형', type=None, start_pos=None, end_pos=None, expression=None)),\n",
       " ('완전',\n",
       "  Feature(pos='NNG', semantic='정적사태', has_jongseong=True, reading='완전', type=None, start_pos=None, end_pos=None, expression=None)),\n",
       " ('물',\n",
       "  Feature(pos='NNG', semantic=None, has_jongseong=True, reading='물', type=None, start_pos=None, end_pos=None, expression=None)),\n",
       " ('제형',\n",
       "  Feature(pos='NNG', semantic=None, has_jongseong=True, reading='제형', type=None, start_pos=None, end_pos=None, expression=None)),\n",
       " ('토',\n",
       "  Feature(pos='NNG', semantic=None, has_jongseong=False, reading='토', type=None, start_pos=None, end_pos=None, expression=None)),\n",
       " ('보습',\n",
       "  Feature(pos='NNG', semantic=None, has_jongseong=True, reading='보습', type=None, start_pos=None, end_pos=None, expression=None)),\n",
       " ('점',\n",
       "  Feature(pos='NNG', semantic=None, has_jongseong=True, reading='점', type=None, start_pos=None, end_pos=None, expression=None)),\n",
       " ('향료',\n",
       "  Feature(pos='NNG', semantic=None, has_jongseong=False, reading='향료', type=None, start_pos=None, end_pos=None, expression=None)),\n",
       " ('냄새',\n",
       "  Feature(pos='NNG', semantic=None, has_jongseong=False, reading='냄새', type=None, start_pos=None, end_pos=None, expression=None)),\n",
       " ('속',\n",
       "  Feature(pos='NNG', semantic=None, has_jongseong=True, reading='속', type=None, start_pos=None, end_pos=None, expression=None)),\n",
       " ('보습',\n",
       "  Feature(pos='NNG', semantic=None, has_jongseong=True, reading='보습', type=None, start_pos=None, end_pos=None, expression=None)),\n",
       " ('템',\n",
       "  Feature(pos='NNG', semantic=None, has_jongseong=True, reading='템', type=None, start_pos=None, end_pos=None, expression=None)),\n",
       " ('구매',\n",
       "  Feature(pos='NNG', semantic='행위', has_jongseong=False, reading='구매', type=None, start_pos=None, end_pos=None, expression=None)),\n",
       " ('의사',\n",
       "  Feature(pos='NNG', semantic=None, has_jongseong=False, reading='의사', type=None, start_pos=None, end_pos=None, expression=None))]"
      ]
     },
     "execution_count": 133,
     "metadata": {},
     "output_type": "execute_result"
    }
   ],
   "source": [
    "[(tok,meta) for tok, meta in mecab.parse(text)  if meta.pos in {'NNG', 'NNP','XR'}]"
   ]
  },
  {
   "cell_type": "code",
   "execution_count": null,
   "metadata": {},
   "outputs": [],
   "source": [
    ", 'NNBC', 'NR', 'VV', 'VA', 'MM', 'MAG', 'XR', 'S*'"
   ]
  },
  {
   "cell_type": "code",
   "execution_count": 107,
   "metadata": {},
   "outputs": [
    {
     "data": {
      "text/plain": [
       "[('쓰면', 'Verb')]"
      ]
     },
     "execution_count": 107,
     "metadata": {},
     "output_type": "execute_result"
    }
   ],
   "source": [
    "okt.pos('쓰면', norm=True)"
   ]
  },
  {
   "cell_type": "code",
   "execution_count": 111,
   "metadata": {},
   "outputs": [
    {
     "data": {
      "text/plain": [
       "[('입다', 'Noun')]"
      ]
     },
     "execution_count": 111,
     "metadata": {},
     "output_type": "execute_result"
    }
   ],
   "source": [
    "okt.pos('입다', norm=True)"
   ]
  },
  {
   "cell_type": "code",
   "execution_count": 44,
   "metadata": {},
   "outputs": [
    {
     "data": {
      "text/plain": [
       "<_mecab.Tagger at 0x7fe76ca46af0>"
      ]
     },
     "execution_count": 44,
     "metadata": {},
     "output_type": "execute_result"
    }
   ],
   "source": [
    "mecab."
   ]
  },
  {
   "cell_type": "code",
   "execution_count": 46,
   "metadata": {},
   "outputs": [
    {
     "data": {
      "text/plain": [
       "['전기장판', '문제점', '번', '지적', '조심', '게', '온도', '사용', '나', '사이', '화상', '수']"
      ]
     },
     "execution_count": 46,
     "metadata": {},
     "output_type": "execute_result"
    }
   ],
   "source": [
    "mecab.nouns(text)"
   ]
  },
  {
   "cell_type": "code",
   "execution_count": 34,
   "metadata": {},
   "outputs": [],
   "source": [
    "from pororo import Pororo"
   ]
  },
  {
   "cell_type": "code",
   "execution_count": 48,
   "metadata": {},
   "outputs": [],
   "source": [
    "mecab = Pororo(task='pos', lang='ko')"
   ]
  },
  {
   "cell_type": "code",
   "execution_count": 62,
   "metadata": {},
   "outputs": [],
   "source": [
    "from mecab import MeCab"
   ]
  },
  {
   "cell_type": "code",
   "execution_count": 63,
   "metadata": {},
   "outputs": [
    {
     "ename": "Exception",
     "evalue": "Install MeCab in order to use it: http://konlpy.org/en/latest/install/",
     "output_type": "error",
     "traceback": [
      "\u001b[0;31m\u001b[0m",
      "\u001b[0;31mNameError\u001b[0mTraceback (most recent call last)",
      "\u001b[0;32m/usr/local/lib/python3.7/dist-packages/konlpy/tag/_mecab.py\u001b[0m in \u001b[0;36m__init__\u001b[0;34m(self, dicpath)\u001b[0m\n\u001b[1;32m    107\u001b[0m         \u001b[0;32mtry\u001b[0m\u001b[0;34m:\u001b[0m\u001b[0;34m\u001b[0m\u001b[0;34m\u001b[0m\u001b[0m\n\u001b[0;32m--> 108\u001b[0;31m             \u001b[0mself\u001b[0m\u001b[0;34m.\u001b[0m\u001b[0mtagger\u001b[0m \u001b[0;34m=\u001b[0m \u001b[0mTagger\u001b[0m\u001b[0;34m(\u001b[0m\u001b[0;34m'-d %s'\u001b[0m \u001b[0;34m%\u001b[0m \u001b[0mdicpath\u001b[0m\u001b[0;34m)\u001b[0m\u001b[0;34m\u001b[0m\u001b[0;34m\u001b[0m\u001b[0m\n\u001b[0m\u001b[1;32m    109\u001b[0m             \u001b[0mself\u001b[0m\u001b[0;34m.\u001b[0m\u001b[0mtagset\u001b[0m \u001b[0;34m=\u001b[0m \u001b[0mutils\u001b[0m\u001b[0;34m.\u001b[0m\u001b[0mread_json\u001b[0m\u001b[0;34m(\u001b[0m\u001b[0;34m'%s/data/tagset/mecab.json'\u001b[0m \u001b[0;34m%\u001b[0m \u001b[0mutils\u001b[0m\u001b[0;34m.\u001b[0m\u001b[0minstallpath\u001b[0m\u001b[0;34m)\u001b[0m\u001b[0;34m\u001b[0m\u001b[0;34m\u001b[0m\u001b[0m\n",
      "\u001b[0;31mNameError\u001b[0m: name 'Tagger' is not defined",
      "\nDuring handling of the above exception, another exception occurred:\n",
      "\u001b[0;31mException\u001b[0mTraceback (most recent call last)",
      "\u001b[0;32m<ipython-input-63-69fd46d24ae1>\u001b[0m in \u001b[0;36m<module>\u001b[0;34m\u001b[0m\n\u001b[0;32m----> 1\u001b[0;31m \u001b[0mmecab\u001b[0m \u001b[0;34m=\u001b[0m \u001b[0mMecab\u001b[0m\u001b[0;34m(\u001b[0m\u001b[0;34m)\u001b[0m\u001b[0;34m\u001b[0m\u001b[0;34m\u001b[0m\u001b[0m\n\u001b[0m",
      "\u001b[0;32m/usr/local/lib/python3.7/dist-packages/konlpy/tag/_mecab.py\u001b[0m in \u001b[0;36m__init__\u001b[0;34m(self, dicpath)\u001b[0m\n\u001b[1;32m    111\u001b[0m             \u001b[0;32mraise\u001b[0m \u001b[0mException\u001b[0m\u001b[0;34m(\u001b[0m\u001b[0;34m'The MeCab dictionary does not exist at \"%s\". Is the dictionary correctly installed?\\nYou can also try entering the dictionary path when initializing the Mecab class: \"Mecab(\\'/some/dic/path\\')\"'\u001b[0m \u001b[0;34m%\u001b[0m \u001b[0mdicpath\u001b[0m\u001b[0;34m)\u001b[0m\u001b[0;34m\u001b[0m\u001b[0;34m\u001b[0m\u001b[0m\n\u001b[1;32m    112\u001b[0m         \u001b[0;32mexcept\u001b[0m \u001b[0mNameError\u001b[0m\u001b[0;34m:\u001b[0m\u001b[0;34m\u001b[0m\u001b[0;34m\u001b[0m\u001b[0m\n\u001b[0;32m--> 113\u001b[0;31m             \u001b[0;32mraise\u001b[0m \u001b[0mException\u001b[0m\u001b[0;34m(\u001b[0m\u001b[0;34m'Install MeCab in order to use it: http://konlpy.org/en/latest/install/'\u001b[0m\u001b[0;34m)\u001b[0m\u001b[0;34m\u001b[0m\u001b[0;34m\u001b[0m\u001b[0m\n\u001b[0m\u001b[1;32m    114\u001b[0m \u001b[0;34m\u001b[0m\u001b[0m\n\u001b[1;32m    115\u001b[0m     \u001b[0;32mdef\u001b[0m \u001b[0m__setstate__\u001b[0m\u001b[0;34m(\u001b[0m\u001b[0mself\u001b[0m\u001b[0;34m,\u001b[0m \u001b[0mstate\u001b[0m\u001b[0;34m)\u001b[0m\u001b[0;34m:\u001b[0m\u001b[0;34m\u001b[0m\u001b[0;34m\u001b[0m\u001b[0m\n",
      "\u001b[0;31mException\u001b[0m: Install MeCab in order to use it: http://konlpy.org/en/latest/install/"
     ]
    }
   ],
   "source": [
    "mecab = Mecab()"
   ]
  },
  {
   "cell_type": "code",
   "execution_count": 61,
   "metadata": {},
   "outputs": [
    {
     "data": {
      "text/plain": [
       "[('전기', 'NNG'),\n",
       " ('장판', 'NNG'),\n",
       " ('문제', 'NNG'),\n",
       " ('지적', 'NNG'),\n",
       " ('드리', 'VX'),\n",
       " ('전하', 'VV'),\n",
       " ('조심', 'NNG'),\n",
       " ('온도', 'NNG'),\n",
       " ('맞추', 'VV'),\n",
       " ('사용', 'NNG'),\n",
       " ('모르', 'VV'),\n",
       " ('사이', 'NNG'),\n",
       " ('화상', 'NNG')]"
      ]
     },
     "execution_count": 61,
     "metadata": {},
     "output_type": "execute_result"
    }
   ],
   "source": [
    "[(tok,p)for tok, p in mecab.predict(text) if ((p[0]=='N') or (p[0]=='V')) and (len(tok) > 1)]"
   ]
  },
  {
   "cell_type": "code",
   "execution_count": null,
   "metadata": {},
   "outputs": [],
   "source": []
  },
  {
   "cell_type": "code",
   "execution_count": 21,
   "metadata": {},
   "outputs": [],
   "source": [
    "text = \"전기장판의 문제점 여러번 지적해드렸습니다만, 잘 쓰면 안전하고 따뜻하고 다 좋은데 단지 조심할 게 많습니다. 온도를 낮게 맞춰놔도 너무 오래 사용하면 나도 모르는 사이에 화상을 입을 수 있습니다.\""
   ]
  },
  {
   "cell_type": "code",
   "execution_count": 7,
   "metadata": {},
   "outputs": [],
   "source": [
    "_text = text\n",
    "tokens = tokenizer.morphs(text)"
   ]
  },
  {
   "cell_type": "code",
   "execution_count": 10,
   "metadata": {},
   "outputs": [],
   "source": [
    "indices = []\n",
    "offset = 0\n",
    "for tok in tokens:\n",
    "    start = _text.index(tok)\n",
    "    indices.append((\n",
    "        offset + start,\n",
    "        offset + start + len(tok)\n",
    "    ))\n",
    "    offset += start + len(tok)\n",
    "    _text = _text[start + len(tok):]\n",
    "    \n",
    "    \n",
    "    "
   ]
  },
  {
   "cell_type": "code",
   "execution_count": 14,
   "metadata": {},
   "outputs": [
    {
     "name": "stdout",
     "output_type": "stream",
     "text": [
      "전기장판 전기장판\n",
      "의 의\n",
      "문제점 문제점\n",
      "여러 여러\n",
      "번 번\n",
      "지적 지적\n",
      "해드렸습니다만 해드렸습니다만\n",
      ", ,\n",
      "잘 잘\n",
      "쓰면 쓰면\n",
      "안전하고 안전하고\n",
      "따뜻하고 따뜻하고\n",
      "다 다\n",
      "좋은데 좋은데\n",
      "단지 단지\n",
      "조심할 조심할\n",
      "게 게\n",
      "많습니다 많습니다\n",
      ". .\n",
      "온도 온도\n",
      "를 를\n",
      "낮게 낮게\n",
      "맞춰 맞춰\n",
      "놔도 놔도\n",
      "너무 너무\n",
      "오래 오래\n",
      "사용 사용\n",
      "하면 하면\n",
      "나도 나도\n",
      "모르는 모르는\n",
      "사이 사이\n",
      "에 에\n",
      "화상 화상\n",
      "을 을\n",
      "입 입\n",
      "을 을\n",
      "수 수\n",
      "있습니다 있습니다\n",
      ". .\n"
     ]
    }
   ],
   "source": [
    "for (b, e),tok in zip(indices,tokens):\n",
    "    print(text[b:e], tok)\n",
    "    "
   ]
  },
  {
   "cell_type": "code",
   "execution_count": 11,
   "metadata": {},
   "outputs": [
    {
     "data": {
      "text/plain": [
       "[(0, 4),\n",
       " (4, 5),\n",
       " (6, 9),\n",
       " (10, 12),\n",
       " (12, 13),\n",
       " (14, 16),\n",
       " (16, 23),\n",
       " (23, 24),\n",
       " (25, 26),\n",
       " (27, 29),\n",
       " (30, 34),\n",
       " (35, 39),\n",
       " (40, 41),\n",
       " (42, 45),\n",
       " (46, 48),\n",
       " (49, 52),\n",
       " (53, 54),\n",
       " (55, 59),\n",
       " (59, 60),\n",
       " (61, 63),\n",
       " (63, 64),\n",
       " (65, 67),\n",
       " (68, 70),\n",
       " (70, 72),\n",
       " (73, 75),\n",
       " (76, 78),\n",
       " (79, 81),\n",
       " (81, 83),\n",
       " (84, 86),\n",
       " (87, 90),\n",
       " (91, 93),\n",
       " (93, 94),\n",
       " (95, 97),\n",
       " (97, 98),\n",
       " (99, 100),\n",
       " (100, 101),\n",
       " (102, 103),\n",
       " (104, 108),\n",
       " (108, 109)]"
      ]
     },
     "execution_count": 11,
     "metadata": {},
     "output_type": "execute_result"
    }
   ],
   "source": [
    "indices"
   ]
  },
  {
   "cell_type": "code",
   "execution_count": null,
   "metadata": {},
   "outputs": [],
   "source": []
  },
  {
   "cell_type": "code",
   "execution_count": null,
   "metadata": {},
   "outputs": [],
   "source": []
  },
  {
   "cell_type": "code",
   "execution_count": null,
   "metadata": {},
   "outputs": [],
   "source": [
    "def alignment(text, token):\n",
    "    _text = text.copy()\n",
    "    text.index(token)"
   ]
  },
  {
   "cell_type": "code",
   "execution_count": 8,
   "metadata": {},
   "outputs": [],
   "source": [
    "import kss"
   ]
  },
  {
   "cell_type": "code",
   "execution_count": 24,
   "metadata": {},
   "outputs": [
    {
     "data": {
      "text/plain": [
       "['조아요.', '조아요.', '저이여. 너무좋네요~ 개좋아요~']"
      ]
     },
     "execution_count": 24,
     "metadata": {},
     "output_type": "execute_result"
    }
   ],
   "source": [
    "kss.split_sentences('조아요. 조아요. 저이여. 너무좋네요~ 개좋아요~')"
   ]
  },
  {
   "cell_type": "code",
   "execution_count": 150,
   "metadata": {},
   "outputs": [
    {
     "data": {
      "text/plain": [
       "src.textanalyzer.data_utils.Doc"
      ]
     },
     "execution_count": 150,
     "metadata": {},
     "output_type": "execute_result"
    }
   ],
   "source": []
  },
  {
   "cell_type": "markdown",
   "metadata": {},
   "source": [
    "def alignment:\n",
    "    \"\"\"alignment 함수 정의\"\"\"\n",
    "    pass\n",
    "\n",
    "n_jobs로 멀티프로세싱 정의"
   ]
  },
  {
   "cell_type": "code",
   "execution_count": null,
   "metadata": {},
   "outputs": [],
   "source": [
    ".... 파이프..."
   ]
  },
  {
   "cell_type": "code",
   "execution_count": 151,
   "metadata": {},
   "outputs": [],
   "source": [
    "from multiprocessing import Pool"
   ]
  },
  {
   "cell_type": "code",
   "execution_count": 152,
   "metadata": {},
   "outputs": [
    {
     "data": {
      "text/plain": [
       "<bound method BaseContext.Pool of <multiprocessing.context.DefaultContext object at 0x7f7d40887c90>>"
      ]
     },
     "execution_count": 152,
     "metadata": {},
     "output_type": "execute_result"
    }
   ],
   "source": [
    "Pool()"
   ]
  },
  {
   "cell_type": "code",
   "execution_count": null,
   "metadata": {},
   "outputs": [],
   "source": [
    "import random\n",
    "\n",
    "hash = random.getrandbits(128)"
   ]
  },
  {
   "cell_type": "code",
   "execution_count": 11,
   "metadata": {},
   "outputs": [
    {
     "data": {
      "text/plain": [
       "-4028133196028553870"
      ]
     },
     "execution_count": 11,
     "metadata": {},
     "output_type": "execute_result"
    }
   ],
   "source": [
    "hash('시바')"
   ]
  },
  {
   "cell_type": "code",
   "execution_count": 12,
   "metadata": {},
   "outputs": [
    {
     "data": {
      "text/plain": [
       "-4028133196028553870"
      ]
     },
     "execution_count": 12,
     "metadata": {},
     "output_type": "execute_result"
    }
   ],
   "source": [
    "hash('시바')"
   ]
  },
  {
   "cell_type": "code",
   "execution_count": 116,
   "metadata": {},
   "outputs": [],
   "source": [
    "import hashlib"
   ]
  },
  {
   "cell_type": "code",
   "execution_count": 148,
   "metadata": {},
   "outputs": [
    {
     "data": {
      "text/plain": [
       "'e2e4d356614f331ba93fdfb7633e19e800971f83'"
      ]
     },
     "execution_count": 148,
     "metadata": {},
     "output_type": "execute_result"
    }
   ],
   "source": [
    "tmp = hashlib.sha1()\n",
    "tmp.update(str(time.time()).encode())\n",
    "tmp.hexdigest()"
   ]
  },
  {
   "cell_type": "code",
   "execution_count": 128,
   "metadata": {},
   "outputs": [
    {
     "data": {
      "text/plain": [
       "'da39a3ee5e6b4b0d3255bfef95601890afd80709'"
      ]
     },
     "execution_count": 128,
     "metadata": {},
     "output_type": "execute_result"
    }
   ],
   "source": [
    "tmp.hexdigest()"
   ]
  },
  {
   "cell_type": "code",
   "execution_count": 15,
   "metadata": {},
   "outputs": [],
   "source": [
    "import hashlib\n",
    "import time\n",
    "\n",
    "hash_key = hashlib.sha1()\n",
    "hash_key.update(str(time.time()).encode())"
   ]
  },
  {
   "cell_type": "code",
   "execution_count": 26,
   "metadata": {},
   "outputs": [
    {
     "data": {
      "text/plain": [
       "8911405456116366526"
      ]
     },
     "execution_count": 26,
     "metadata": {},
     "output_type": "execute_result"
    }
   ],
   "source": [
    "hash(str(time.time()))"
   ]
  },
  {
   "cell_type": "code",
   "execution_count": 35,
   "metadata": {},
   "outputs": [],
   "source": [
    "from pytz import timezone, utc"
   ]
  },
  {
   "cell_type": "code",
   "execution_count": 36,
   "metadata": {},
   "outputs": [],
   "source": [
    "from datetime import datetime"
   ]
  },
  {
   "cell_type": "code",
   "execution_count": null,
   "metadata": {},
   "outputs": [],
   "source": []
  },
  {
   "cell_type": "code",
   "execution_count": 114,
   "metadata": {},
   "outputs": [],
   "source": [
    "KST = timezone('Asia/Seoul')\n",
    "now = datetime.utcnow()\n",
    "today = utc.localize(now).astimezone(KST)"
   ]
  },
  {
   "cell_type": "code",
   "execution_count": 115,
   "metadata": {},
   "outputs": [
    {
     "data": {
      "text/plain": [
       "'20210218-151409-889146'"
      ]
     },
     "execution_count": 115,
     "metadata": {},
     "output_type": "execute_result"
    }
   ],
   "source": [
    "today.strftime('%Y%m%d-%H%M%S-%f')"
   ]
  },
  {
   "cell_type": "code",
   "execution_count": 14,
   "metadata": {},
   "outputs": [
    {
     "data": {
      "text/plain": [
       "'1613628262.8258936'"
      ]
     },
     "execution_count": 14,
     "metadata": {},
     "output_type": "execute_result"
    }
   ],
   "source": [
    "str(time.time())"
   ]
  },
  {
   "cell_type": "markdown",
   "metadata": {},
   "source": [
    "# 기본 툴 변형"
   ]
  },
  {
   "cell_type": "code",
   "execution_count": 1,
   "metadata": {},
   "outputs": [],
   "source": [
    "from src.textanalyzer import Token, Doc"
   ]
  },
  {
   "cell_type": "code",
   "execution_count": 2,
   "metadata": {},
   "outputs": [
    {
     "data": {
      "text/plain": [
       "src.textanalyzer.data_utils.Token"
      ]
     },
     "execution_count": 2,
     "metadata": {},
     "output_type": "execute_result"
    }
   ],
   "source": [
    "Token()"
   ]
  },
  {
   "cell_type": "code",
   "execution_count": 3,
   "metadata": {},
   "outputs": [
    {
     "data": {
      "text/plain": [
       "src.textanalyzer.data_utils.Doc"
      ]
     },
     "execution_count": 3,
     "metadata": {},
     "output_type": "execute_result"
    }
   ],
   "source": [
    "Doc()"
   ]
  },
  {
   "cell_type": "code",
   "execution_count": null,
   "metadata": {},
   "outputs": [],
   "source": []
  },
  {
   "cell_type": "markdown",
   "metadata": {},
   "source": [
    "# 한글"
   ]
  },
  {
   "cell_type": "code",
   "execution_count": 1,
   "metadata": {},
   "outputs": [],
   "source": [
    "import pandas as pd\n",
    "from pathlib import Path\n",
    "from itertools import chain\n",
    "from src.textanalyzer import SoynlpTokenization, SoynlpTCG\n",
    "\n",
    "path = Path('../ap-social-miner-v1/data')\n",
    "tokenizer = SoynlpTokenization(tokenizer_dir='../ap-social-miner-v1/model/soynlp-ver0.0.1')\n",
    "tcg = SoynlpTCG(ngram=3)"
   ]
  },
  {
   "cell_type": "code",
   "execution_count": 2,
   "metadata": {},
   "outputs": [],
   "source": [
    "## pandas\n",
    "doc = pd.concat([pd.read_csv(fn).loc[:,\"Mention Id\":] for fn in path.glob('dataset-sulwhasoo-ko-*.csv')]).reset_index(drop=True)"
   ]
  },
  {
   "cell_type": "code",
   "execution_count": 3,
   "metadata": {},
   "outputs": [],
   "source": [
    "mention_title = doc['Mention Title'].fillna('')\n",
    "mention_content = doc['Mention Content'].fillna('')"
   ]
  },
  {
   "cell_type": "code",
   "execution_count": 4,
   "metadata": {},
   "outputs": [
    {
     "ename": "TypeError",
     "evalue": "__init__() got an unexpected keyword argument 'pos'",
     "output_type": "error",
     "traceback": [
      "\u001b[0;31m\u001b[0m",
      "\u001b[0;31mTypeError\u001b[0mTraceback (most recent call last)",
      "\u001b[0;32m<ipython-input-4-66a47d575f50>\u001b[0m in \u001b[0;36m<module>\u001b[0;34m\u001b[0m\n\u001b[0;32m----> 1\u001b[0;31m \u001b[0mtitle\u001b[0m \u001b[0;34m=\u001b[0m \u001b[0mlist\u001b[0m\u001b[0;34m(\u001b[0m\u001b[0mchain\u001b[0m\u001b[0;34m(\u001b[0m\u001b[0;34m*\u001b[0m\u001b[0mmap\u001b[0m\u001b[0;34m(\u001b[0m\u001b[0;32mlambda\u001b[0m \u001b[0mx\u001b[0m\u001b[0;34m:\u001b[0m \u001b[0mtcg\u001b[0m\u001b[0;34m(\u001b[0m\u001b[0mtokenizer\u001b[0m\u001b[0;34m(\u001b[0m\u001b[0mx\u001b[0m\u001b[0;34m)\u001b[0m\u001b[0;34m)\u001b[0m\u001b[0;34m.\u001b[0m\u001b[0mcandidates\u001b[0m\u001b[0;34m[\u001b[0m\u001b[0;36m0\u001b[0m\u001b[0;34m]\u001b[0m\u001b[0;34m,\u001b[0m \u001b[0mmention_title\u001b[0m\u001b[0;34m)\u001b[0m\u001b[0;34m)\u001b[0m\u001b[0;34m)\u001b[0m\u001b[0;34m\u001b[0m\u001b[0;34m\u001b[0m\u001b[0m\n\u001b[0m\u001b[1;32m      2\u001b[0m \u001b[0mcontent\u001b[0m \u001b[0;34m=\u001b[0m \u001b[0mlist\u001b[0m\u001b[0;34m(\u001b[0m\u001b[0mchain\u001b[0m\u001b[0;34m(\u001b[0m\u001b[0;34m*\u001b[0m\u001b[0mmap\u001b[0m\u001b[0;34m(\u001b[0m\u001b[0;32mlambda\u001b[0m \u001b[0mx\u001b[0m\u001b[0;34m:\u001b[0m \u001b[0mtcg\u001b[0m\u001b[0;34m(\u001b[0m\u001b[0mtokenizer\u001b[0m\u001b[0;34m(\u001b[0m\u001b[0mx\u001b[0m\u001b[0;34m)\u001b[0m\u001b[0;34m)\u001b[0m\u001b[0;34m.\u001b[0m\u001b[0mcandidates\u001b[0m\u001b[0;34m[\u001b[0m\u001b[0;36m0\u001b[0m\u001b[0;34m]\u001b[0m\u001b[0;34m,\u001b[0m \u001b[0mmention_content\u001b[0m\u001b[0;34m)\u001b[0m\u001b[0;34m)\u001b[0m\u001b[0;34m)\u001b[0m\u001b[0;34m\u001b[0m\u001b[0;34m\u001b[0m\u001b[0m\n",
      "\u001b[0;32m<ipython-input-4-66a47d575f50>\u001b[0m in \u001b[0;36m<lambda>\u001b[0;34m(x)\u001b[0m\n\u001b[0;32m----> 1\u001b[0;31m \u001b[0mtitle\u001b[0m \u001b[0;34m=\u001b[0m \u001b[0mlist\u001b[0m\u001b[0;34m(\u001b[0m\u001b[0mchain\u001b[0m\u001b[0;34m(\u001b[0m\u001b[0;34m*\u001b[0m\u001b[0mmap\u001b[0m\u001b[0;34m(\u001b[0m\u001b[0;32mlambda\u001b[0m \u001b[0mx\u001b[0m\u001b[0;34m:\u001b[0m \u001b[0mtcg\u001b[0m\u001b[0;34m(\u001b[0m\u001b[0mtokenizer\u001b[0m\u001b[0;34m(\u001b[0m\u001b[0mx\u001b[0m\u001b[0;34m)\u001b[0m\u001b[0;34m)\u001b[0m\u001b[0;34m.\u001b[0m\u001b[0mcandidates\u001b[0m\u001b[0;34m[\u001b[0m\u001b[0;36m0\u001b[0m\u001b[0;34m]\u001b[0m\u001b[0;34m,\u001b[0m \u001b[0mmention_title\u001b[0m\u001b[0;34m)\u001b[0m\u001b[0;34m)\u001b[0m\u001b[0;34m)\u001b[0m\u001b[0;34m\u001b[0m\u001b[0;34m\u001b[0m\u001b[0m\n\u001b[0m\u001b[1;32m      2\u001b[0m \u001b[0mcontent\u001b[0m \u001b[0;34m=\u001b[0m \u001b[0mlist\u001b[0m\u001b[0;34m(\u001b[0m\u001b[0mchain\u001b[0m\u001b[0;34m(\u001b[0m\u001b[0;34m*\u001b[0m\u001b[0mmap\u001b[0m\u001b[0;34m(\u001b[0m\u001b[0;32mlambda\u001b[0m \u001b[0mx\u001b[0m\u001b[0;34m:\u001b[0m \u001b[0mtcg\u001b[0m\u001b[0;34m(\u001b[0m\u001b[0mtokenizer\u001b[0m\u001b[0;34m(\u001b[0m\u001b[0mx\u001b[0m\u001b[0;34m)\u001b[0m\u001b[0;34m)\u001b[0m\u001b[0;34m.\u001b[0m\u001b[0mcandidates\u001b[0m\u001b[0;34m[\u001b[0m\u001b[0;36m0\u001b[0m\u001b[0;34m]\u001b[0m\u001b[0;34m,\u001b[0m \u001b[0mmention_content\u001b[0m\u001b[0;34m)\u001b[0m\u001b[0;34m)\u001b[0m\u001b[0;34m)\u001b[0m\u001b[0;34m\u001b[0m\u001b[0;34m\u001b[0m\u001b[0m\n",
      "\u001b[0;32m~/textanalyzer/src/textanalyzer/process_utils.py\u001b[0m in \u001b[0;36m__call__\u001b[0;34m(self, doc, use_alignment)\u001b[0m\n\u001b[1;32m     49\u001b[0m             \u001b[0;32mif\u001b[0m \u001b[0mpreprocessed_text\u001b[0m\u001b[0;34m:\u001b[0m\u001b[0;34m\u001b[0m\u001b[0;34m\u001b[0m\u001b[0m\n\u001b[1;32m     50\u001b[0m                 \u001b[0mtokens\u001b[0m\u001b[0;34m,\u001b[0m \u001b[0mpos\u001b[0m \u001b[0;34m=\u001b[0m \u001b[0mself\u001b[0m\u001b[0;34m.\u001b[0m\u001b[0mtokenize\u001b[0m\u001b[0;34m(\u001b[0m\u001b[0mpreprocessed_text\u001b[0m\u001b[0;34m)\u001b[0m\u001b[0;34m\u001b[0m\u001b[0;34m\u001b[0m\u001b[0m\n\u001b[0;32m---> 51\u001b[0;31m                 \u001b[0mtokens\u001b[0m \u001b[0;34m=\u001b[0m \u001b[0;34m[\u001b[0m\u001b[0mToken\u001b[0m\u001b[0;34m(\u001b[0m\u001b[0mDocId\u001b[0m\u001b[0;34m=\u001b[0m\u001b[0mId\u001b[0m\u001b[0;34m,\u001b[0m \u001b[0mtext\u001b[0m\u001b[0;34m=\u001b[0m\u001b[0mtok\u001b[0m\u001b[0;34m,\u001b[0m \u001b[0mpos\u001b[0m\u001b[0;34m=\u001b[0m\u001b[0mp\u001b[0m\u001b[0;34m)\u001b[0m \u001b[0;32mfor\u001b[0m \u001b[0mtok\u001b[0m\u001b[0;34m,\u001b[0m \u001b[0mp\u001b[0m \u001b[0;32min\u001b[0m \u001b[0mzip\u001b[0m\u001b[0;34m(\u001b[0m\u001b[0mtokens\u001b[0m\u001b[0;34m,\u001b[0m \u001b[0mpos\u001b[0m\u001b[0;34m)\u001b[0m\u001b[0;34m]\u001b[0m\u001b[0;34m\u001b[0m\u001b[0;34m\u001b[0m\u001b[0m\n\u001b[0m\u001b[1;32m     52\u001b[0m                 \u001b[0mtokenizable\u001b[0m \u001b[0;34m=\u001b[0m \u001b[0;32mTrue\u001b[0m\u001b[0;34m\u001b[0m\u001b[0;34m\u001b[0m\u001b[0m\n\u001b[1;32m     53\u001b[0m             \u001b[0;32melse\u001b[0m\u001b[0;34m:\u001b[0m\u001b[0;34m\u001b[0m\u001b[0;34m\u001b[0m\u001b[0m\n",
      "\u001b[0;32m~/textanalyzer/src/textanalyzer/process_utils.py\u001b[0m in \u001b[0;36m<listcomp>\u001b[0;34m(.0)\u001b[0m\n\u001b[1;32m     49\u001b[0m             \u001b[0;32mif\u001b[0m \u001b[0mpreprocessed_text\u001b[0m\u001b[0;34m:\u001b[0m\u001b[0;34m\u001b[0m\u001b[0;34m\u001b[0m\u001b[0m\n\u001b[1;32m     50\u001b[0m                 \u001b[0mtokens\u001b[0m\u001b[0;34m,\u001b[0m \u001b[0mpos\u001b[0m \u001b[0;34m=\u001b[0m \u001b[0mself\u001b[0m\u001b[0;34m.\u001b[0m\u001b[0mtokenize\u001b[0m\u001b[0;34m(\u001b[0m\u001b[0mpreprocessed_text\u001b[0m\u001b[0;34m)\u001b[0m\u001b[0;34m\u001b[0m\u001b[0;34m\u001b[0m\u001b[0m\n\u001b[0;32m---> 51\u001b[0;31m                 \u001b[0mtokens\u001b[0m \u001b[0;34m=\u001b[0m \u001b[0;34m[\u001b[0m\u001b[0mToken\u001b[0m\u001b[0;34m(\u001b[0m\u001b[0mDocId\u001b[0m\u001b[0;34m=\u001b[0m\u001b[0mId\u001b[0m\u001b[0;34m,\u001b[0m \u001b[0mtext\u001b[0m\u001b[0;34m=\u001b[0m\u001b[0mtok\u001b[0m\u001b[0;34m,\u001b[0m \u001b[0mpos\u001b[0m\u001b[0;34m=\u001b[0m\u001b[0mp\u001b[0m\u001b[0;34m)\u001b[0m \u001b[0;32mfor\u001b[0m \u001b[0mtok\u001b[0m\u001b[0;34m,\u001b[0m \u001b[0mp\u001b[0m \u001b[0;32min\u001b[0m \u001b[0mzip\u001b[0m\u001b[0;34m(\u001b[0m\u001b[0mtokens\u001b[0m\u001b[0;34m,\u001b[0m \u001b[0mpos\u001b[0m\u001b[0;34m)\u001b[0m\u001b[0;34m]\u001b[0m\u001b[0;34m\u001b[0m\u001b[0;34m\u001b[0m\u001b[0m\n\u001b[0m\u001b[1;32m     52\u001b[0m                 \u001b[0mtokenizable\u001b[0m \u001b[0;34m=\u001b[0m \u001b[0;32mTrue\u001b[0m\u001b[0;34m\u001b[0m\u001b[0;34m\u001b[0m\u001b[0m\n\u001b[1;32m     53\u001b[0m             \u001b[0;32melse\u001b[0m\u001b[0;34m:\u001b[0m\u001b[0;34m\u001b[0m\u001b[0;34m\u001b[0m\u001b[0m\n",
      "\u001b[0;31mTypeError\u001b[0m: __init__() got an unexpected keyword argument 'pos'"
     ]
    }
   ],
   "source": [
    "title = list(chain(*map(lambda x: tcg(tokenizer(x)).candidates[0], mention_title)))\n",
    "content = list(chain(*map(lambda x: tcg(tokenizer(x)).candidates[0], mention_content)))"
   ]
  },
  {
   "cell_type": "markdown",
   "metadata": {},
   "source": [
    "# 한글 okt"
   ]
  },
  {
   "cell_type": "code",
   "execution_count": 1,
   "metadata": {},
   "outputs": [],
   "source": [
    "from konlpy.tag import Okt\n",
    "okt = Okt(max_heap_size=4*1024)"
   ]
  },
  {
   "cell_type": "code",
   "execution_count": 3,
   "metadata": {},
   "outputs": [
    {
     "data": {
      "text/plain": [
       "['안녕', '이', '것', '은', 'okt']"
      ]
     },
     "execution_count": 3,
     "metadata": {},
     "output_type": "execute_result"
    }
   ],
   "source": [
    "okt.morphs('안녕 이것은 okt')"
   ]
  },
  {
   "cell_type": "code",
   "execution_count": 4,
   "metadata": {},
   "outputs": [
    {
     "data": {
      "text/plain": [
       "[('안녕', 'Noun'),\n",
       " ('이', 'Determiner'),\n",
       " ('것', 'Noun'),\n",
       " ('은', 'Josa'),\n",
       " ('okt', 'Alpha')]"
      ]
     },
     "execution_count": 4,
     "metadata": {},
     "output_type": "execute_result"
    }
   ],
   "source": [
    "okt.pos('안녕 이것은 okt')"
   ]
  },
  {
   "cell_type": "code",
   "execution_count": 12,
   "metadata": {},
   "outputs": [
    {
     "data": {
      "text/plain": [
       "[('안녕', 'Noun'),\n",
       " ('이', 'Determiner'),\n",
       " ('것', 'Noun'),\n",
       " ('은', 'Josa'),\n",
       " ('okt', 'Alpha'),\n",
       " ('입니다', 'Adjective'),\n",
       " ('.', 'Punctuation')]"
      ]
     },
     "execution_count": 12,
     "metadata": {},
     "output_type": "execute_result"
    }
   ],
   "source": [
    "okt.pos('안녕 이것은 okt입니다.')"
   ]
  },
  {
   "cell_type": "code",
   "execution_count": 8,
   "metadata": {},
   "outputs": [
    {
     "data": {
      "text/plain": [
       "['안녕', '안녕 이것', 'okt', '이것']"
      ]
     },
     "execution_count": 8,
     "metadata": {},
     "output_type": "execute_result"
    }
   ],
   "source": [
    "okt.phrases('안녕 이것은 okt')"
   ]
  },
  {
   "cell_type": "code",
   "execution_count": 1,
   "metadata": {},
   "outputs": [],
   "source": [
    "import pandas as pd\n",
    "from pathlib import Path\n",
    "from itertools import chain\n",
    "from src.textanalyzer import SoynlpTokenization, SoynlpTCG\n",
    "\n",
    "path = Path('../ap-social-miner-v1/data')\n",
    "tokenizer = SoynlpTokenization(tokenizer_dir='../ap-social-miner-v1/model/soynlp-ver0.0.1')\n",
    "tcg = SoynlpTCG(ngram=3)"
   ]
  },
  {
   "cell_type": "code",
   "execution_count": 2,
   "metadata": {},
   "outputs": [],
   "source": [
    "## pandas\n",
    "doc = pd.concat([pd.read_csv(fn).loc[:,\"Mention Id\":] for fn in path.glob('dataset-sulwhasoo-ko-*.csv')]).reset_index(drop=True)"
   ]
  },
  {
   "cell_type": "code",
   "execution_count": 3,
   "metadata": {},
   "outputs": [],
   "source": [
    "mention_title = doc['Mention Title'].fillna('')\n",
    "mention_content = doc['Mention Content'].fillna('')"
   ]
  },
  {
   "cell_type": "code",
   "execution_count": 4,
   "metadata": {},
   "outputs": [],
   "source": [
    "\n",
    "title = list(chain(*map(lambda x: tcg(tokenizer(x)).candidates[0], mention_title)))\n",
    "content = list(chain(*map(lambda x: tcg(tokenizer(x)).candidates[0], mention_content)))"
   ]
  },
  {
   "cell_type": "markdown",
   "metadata": {},
   "source": [
    "# 중국어"
   ]
  },
  {
   "cell_type": "code",
   "execution_count": 10,
   "metadata": {},
   "outputs": [],
   "source": [
    "import pandas as pd\n",
    "from pathlib import Path\n",
    "from itertools import chain\n",
    "from src.textanalyzer import LacTCG, LACTokenization\n",
    "\n",
    "tokenizer = LACTokenization()\n",
    "tcg = LacTCG(ngram=3)"
   ]
  },
  {
   "cell_type": "code",
   "execution_count": 11,
   "metadata": {},
   "outputs": [],
   "source": [
    "## pandas\n",
    "path = Path('../ap-social-miner-v1/data')\n",
    "doc = pd.concat([pd.read_csv(fn).loc[:,\"Mention Id\":] for fn in path.glob('dataset-sulwhasoo-zh-*.csv')]).reset_index(drop=True)"
   ]
  },
  {
   "cell_type": "code",
   "execution_count": 12,
   "metadata": {},
   "outputs": [],
   "source": [
    "mention_title = doc['Mention Title'].fillna('')\n",
    "mention_content = doc['Mention Content'].fillna('')"
   ]
  },
  {
   "cell_type": "code",
   "execution_count": 13,
   "metadata": {},
   "outputs": [],
   "source": [
    "from src.textanalyzer.process_utils import ZhPreprocessing"
   ]
  },
  {
   "cell_type": "code",
   "execution_count": 14,
   "metadata": {},
   "outputs": [],
   "source": [
    "processor = ZhPreprocessing()"
   ]
  },
  {
   "cell_type": "code",
   "execution_count": 15,
   "metadata": {},
   "outputs": [],
   "source": [
    "title = list(chain(*map(lambda x: tcg(tokenizer(x)).candidates[0], mention_title)))\n",
    "content = list(chain(*map(lambda x: tcg(tokenizer(x)).candidates[0], mention_content)))"
   ]
  },
  {
   "cell_type": "code",
   "execution_count": 9,
   "metadata": {},
   "outputs": [
    {
     "data": {
      "text/plain": [
       "Token(DocId=None, text='50ml', pos='m')"
      ]
     },
     "execution_count": 9,
     "metadata": {},
     "output_type": "execute_result"
    }
   ],
   "source": [
    "content[1]"
   ]
  },
  {
   "cell_type": "markdown",
   "metadata": {},
   "source": [
    "---"
   ]
  },
  {
   "cell_type": "markdown",
   "metadata": {},
   "source": [
    "### null data check"
   ]
  },
  {
   "cell_type": "code",
   "execution_count": 34,
   "metadata": {},
   "outputs": [],
   "source": [
    "mention_title_positive = ''\n",
    "\n",
    "\n",
    "# mention_title_positive_unigram = list(chain(*map(lambda x: self.tcg(self.tokenizer(x)).candidates[0])))"
   ]
  },
  {
   "cell_type": "code",
   "execution_count": 5,
   "metadata": {},
   "outputs": [],
   "source": [
    "from itertools import chain"
   ]
  },
  {
   "cell_type": "code",
   "execution_count": 35,
   "metadata": {},
   "outputs": [],
   "source": [
    "mention_title_positive_unigram = tcg(tokenizer(mention_title_positive)).candidates[0]"
   ]
  },
  {
   "cell_type": "code",
   "execution_count": 36,
   "metadata": {},
   "outputs": [
    {
     "data": {
      "text/plain": [
       "[]"
      ]
     },
     "execution_count": 36,
     "metadata": {},
     "output_type": "execute_result"
    }
   ],
   "source": [
    "mention_title_positive_unigram"
   ]
  },
  {
   "cell_type": "code",
   "execution_count": 41,
   "metadata": {},
   "outputs": [
    {
     "data": {
      "text/plain": [
       "['시발▁배가', '배가▁고프다']"
      ]
     },
     "execution_count": 41,
     "metadata": {},
     "output_type": "execute_result"
    }
   ],
   "source": [
    "list(map(lambda x: '▁'.join(x), tcg._ngram(['시발', '배가', '고프다'], n=2)))"
   ]
  },
  {
   "cell_type": "code",
   "execution_count": 31,
   "metadata": {},
   "outputs": [
    {
     "data": {
      "text/plain": [
       "[Token(DocId=None, text='이게', pos='L'),\n",
       " Token(DocId=None, text='갱이여', pos='L'),\n",
       " Token(DocId=None, text='뭐여', pos='L')]"
      ]
     },
     "execution_count": 31,
     "metadata": {},
     "output_type": "execute_result"
    }
   ],
   "source": [
    "mention_title_positive_unigram"
   ]
  },
  {
   "cell_type": "code",
   "execution_count": 32,
   "metadata": {},
   "outputs": [],
   "source": [
    "mention_title_positive_unigram = list(map(lambda x:x.text, mention_title_positive_unigram))"
   ]
  },
  {
   "cell_type": "code",
   "execution_count": 33,
   "metadata": {},
   "outputs": [
    {
     "data": {
      "text/plain": [
       "['이게', '갱이여', '뭐여']"
      ]
     },
     "execution_count": 33,
     "metadata": {},
     "output_type": "execute_result"
    }
   ],
   "source": [
    "mention_title_positive_unigram"
   ]
  },
  {
   "cell_type": "code",
   "execution_count": 17,
   "metadata": {},
   "outputs": [],
   "source": [
    "mention_title_positive_bigram = ' '.join(map(lambda x: '▁'.join(x), tcg._ngram(mention_title_positive_unigram, n=2)))"
   ]
  },
  {
   "cell_type": "code",
   "execution_count": 28,
   "metadata": {},
   "outputs": [
    {
     "data": {
      "text/plain": [
       "'계속▁스킨 스킨▁비교 비교▁매일 매일▁피부 피부▁진단 진단▁닥터 닥터▁실랩을 실랩을▁사용 사용▁지 지▁20일이 20일이▁경과 경과▁SK SK▁비해 비해▁모공 모공▁좋다 좋다▁그리고 그리고▁촉감이 촉감이▁매끄러워진 매끄러워진▁것 것▁같아 같아▁하지만 하지만▁감각적 감각적▁평가 평가▁알 알▁수 수▁없기 없기▁때문 때문▁피부 피부▁진단 진단▁결과 결과▁보고 보고▁판단 판단▁피부 피부▁결과 결과▁매주(일요일 매주(일요일▁오전 오전▁갱신 갱신▁예정'"
      ]
     },
     "execution_count": 28,
     "metadata": {},
     "output_type": "execute_result"
    }
   ],
   "source": [
    "mention_title_positive_bigram"
   ]
  },
  {
   "cell_type": "code",
   "execution_count": null,
   "metadata": {},
   "outputs": [],
   "source": [
    "mention_title_positive_unigram"
   ]
  },
  {
   "cell_type": "code",
   "execution_count": 19,
   "metadata": {},
   "outputs": [],
   "source": [
    "mention_title_positive_unigram = ' '.join(mention_title_positive_unigram)"
   ]
  },
  {
   "cell_type": "code",
   "execution_count": 42,
   "metadata": {},
   "outputs": [
    {
     "ename": "NameError",
     "evalue": "name 'heeloo' is not defined",
     "output_type": "error",
     "traceback": [
      "\u001b[0;31m\u001b[0m",
      "\u001b[0;31mNameError\u001b[0mTraceback (most recent call last)",
      "\u001b[0;32m<ipython-input-42-939faf93946c>\u001b[0m in \u001b[0;36m<module>\u001b[0;34m\u001b[0m\n\u001b[0;32m----> 1\u001b[0;31m \u001b[0meval\u001b[0m\u001b[0;34m(\u001b[0m\u001b[0mheeloo\u001b[0m\u001b[0;34m)\u001b[0m\u001b[0;34m\u001b[0m\u001b[0;34m\u001b[0m\u001b[0m\n\u001b[0m",
      "\u001b[0;31mNameError\u001b[0m: name 'heeloo' is not defined"
     ]
    }
   ],
   "source": [
    "eval()"
   ]
  },
  {
   "cell_type": "code",
   "execution_count": null,
   "metadata": {},
   "outputs": [],
   "source": [
    "mention_title_positive_unigram = list(chain(*map(lambda x: self.tcg(self.tokenizer(x)).candidates[0], mention_title_positive)))\n",
    "mention_title_positive_unigram = list(map(lambda x:x.text, mention_title_positive_unigram))\n",
    "mention_title_positive_bigram = ' '.join(map(lambda x: '▁'.join(x), self._ngram(mention_title_positive_unigram, n=2)))\n",
    "            \n",
    "        else:\n",
    "            mention_title_positive_unigram = ''\n",
    "            mention_title_positive_bigram = ''"
   ]
  },
  {
   "cell_type": "code",
   "execution_count": 47,
   "metadata": {},
   "outputs": [
    {
     "data": {
      "text/plain": [
       "[]"
      ]
     },
     "execution_count": 47,
     "metadata": {},
     "output_type": "execute_result"
    }
   ],
   "source": [
    "tcg._ngram([], n=3)"
   ]
  },
  {
   "cell_type": "code",
   "execution_count": 50,
   "metadata": {},
   "outputs": [
    {
     "data": {
      "text/plain": [
       "''"
      ]
     },
     "execution_count": 50,
     "metadata": {},
     "output_type": "execute_result"
    }
   ],
   "source": [
    "' '.join(list(map(lambda x: '_'.join(x), [])))"
   ]
  },
  {
   "cell_type": "code",
   "execution_count": 43,
   "metadata": {},
   "outputs": [
    {
     "data": {
      "text/plain": [
       "''"
      ]
     },
     "execution_count": 43,
     "metadata": {},
     "output_type": "execute_result"
    }
   ],
   "source": [
    "' '.join([])"
   ]
  },
  {
   "cell_type": "markdown",
   "metadata": {},
   "source": [
    "- 배포하고, transform 로직 바꾸자."
   ]
  },
  {
   "cell_type": "markdown",
   "metadata": {},
   "source": [
    "- 명사만 추출, soy + flashtext"
   ]
  },
  {
   "cell_type": "code",
   "execution_count": null,
   "metadata": {},
   "outputs": [],
   "source": []
  },
  {
   "cell_type": "code",
   "execution_count": null,
   "metadata": {},
   "outputs": [],
   "source": []
  },
  {
   "cell_type": "code",
   "execution_count": null,
   "metadata": {},
   "outputs": [],
   "source": []
  },
  {
   "cell_type": "code",
   "execution_count": 134,
   "metadata": {},
   "outputs": [],
   "source": [
    "import pickle\n",
    "import soynlp"
   ]
  },
  {
   "cell_type": "code",
   "execution_count": 138,
   "metadata": {},
   "outputs": [],
   "source": [
    "tokenizer_dir = '../soynlp-ver0.0.1'"
   ]
  },
  {
   "cell_type": "code",
   "execution_count": 141,
   "metadata": {},
   "outputs": [],
   "source": [
    "import pandas as pd"
   ]
  },
  {
   "cell_type": "code",
   "execution_count": 142,
   "metadata": {},
   "outputs": [],
   "source": [
    "add_scores = pd.read_csv(f'{tokenizer_dir}/token_dict.csv', encoding='utf-8', header=None)\n",
    "add_scores = dict(zip(add_scores[0], add_scores[1]))"
   ]
  },
  {
   "cell_type": "code",
   "execution_count": 144,
   "metadata": {},
   "outputs": [],
   "source": [
    "with open(f'{tokenizer_dir}/words.p', 'rb') as rf:\n",
    "    words = pickle.load(rf)    \n",
    "    cohesion_score = {word: score.cohesion_forward for word, score in words.items()}\n",
    "    cohesion_score.update(add_scores)\n",
    "    cohesion_score = {k: v for k, v in sorted(cohesion_score.items(), key=lambda item: item[1], reverse=True) if v > 0}\n",
    "            \n",
    "with open(f'{tokenizer_dir}/nouns.p', 'rb') as rf:\n",
    "    nouns = pickle.load(rf)\n",
    "    noun_score = {noun: score.score for noun, score in nouns.items()}\n",
    "    noun_score.update(add_scores)\n",
    "    noun_cohesion_score = {noun: score + cohesion_score.get(noun, 0) for noun, score in noun_score.items()} \n",
    "    noun_cohesion_score = {k: v for k, v in sorted(noun_cohesion_score.items(), key=lambda item: item[1], reverse=True) if v > 0}"
   ]
  },
  {
   "cell_type": "code",
   "execution_count": 145,
   "metadata": {},
   "outputs": [],
   "source": [
    "from soynlp.noun import LRNounExtractor_v2"
   ]
  },
  {
   "cell_type": "code",
   "execution_count": 146,
   "metadata": {},
   "outputs": [],
   "source": [
    "from soynlp.tokenizer import LTokenizer"
   ]
  },
  {
   "cell_type": "code",
   "execution_count": 148,
   "metadata": {},
   "outputs": [],
   "source": [
    "tokenizer = LTokenizer(scores=noun_cohesion_score)"
   ]
  },
  {
   "cell_type": "code",
   "execution_count": 150,
   "metadata": {},
   "outputs": [],
   "source": [
    "from pororo import Pororo"
   ]
  },
  {
   "cell_type": "code",
   "execution_count": 151,
   "metadata": {},
   "outputs": [
    {
     "name": "stderr",
     "output_type": "stream",
     "text": [
      "\n"
     ]
    },
    {
     "name": "stdout",
     "output_type": "stream",
     "text": [
      "As of now, this beta model tries to correct spacing errors in Korean text.\n"
     ]
    }
   ],
   "source": [
    "spacing= Pororo(task=\"gec\", lang=\"ko\")"
   ]
  },
  {
   "cell_type": "code",
   "execution_count": 170,
   "metadata": {},
   "outputs": [
    {
     "data": {
      "text/plain": [
       "'유튜버 추천으로 샀댕~!'"
      ]
     },
     "execution_count": 170,
     "metadata": {},
     "output_type": "execute_result"
    }
   ],
   "source": [
    "spacing('유튜버 추천으로 샀댕~!')"
   ]
  },
  {
   "cell_type": "code",
   "execution_count": 3,
   "metadata": {},
   "outputs": [],
   "source": []
  },
  {
   "cell_type": "code",
   "execution_count": null,
   "metadata": {},
   "outputs": [],
   "source": [
    "ali"
   ]
  },
  {
   "cell_type": "code",
   "execution_count": null,
   "metadata": {},
   "outputs": [],
   "source": []
  },
  {
   "cell_type": "markdown",
   "metadata": {},
   "source": [
    "---"
   ]
  },
  {
   "cell_type": "code",
   "execution_count": 14,
   "metadata": {},
   "outputs": [],
   "source": [
    "from cProfile import Profile"
   ]
  },
  {
   "cell_type": "code",
   "execution_count": 16,
   "metadata": {},
   "outputs": [],
   "source": [
    "profiler = Profile()"
   ]
  },
  {
   "cell_type": "code",
   "execution_count": 17,
   "metadata": {},
   "outputs": [],
   "source": [
    "from src.textanalyzer import MecabTokenization"
   ]
  },
  {
   "cell_type": "code",
   "execution_count": 18,
   "metadata": {},
   "outputs": [],
   "source": [
    "tokenizer = MecabTokenization(custom_dir='/root/custom_dict')"
   ]
  },
  {
   "cell_type": "code",
   "execution_count": 22,
   "metadata": {},
   "outputs": [],
   "source": [
    "docs = ['봄맞이 더블웨어 스페셜 위크 베스트 파운데이션 구매 시 쿠션 정품 추가 증정!']"
   ]
  },
  {
   "cell_type": "code",
   "execution_count": 23,
   "metadata": {},
   "outputs": [
    {
     "data": {
      "text/plain": [
       "Doc(Id='20210302-094230-469955', text='봄맞이 더블웨어 스페셜 위크 베스트 파운데이션 구매 시 쿠션 정품 추가 증정!', Tokens=[Token(DocId='20210302-094230-469955', offset=0, start=0, end=3, text='봄맞이'), Token(DocId='20210302-094230-469955', offset=1, start=4, end=8, text='더블웨어'), Token(DocId='20210302-094230-469955', offset=3, start=9, end=12, text='스페셜'), Token(DocId='20210302-094230-469955', offset=4, start=13, end=15, text='위크'), Token(DocId='20210302-094230-469955', offset=5, start=16, end=19, text='베스트'), Token(DocId='20210302-094230-469955', offset=6, start=20, end=25, text='파운데이션'), Token(DocId='20210302-094230-469955', offset=7, start=26, end=28, text='구매'), Token(DocId='20210302-094230-469955', offset=8, start=29, end=30, text='시'), Token(DocId='20210302-094230-469955', offset=9, start=31, end=33, text='쿠션'), Token(DocId='20210302-094230-469955', offset=10, start=34, end=36, text='정품'), Token(DocId='20210302-094230-469955', offset=11, start=37, end=39, text='추가'), Token(DocId='20210302-094230-469955', offset=12, start=40, end=42, text='증정'), Token(DocId='20210302-094230-469955', offset=13, start=42, end=43, text='!')])"
      ]
     },
     "execution_count": 23,
     "metadata": {},
     "output_type": "execute_result"
    }
   ],
   "source": [
    "profiler.runcall(lambda: tokenizer('봄맞이 더블웨어 스페셜 위크 베스트 파운데이션 구매 시 쿠션 정품 추가 증정!'))"
   ]
  },
  {
   "cell_type": "code",
   "execution_count": 24,
   "metadata": {},
   "outputs": [],
   "source": [
    "from pstats import Stats"
   ]
  },
  {
   "cell_type": "code",
   "execution_count": 25,
   "metadata": {},
   "outputs": [],
   "source": [
    "stats = Stats(profiler)"
   ]
  },
  {
   "cell_type": "code",
   "execution_count": 26,
   "metadata": {},
   "outputs": [
    {
     "name": "stdout",
     "output_type": "stream",
     "text": [
      "         661 function calls in 0.003 seconds\n",
      "\n",
      "   Ordered by: cumulative time\n",
      "\n",
      "   ncalls  tottime  percall  cumtime  percall filename:lineno(function)\n",
      "        1    0.000    0.000    0.003    0.003 <ipython-input-23-7f03dde9c546>:1(<lambda>)\n",
      "        1    0.000    0.000    0.003    0.003 tokenization_mecab.py:59(__call__)\n",
      "        1    0.000    0.000    0.003    0.003 process_utils.py:36(__call__)\n",
      "        1    0.000    0.000    0.001    0.001 process_utils.py:132(tokenize)\n",
      "        1    0.000    0.000    0.001    0.001 tokenization_mecab.py:108(_tokenize)\n",
      "        1    0.000    0.000    0.001    0.001 mecab.py:55(parse)\n",
      "        9    0.001    0.000    0.001    0.000 {method 'sub' of 're.Pattern' objects}\n",
      "        1    0.000    0.000    0.001    0.001 mecab.py:61(<listcomp>)\n",
      "        1    0.000    0.000    0.001    0.001 tokenization_mecab.py:99(_preprocess)\n",
      "        1    0.000    0.000    0.000    0.000 process_utils.py:205(rm_emoji)\n",
      "       14    0.000    0.000    0.000    0.000 mecab.py:25(_extract_feature)\n",
      "       15    0.000    0.000    0.000    0.000 data_utils.py:50(__post_init__)\n",
      "       15    0.000    0.000    0.000    0.000 data_utils.py:60(update_feature)\n",
      "        1    0.000    0.000    0.000    0.000 tokenization_mecab.py:119(_retokenize)\n",
      "       15    0.000    0.000    0.000    0.000 data_utils.py:53(_update)\n",
      "        1    0.000    0.000    0.000    0.000 tokenization_mecab.py:111(_postprocess)\n",
      "        1    0.000    0.000    0.000    0.000 process_utils.py:79(_input_handler)\n",
      "        1    0.000    0.000    0.000    0.000 keyword.py:450(extract_keywords)\n",
      "        1    0.000    0.000    0.000    0.000 process_utils.py:115(_alignment)\n",
      "        1    0.000    0.000    0.000    0.000 tokenization_mecab.py:80(_normalize)\n",
      "       14    0.000    0.000    0.000    0.000 __init__.py:426(_asdict)\n",
      "        1    0.000    0.000    0.000    0.000 _normalizer.py:42(repeat_normalize)\n",
      "        1    0.000    0.000    0.000    0.000 {method 'astimezone' of 'datetime.datetime' objects}\n",
      "        1    0.000    0.000    0.000    0.000 {method 'strftime' of 'datetime.date' objects}\n",
      "        1    0.000    0.000    0.000    0.000 __init__.py:130(timezone)\n",
      "        1    0.000    0.000    0.000    0.000 mecab.py:17(_create_lattice)\n",
      "      177    0.000    0.000    0.000    0.000 {method 'append' of 'list' objects}\n",
      "        1    0.000    0.000    0.000    0.000 tzinfo.py:193(fromutc)\n",
      "       14    0.000    0.000    0.000    0.000 <string>:1(__new__)\n",
      "       14    0.000    0.000    0.000    0.000 mecab.py:35(<listcomp>)\n",
      "      121    0.000    0.000    0.000    0.000 {built-in method builtins.setattr}\n",
      "       71    0.000    0.000    0.000    0.000 {built-in method builtins.len}\n",
      "       16    0.000    0.000    0.000    0.000 {method 'update' of 'dict' objects}\n",
      "        1    0.000    0.000    0.000    0.000 process_utils.py:202(rm_email)\n",
      "       14    0.000    0.000    0.000    0.000 {method 'split' of 'str' objects}\n",
      "        3    0.000    0.000    0.000    0.000 {method 'replace' of 'datetime.datetime' objects}\n",
      "        1    0.000    0.000    0.000    0.000 {built-in method builtins.sum}\n",
      "        1    0.000    0.000    0.000    0.000 process_utils.py:195(normalize_korean_pattern)\n",
      "        1    0.000    0.000    0.000    0.000 __init__.py:242(localize)\n",
      "        1    0.000    0.000    0.000    0.000 re.py:232(compile)\n",
      "       14    0.000    0.000    0.000    0.000 {method 'index' of 'str' objects}\n",
      "        1    0.000    0.000    0.000    0.000 __init__.py:201(_case_insensitive_zone_lookup)\n",
      "        1    0.000    0.000    0.000    0.000 re.py:271(_compile)\n",
      "       14    0.000    0.000    0.000    0.000 {built-in method __new__ of type object at 0xa26aa0}\n",
      "       15    0.000    0.000    0.000    0.000 {method 'get' of 'dict' objects}\n",
      "       14    0.000    0.000    0.000    0.000 {method 'pop' of 'dict' objects}\n",
      "       13    0.000    0.000    0.000    0.000 tokenization_mecab.py:133(<lambda>)\n",
      "        1    0.000    0.000    0.000    0.000 data_utils.py:103(update_feature)\n",
      "        1    0.000    0.000    0.000    0.000 __init__.py:47(ascii)\n",
      "        1    0.000    0.000    0.000    0.000 __init__.py:193(_unmunge_zone)\n",
      "        1    0.000    0.000    0.000    0.000 re.py:307(_subx)\n",
      "       16    0.000    0.000    0.000    0.000 {method 'items' of 'dict' objects}\n",
      "        1    0.000    0.000    0.000    0.000 <string>:1(__init__)\n",
      "        1    0.000    0.000    0.000    0.000 data_utils.py:96(_update)\n",
      "        1    0.000    0.000    0.000    0.000 {built-in method utcnow}\n",
      "        1    0.000    0.000    0.000    0.000 process_utils.py:199(rm_url)\n",
      "        1    0.000    0.000    0.000    0.000 process_utils.py:208(rm_mention)\n",
      "        1    0.000    0.000    0.000    0.000 process_utils.py:214(rm_hashtag)\n",
      "        1    0.000    0.000    0.000    0.000 {built-in method _bisect.bisect_right}\n",
      "        1    0.000    0.000    0.000    0.000 process_utils.py:211(rm_image)\n",
      "        2    0.000    0.000    0.000    0.000 {method 'lower' of 'str' objects}\n",
      "        1    0.000    0.000    0.000    0.000 {built-in method unicodedata.normalize}\n",
      "        1    0.000    0.000    0.000    0.000 {built-in method builtins.getattr}\n",
      "        1    0.000    0.000    0.000    0.000 {built-in method builtins.isinstance}\n",
      "        1    0.000    0.000    0.000    0.000 tzinfo.py:427(dst)\n",
      "        1    0.000    0.000    0.000    0.000 {method 'encode' of 'str' objects}\n",
      "        2    0.000    0.000    0.000    0.000 {method 'replace' of 'str' objects}\n",
      "        3    0.000    0.000    0.000    0.000 {method 'strip' of 'str' objects}\n",
      "        1    0.000    0.000    0.000    0.000 {built-in method fromkeys}\n",
      "        1    0.000    0.000    0.000    0.000 {method 'search' of 're.Pattern' objects}\n",
      "        1    0.000    0.000    0.000    0.000 {built-in method builtins.max}\n",
      "        1    0.000    0.000    0.000    0.000 data_utils.py:93(__post_init__)\n",
      "        1    0.000    0.000    0.000    0.000 __init__.py:230(utcoffset)\n",
      "        3    0.000    0.000    0.000    0.000 {method 'disable' of '_lsprof.Profiler' objects}\n",
      "        1    0.000    0.000    0.000    0.000 {method 'upper' of 'str' objects}\n",
      "        1    0.000    0.000    0.000    0.000 {method 'keys' of 'dict' objects}\n",
      "        1    0.000    0.000    0.000    0.000 data_utils.py:64(features)\n",
      "\n",
      "\n"
     ]
    },
    {
     "data": {
      "text/plain": [
       "<pstats.Stats at 0x7effb8bca490>"
      ]
     },
     "execution_count": 26,
     "metadata": {},
     "output_type": "execute_result"
    }
   ],
   "source": [
    "stats.strip_dirs()\n",
    "stats.sort_stats('cumulative')\n",
    "stats.print_stats()"
   ]
  }
 ],
 "metadata": {
  "kernelspec": {
   "display_name": "Python 3",
   "language": "python",
   "name": "python3"
  },
  "language_info": {
   "codemirror_mode": {
    "name": "ipython",
    "version": 3
   },
   "file_extension": ".py",
   "mimetype": "text/x-python",
   "name": "python",
   "nbconvert_exporter": "python",
   "pygments_lexer": "ipython3",
   "version": "3.7.5"
  }
 },
 "nbformat": 4,
 "nbformat_minor": 4
}
